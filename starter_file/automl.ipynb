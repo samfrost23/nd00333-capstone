{
 "cells": [
  {
   "cell_type": "markdown",
   "metadata": {},
   "source": [
    "# Automated ML\n",
    "\n",
    "TODO: Import Dependencies. In the cell below, import all the dependencies that you will need to complete the project."
   ]
  },
  {
   "cell_type": "code",
   "execution_count": 19,
   "metadata": {
    "gather": {
     "logged": 1706918617652
    },
    "jupyter": {
     "outputs_hidden": false,
     "source_hidden": false
    },
    "nteract": {
     "transient": {
      "deleting": false
     }
    }
   },
   "outputs": [
    {
     "name": "stdout",
     "output_type": "stream",
     "text": [
      "SDK version: 1.51.0\n"
     ]
    }
   ],
   "source": [
    "import logging\n",
    "import os\n",
    "import csv\n",
    "\n",
    "from matplotlib import pyplot as plt\n",
    "import numpy as np\n",
    "import pandas as pd\n",
    "from sklearn import datasets\n",
    "import pkg_resources\n",
    "\n",
    "import azureml.core\n",
    "from azureml.core.experiment import Experiment\n",
    "from azureml.core.workspace import Workspace\n",
    "from azureml.train.automl import AutoMLConfig\n",
    "from azureml.core.dataset import Dataset\n",
    "\n",
    "from azureml.pipeline.steps import AutoMLStep\n",
    "\n",
    "# Check core SDK version number\n",
    "print(\"SDK version:\", azureml.core.VERSION)"
   ]
  },
  {
   "cell_type": "code",
   "execution_count": 33,
   "metadata": {
    "gather": {
     "logged": 1706918885542
    },
    "jupyter": {
     "outputs_hidden": false,
     "source_hidden": false
    },
    "nteract": {
     "transient": {
      "deleting": false
     }
    }
   },
   "outputs": [
    {
     "data": {
      "text/html": [
       "<table style=\"width:100%\"><tr><th>Name</th><th>Workspace</th><th>Report Page</th><th>Docs Page</th></tr><tr><td>BreastCancer-Experiment2</td><td>quick-starts-ws-251446</td><td><a href=\"https://ml.azure.com/experiments/id/64133d25-8b64-4a17-a46d-664223a720f9?wsid=/subscriptions/b968fb36-f06a-4c76-a15f-afab68ae7667/resourcegroups/aml-quickstarts-251446/workspaces/quick-starts-ws-251446&amp;tid=660b3398-b80e-49d2-bc5b-ac1dc93b5254\" target=\"_blank\" rel=\"noopener\">Link to Azure Machine Learning studio</a></td><td><a href=\"https://docs.microsoft.com/en-us/python/api/azureml-core/azureml.core.experiment.Experiment?view=azure-ml-py\" target=\"_blank\" rel=\"noopener\">Link to Documentation</a></td></tr></table>"
      ],
      "text/plain": [
       "Experiment(Name: BreastCancer-Experiment2,\n",
       "Workspace: quick-starts-ws-251446)"
      ]
     },
     "execution_count": 33,
     "metadata": {},
     "output_type": "execute_result"
    }
   ],
   "source": [
    "ws = Workspace.from_config()\n",
    "\n",
    "# choose a name for experiment\n",
    "experiment_name = 'BreastCancer-Experiment2'\n",
    "\n",
    "experiment=Experiment(ws, experiment_name)\n",
    "\n",
    "\n",
    "# choose a name for experiment\n",
    "\n",
    "project_folder = './breastcancer'\n",
    "experiment"
   ]
  },
  {
   "cell_type": "code",
   "execution_count": 26,
   "metadata": {
    "gather": {
     "logged": 1706918895426
    },
    "jupyter": {
     "outputs_hidden": false,
     "source_hidden": false
    },
    "nteract": {
     "transient": {
      "deleting": false
     }
    }
   },
   "outputs": [
    {
     "name": "stdout",
     "output_type": "stream",
     "text": [
      "Found existing cluster, use it.\n"
     ]
    }
   ],
   "source": [
    "from azureml.core.compute import AmlCompute\n",
    "from azureml.core.compute import ComputeTarget\n",
    "from azureml.core.compute_target import ComputeTargetException\n",
    "\n",
    "# NOTE: update the cluster name to match the existing cluster\n",
    "# Choose a name for your CPU cluster\n",
    "amlcompute_cluster_name = \"azurecapstone-project\"\n",
    "\n",
    "# Verify that cluster does not exist already\n",
    "try:\n",
    "    compute_target = ComputeTarget(workspace=ws, name=amlcompute_cluster_name)\n",
    "    print('Found existing cluster, use it.')\n",
    "except ComputeTargetException:\n",
    "    compute_config = AmlCompute.provisioning_configuration(vm_size='STANDARD_D2_V2',# for GPU, use \"STANDARD_NC6\"\n",
    "                                                           #vm_priority = 'lowpriority', # optional\n",
    "                                                           max_nodes=4)\n",
    "    compute_target = ComputeTarget.create(ws, amlcompute_cluster_name, compute_config)\n",
    "\n",
    "    compute_target.wait_for_completion(show_output=True, min_node_count = 1, timeout_in_minutes = 5)\n",
    "\n"
   ]
  },
  {
   "cell_type": "markdown",
   "metadata": {},
   "source": [
    "## Dataset\n",
    "\n",
    "### Overview\n",
    "TODO: In this markdown cell, give an overview of the dataset you are using. Also mention the task you will be performing.\n",
    "\n",
    "\n",
    "TODO: Get data. In the cell below, write code to access the data you will be using in this project. Remember that the dataset needs to be external."
   ]
  },
  {
   "cell_type": "code",
   "execution_count": 5,
   "metadata": {
    "gather": {
     "logged": 1706904378591
    },
    "jupyter": {
     "outputs_hidden": false,
     "source_hidden": false
    },
    "nteract": {
     "transient": {
      "deleting": false
     }
    }
   },
   "outputs": [
    {
     "name": "stdout",
     "output_type": "stream",
     "text": [
      "{'uci_id': 17, 'name': 'Breast Cancer Wisconsin (Diagnostic)', 'repository_url': 'https://archive.ics.uci.edu/dataset/17/breast+cancer+wisconsin+diagnostic', 'data_url': 'https://archive.ics.uci.edu/static/public/17/data.csv', 'abstract': 'Diagnostic Wisconsin Breast Cancer Database.', 'area': 'Health and Medicine', 'tasks': ['Classification'], 'characteristics': ['Multivariate'], 'num_instances': 569, 'num_features': 30, 'feature_types': ['Real'], 'demographics': [], 'target_col': ['Diagnosis'], 'index_col': ['ID'], 'has_missing_values': 'no', 'missing_values_symbol': None, 'year_of_dataset_creation': 1993, 'last_updated': 'Fri Nov 03 2023', 'dataset_doi': '10.24432/C5DW2B', 'creators': ['William Wolberg', 'Olvi Mangasarian', 'Nick Street', 'W. Street'], 'intro_paper': {'title': 'Nuclear feature extraction for breast tumor diagnosis', 'authors': 'W. Street, W. Wolberg, O. Mangasarian', 'published_in': 'Electronic imaging', 'year': 1993, 'url': 'https://www.semanticscholar.org/paper/53f0fbb425bc14468eb3bf96b2e1d41ba8087f36', 'doi': '10.1117/12.148698'}, 'additional_info': {'summary': 'Features are computed from a digitized image of a fine needle aspirate (FNA) of a breast mass.  They describe characteristics of the cell nuclei present in the image. A few of the images can be found at http://www.cs.wisc.edu/~street/images/\\r\\n\\r\\nSeparating plane described above was obtained using Multisurface Method-Tree (MSM-T) [K. P. Bennett, \"Decision Tree Construction Via Linear Programming.\" Proceedings of the 4th Midwest Artificial Intelligence and Cognitive Science Society, pp. 97-101, 1992], a classification method which uses linear programming to construct a decision tree.  Relevant features were selected using an exhaustive search in the space of 1-4 features and 1-3 separating planes.\\r\\n\\r\\nThe actual linear program used to obtain the separating plane in the 3-dimensional space is that described in: [K. P. Bennett and O. L. Mangasarian: \"Robust Linear Programming Discrimination of Two Linearly Inseparable Sets\", Optimization Methods and Software 1, 1992, 23-34].\\r\\n\\r\\nThis database is also available through the UW CS ftp server:\\r\\nftp ftp.cs.wisc.edu\\r\\ncd math-prog/cpo-dataset/machine-learn/WDBC/', 'purpose': None, 'funded_by': None, 'instances_represent': None, 'recommended_data_splits': None, 'sensitive_data': None, 'preprocessing_description': None, 'variable_info': '1) ID number\\r\\n2) Diagnosis (M = malignant, B = benign)\\r\\n3-32)\\r\\n\\r\\nTen real-valued features are computed for each cell nucleus:\\r\\n\\r\\n\\ta) radius (mean of distances from center to points on the perimeter)\\r\\n\\tb) texture (standard deviation of gray-scale values)\\r\\n\\tc) perimeter\\r\\n\\td) area\\r\\n\\te) smoothness (local variation in radius lengths)\\r\\n\\tf) compactness (perimeter^2 / area - 1.0)\\r\\n\\tg) concavity (severity of concave portions of the contour)\\r\\n\\th) concave points (number of concave portions of the contour)\\r\\n\\ti) symmetry \\r\\n\\tj) fractal dimension (\"coastline approximation\" - 1)', 'citation': None}}\n",
      "                  name     role         type demographic description units  \\\n",
      "0                   ID       ID  Categorical        None        None  None   \n",
      "1            Diagnosis   Target  Categorical        None        None  None   \n",
      "2              radius1  Feature   Continuous        None        None  None   \n",
      "3             texture1  Feature   Continuous        None        None  None   \n",
      "4           perimeter1  Feature   Continuous        None        None  None   \n",
      "5                area1  Feature   Continuous        None        None  None   \n",
      "6          smoothness1  Feature   Continuous        None        None  None   \n",
      "7         compactness1  Feature   Continuous        None        None  None   \n",
      "8           concavity1  Feature   Continuous        None        None  None   \n",
      "9      concave_points1  Feature   Continuous        None        None  None   \n",
      "10           symmetry1  Feature   Continuous        None        None  None   \n",
      "11  fractal_dimension1  Feature   Continuous        None        None  None   \n",
      "12             radius2  Feature   Continuous        None        None  None   \n",
      "13            texture2  Feature   Continuous        None        None  None   \n",
      "14          perimeter2  Feature   Continuous        None        None  None   \n",
      "15               area2  Feature   Continuous        None        None  None   \n",
      "16         smoothness2  Feature   Continuous        None        None  None   \n",
      "17        compactness2  Feature   Continuous        None        None  None   \n",
      "18          concavity2  Feature   Continuous        None        None  None   \n",
      "19     concave_points2  Feature   Continuous        None        None  None   \n",
      "20           symmetry2  Feature   Continuous        None        None  None   \n",
      "21  fractal_dimension2  Feature   Continuous        None        None  None   \n",
      "22             radius3  Feature   Continuous        None        None  None   \n",
      "23            texture3  Feature   Continuous        None        None  None   \n",
      "24          perimeter3  Feature   Continuous        None        None  None   \n",
      "25               area3  Feature   Continuous        None        None  None   \n",
      "26         smoothness3  Feature   Continuous        None        None  None   \n",
      "27        compactness3  Feature   Continuous        None        None  None   \n",
      "28          concavity3  Feature   Continuous        None        None  None   \n",
      "29     concave_points3  Feature   Continuous        None        None  None   \n",
      "30           symmetry3  Feature   Continuous        None        None  None   \n",
      "31  fractal_dimension3  Feature   Continuous        None        None  None   \n",
      "\n",
      "   missing_values  \n",
      "0              no  \n",
      "1              no  \n",
      "2              no  \n",
      "3              no  \n",
      "4              no  \n",
      "5              no  \n",
      "6              no  \n",
      "7              no  \n",
      "8              no  \n",
      "9              no  \n",
      "10             no  \n",
      "11             no  \n",
      "12             no  \n",
      "13             no  \n",
      "14             no  \n",
      "15             no  \n",
      "16             no  \n",
      "17             no  \n",
      "18             no  \n",
      "19             no  \n",
      "20             no  \n",
      "21             no  \n",
      "22             no  \n",
      "23             no  \n",
      "24             no  \n",
      "25             no  \n",
      "26             no  \n",
      "27             no  \n",
      "28             no  \n",
      "29             no  \n",
      "30             no  \n",
      "31             no  \n",
      "{'data': {'ids':            ID\n",
      "0      842302\n",
      "1      842517\n",
      "2    84300903\n",
      "3    84348301\n",
      "4    84358402\n",
      "..        ...\n",
      "564    926424\n",
      "565    926682\n",
      "566    926954\n",
      "567    927241\n",
      "568     92751\n",
      "\n",
      "[569 rows x 1 columns], 'features':      radius1  texture1  perimeter1   area1  smoothness1  compactness1  \\\n",
      "0      17.99     10.38      122.80  1001.0      0.11840       0.27760   \n",
      "1      20.57     17.77      132.90  1326.0      0.08474       0.07864   \n",
      "2      19.69     21.25      130.00  1203.0      0.10960       0.15990   \n",
      "3      11.42     20.38       77.58   386.1      0.14250       0.28390   \n",
      "4      20.29     14.34      135.10  1297.0      0.10030       0.13280   \n",
      "..       ...       ...         ...     ...          ...           ...   \n",
      "564    21.56     22.39      142.00  1479.0      0.11100       0.11590   \n",
      "565    20.13     28.25      131.20  1261.0      0.09780       0.10340   \n",
      "566    16.60     28.08      108.30   858.1      0.08455       0.10230   \n",
      "567    20.60     29.33      140.10  1265.0      0.11780       0.27700   \n",
      "568     7.76     24.54       47.92   181.0      0.05263       0.04362   \n",
      "\n",
      "     concavity1  concave_points1  symmetry1  fractal_dimension1  ...  radius3  \\\n",
      "0       0.30010          0.14710     0.2419             0.07871  ...   25.380   \n",
      "1       0.08690          0.07017     0.1812             0.05667  ...   24.990   \n",
      "2       0.19740          0.12790     0.2069             0.05999  ...   23.570   \n",
      "3       0.24140          0.10520     0.2597             0.09744  ...   14.910   \n",
      "4       0.19800          0.10430     0.1809             0.05883  ...   22.540   \n",
      "..          ...              ...        ...                 ...  ...      ...   \n",
      "564     0.24390          0.13890     0.1726             0.05623  ...   25.450   \n",
      "565     0.14400          0.09791     0.1752             0.05533  ...   23.690   \n",
      "566     0.09251          0.05302     0.1590             0.05648  ...   18.980   \n",
      "567     0.35140          0.15200     0.2397             0.07016  ...   25.740   \n",
      "568     0.00000          0.00000     0.1587             0.05884  ...    9.456   \n",
      "\n",
      "     texture3  perimeter3   area3  smoothness3  compactness3  concavity3  \\\n",
      "0       17.33      184.60  2019.0      0.16220       0.66560      0.7119   \n",
      "1       23.41      158.80  1956.0      0.12380       0.18660      0.2416   \n",
      "2       25.53      152.50  1709.0      0.14440       0.42450      0.4504   \n",
      "3       26.50       98.87   567.7      0.20980       0.86630      0.6869   \n",
      "4       16.67      152.20  1575.0      0.13740       0.20500      0.4000   \n",
      "..        ...         ...     ...          ...           ...         ...   \n",
      "564     26.40      166.10  2027.0      0.14100       0.21130      0.4107   \n",
      "565     38.25      155.00  1731.0      0.11660       0.19220      0.3215   \n",
      "566     34.12      126.70  1124.0      0.11390       0.30940      0.3403   \n",
      "567     39.42      184.60  1821.0      0.16500       0.86810      0.9387   \n",
      "568     30.37       59.16   268.6      0.08996       0.06444      0.0000   \n",
      "\n",
      "     concave_points3  symmetry3  fractal_dimension3  \n",
      "0             0.2654     0.4601             0.11890  \n",
      "1             0.1860     0.2750             0.08902  \n",
      "2             0.2430     0.3613             0.08758  \n",
      "3             0.2575     0.6638             0.17300  \n",
      "4             0.1625     0.2364             0.07678  \n",
      "..               ...        ...                 ...  \n",
      "564           0.2216     0.2060             0.07115  \n",
      "565           0.1628     0.2572             0.06637  \n",
      "566           0.1418     0.2218             0.07820  \n",
      "567           0.2650     0.4087             0.12400  \n",
      "568           0.0000     0.2871             0.07039  \n",
      "\n",
      "[569 rows x 30 columns], 'targets':     Diagnosis\n",
      "0           M\n",
      "1           M\n",
      "2           M\n",
      "3           M\n",
      "4           M\n",
      "..        ...\n",
      "564         M\n",
      "565         M\n",
      "566         M\n",
      "567         M\n",
      "568         B\n",
      "\n",
      "[569 rows x 1 columns], 'original':            ID  radius1  texture1  perimeter1   area1  smoothness1  \\\n",
      "0      842302    17.99     10.38      122.80  1001.0      0.11840   \n",
      "1      842517    20.57     17.77      132.90  1326.0      0.08474   \n",
      "2    84300903    19.69     21.25      130.00  1203.0      0.10960   \n",
      "3    84348301    11.42     20.38       77.58   386.1      0.14250   \n",
      "4    84358402    20.29     14.34      135.10  1297.0      0.10030   \n",
      "..        ...      ...       ...         ...     ...          ...   \n",
      "564    926424    21.56     22.39      142.00  1479.0      0.11100   \n",
      "565    926682    20.13     28.25      131.20  1261.0      0.09780   \n",
      "566    926954    16.60     28.08      108.30   858.1      0.08455   \n",
      "567    927241    20.60     29.33      140.10  1265.0      0.11780   \n",
      "568     92751     7.76     24.54       47.92   181.0      0.05263   \n",
      "\n",
      "     compactness1  concavity1  concave_points1  symmetry1  ...  texture3  \\\n",
      "0         0.27760     0.30010          0.14710     0.2419  ...     17.33   \n",
      "1         0.07864     0.08690          0.07017     0.1812  ...     23.41   \n",
      "2         0.15990     0.19740          0.12790     0.2069  ...     25.53   \n",
      "3         0.28390     0.24140          0.10520     0.2597  ...     26.50   \n",
      "4         0.13280     0.19800          0.10430     0.1809  ...     16.67   \n",
      "..            ...         ...              ...        ...  ...       ...   \n",
      "564       0.11590     0.24390          0.13890     0.1726  ...     26.40   \n",
      "565       0.10340     0.14400          0.09791     0.1752  ...     38.25   \n",
      "566       0.10230     0.09251          0.05302     0.1590  ...     34.12   \n",
      "567       0.27700     0.35140          0.15200     0.2397  ...     39.42   \n",
      "568       0.04362     0.00000          0.00000     0.1587  ...     30.37   \n",
      "\n",
      "     perimeter3   area3  smoothness3  compactness3  concavity3  \\\n",
      "0        184.60  2019.0      0.16220       0.66560      0.7119   \n",
      "1        158.80  1956.0      0.12380       0.18660      0.2416   \n",
      "2        152.50  1709.0      0.14440       0.42450      0.4504   \n",
      "3         98.87   567.7      0.20980       0.86630      0.6869   \n",
      "4        152.20  1575.0      0.13740       0.20500      0.4000   \n",
      "..          ...     ...          ...           ...         ...   \n",
      "564      166.10  2027.0      0.14100       0.21130      0.4107   \n",
      "565      155.00  1731.0      0.11660       0.19220      0.3215   \n",
      "566      126.70  1124.0      0.11390       0.30940      0.3403   \n",
      "567      184.60  1821.0      0.16500       0.86810      0.9387   \n",
      "568       59.16   268.6      0.08996       0.06444      0.0000   \n",
      "\n",
      "     concave_points3  symmetry3  fractal_dimension3  Diagnosis  \n",
      "0             0.2654     0.4601             0.11890          M  \n",
      "1             0.1860     0.2750             0.08902          M  \n",
      "2             0.2430     0.3613             0.08758          M  \n",
      "3             0.2575     0.6638             0.17300          M  \n",
      "4             0.1625     0.2364             0.07678          M  \n",
      "..               ...        ...                 ...        ...  \n",
      "564           0.2216     0.2060             0.07115          M  \n",
      "565           0.1628     0.2572             0.06637          M  \n",
      "566           0.1418     0.2218             0.07820          M  \n",
      "567           0.2650     0.4087             0.12400          M  \n",
      "568           0.0000     0.2871             0.07039          B  \n",
      "\n",
      "[569 rows x 32 columns], 'headers': Index(['ID', 'radius1', 'texture1', 'perimeter1', 'area1', 'smoothness1',\n",
      "       'compactness1', 'concavity1', 'concave_points1', 'symmetry1',\n",
      "       'fractal_dimension1', 'radius2', 'texture2', 'perimeter2', 'area2',\n",
      "       'smoothness2', 'compactness2', 'concavity2', 'concave_points2',\n",
      "       'symmetry2', 'fractal_dimension2', 'radius3', 'texture3', 'perimeter3',\n",
      "       'area3', 'smoothness3', 'compactness3', 'concavity3', 'concave_points3',\n",
      "       'symmetry3', 'fractal_dimension3', 'Diagnosis'],\n",
      "      dtype='object')}, 'metadata': {'uci_id': 17, 'name': 'Breast Cancer Wisconsin (Diagnostic)', 'repository_url': 'https://archive.ics.uci.edu/dataset/17/breast+cancer+wisconsin+diagnostic', 'data_url': 'https://archive.ics.uci.edu/static/public/17/data.csv', 'abstract': 'Diagnostic Wisconsin Breast Cancer Database.', 'area': 'Health and Medicine', 'tasks': ['Classification'], 'characteristics': ['Multivariate'], 'num_instances': 569, 'num_features': 30, 'feature_types': ['Real'], 'demographics': [], 'target_col': ['Diagnosis'], 'index_col': ['ID'], 'has_missing_values': 'no', 'missing_values_symbol': None, 'year_of_dataset_creation': 1993, 'last_updated': 'Fri Nov 03 2023', 'dataset_doi': '10.24432/C5DW2B', 'creators': ['William Wolberg', 'Olvi Mangasarian', 'Nick Street', 'W. Street'], 'intro_paper': {'title': 'Nuclear feature extraction for breast tumor diagnosis', 'authors': 'W. Street, W. Wolberg, O. Mangasarian', 'published_in': 'Electronic imaging', 'year': 1993, 'url': 'https://www.semanticscholar.org/paper/53f0fbb425bc14468eb3bf96b2e1d41ba8087f36', 'doi': '10.1117/12.148698'}, 'additional_info': {'summary': 'Features are computed from a digitized image of a fine needle aspirate (FNA) of a breast mass.  They describe characteristics of the cell nuclei present in the image. A few of the images can be found at http://www.cs.wisc.edu/~street/images/\\r\\n\\r\\nSeparating plane described above was obtained using Multisurface Method-Tree (MSM-T) [K. P. Bennett, \"Decision Tree Construction Via Linear Programming.\" Proceedings of the 4th Midwest Artificial Intelligence and Cognitive Science Society, pp. 97-101, 1992], a classification method which uses linear programming to construct a decision tree.  Relevant features were selected using an exhaustive search in the space of 1-4 features and 1-3 separating planes.\\r\\n\\r\\nThe actual linear program used to obtain the separating plane in the 3-dimensional space is that described in: [K. P. Bennett and O. L. Mangasarian: \"Robust Linear Programming Discrimination of Two Linearly Inseparable Sets\", Optimization Methods and Software 1, 1992, 23-34].\\r\\n\\r\\nThis database is also available through the UW CS ftp server:\\r\\nftp ftp.cs.wisc.edu\\r\\ncd math-prog/cpo-dataset/machine-learn/WDBC/', 'purpose': None, 'funded_by': None, 'instances_represent': None, 'recommended_data_splits': None, 'sensitive_data': None, 'preprocessing_description': None, 'variable_info': '1) ID number\\r\\n2) Diagnosis (M = malignant, B = benign)\\r\\n3-32)\\r\\n\\r\\nTen real-valued features are computed for each cell nucleus:\\r\\n\\r\\n\\ta) radius (mean of distances from center to points on the perimeter)\\r\\n\\tb) texture (standard deviation of gray-scale values)\\r\\n\\tc) perimeter\\r\\n\\td) area\\r\\n\\te) smoothness (local variation in radius lengths)\\r\\n\\tf) compactness (perimeter^2 / area - 1.0)\\r\\n\\tg) concavity (severity of concave portions of the contour)\\r\\n\\th) concave points (number of concave portions of the contour)\\r\\n\\ti) symmetry \\r\\n\\tj) fractal dimension (\"coastline approximation\" - 1)', 'citation': None}}, 'variables':                   name     role         type demographic description units  \\\n",
      "0                   ID       ID  Categorical        None        None  None   \n",
      "1            Diagnosis   Target  Categorical        None        None  None   \n",
      "2              radius1  Feature   Continuous        None        None  None   \n",
      "3             texture1  Feature   Continuous        None        None  None   \n",
      "4           perimeter1  Feature   Continuous        None        None  None   \n",
      "5                area1  Feature   Continuous        None        None  None   \n",
      "6          smoothness1  Feature   Continuous        None        None  None   \n",
      "7         compactness1  Feature   Continuous        None        None  None   \n",
      "8           concavity1  Feature   Continuous        None        None  None   \n",
      "9      concave_points1  Feature   Continuous        None        None  None   \n",
      "10           symmetry1  Feature   Continuous        None        None  None   \n",
      "11  fractal_dimension1  Feature   Continuous        None        None  None   \n",
      "12             radius2  Feature   Continuous        None        None  None   \n",
      "13            texture2  Feature   Continuous        None        None  None   \n",
      "14          perimeter2  Feature   Continuous        None        None  None   \n",
      "15               area2  Feature   Continuous        None        None  None   \n",
      "16         smoothness2  Feature   Continuous        None        None  None   \n",
      "17        compactness2  Feature   Continuous        None        None  None   \n",
      "18          concavity2  Feature   Continuous        None        None  None   \n",
      "19     concave_points2  Feature   Continuous        None        None  None   \n",
      "20           symmetry2  Feature   Continuous        None        None  None   \n",
      "21  fractal_dimension2  Feature   Continuous        None        None  None   \n",
      "22             radius3  Feature   Continuous        None        None  None   \n",
      "23            texture3  Feature   Continuous        None        None  None   \n",
      "24          perimeter3  Feature   Continuous        None        None  None   \n",
      "25               area3  Feature   Continuous        None        None  None   \n",
      "26         smoothness3  Feature   Continuous        None        None  None   \n",
      "27        compactness3  Feature   Continuous        None        None  None   \n",
      "28          concavity3  Feature   Continuous        None        None  None   \n",
      "29     concave_points3  Feature   Continuous        None        None  None   \n",
      "30           symmetry3  Feature   Continuous        None        None  None   \n",
      "31  fractal_dimension3  Feature   Continuous        None        None  None   \n",
      "\n",
      "   missing_values  \n",
      "0              no  \n",
      "1              no  \n",
      "2              no  \n",
      "3              no  \n",
      "4              no  \n",
      "5              no  \n",
      "6              no  \n",
      "7              no  \n",
      "8              no  \n",
      "9              no  \n",
      "10             no  \n",
      "11             no  \n",
      "12             no  \n",
      "13             no  \n",
      "14             no  \n",
      "15             no  \n",
      "16             no  \n",
      "17             no  \n",
      "18             no  \n",
      "19             no  \n",
      "20             no  \n",
      "21             no  \n",
      "22             no  \n",
      "23             no  \n",
      "24             no  \n",
      "25             no  \n",
      "26             no  \n",
      "27             no  \n",
      "28             no  \n",
      "29             no  \n",
      "30             no  \n",
      "31             no  }\n"
     ]
    }
   ],
   "source": [
    "\n"
   ]
  },
  {
   "cell_type": "code",
   "execution_count": 27,
   "metadata": {
    "gather": {
     "logged": 1706918908979
    },
    "jupyter": {
     "outputs_hidden": false,
     "source_hidden": false
    },
    "nteract": {
     "transient": {
      "deleting": false
     }
    }
   },
   "outputs": [
    {
     "data": {
      "text/html": [
       "<div>\n",
       "<style scoped>\n",
       "    .dataframe tbody tr th:only-of-type {\n",
       "        vertical-align: middle;\n",
       "    }\n",
       "\n",
       "    .dataframe tbody tr th {\n",
       "        vertical-align: top;\n",
       "    }\n",
       "\n",
       "    .dataframe thead th {\n",
       "        text-align: right;\n",
       "    }\n",
       "</style>\n",
       "<table border=\"1\" class=\"dataframe\">\n",
       "  <thead>\n",
       "    <tr style=\"text-align: right;\">\n",
       "      <th></th>\n",
       "      <th>ID</th>\n",
       "      <th>radius1</th>\n",
       "      <th>texture1</th>\n",
       "      <th>perimeter1</th>\n",
       "      <th>area1</th>\n",
       "      <th>smoothness1</th>\n",
       "      <th>compactness1</th>\n",
       "      <th>concavity1</th>\n",
       "      <th>concave_points1</th>\n",
       "      <th>symmetry1</th>\n",
       "      <th>...</th>\n",
       "      <th>texture3</th>\n",
       "      <th>perimeter3</th>\n",
       "      <th>area3</th>\n",
       "      <th>smoothness3</th>\n",
       "      <th>compactness3</th>\n",
       "      <th>concavity3</th>\n",
       "      <th>concave_points3</th>\n",
       "      <th>symmetry3</th>\n",
       "      <th>fractal_dimension3</th>\n",
       "      <th>Diagnosis</th>\n",
       "    </tr>\n",
       "  </thead>\n",
       "  <tbody>\n",
       "    <tr>\n",
       "      <th>0</th>\n",
       "      <td>842302</td>\n",
       "      <td>17.99</td>\n",
       "      <td>10.38</td>\n",
       "      <td>122.80</td>\n",
       "      <td>1001.0</td>\n",
       "      <td>0.11840</td>\n",
       "      <td>0.27760</td>\n",
       "      <td>0.3001</td>\n",
       "      <td>0.14710</td>\n",
       "      <td>0.2419</td>\n",
       "      <td>...</td>\n",
       "      <td>17.33</td>\n",
       "      <td>184.60</td>\n",
       "      <td>2019.0</td>\n",
       "      <td>0.1622</td>\n",
       "      <td>0.6656</td>\n",
       "      <td>0.7119</td>\n",
       "      <td>0.2654</td>\n",
       "      <td>0.4601</td>\n",
       "      <td>0.11890</td>\n",
       "      <td>M</td>\n",
       "    </tr>\n",
       "    <tr>\n",
       "      <th>1</th>\n",
       "      <td>842517</td>\n",
       "      <td>20.57</td>\n",
       "      <td>17.77</td>\n",
       "      <td>132.90</td>\n",
       "      <td>1326.0</td>\n",
       "      <td>0.08474</td>\n",
       "      <td>0.07864</td>\n",
       "      <td>0.0869</td>\n",
       "      <td>0.07017</td>\n",
       "      <td>0.1812</td>\n",
       "      <td>...</td>\n",
       "      <td>23.41</td>\n",
       "      <td>158.80</td>\n",
       "      <td>1956.0</td>\n",
       "      <td>0.1238</td>\n",
       "      <td>0.1866</td>\n",
       "      <td>0.2416</td>\n",
       "      <td>0.1860</td>\n",
       "      <td>0.2750</td>\n",
       "      <td>0.08902</td>\n",
       "      <td>M</td>\n",
       "    </tr>\n",
       "    <tr>\n",
       "      <th>2</th>\n",
       "      <td>84300903</td>\n",
       "      <td>19.69</td>\n",
       "      <td>21.25</td>\n",
       "      <td>130.00</td>\n",
       "      <td>1203.0</td>\n",
       "      <td>0.10960</td>\n",
       "      <td>0.15990</td>\n",
       "      <td>0.1974</td>\n",
       "      <td>0.12790</td>\n",
       "      <td>0.2069</td>\n",
       "      <td>...</td>\n",
       "      <td>25.53</td>\n",
       "      <td>152.50</td>\n",
       "      <td>1709.0</td>\n",
       "      <td>0.1444</td>\n",
       "      <td>0.4245</td>\n",
       "      <td>0.4504</td>\n",
       "      <td>0.2430</td>\n",
       "      <td>0.3613</td>\n",
       "      <td>0.08758</td>\n",
       "      <td>M</td>\n",
       "    </tr>\n",
       "    <tr>\n",
       "      <th>3</th>\n",
       "      <td>84348301</td>\n",
       "      <td>11.42</td>\n",
       "      <td>20.38</td>\n",
       "      <td>77.58</td>\n",
       "      <td>386.1</td>\n",
       "      <td>0.14250</td>\n",
       "      <td>0.28390</td>\n",
       "      <td>0.2414</td>\n",
       "      <td>0.10520</td>\n",
       "      <td>0.2597</td>\n",
       "      <td>...</td>\n",
       "      <td>26.50</td>\n",
       "      <td>98.87</td>\n",
       "      <td>567.7</td>\n",
       "      <td>0.2098</td>\n",
       "      <td>0.8663</td>\n",
       "      <td>0.6869</td>\n",
       "      <td>0.2575</td>\n",
       "      <td>0.6638</td>\n",
       "      <td>0.17300</td>\n",
       "      <td>M</td>\n",
       "    </tr>\n",
       "    <tr>\n",
       "      <th>4</th>\n",
       "      <td>84358402</td>\n",
       "      <td>20.29</td>\n",
       "      <td>14.34</td>\n",
       "      <td>135.10</td>\n",
       "      <td>1297.0</td>\n",
       "      <td>0.10030</td>\n",
       "      <td>0.13280</td>\n",
       "      <td>0.1980</td>\n",
       "      <td>0.10430</td>\n",
       "      <td>0.1809</td>\n",
       "      <td>...</td>\n",
       "      <td>16.67</td>\n",
       "      <td>152.20</td>\n",
       "      <td>1575.0</td>\n",
       "      <td>0.1374</td>\n",
       "      <td>0.2050</td>\n",
       "      <td>0.4000</td>\n",
       "      <td>0.1625</td>\n",
       "      <td>0.2364</td>\n",
       "      <td>0.07678</td>\n",
       "      <td>M</td>\n",
       "    </tr>\n",
       "  </tbody>\n",
       "</table>\n",
       "<p>5 rows × 32 columns</p>\n",
       "</div>"
      ],
      "text/plain": [
       "         ID  radius1  texture1  perimeter1   area1  smoothness1  compactness1  \\\n",
       "0    842302    17.99     10.38      122.80  1001.0      0.11840       0.27760   \n",
       "1    842517    20.57     17.77      132.90  1326.0      0.08474       0.07864   \n",
       "2  84300903    19.69     21.25      130.00  1203.0      0.10960       0.15990   \n",
       "3  84348301    11.42     20.38       77.58   386.1      0.14250       0.28390   \n",
       "4  84358402    20.29     14.34      135.10  1297.0      0.10030       0.13280   \n",
       "\n",
       "   concavity1  concave_points1  symmetry1  ...  texture3  perimeter3   area3  \\\n",
       "0      0.3001          0.14710     0.2419  ...     17.33      184.60  2019.0   \n",
       "1      0.0869          0.07017     0.1812  ...     23.41      158.80  1956.0   \n",
       "2      0.1974          0.12790     0.2069  ...     25.53      152.50  1709.0   \n",
       "3      0.2414          0.10520     0.2597  ...     26.50       98.87   567.7   \n",
       "4      0.1980          0.10430     0.1809  ...     16.67      152.20  1575.0   \n",
       "\n",
       "   smoothness3  compactness3  concavity3  concave_points3  symmetry3  \\\n",
       "0       0.1622        0.6656      0.7119           0.2654     0.4601   \n",
       "1       0.1238        0.1866      0.2416           0.1860     0.2750   \n",
       "2       0.1444        0.4245      0.4504           0.2430     0.3613   \n",
       "3       0.2098        0.8663      0.6869           0.2575     0.6638   \n",
       "4       0.1374        0.2050      0.4000           0.1625     0.2364   \n",
       "\n",
       "   fractal_dimension3  Diagnosis  \n",
       "0             0.11890          M  \n",
       "1             0.08902          M  \n",
       "2             0.08758          M  \n",
       "3             0.17300          M  \n",
       "4             0.07678          M  \n",
       "\n",
       "[5 rows x 32 columns]"
      ]
     },
     "execution_count": 27,
     "metadata": {},
     "output_type": "execute_result"
    }
   ],
   "source": [
    "# NOTE: update the key to match the dataset name\n",
    "found = False\n",
    "key = \"BreastData\"\n",
    "description_text = \"Bank Marketing DataSet for Udacity Course 2\"\n",
    "\n",
    "if key in ws.datasets.keys(): \n",
    "        found = True\n",
    "        dataset = ws.datasets[key] \n",
    "\n",
    "if not found:\n",
    "        # Create AML Dataset and register it into Workspace\n",
    "        example_data = 'https://archive.ics.uci.edu/static/public/17/data.csv'\n",
    "        dataset = Dataset.Tabular.from_delimited_files(example_data)        \n",
    "        #Register Dataset in Workspace\n",
    "        dataset = dataset.register(workspace=ws,\n",
    "                                   name=key,\n",
    "                                   description=description_text)\n",
    "\n",
    "\n",
    "df = dataset.to_pandas_dataframe()\n",
    "df.head(5)"
   ]
  },
  {
   "cell_type": "markdown",
   "metadata": {},
   "source": [
    "## AutoML Configuration\n",
    "\n",
    "TODO: Explain why you chose the automl settings and cofiguration you used below."
   ]
  },
  {
   "cell_type": "code",
   "execution_count": 28,
   "metadata": {
    "gather": {
     "logged": 1706918914827
    },
    "jupyter": {
     "outputs_hidden": false,
     "source_hidden": false
    },
    "nteract": {
     "transient": {
      "deleting": false
     }
    }
   },
   "outputs": [],
   "source": [
    "# TODO: Put your automl settings here\n",
    "automl_settings = {\n",
    "    \"experiment_timeout_minutes\": 20,\n",
    "    \"max_concurrent_iterations\": 5,\n",
    "    \"primary_metric\" : 'AUC_weighted'\n",
    "}\n",
    "\n",
    "# TODO: Put your automl config here\n",
    "automl_config = AutoMLConfig(compute_target=compute_target,\n",
    "                             task = \"classification\",\n",
    "                             training_data=dataset,\n",
    "                             label_column_name=\"diagnosis\",   \n",
    "                             path = project_folder,\n",
    "                             enable_early_stopping= True,\n",
    "                             featurization= 'auto',\n",
    "                             debug_log = \"automl_errors.log\",\n",
    "                             **automl_settings\n",
    "                            )\n"
   ]
  },
  {
   "cell_type": "code",
   "execution_count": 34,
   "metadata": {
    "gather": {
     "logged": 1706918934652
    },
    "jupyter": {
     "outputs_hidden": false,
     "source_hidden": false
    },
    "nteract": {
     "transient": {
      "deleting": false
     }
    }
   },
   "outputs": [
    {
     "ename": "ConfigException",
     "evalue": "ConfigException:\n\tMessage: Conflicting or duplicate values are provided for arguments: [{\n    \"script\": null,\n    \"arguments\": [],\n    \"target\": \"azurecapstone-project\",\n    \"framework\": \"Python\",\n    \"communicator\": \"None\",\n    \"maxRunDurationSeconds\": null,\n    \"nodeCount\": 1,\n    \"priority\": null,\n    \"environment\": {\n        \"name\": \"default-environment\",\n        \"version\": null,\n        \"environmentVariables\": {\n            \"EXAMPLE_ENV_VAR\": \"EXAMPLE_VALUE\"\n        },\n        \"python\": {\n            \"userManagedDependencies\": false,\n            \"interpreterPath\": \"python\",\n            \"condaDependenciesFile\": null,\n            \"baseCondaEnvironment\": null,\n            \"condaDependencies\": {\n                \"name\": \"project_environment\",\n                \"dependencies\": [\n                    \"python=3.8.13\",\n                    {\n                        \"pip\": [\n                            \"azureml-defaults\"\n                        ]\n                    }\n                ],\n                \"channels\": [\n                    \"anaconda\",\n                    \"conda-forge\"\n                ]\n            }\n        },\n        \"docker\": {\n            \"enabled\": false,\n            \"baseImage\": \"mcr.microsoft.com/azureml/openmpi4.1.0-ubuntu20.04:20230509.v1\",\n            \"baseDockerfile\": null,\n            \"buildContext\": null,\n            \"sharedVolumes\": true,\n            \"shmSize\": \"2g\",\n            \"arguments\": [],\n            \"baseImageRegistry\": {\n                \"address\": null,\n                \"username\": null,\n                \"password\": null,\n                \"registryIdentity\": null\n            },\n            \"platform\": {\n                \"os\": \"Linux\",\n                \"architecture\": \"amd64\"\n            }\n        },\n        \"spark\": {\n            \"repositories\": [],\n            \"packages\": [],\n            \"precachePackages\": true\n        },\n        \"databricks\": {\n            \"mavenLibraries\": [],\n            \"pypiLibraries\": [],\n            \"rcranLibraries\": [],\n            \"jarLibraries\": [],\n            \"eggLibraries\": []\n        },\n        \"r\": null,\n        \"inferencingStackVersion\": null,\n        \"assetId\": null\n    },\n    \"history\": {\n        \"outputCollection\": true,\n        \"snapshotProject\": true,\n        \"directoriesToWatch\": [\n            \"logs\"\n        ]\n    },\n    \"spark\": {\n        \"configuration\": {\n            \"spark.app.name\": \"Azure ML Experiment\",\n            \"spark.yarn.maxAppAttempts\": 1\n        }\n    },\n    \"docker\": {\n        \"useDocker\": true,\n        \"sharedVolumes\": true,\n        \"arguments\": [],\n        \"shmSize\": \"2g\"\n    },\n    \"hdi\": {\n        \"yarnDeployMode\": \"cluster\"\n    },\n    \"tensorflow\": {\n        \"workerCount\": 1,\n        \"parameterServerCount\": 1\n    },\n    \"mpi\": {\n        \"processCountPerNode\": 1,\n        \"nodeCount\": 1\n    },\n    \"pytorch\": {\n        \"communicationBackend\": \"nccl\",\n        \"processCount\": null,\n        \"nodeCount\": 1\n    },\n    \"paralleltask\": {\n        \"maxRetriesPerWorker\": 0,\n        \"workerCountPerNode\": 1,\n        \"terminalExitCodes\": null\n    },\n    \"dataReferences\": {},\n    \"data\": {},\n    \"datacaches\": [],\n    \"outputData\": {},\n    \"sourceDirectoryDataStore\": null,\n    \"amlcompute\": {\n        \"vmSize\": null,\n        \"vmPriority\": null,\n        \"retainCluster\": false,\n        \"name\": null,\n        \"clusterMaxNodeCount\": null\n    },\n    \"autoClusterComputeSpecification\": null,\n    \"kubernetescompute\": {\n        \"instanceType\": null\n    },\n    \"credentialPassthrough\": false,\n    \"command\": \"\",\n    \"environmentVariables\": {},\n    \"applicationEndpoints\": {}\n}]\n\tInnerException: None\n\tErrorResponse \n{\n    \"error\": {\n        \"code\": \"UserError\",\n        \"message\": \"Conflicting or duplicate values are provided for arguments: [{\\n    \\\"script\\\": null,\\n    \\\"arguments\\\": [],\\n    \\\"target\\\": \\\"azurecapstone-project\\\",\\n    \\\"framework\\\": \\\"Python\\\",\\n    \\\"communicator\\\": \\\"None\\\",\\n    \\\"maxRunDurationSeconds\\\": null,\\n    \\\"nodeCount\\\": 1,\\n    \\\"priority\\\": null,\\n    \\\"environment\\\": {\\n        \\\"name\\\": \\\"default-environment\\\",\\n        \\\"version\\\": null,\\n        \\\"environmentVariables\\\": {\\n            \\\"EXAMPLE_ENV_VAR\\\": \\\"EXAMPLE_VALUE\\\"\\n        },\\n        \\\"python\\\": {\\n            \\\"userManagedDependencies\\\": false,\\n            \\\"interpreterPath\\\": \\\"python\\\",\\n            \\\"condaDependenciesFile\\\": null,\\n            \\\"baseCondaEnvironment\\\": null,\\n            \\\"condaDependencies\\\": {\\n                \\\"name\\\": \\\"project_environment\\\",\\n                \\\"dependencies\\\": [\\n                    \\\"python=3.8.13\\\",\\n                    {\\n                        \\\"pip\\\": [\\n                            \\\"azureml-defaults\\\"\\n                        ]\\n                    }\\n                ],\\n                \\\"channels\\\": [\\n                    \\\"anaconda\\\",\\n                    \\\"conda-forge\\\"\\n                ]\\n            }\\n        },\\n        \\\"docker\\\": {\\n            \\\"enabled\\\": false,\\n            \\\"baseImage\\\": \\\"mcr.microsoft.com/azureml/openmpi4.1.0-ubuntu20.04:20230509.v1\\\",\\n            \\\"baseDockerfile\\\": null,\\n            \\\"buildContext\\\": null,\\n            \\\"sharedVolumes\\\": true,\\n            \\\"shmSize\\\": \\\"2g\\\",\\n            \\\"arguments\\\": [],\\n            \\\"baseImageRegistry\\\": {\\n                \\\"address\\\": null,\\n                \\\"username\\\": null,\\n                \\\"password\\\": null,\\n                \\\"registryIdentity\\\": null\\n            },\\n            \\\"platform\\\": {\\n                \\\"os\\\": \\\"Linux\\\",\\n                \\\"architecture\\\": \\\"amd64\\\"\\n            }\\n        },\\n        \\\"spark\\\": {\\n            \\\"repositories\\\": [],\\n            \\\"packages\\\": [],\\n            \\\"precachePackages\\\": true\\n        },\\n        \\\"databricks\\\": {\\n            \\\"mavenLibraries\\\": [],\\n            \\\"pypiLibraries\\\": [],\\n            \\\"rcranLibraries\\\": [],\\n            \\\"jarLibraries\\\": [],\\n            \\\"eggLibraries\\\": []\\n        },\\n        \\\"r\\\": null,\\n        \\\"inferencingStackVersion\\\": null,\\n        \\\"assetId\\\": null\\n    },\\n    \\\"history\\\": {\\n        \\\"outputCollection\\\": true,\\n        \\\"snapshotProject\\\": true,\\n        \\\"directoriesToWatch\\\": [\\n            \\\"logs\\\"\\n        ]\\n    },\\n    \\\"spark\\\": {\\n        \\\"configuration\\\": {\\n            \\\"spark.app.name\\\": \\\"Azure ML Experiment\\\",\\n            \\\"spark.yarn.maxAppAttempts\\\": 1\\n        }\\n    },\\n    \\\"docker\\\": {\\n        \\\"useDocker\\\": true,\\n        \\\"sharedVolumes\\\": true,\\n        \\\"arguments\\\": [],\\n        \\\"shmSize\\\": \\\"2g\\\"\\n    },\\n    \\\"hdi\\\": {\\n        \\\"yarnDeployMode\\\": \\\"cluster\\\"\\n    },\\n    \\\"tensorflow\\\": {\\n        \\\"workerCount\\\": 1,\\n        \\\"parameterServerCount\\\": 1\\n    },\\n    \\\"mpi\\\": {\\n        \\\"processCountPerNode\\\": 1,\\n        \\\"nodeCount\\\": 1\\n    },\\n    \\\"pytorch\\\": {\\n        \\\"communicationBackend\\\": \\\"nccl\\\",\\n        \\\"processCount\\\": null,\\n        \\\"nodeCount\\\": 1\\n    },\\n    \\\"paralleltask\\\": {\\n        \\\"maxRetriesPerWorker\\\": 0,\\n        \\\"workerCountPerNode\\\": 1,\\n        \\\"terminalExitCodes\\\": null\\n    },\\n    \\\"dataReferences\\\": {},\\n    \\\"data\\\": {},\\n    \\\"datacaches\\\": [],\\n    \\\"outputData\\\": {},\\n    \\\"sourceDirectoryDataStore\\\": null,\\n    \\\"amlcompute\\\": {\\n        \\\"vmSize\\\": null,\\n        \\\"vmPriority\\\": null,\\n        \\\"retainCluster\\\": false,\\n        \\\"name\\\": null,\\n        \\\"clusterMaxNodeCount\\\": null\\n    },\\n    \\\"autoClusterComputeSpecification\\\": null,\\n    \\\"kubernetescompute\\\": {\\n        \\\"instanceType\\\": null\\n    },\\n    \\\"credentialPassthrough\\\": false,\\n    \\\"command\\\": \\\"\\\",\\n    \\\"environmentVariables\\\": {},\\n    \\\"applicationEndpoints\\\": {}\\n}]\",\n        \"details_uri\": \"https://aka.ms/AutoMLConfig\",\n        \"inner_error\": {\n            \"code\": \"BadArgument\",\n            \"inner_error\": {\n                \"code\": \"ArgumentMismatch\",\n                \"inner_error\": {\n                    \"code\": \"ConflictingValueForArguments\"\n                }\n            }\n        }\n    }\n}",
     "output_type": "error",
     "traceback": [
      "\u001b[0;31m---------------------------------------------------------------------------\u001b[0m",
      "\u001b[0;31mConfigException\u001b[0m                           Traceback (most recent call last)",
      "Cell \u001b[0;32mIn[34], line 2\u001b[0m\n\u001b[1;32m      1\u001b[0m \u001b[38;5;66;03m# Submit experiment\u001b[39;00m\n\u001b[0;32m----> 2\u001b[0m remote_run \u001b[38;5;241m=\u001b[39m \u001b[43mexperiment\u001b[49m\u001b[38;5;241;43m.\u001b[39;49m\u001b[43msubmit\u001b[49m\u001b[43m(\u001b[49m\u001b[43mautoml_config\u001b[49m\u001b[43m,\u001b[49m\u001b[43m \u001b[49m\u001b[43mshow_output\u001b[49m\u001b[38;5;241;43m=\u001b[39;49m\u001b[38;5;28;43;01mTrue\u001b[39;49;00m\u001b[43m)\u001b[49m\n\u001b[1;32m      3\u001b[0m RunDetails(remote_run)\u001b[38;5;241m.\u001b[39mshow()\n\u001b[1;32m      4\u001b[0m remote_run\u001b[38;5;241m.\u001b[39mwait_for_completion(show_output\u001b[38;5;241m=\u001b[39m\u001b[38;5;28;01mTrue\u001b[39;00m)\n",
      "File \u001b[0;32m/anaconda/envs/azureml_py38/lib/python3.8/site-packages/azureml/core/experiment.py:238\u001b[0m, in \u001b[0;36mExperiment.submit\u001b[0;34m(self, config, tags, **kwargs)\u001b[0m\n\u001b[1;32m    236\u001b[0m submit_func \u001b[38;5;241m=\u001b[39m get_experiment_submit(config)\n\u001b[1;32m    237\u001b[0m \u001b[38;5;28;01mwith\u001b[39;00m \u001b[38;5;28mself\u001b[39m\u001b[38;5;241m.\u001b[39m_log_context(\u001b[38;5;124m\"\u001b[39m\u001b[38;5;124msubmit config \u001b[39m\u001b[38;5;132;01m{}\u001b[39;00m\u001b[38;5;124m\"\u001b[39m\u001b[38;5;241m.\u001b[39mformat(config\u001b[38;5;241m.\u001b[39m\u001b[38;5;18m__class__\u001b[39m\u001b[38;5;241m.\u001b[39m\u001b[38;5;18m__name__\u001b[39m)):\n\u001b[0;32m--> 238\u001b[0m     run \u001b[38;5;241m=\u001b[39m \u001b[43msubmit_func\u001b[49m\u001b[43m(\u001b[49m\u001b[43mconfig\u001b[49m\u001b[43m,\u001b[49m\u001b[43m \u001b[49m\u001b[38;5;28;43mself\u001b[39;49m\u001b[38;5;241;43m.\u001b[39;49m\u001b[43mworkspace\u001b[49m\u001b[43m,\u001b[49m\u001b[43m \u001b[49m\u001b[38;5;28;43mself\u001b[39;49m\u001b[38;5;241;43m.\u001b[39;49m\u001b[43mname\u001b[49m\u001b[43m,\u001b[49m\u001b[43m \u001b[49m\u001b[38;5;241;43m*\u001b[39;49m\u001b[38;5;241;43m*\u001b[39;49m\u001b[43mkwargs\u001b[49m\u001b[43m)\u001b[49m\n\u001b[1;32m    239\u001b[0m \u001b[38;5;28;01mif\u001b[39;00m tags \u001b[38;5;129;01mis\u001b[39;00m \u001b[38;5;129;01mnot\u001b[39;00m \u001b[38;5;28;01mNone\u001b[39;00m:\n\u001b[1;32m    240\u001b[0m     run\u001b[38;5;241m.\u001b[39mset_tags(tags)\n",
      "File \u001b[0;32m/anaconda/envs/azureml_py38/lib/python3.8/site-packages/azureml/train/automl/automlconfig.py:103\u001b[0m, in \u001b[0;36m_automl_static_submit\u001b[0;34m(automl_config_object, workspace, experiment_name, **kwargs)\u001b[0m\n\u001b[1;32m    100\u001b[0m settings \u001b[38;5;241m=\u001b[39m _azureautomlsettings\u001b[38;5;241m.\u001b[39mAzureAutoMLSettings(experiment\u001b[38;5;241m=\u001b[39mexperiment, \u001b[38;5;241m*\u001b[39m\u001b[38;5;241m*\u001b[39msettings_dict)\n\u001b[1;32m    102\u001b[0m \u001b[38;5;28;01mwith\u001b[39;00m log_server\u001b[38;5;241m.\u001b[39mnew_log_context(parent_run_id\u001b[38;5;241m=\u001b[39mparent_run_id):\n\u001b[0;32m--> 103\u001b[0m     automl_run \u001b[38;5;241m=\u001b[39m \u001b[43m_start_execution\u001b[49m\u001b[43m(\u001b[49m\n\u001b[1;32m    104\u001b[0m \u001b[43m        \u001b[49m\u001b[43mexperiment\u001b[49m\u001b[43m,\u001b[49m\n\u001b[1;32m    105\u001b[0m \u001b[43m        \u001b[49m\u001b[43msettings\u001b[49m\u001b[43m,\u001b[49m\n\u001b[1;32m    106\u001b[0m \u001b[43m        \u001b[49m\u001b[43mfit_params\u001b[49m\u001b[43m,\u001b[49m\n\u001b[1;32m    107\u001b[0m \u001b[43m        \u001b[49m\u001b[43mrun_config\u001b[49m\u001b[43m,\u001b[49m\n\u001b[1;32m    108\u001b[0m \u001b[43m        \u001b[49m\u001b[43mcompute_target\u001b[49m\u001b[43m,\u001b[49m\n\u001b[1;32m    109\u001b[0m \u001b[43m        \u001b[49m\u001b[43mparent_run_id\u001b[49m\u001b[43m,\u001b[49m\n\u001b[1;32m    110\u001b[0m \u001b[43m        \u001b[49m\u001b[43mshow_output\u001b[49m\u001b[43m)\u001b[49m\n\u001b[1;32m    112\u001b[0m     automl_run\u001b[38;5;241m.\u001b[39madd_properties(global_tracking_info_registry\u001b[38;5;241m.\u001b[39mgather_all(settings\u001b[38;5;241m.\u001b[39mpath))\n\u001b[1;32m    114\u001b[0m     \u001b[38;5;28;01mreturn\u001b[39;00m automl_run\n",
      "File \u001b[0;32m/anaconda/envs/azureml_py38/lib/python3.8/site-packages/azureml/train/automl/automlconfig.py:177\u001b[0m, in \u001b[0;36m_start_execution\u001b[0;34m(experiment, settings_obj, fit_params, run_config, compute_target, parent_run_id, show_output)\u001b[0m\n\u001b[1;32m    174\u001b[0m         logger\u001b[38;5;241m.\u001b[39minfo(\u001b[38;5;124m\"\u001b[39m\u001b[38;5;124mLocal run configuration provided with docker set to \u001b[39m\u001b[38;5;132;01m{}\u001b[39;00m\u001b[38;5;124m. Running local managed run.\u001b[39m\u001b[38;5;124m\"\u001b[39m\n\u001b[1;32m    175\u001b[0m                     \u001b[38;5;241m.\u001b[39mformat(run_config\u001b[38;5;241m.\u001b[39mdocker\u001b[38;5;241m.\u001b[39muse_docker))\n\u001b[1;32m    176\u001b[0m     \u001b[38;5;28;01melif\u001b[39;00m compute_target \u001b[38;5;129;01mis\u001b[39;00m \u001b[38;5;129;01mnot\u001b[39;00m \u001b[38;5;28;01mNone\u001b[39;00m:\n\u001b[0;32m--> 177\u001b[0m         \u001b[38;5;28;01mraise\u001b[39;00m ConfigException\u001b[38;5;241m.\u001b[39m_with_error(\n\u001b[1;32m    178\u001b[0m             AzureMLError\u001b[38;5;241m.\u001b[39mcreate(\n\u001b[1;32m    179\u001b[0m                 ConflictingValueForArguments,\n\u001b[1;32m    180\u001b[0m                 argument_name\u001b[38;5;241m=\u001b[39m\u001b[38;5;124m\"\u001b[39m\u001b[38;5;124mrun_config/compute_target\u001b[39m\u001b[38;5;124m\"\u001b[39m,\n\u001b[1;32m    181\u001b[0m                 arguments\u001b[38;5;241m=\u001b[39mrun_config\n\u001b[1;32m    182\u001b[0m             )\n\u001b[1;32m    183\u001b[0m         )\n\u001b[1;32m    184\u001b[0m \u001b[38;5;28;01melif\u001b[39;00m \u001b[38;5;28misinstance\u001b[39m(compute_target, LocalTarget):\n\u001b[1;32m    185\u001b[0m     is_managed \u001b[38;5;241m=\u001b[39m \u001b[38;5;28;01mTrue\u001b[39;00m\n",
      "\u001b[0;31mConfigException\u001b[0m: ConfigException:\n\tMessage: Conflicting or duplicate values are provided for arguments: [{\n    \"script\": null,\n    \"arguments\": [],\n    \"target\": \"azurecapstone-project\",\n    \"framework\": \"Python\",\n    \"communicator\": \"None\",\n    \"maxRunDurationSeconds\": null,\n    \"nodeCount\": 1,\n    \"priority\": null,\n    \"environment\": {\n        \"name\": \"default-environment\",\n        \"version\": null,\n        \"environmentVariables\": {\n            \"EXAMPLE_ENV_VAR\": \"EXAMPLE_VALUE\"\n        },\n        \"python\": {\n            \"userManagedDependencies\": false,\n            \"interpreterPath\": \"python\",\n            \"condaDependenciesFile\": null,\n            \"baseCondaEnvironment\": null,\n            \"condaDependencies\": {\n                \"name\": \"project_environment\",\n                \"dependencies\": [\n                    \"python=3.8.13\",\n                    {\n                        \"pip\": [\n                            \"azureml-defaults\"\n                        ]\n                    }\n                ],\n                \"channels\": [\n                    \"anaconda\",\n                    \"conda-forge\"\n                ]\n            }\n        },\n        \"docker\": {\n            \"enabled\": false,\n            \"baseImage\": \"mcr.microsoft.com/azureml/openmpi4.1.0-ubuntu20.04:20230509.v1\",\n            \"baseDockerfile\": null,\n            \"buildContext\": null,\n            \"sharedVolumes\": true,\n            \"shmSize\": \"2g\",\n            \"arguments\": [],\n            \"baseImageRegistry\": {\n                \"address\": null,\n                \"username\": null,\n                \"password\": null,\n                \"registryIdentity\": null\n            },\n            \"platform\": {\n                \"os\": \"Linux\",\n                \"architecture\": \"amd64\"\n            }\n        },\n        \"spark\": {\n            \"repositories\": [],\n            \"packages\": [],\n            \"precachePackages\": true\n        },\n        \"databricks\": {\n            \"mavenLibraries\": [],\n            \"pypiLibraries\": [],\n            \"rcranLibraries\": [],\n            \"jarLibraries\": [],\n            \"eggLibraries\": []\n        },\n        \"r\": null,\n        \"inferencingStackVersion\": null,\n        \"assetId\": null\n    },\n    \"history\": {\n        \"outputCollection\": true,\n        \"snapshotProject\": true,\n        \"directoriesToWatch\": [\n            \"logs\"\n        ]\n    },\n    \"spark\": {\n        \"configuration\": {\n            \"spark.app.name\": \"Azure ML Experiment\",\n            \"spark.yarn.maxAppAttempts\": 1\n        }\n    },\n    \"docker\": {\n        \"useDocker\": true,\n        \"sharedVolumes\": true,\n        \"arguments\": [],\n        \"shmSize\": \"2g\"\n    },\n    \"hdi\": {\n        \"yarnDeployMode\": \"cluster\"\n    },\n    \"tensorflow\": {\n        \"workerCount\": 1,\n        \"parameterServerCount\": 1\n    },\n    \"mpi\": {\n        \"processCountPerNode\": 1,\n        \"nodeCount\": 1\n    },\n    \"pytorch\": {\n        \"communicationBackend\": \"nccl\",\n        \"processCount\": null,\n        \"nodeCount\": 1\n    },\n    \"paralleltask\": {\n        \"maxRetriesPerWorker\": 0,\n        \"workerCountPerNode\": 1,\n        \"terminalExitCodes\": null\n    },\n    \"dataReferences\": {},\n    \"data\": {},\n    \"datacaches\": [],\n    \"outputData\": {},\n    \"sourceDirectoryDataStore\": null,\n    \"amlcompute\": {\n        \"vmSize\": null,\n        \"vmPriority\": null,\n        \"retainCluster\": false,\n        \"name\": null,\n        \"clusterMaxNodeCount\": null\n    },\n    \"autoClusterComputeSpecification\": null,\n    \"kubernetescompute\": {\n        \"instanceType\": null\n    },\n    \"credentialPassthrough\": false,\n    \"command\": \"\",\n    \"environmentVariables\": {},\n    \"applicationEndpoints\": {}\n}]\n\tInnerException: None\n\tErrorResponse \n{\n    \"error\": {\n        \"code\": \"UserError\",\n        \"message\": \"Conflicting or duplicate values are provided for arguments: [{\\n    \\\"script\\\": null,\\n    \\\"arguments\\\": [],\\n    \\\"target\\\": \\\"azurecapstone-project\\\",\\n    \\\"framework\\\": \\\"Python\\\",\\n    \\\"communicator\\\": \\\"None\\\",\\n    \\\"maxRunDurationSeconds\\\": null,\\n    \\\"nodeCount\\\": 1,\\n    \\\"priority\\\": null,\\n    \\\"environment\\\": {\\n        \\\"name\\\": \\\"default-environment\\\",\\n        \\\"version\\\": null,\\n        \\\"environmentVariables\\\": {\\n            \\\"EXAMPLE_ENV_VAR\\\": \\\"EXAMPLE_VALUE\\\"\\n        },\\n        \\\"python\\\": {\\n            \\\"userManagedDependencies\\\": false,\\n            \\\"interpreterPath\\\": \\\"python\\\",\\n            \\\"condaDependenciesFile\\\": null,\\n            \\\"baseCondaEnvironment\\\": null,\\n            \\\"condaDependencies\\\": {\\n                \\\"name\\\": \\\"project_environment\\\",\\n                \\\"dependencies\\\": [\\n                    \\\"python=3.8.13\\\",\\n                    {\\n                        \\\"pip\\\": [\\n                            \\\"azureml-defaults\\\"\\n                        ]\\n                    }\\n                ],\\n                \\\"channels\\\": [\\n                    \\\"anaconda\\\",\\n                    \\\"conda-forge\\\"\\n                ]\\n            }\\n        },\\n        \\\"docker\\\": {\\n            \\\"enabled\\\": false,\\n            \\\"baseImage\\\": \\\"mcr.microsoft.com/azureml/openmpi4.1.0-ubuntu20.04:20230509.v1\\\",\\n            \\\"baseDockerfile\\\": null,\\n            \\\"buildContext\\\": null,\\n            \\\"sharedVolumes\\\": true,\\n            \\\"shmSize\\\": \\\"2g\\\",\\n            \\\"arguments\\\": [],\\n            \\\"baseImageRegistry\\\": {\\n                \\\"address\\\": null,\\n                \\\"username\\\": null,\\n                \\\"password\\\": null,\\n                \\\"registryIdentity\\\": null\\n            },\\n            \\\"platform\\\": {\\n                \\\"os\\\": \\\"Linux\\\",\\n                \\\"architecture\\\": \\\"amd64\\\"\\n            }\\n        },\\n        \\\"spark\\\": {\\n            \\\"repositories\\\": [],\\n            \\\"packages\\\": [],\\n            \\\"precachePackages\\\": true\\n        },\\n        \\\"databricks\\\": {\\n            \\\"mavenLibraries\\\": [],\\n            \\\"pypiLibraries\\\": [],\\n            \\\"rcranLibraries\\\": [],\\n            \\\"jarLibraries\\\": [],\\n            \\\"eggLibraries\\\": []\\n        },\\n        \\\"r\\\": null,\\n        \\\"inferencingStackVersion\\\": null,\\n        \\\"assetId\\\": null\\n    },\\n    \\\"history\\\": {\\n        \\\"outputCollection\\\": true,\\n        \\\"snapshotProject\\\": true,\\n        \\\"directoriesToWatch\\\": [\\n            \\\"logs\\\"\\n        ]\\n    },\\n    \\\"spark\\\": {\\n        \\\"configuration\\\": {\\n            \\\"spark.app.name\\\": \\\"Azure ML Experiment\\\",\\n            \\\"spark.yarn.maxAppAttempts\\\": 1\\n        }\\n    },\\n    \\\"docker\\\": {\\n        \\\"useDocker\\\": true,\\n        \\\"sharedVolumes\\\": true,\\n        \\\"arguments\\\": [],\\n        \\\"shmSize\\\": \\\"2g\\\"\\n    },\\n    \\\"hdi\\\": {\\n        \\\"yarnDeployMode\\\": \\\"cluster\\\"\\n    },\\n    \\\"tensorflow\\\": {\\n        \\\"workerCount\\\": 1,\\n        \\\"parameterServerCount\\\": 1\\n    },\\n    \\\"mpi\\\": {\\n        \\\"processCountPerNode\\\": 1,\\n        \\\"nodeCount\\\": 1\\n    },\\n    \\\"pytorch\\\": {\\n        \\\"communicationBackend\\\": \\\"nccl\\\",\\n        \\\"processCount\\\": null,\\n        \\\"nodeCount\\\": 1\\n    },\\n    \\\"paralleltask\\\": {\\n        \\\"maxRetriesPerWorker\\\": 0,\\n        \\\"workerCountPerNode\\\": 1,\\n        \\\"terminalExitCodes\\\": null\\n    },\\n    \\\"dataReferences\\\": {},\\n    \\\"data\\\": {},\\n    \\\"datacaches\\\": [],\\n    \\\"outputData\\\": {},\\n    \\\"sourceDirectoryDataStore\\\": null,\\n    \\\"amlcompute\\\": {\\n        \\\"vmSize\\\": null,\\n        \\\"vmPriority\\\": null,\\n        \\\"retainCluster\\\": false,\\n        \\\"name\\\": null,\\n        \\\"clusterMaxNodeCount\\\": null\\n    },\\n    \\\"autoClusterComputeSpecification\\\": null,\\n    \\\"kubernetescompute\\\": {\\n        \\\"instanceType\\\": null\\n    },\\n    \\\"credentialPassthrough\\\": false,\\n    \\\"command\\\": \\\"\\\",\\n    \\\"environmentVariables\\\": {},\\n    \\\"applicationEndpoints\\\": {}\\n}]\",\n        \"details_uri\": \"https://aka.ms/AutoMLConfig\",\n        \"inner_error\": {\n            \"code\": \"BadArgument\",\n            \"inner_error\": {\n                \"code\": \"ArgumentMismatch\",\n                \"inner_error\": {\n                    \"code\": \"ConflictingValueForArguments\"\n                }\n            }\n        }\n    }\n}"
     ]
    }
   ],
   "source": [
    "# Submit experiment\n",
    "remote_run = experiment.submit(automl_config, show_output=True)\n",
    "RunDetails(remote_run).show()\n",
    "remote_run.wait_for_completion(show_output=True)\n"
   ]
  },
  {
   "cell_type": "markdown",
   "metadata": {},
   "source": [
    "## Run Details\n",
    "\n",
    "OPTIONAL: Write about the different models trained and their performance. Why do you think some models did better than others?\n",
    "\n",
    "TODO: In the cell below, use the `RunDetails` widget to show the different experiments."
   ]
  },
  {
   "cell_type": "code",
   "execution_count": null,
   "metadata": {
    "gather": {
     "logged": 1598431121770
    },
    "jupyter": {
     "outputs_hidden": false,
     "source_hidden": false
    },
    "nteract": {
     "transient": {
      "deleting": false
     }
    }
   },
   "outputs": [],
   "source": [
    "RunDetails(remote_run).show()"
   ]
  },
  {
   "cell_type": "markdown",
   "metadata": {},
   "source": [
    "## Best Model\n",
    "\n",
    "TODO: In the cell below, get the best model from the automl experiments and display all the properties of the model.\n",
    "\n"
   ]
  },
  {
   "cell_type": "code",
   "execution_count": null,
   "metadata": {
    "gather": {
     "logged": 1598431425670
    },
    "jupyter": {
     "outputs_hidden": false,
     "source_hidden": false
    },
    "nteract": {
     "transient": {
      "deleting": false
     }
    }
   },
   "outputs": [],
   "source": [
    "best_run, best_model = remote_run.get_output()\n",
    "best_run\n",
    "\n",
    "\n",
    "best_model\n",
    "metrics = best_run.get_metrics()\n",
    "metrics['accuracy']"
   ]
  },
  {
   "cell_type": "code",
   "execution_count": null,
   "metadata": {
    "gather": {
     "logged": 1598431426111
    },
    "jupyter": {
     "outputs_hidden": false,
     "source_hidden": false
    },
    "nteract": {
     "transient": {
      "deleting": false
     }
    }
   },
   "outputs": [],
   "source": [
    "#TODO: Save the best model\n",
    "import joblib\n",
    "from azureml.core.model import Model\n",
    "\n",
    "description = \"Best-fit AutoML model trained on Wisoconsin Breast Cancer dataset\"\n",
    "\n",
    "os.makedirs('outputs', exist_ok=True)\n",
    "joblib.dump(best_model, filename=\"outputs/automl-model.pkl\")\n",
    "automl_model = remote_run.register_model(model_name='automl-breastcancer', description=description)"
   ]
  },
  {
   "cell_type": "markdown",
   "metadata": {},
   "source": [
    "## Model Deployment\n",
    "\n",
    "Remember you have to deploy only one of the two models you trained but you still need to register both the models. Perform the steps in the rest of this notebook only if you wish to deploy this model.\n",
    "\n",
    "TODO: In the cell below, register the model, create an inference config and deploy the model as a web service."
   ]
  },
  {
   "cell_type": "code",
   "execution_count": null,
   "metadata": {
    "gather": {
     "logged": 1598431435189
    },
    "jupyter": {
     "outputs_hidden": false,
     "source_hidden": false
    },
    "nteract": {
     "transient": {
      "deleting": false
     }
    }
   },
   "outputs": [],
   "source": [
    "from azureml.core.webservice import AciWebservice\n",
    "\n",
    "aci_config = AciWebservice.deploy_configuration(\n",
    "    cpu_cores=1,\n",
    "    memory_gb=1,\n",
    "    description='Predict tumor diagnosis - Malignant(1) or Benign(0)',\n",
    "    auth_enabled=True\n",
    ")"
   ]
  },
  {
   "cell_type": "markdown",
   "metadata": {
    "collapsed": true,
    "gather": {
     "logged": 1598431657736
    },
    "jupyter": {
     "outputs_hidden": false,
     "source_hidden": false
    },
    "nteract": {
     "transient": {
      "deleting": false
     }
    }
   },
   "source": [
    "TODO: In the cell below, send a request to the web service you deployed to test it."
   ]
  },
  {
   "cell_type": "code",
   "execution_count": null,
   "metadata": {
    "gather": {
     "logged": 1598432707604
    },
    "jupyter": {
     "outputs_hidden": false,
     "source_hidden": false
    },
    "nteract": {
     "transient": {
      "deleting": false
     }
    }
   },
   "outputs": [],
   "source": [
    "\n",
    "from azureml.core.webservice import Webservice\n",
    "from azureml.core.model import InferenceConfig\n",
    "from azureml.core.environment import Environment\n",
    "from azureml.core import Workspace\n",
    "from azureml.core.model import Model\n",
    "from azureml.automl.core.shared import constants\n",
    "\n",
    "model = Model(ws, 'automl-breastcancer')\n",
    "\n",
    "\n",
    "myenv = best_run.get_environment()\n",
    "entry_script = 'predict.py'\n",
    "#best_run.download_file('outputs/scoring_file_v_1_0_0.py', entry_script)\n",
    "#best_run.download_file(constants.CONDA_ENV_FILE_PATH, 'myenv.yml')\n",
    "inference_config = InferenceConfig(entry_script=entry_script, environment=myenv)\n",
    "\n",
    "service = Model.deploy(workspace=ws, \n",
    "                       name='automl-breastcancer', \n",
    "                       models=[model], \n",
    "                       inference_config=inference_config, \n",
    "                       deployment_config=aci_config)\n",
    "\n",
    "service.wait_for_deployment(show_output=True)\n",
    "\n"
   ]
  },
  {
   "cell_type": "markdown",
   "metadata": {
    "collapsed": true,
    "gather": {
     "logged": 1598432765711
    },
    "jupyter": {
     "outputs_hidden": false,
     "source_hidden": false
    },
    "nteract": {
     "transient": {
      "deleting": false
     }
    }
   },
   "source": [
    "TODO: In the cell below, print the logs of the web service and delete the service"
   ]
  },
  {
   "cell_type": "code",
   "execution_count": null,
   "metadata": {
    "jupyter": {
     "outputs_hidden": false,
     "source_hidden": false
    },
    "nteract": {
     "transient": {
      "deleting": false
     }
    }
   },
   "outputs": [],
   "source": []
  },
  {
   "cell_type": "markdown",
   "metadata": {},
   "source": [
    "**Submission Checklist**\n",
    "- I have registered the model.\n",
    "- I have deployed the model with the best accuracy as a webservice.\n",
    "- I have tested the webservice by sending a request to the model endpoint.\n",
    "- I have deleted the webservice and shutdown all the computes that I have used.\n",
    "- I have taken a screenshot showing the model endpoint as active.\n",
    "- The project includes a file containing the environment details.\n"
   ]
  },
  {
   "cell_type": "markdown",
   "metadata": {},
   "source": []
  }
 ],
 "metadata": {
  "kernel_info": {
   "name": "python38-azureml"
  },
  "kernelspec": {
   "display_name": "Python 3.8 - AzureML",
   "language": "python",
   "name": "python38-azureml"
  },
  "language_info": {
   "codemirror_mode": {
    "name": "ipython",
    "version": 3
   },
   "file_extension": ".py",
   "mimetype": "text/x-python",
   "name": "python",
   "nbconvert_exporter": "python",
   "pygments_lexer": "ipython3",
   "version": "3.8.5"
  },
  "microsoft": {
   "host": {
    "AzureML": {
     "notebookHasBeenCompleted": true
    }
   },
   "ms_spell_check": {
    "ms_spell_check_language": "en"
   }
  },
  "nteract": {
   "version": "nteract-front-end@1.0.0"
  }
 },
 "nbformat": 4,
 "nbformat_minor": 2
}
