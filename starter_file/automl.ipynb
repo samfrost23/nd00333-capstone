{
  "cells": [
    {
      "cell_type": "markdown",
      "source": [
        "# Automated ML\n",
        "\n",
        "TODO: Import Dependencies. In the cell below, import all the dependencies that you will need to complete the project."
      ],
      "metadata": {}
    },
    {
      "cell_type": "code",
      "source": [
        "import logging\n",
        "import os\n",
        "import csv\n",
        "\n",
        "from matplotlib import pyplot as plt\n",
        "import numpy as np\n",
        "import pandas as pd\n",
        "from sklearn import datasets\n",
        "import pkg_resources\n",
        "\n",
        "import azureml.core\n",
        "from azureml.core.experiment import Experiment\n",
        "from azureml.core.workspace import Workspace\n",
        "from azureml.train.automl import AutoMLConfig\n",
        "from azureml.core.dataset import Dataset\n",
        "\n",
        "from azureml.pipeline.steps import AutoMLStep\n",
        "\n",
        "# Check core SDK version number\n",
        "print(\"SDK version:\", azureml.core.VERSION)"
      ],
      "outputs": [
        {
          "output_type": "stream",
          "name": "stdout",
          "text": "SDK version: 1.51.0\n"
        }
      ],
      "execution_count": 25,
      "metadata": {
        "gather": {
          "logged": 1706962839716
        },
        "jupyter": {
          "outputs_hidden": false,
          "source_hidden": false
        },
        "nteract": {
          "transient": {
            "deleting": false
          }
        }
      }
    },
    {
      "cell_type": "code",
      "source": [
        "ws = Workspace.from_config()\n",
        "\n",
        "# choose a name for experiment\n",
        "experiment_name = 'BreastCancer-Experiment'\n",
        "\n",
        "experiment=Experiment(ws, experiment_name)\n",
        "\n",
        "\n",
        "# choose a name for experiment\n",
        "\n",
        "project_folder = './breastcancer'\n",
        "experiment"
      ],
      "outputs": [
        {
          "output_type": "execute_result",
          "execution_count": 26,
          "data": {
            "text/plain": "Experiment(Name: BreastCancer-Experiment,\nWorkspace: quick-starts-ws-251498)",
            "text/html": "<table style=\"width:100%\"><tr><th>Name</th><th>Workspace</th><th>Report Page</th><th>Docs Page</th></tr><tr><td>BreastCancer-Experiment</td><td>quick-starts-ws-251498</td><td><a href=\"https://ml.azure.com/experiments/id/5b05bb45-e117-47b5-ae9e-a0e15bb386c2?wsid=/subscriptions/b968fb36-f06a-4c76-a15f-afab68ae7667/resourcegroups/aml-quickstarts-251498/workspaces/quick-starts-ws-251498&amp;tid=660b3398-b80e-49d2-bc5b-ac1dc93b5254\" target=\"_blank\" rel=\"noopener\">Link to Azure Machine Learning studio</a></td><td><a href=\"https://docs.microsoft.com/en-us/python/api/azureml-core/azureml.core.experiment.Experiment?view=azure-ml-py\" target=\"_blank\" rel=\"noopener\">Link to Documentation</a></td></tr></table>"
          },
          "metadata": {}
        }
      ],
      "execution_count": 26,
      "metadata": {
        "gather": {
          "logged": 1706962847151
        },
        "jupyter": {
          "outputs_hidden": false,
          "source_hidden": false
        },
        "nteract": {
          "transient": {
            "deleting": false
          }
        }
      }
    },
    {
      "cell_type": "code",
      "source": [
        "from azureml.core.compute import AmlCompute\n",
        "from azureml.core.compute import ComputeTarget\n",
        "from azureml.core.compute_target import ComputeTargetException\n",
        "\n",
        "# NOTE: update the cluster name to match the existing cluster\n",
        "# Choose a name for your CPU cluster\n",
        "amlcompute_cluster_name = \"azurecapstone-project\"\n",
        "\n",
        "# Verify that cluster does not exist already\n",
        "try:\n",
        "    compute_target = ComputeTarget(workspace=ws, name=amlcompute_cluster_name)\n",
        "    print('Found existing cluster, use it.')\n",
        "except ComputeTargetException:\n",
        "    compute_config = AmlCompute.provisioning_configuration(vm_size='STANDARD_D2_V2',# for GPU, use \"STANDARD_NC6\"\n",
        "                                                           #vm_priority = 'lowpriority', # optional\n",
        "                                                           max_nodes=4)\n",
        "    compute_target = ComputeTarget.create(ws, amlcompute_cluster_name, compute_config)\n",
        "\n",
        "    compute_target.wait_for_completion(show_output=True, min_node_count = 1, timeout_in_minutes = 5)\n",
        "\n"
      ],
      "outputs": [
        {
          "output_type": "stream",
          "name": "stdout",
          "text": "Found existing cluster, use it.\n"
        }
      ],
      "execution_count": 27,
      "metadata": {
        "gather": {
          "logged": 1706962851894
        },
        "jupyter": {
          "outputs_hidden": false,
          "source_hidden": false
        },
        "nteract": {
          "transient": {
            "deleting": false
          }
        }
      }
    },
    {
      "cell_type": "markdown",
      "source": [
        "## Dataset\n",
        "\n",
        "### Overview\n",
        "TODO: In this markdown cell, give an overview of the dataset you are using. Also mention the task you will be performing.\n",
        "\n",
        "\n",
        "TODO: Get data. In the cell below, write code to access the data you will be using in this project. Remember that the dataset needs to be external."
      ],
      "metadata": {}
    },
    {
      "cell_type": "code",
      "source": [
        "\n"
      ],
      "outputs": [
        {
          "output_type": "stream",
          "name": "stdout",
          "text": "{'uci_id': 17, 'name': 'Breast Cancer Wisconsin (Diagnostic)', 'repository_url': 'https://archive.ics.uci.edu/dataset/17/breast+cancer+wisconsin+diagnostic', 'data_url': 'https://archive.ics.uci.edu/static/public/17/data.csv', 'abstract': 'Diagnostic Wisconsin Breast Cancer Database.', 'area': 'Health and Medicine', 'tasks': ['Classification'], 'characteristics': ['Multivariate'], 'num_instances': 569, 'num_features': 30, 'feature_types': ['Real'], 'demographics': [], 'target_col': ['Diagnosis'], 'index_col': ['ID'], 'has_missing_values': 'no', 'missing_values_symbol': None, 'year_of_dataset_creation': 1993, 'last_updated': 'Fri Nov 03 2023', 'dataset_doi': '10.24432/C5DW2B', 'creators': ['William Wolberg', 'Olvi Mangasarian', 'Nick Street', 'W. Street'], 'intro_paper': {'title': 'Nuclear feature extraction for breast tumor diagnosis', 'authors': 'W. Street, W. Wolberg, O. Mangasarian', 'published_in': 'Electronic imaging', 'year': 1993, 'url': 'https://www.semanticscholar.org/paper/53f0fbb425bc14468eb3bf96b2e1d41ba8087f36', 'doi': '10.1117/12.148698'}, 'additional_info': {'summary': 'Features are computed from a digitized image of a fine needle aspirate (FNA) of a breast mass.  They describe characteristics of the cell nuclei present in the image. A few of the images can be found at http://www.cs.wisc.edu/~street/images/\\r\\n\\r\\nSeparating plane described above was obtained using Multisurface Method-Tree (MSM-T) [K. P. Bennett, \"Decision Tree Construction Via Linear Programming.\" Proceedings of the 4th Midwest Artificial Intelligence and Cognitive Science Society, pp. 97-101, 1992], a classification method which uses linear programming to construct a decision tree.  Relevant features were selected using an exhaustive search in the space of 1-4 features and 1-3 separating planes.\\r\\n\\r\\nThe actual linear program used to obtain the separating plane in the 3-dimensional space is that described in: [K. P. Bennett and O. L. Mangasarian: \"Robust Linear Programming Discrimination of Two Linearly Inseparable Sets\", Optimization Methods and Software 1, 1992, 23-34].\\r\\n\\r\\nThis database is also available through the UW CS ftp server:\\r\\nftp ftp.cs.wisc.edu\\r\\ncd math-prog/cpo-dataset/machine-learn/WDBC/', 'purpose': None, 'funded_by': None, 'instances_represent': None, 'recommended_data_splits': None, 'sensitive_data': None, 'preprocessing_description': None, 'variable_info': '1) ID number\\r\\n2) Diagnosis (M = malignant, B = benign)\\r\\n3-32)\\r\\n\\r\\nTen real-valued features are computed for each cell nucleus:\\r\\n\\r\\n\\ta) radius (mean of distances from center to points on the perimeter)\\r\\n\\tb) texture (standard deviation of gray-scale values)\\r\\n\\tc) perimeter\\r\\n\\td) area\\r\\n\\te) smoothness (local variation in radius lengths)\\r\\n\\tf) compactness (perimeter^2 / area - 1.0)\\r\\n\\tg) concavity (severity of concave portions of the contour)\\r\\n\\th) concave points (number of concave portions of the contour)\\r\\n\\ti) symmetry \\r\\n\\tj) fractal dimension (\"coastline approximation\" - 1)', 'citation': None}}\n                  name     role         type demographic description units  \\\n0                   ID       ID  Categorical        None        None  None   \n1            Diagnosis   Target  Categorical        None        None  None   \n2              radius1  Feature   Continuous        None        None  None   \n3             texture1  Feature   Continuous        None        None  None   \n4           perimeter1  Feature   Continuous        None        None  None   \n5                area1  Feature   Continuous        None        None  None   \n6          smoothness1  Feature   Continuous        None        None  None   \n7         compactness1  Feature   Continuous        None        None  None   \n8           concavity1  Feature   Continuous        None        None  None   \n9      concave_points1  Feature   Continuous        None        None  None   \n10           symmetry1  Feature   Continuous        None        None  None   \n11  fractal_dimension1  Feature   Continuous        None        None  None   \n12             radius2  Feature   Continuous        None        None  None   \n13            texture2  Feature   Continuous        None        None  None   \n14          perimeter2  Feature   Continuous        None        None  None   \n15               area2  Feature   Continuous        None        None  None   \n16         smoothness2  Feature   Continuous        None        None  None   \n17        compactness2  Feature   Continuous        None        None  None   \n18          concavity2  Feature   Continuous        None        None  None   \n19     concave_points2  Feature   Continuous        None        None  None   \n20           symmetry2  Feature   Continuous        None        None  None   \n21  fractal_dimension2  Feature   Continuous        None        None  None   \n22             radius3  Feature   Continuous        None        None  None   \n23            texture3  Feature   Continuous        None        None  None   \n24          perimeter3  Feature   Continuous        None        None  None   \n25               area3  Feature   Continuous        None        None  None   \n26         smoothness3  Feature   Continuous        None        None  None   \n27        compactness3  Feature   Continuous        None        None  None   \n28          concavity3  Feature   Continuous        None        None  None   \n29     concave_points3  Feature   Continuous        None        None  None   \n30           symmetry3  Feature   Continuous        None        None  None   \n31  fractal_dimension3  Feature   Continuous        None        None  None   \n\n   missing_values  \n0              no  \n1              no  \n2              no  \n3              no  \n4              no  \n5              no  \n6              no  \n7              no  \n8              no  \n9              no  \n10             no  \n11             no  \n12             no  \n13             no  \n14             no  \n15             no  \n16             no  \n17             no  \n18             no  \n19             no  \n20             no  \n21             no  \n22             no  \n23             no  \n24             no  \n25             no  \n26             no  \n27             no  \n28             no  \n29             no  \n30             no  \n31             no  \n{'data': {'ids':            ID\n0      842302\n1      842517\n2    84300903\n3    84348301\n4    84358402\n..        ...\n564    926424\n565    926682\n566    926954\n567    927241\n568     92751\n\n[569 rows x 1 columns], 'features':      radius1  texture1  perimeter1   area1  smoothness1  compactness1  \\\n0      17.99     10.38      122.80  1001.0      0.11840       0.27760   \n1      20.57     17.77      132.90  1326.0      0.08474       0.07864   \n2      19.69     21.25      130.00  1203.0      0.10960       0.15990   \n3      11.42     20.38       77.58   386.1      0.14250       0.28390   \n4      20.29     14.34      135.10  1297.0      0.10030       0.13280   \n..       ...       ...         ...     ...          ...           ...   \n564    21.56     22.39      142.00  1479.0      0.11100       0.11590   \n565    20.13     28.25      131.20  1261.0      0.09780       0.10340   \n566    16.60     28.08      108.30   858.1      0.08455       0.10230   \n567    20.60     29.33      140.10  1265.0      0.11780       0.27700   \n568     7.76     24.54       47.92   181.0      0.05263       0.04362   \n\n     concavity1  concave_points1  symmetry1  fractal_dimension1  ...  radius3  \\\n0       0.30010          0.14710     0.2419             0.07871  ...   25.380   \n1       0.08690          0.07017     0.1812             0.05667  ...   24.990   \n2       0.19740          0.12790     0.2069             0.05999  ...   23.570   \n3       0.24140          0.10520     0.2597             0.09744  ...   14.910   \n4       0.19800          0.10430     0.1809             0.05883  ...   22.540   \n..          ...              ...        ...                 ...  ...      ...   \n564     0.24390          0.13890     0.1726             0.05623  ...   25.450   \n565     0.14400          0.09791     0.1752             0.05533  ...   23.690   \n566     0.09251          0.05302     0.1590             0.05648  ...   18.980   \n567     0.35140          0.15200     0.2397             0.07016  ...   25.740   \n568     0.00000          0.00000     0.1587             0.05884  ...    9.456   \n\n     texture3  perimeter3   area3  smoothness3  compactness3  concavity3  \\\n0       17.33      184.60  2019.0      0.16220       0.66560      0.7119   \n1       23.41      158.80  1956.0      0.12380       0.18660      0.2416   \n2       25.53      152.50  1709.0      0.14440       0.42450      0.4504   \n3       26.50       98.87   567.7      0.20980       0.86630      0.6869   \n4       16.67      152.20  1575.0      0.13740       0.20500      0.4000   \n..        ...         ...     ...          ...           ...         ...   \n564     26.40      166.10  2027.0      0.14100       0.21130      0.4107   \n565     38.25      155.00  1731.0      0.11660       0.19220      0.3215   \n566     34.12      126.70  1124.0      0.11390       0.30940      0.3403   \n567     39.42      184.60  1821.0      0.16500       0.86810      0.9387   \n568     30.37       59.16   268.6      0.08996       0.06444      0.0000   \n\n     concave_points3  symmetry3  fractal_dimension3  \n0             0.2654     0.4601             0.11890  \n1             0.1860     0.2750             0.08902  \n2             0.2430     0.3613             0.08758  \n3             0.2575     0.6638             0.17300  \n4             0.1625     0.2364             0.07678  \n..               ...        ...                 ...  \n564           0.2216     0.2060             0.07115  \n565           0.1628     0.2572             0.06637  \n566           0.1418     0.2218             0.07820  \n567           0.2650     0.4087             0.12400  \n568           0.0000     0.2871             0.07039  \n\n[569 rows x 30 columns], 'targets':     Diagnosis\n0           M\n1           M\n2           M\n3           M\n4           M\n..        ...\n564         M\n565         M\n566         M\n567         M\n568         B\n\n[569 rows x 1 columns], 'original':            ID  radius1  texture1  perimeter1   area1  smoothness1  \\\n0      842302    17.99     10.38      122.80  1001.0      0.11840   \n1      842517    20.57     17.77      132.90  1326.0      0.08474   \n2    84300903    19.69     21.25      130.00  1203.0      0.10960   \n3    84348301    11.42     20.38       77.58   386.1      0.14250   \n4    84358402    20.29     14.34      135.10  1297.0      0.10030   \n..        ...      ...       ...         ...     ...          ...   \n564    926424    21.56     22.39      142.00  1479.0      0.11100   \n565    926682    20.13     28.25      131.20  1261.0      0.09780   \n566    926954    16.60     28.08      108.30   858.1      0.08455   \n567    927241    20.60     29.33      140.10  1265.0      0.11780   \n568     92751     7.76     24.54       47.92   181.0      0.05263   \n\n     compactness1  concavity1  concave_points1  symmetry1  ...  texture3  \\\n0         0.27760     0.30010          0.14710     0.2419  ...     17.33   \n1         0.07864     0.08690          0.07017     0.1812  ...     23.41   \n2         0.15990     0.19740          0.12790     0.2069  ...     25.53   \n3         0.28390     0.24140          0.10520     0.2597  ...     26.50   \n4         0.13280     0.19800          0.10430     0.1809  ...     16.67   \n..            ...         ...              ...        ...  ...       ...   \n564       0.11590     0.24390          0.13890     0.1726  ...     26.40   \n565       0.10340     0.14400          0.09791     0.1752  ...     38.25   \n566       0.10230     0.09251          0.05302     0.1590  ...     34.12   \n567       0.27700     0.35140          0.15200     0.2397  ...     39.42   \n568       0.04362     0.00000          0.00000     0.1587  ...     30.37   \n\n     perimeter3   area3  smoothness3  compactness3  concavity3  \\\n0        184.60  2019.0      0.16220       0.66560      0.7119   \n1        158.80  1956.0      0.12380       0.18660      0.2416   \n2        152.50  1709.0      0.14440       0.42450      0.4504   \n3         98.87   567.7      0.20980       0.86630      0.6869   \n4        152.20  1575.0      0.13740       0.20500      0.4000   \n..          ...     ...          ...           ...         ...   \n564      166.10  2027.0      0.14100       0.21130      0.4107   \n565      155.00  1731.0      0.11660       0.19220      0.3215   \n566      126.70  1124.0      0.11390       0.30940      0.3403   \n567      184.60  1821.0      0.16500       0.86810      0.9387   \n568       59.16   268.6      0.08996       0.06444      0.0000   \n\n     concave_points3  symmetry3  fractal_dimension3  Diagnosis  \n0             0.2654     0.4601             0.11890          M  \n1             0.1860     0.2750             0.08902          M  \n2             0.2430     0.3613             0.08758          M  \n3             0.2575     0.6638             0.17300          M  \n4             0.1625     0.2364             0.07678          M  \n..               ...        ...                 ...        ...  \n564           0.2216     0.2060             0.07115          M  \n565           0.1628     0.2572             0.06637          M  \n566           0.1418     0.2218             0.07820          M  \n567           0.2650     0.4087             0.12400          M  \n568           0.0000     0.2871             0.07039          B  \n\n[569 rows x 32 columns], 'headers': Index(['ID', 'radius1', 'texture1', 'perimeter1', 'area1', 'smoothness1',\n       'compactness1', 'concavity1', 'concave_points1', 'symmetry1',\n       'fractal_dimension1', 'radius2', 'texture2', 'perimeter2', 'area2',\n       'smoothness2', 'compactness2', 'concavity2', 'concave_points2',\n       'symmetry2', 'fractal_dimension2', 'radius3', 'texture3', 'perimeter3',\n       'area3', 'smoothness3', 'compactness3', 'concavity3', 'concave_points3',\n       'symmetry3', 'fractal_dimension3', 'Diagnosis'],\n      dtype='object')}, 'metadata': {'uci_id': 17, 'name': 'Breast Cancer Wisconsin (Diagnostic)', 'repository_url': 'https://archive.ics.uci.edu/dataset/17/breast+cancer+wisconsin+diagnostic', 'data_url': 'https://archive.ics.uci.edu/static/public/17/data.csv', 'abstract': 'Diagnostic Wisconsin Breast Cancer Database.', 'area': 'Health and Medicine', 'tasks': ['Classification'], 'characteristics': ['Multivariate'], 'num_instances': 569, 'num_features': 30, 'feature_types': ['Real'], 'demographics': [], 'target_col': ['Diagnosis'], 'index_col': ['ID'], 'has_missing_values': 'no', 'missing_values_symbol': None, 'year_of_dataset_creation': 1993, 'last_updated': 'Fri Nov 03 2023', 'dataset_doi': '10.24432/C5DW2B', 'creators': ['William Wolberg', 'Olvi Mangasarian', 'Nick Street', 'W. Street'], 'intro_paper': {'title': 'Nuclear feature extraction for breast tumor diagnosis', 'authors': 'W. Street, W. Wolberg, O. Mangasarian', 'published_in': 'Electronic imaging', 'year': 1993, 'url': 'https://www.semanticscholar.org/paper/53f0fbb425bc14468eb3bf96b2e1d41ba8087f36', 'doi': '10.1117/12.148698'}, 'additional_info': {'summary': 'Features are computed from a digitized image of a fine needle aspirate (FNA) of a breast mass.  They describe characteristics of the cell nuclei present in the image. A few of the images can be found at http://www.cs.wisc.edu/~street/images/\\r\\n\\r\\nSeparating plane described above was obtained using Multisurface Method-Tree (MSM-T) [K. P. Bennett, \"Decision Tree Construction Via Linear Programming.\" Proceedings of the 4th Midwest Artificial Intelligence and Cognitive Science Society, pp. 97-101, 1992], a classification method which uses linear programming to construct a decision tree.  Relevant features were selected using an exhaustive search in the space of 1-4 features and 1-3 separating planes.\\r\\n\\r\\nThe actual linear program used to obtain the separating plane in the 3-dimensional space is that described in: [K. P. Bennett and O. L. Mangasarian: \"Robust Linear Programming Discrimination of Two Linearly Inseparable Sets\", Optimization Methods and Software 1, 1992, 23-34].\\r\\n\\r\\nThis database is also available through the UW CS ftp server:\\r\\nftp ftp.cs.wisc.edu\\r\\ncd math-prog/cpo-dataset/machine-learn/WDBC/', 'purpose': None, 'funded_by': None, 'instances_represent': None, 'recommended_data_splits': None, 'sensitive_data': None, 'preprocessing_description': None, 'variable_info': '1) ID number\\r\\n2) Diagnosis (M = malignant, B = benign)\\r\\n3-32)\\r\\n\\r\\nTen real-valued features are computed for each cell nucleus:\\r\\n\\r\\n\\ta) radius (mean of distances from center to points on the perimeter)\\r\\n\\tb) texture (standard deviation of gray-scale values)\\r\\n\\tc) perimeter\\r\\n\\td) area\\r\\n\\te) smoothness (local variation in radius lengths)\\r\\n\\tf) compactness (perimeter^2 / area - 1.0)\\r\\n\\tg) concavity (severity of concave portions of the contour)\\r\\n\\th) concave points (number of concave portions of the contour)\\r\\n\\ti) symmetry \\r\\n\\tj) fractal dimension (\"coastline approximation\" - 1)', 'citation': None}}, 'variables':                   name     role         type demographic description units  \\\n0                   ID       ID  Categorical        None        None  None   \n1            Diagnosis   Target  Categorical        None        None  None   \n2              radius1  Feature   Continuous        None        None  None   \n3             texture1  Feature   Continuous        None        None  None   \n4           perimeter1  Feature   Continuous        None        None  None   \n5                area1  Feature   Continuous        None        None  None   \n6          smoothness1  Feature   Continuous        None        None  None   \n7         compactness1  Feature   Continuous        None        None  None   \n8           concavity1  Feature   Continuous        None        None  None   \n9      concave_points1  Feature   Continuous        None        None  None   \n10           symmetry1  Feature   Continuous        None        None  None   \n11  fractal_dimension1  Feature   Continuous        None        None  None   \n12             radius2  Feature   Continuous        None        None  None   \n13            texture2  Feature   Continuous        None        None  None   \n14          perimeter2  Feature   Continuous        None        None  None   \n15               area2  Feature   Continuous        None        None  None   \n16         smoothness2  Feature   Continuous        None        None  None   \n17        compactness2  Feature   Continuous        None        None  None   \n18          concavity2  Feature   Continuous        None        None  None   \n19     concave_points2  Feature   Continuous        None        None  None   \n20           symmetry2  Feature   Continuous        None        None  None   \n21  fractal_dimension2  Feature   Continuous        None        None  None   \n22             radius3  Feature   Continuous        None        None  None   \n23            texture3  Feature   Continuous        None        None  None   \n24          perimeter3  Feature   Continuous        None        None  None   \n25               area3  Feature   Continuous        None        None  None   \n26         smoothness3  Feature   Continuous        None        None  None   \n27        compactness3  Feature   Continuous        None        None  None   \n28          concavity3  Feature   Continuous        None        None  None   \n29     concave_points3  Feature   Continuous        None        None  None   \n30           symmetry3  Feature   Continuous        None        None  None   \n31  fractal_dimension3  Feature   Continuous        None        None  None   \n\n   missing_values  \n0              no  \n1              no  \n2              no  \n3              no  \n4              no  \n5              no  \n6              no  \n7              no  \n8              no  \n9              no  \n10             no  \n11             no  \n12             no  \n13             no  \n14             no  \n15             no  \n16             no  \n17             no  \n18             no  \n19             no  \n20             no  \n21             no  \n22             no  \n23             no  \n24             no  \n25             no  \n26             no  \n27             no  \n28             no  \n29             no  \n30             no  \n31             no  }\n"
        }
      ],
      "execution_count": 5,
      "metadata": {
        "gather": {
          "logged": 1706904378591
        },
        "jupyter": {
          "outputs_hidden": false,
          "source_hidden": false
        },
        "nteract": {
          "transient": {
            "deleting": false
          }
        }
      }
    },
    {
      "cell_type": "code",
      "source": [
        "# NOTE: update the key to match the dataset name\n",
        "found = False\n",
        "key = \"BreastData3\"\n",
        "description_text = \"Bank Marketing DataSet for Udacity Course 2\"\n",
        "\n",
        "if key in ws.datasets.keys(): \n",
        "        found = True\n",
        "        dataset = ws.datasets[key] \n",
        "\n",
        "if not found:\n",
        "        # Create AML Dataset and register it into Workspace\n",
        "        example_data = 'https://raw.githubusercontent.com/samfrost23/nd00333-capstone/master/starter_file/breast-cancer.csv'\n",
        "        dataset = Dataset.Tabular.from_delimited_files(example_data)        \n",
        "        ##from train import clean_data\n",
        "        #import pandas as pd\n",
        "        #data = TabularDatasetFactory.from_delimited_files(\"https://archive.ics.uci.edu/static/public/17/data.csv\")\n",
        "        #x, y = clean_data(data)\n",
        "        #data_joined = pd.concat([x, y], axis=1)\n",
        "        \n",
        "        #Register Dataset in Workspace\n",
        "        dataset = dataset.register(workspace=ws,\n",
        "                                   name=key,\n",
        "                                   description=description_text)\n",
        "\n",
        "\n",
        "df = dataset.to_pandas_dataframe()\n",
        "df.head(5)\n",
        "df.describe()"
      ],
      "outputs": [
        {
          "output_type": "execute_result",
          "execution_count": 28,
          "data": {
            "text/plain": "                 id  radius_mean  texture_mean  perimeter_mean    area_mean  \\\ncount  5.690000e+02   569.000000    569.000000      569.000000   569.000000   \nmean   3.037183e+07    14.127292     19.289649       91.969033   654.889104   \nstd    1.250206e+08     3.524049      4.301036       24.298981   351.914129   \nmin    8.670000e+03     6.981000      9.710000       43.790000   143.500000   \n25%    8.692180e+05    11.700000     16.170000       75.170000   420.300000   \n50%    9.060240e+05    13.370000     18.840000       86.240000   551.100000   \n75%    8.813129e+06    15.780000     21.800000      104.100000   782.700000   \nmax    9.113205e+08    28.110000     39.280000      188.500000  2501.000000   \n\n       smoothness_mean  compactness_mean  concavity_mean  concave points_mean  \\\ncount       569.000000        569.000000      569.000000           569.000000   \nmean          0.096360          0.104341        0.088799             0.048919   \nstd           0.014064          0.052813        0.079720             0.038803   \nmin           0.052630          0.019380        0.000000             0.000000   \n25%           0.086370          0.064920        0.029560             0.020310   \n50%           0.095870          0.092630        0.061540             0.033500   \n75%           0.105300          0.130400        0.130700             0.074000   \nmax           0.163400          0.345400        0.426800             0.201200   \n\n       symmetry_mean  ...  radius_worst  texture_worst  perimeter_worst  \\\ncount     569.000000  ...    569.000000     569.000000       569.000000   \nmean        0.181162  ...     16.269190      25.677223       107.261213   \nstd         0.027414  ...      4.833242       6.146258        33.602542   \nmin         0.106000  ...      7.930000      12.020000        50.410000   \n25%         0.161900  ...     13.010000      21.080000        84.110000   \n50%         0.179200  ...     14.970000      25.410000        97.660000   \n75%         0.195700  ...     18.790000      29.720000       125.400000   \nmax         0.304000  ...     36.040000      49.540000       251.200000   \n\n        area_worst  smoothness_worst  compactness_worst  concavity_worst  \\\ncount   569.000000        569.000000         569.000000       569.000000   \nmean    880.583128          0.132369           0.254265         0.272188   \nstd     569.356993          0.022832           0.157336         0.208624   \nmin     185.200000          0.071170           0.027290         0.000000   \n25%     515.300000          0.116600           0.147200         0.114500   \n50%     686.500000          0.131300           0.211900         0.226700   \n75%    1084.000000          0.146000           0.339100         0.382900   \nmax    4254.000000          0.222600           1.058000         1.252000   \n\n       concave points_worst  symmetry_worst  fractal_dimension_worst  \ncount            569.000000      569.000000               569.000000  \nmean               0.114606        0.290076                 0.083946  \nstd                0.065732        0.061867                 0.018061  \nmin                0.000000        0.156500                 0.055040  \n25%                0.064930        0.250400                 0.071460  \n50%                0.099930        0.282200                 0.080040  \n75%                0.161400        0.317900                 0.092080  \nmax                0.291000        0.663800                 0.207500  \n\n[8 rows x 31 columns]",
            "text/html": "<div>\n<style scoped>\n    .dataframe tbody tr th:only-of-type {\n        vertical-align: middle;\n    }\n\n    .dataframe tbody tr th {\n        vertical-align: top;\n    }\n\n    .dataframe thead th {\n        text-align: right;\n    }\n</style>\n<table border=\"1\" class=\"dataframe\">\n  <thead>\n    <tr style=\"text-align: right;\">\n      <th></th>\n      <th>id</th>\n      <th>radius_mean</th>\n      <th>texture_mean</th>\n      <th>perimeter_mean</th>\n      <th>area_mean</th>\n      <th>smoothness_mean</th>\n      <th>compactness_mean</th>\n      <th>concavity_mean</th>\n      <th>concave points_mean</th>\n      <th>symmetry_mean</th>\n      <th>...</th>\n      <th>radius_worst</th>\n      <th>texture_worst</th>\n      <th>perimeter_worst</th>\n      <th>area_worst</th>\n      <th>smoothness_worst</th>\n      <th>compactness_worst</th>\n      <th>concavity_worst</th>\n      <th>concave points_worst</th>\n      <th>symmetry_worst</th>\n      <th>fractal_dimension_worst</th>\n    </tr>\n  </thead>\n  <tbody>\n    <tr>\n      <th>count</th>\n      <td>5.690000e+02</td>\n      <td>569.000000</td>\n      <td>569.000000</td>\n      <td>569.000000</td>\n      <td>569.000000</td>\n      <td>569.000000</td>\n      <td>569.000000</td>\n      <td>569.000000</td>\n      <td>569.000000</td>\n      <td>569.000000</td>\n      <td>...</td>\n      <td>569.000000</td>\n      <td>569.000000</td>\n      <td>569.000000</td>\n      <td>569.000000</td>\n      <td>569.000000</td>\n      <td>569.000000</td>\n      <td>569.000000</td>\n      <td>569.000000</td>\n      <td>569.000000</td>\n      <td>569.000000</td>\n    </tr>\n    <tr>\n      <th>mean</th>\n      <td>3.037183e+07</td>\n      <td>14.127292</td>\n      <td>19.289649</td>\n      <td>91.969033</td>\n      <td>654.889104</td>\n      <td>0.096360</td>\n      <td>0.104341</td>\n      <td>0.088799</td>\n      <td>0.048919</td>\n      <td>0.181162</td>\n      <td>...</td>\n      <td>16.269190</td>\n      <td>25.677223</td>\n      <td>107.261213</td>\n      <td>880.583128</td>\n      <td>0.132369</td>\n      <td>0.254265</td>\n      <td>0.272188</td>\n      <td>0.114606</td>\n      <td>0.290076</td>\n      <td>0.083946</td>\n    </tr>\n    <tr>\n      <th>std</th>\n      <td>1.250206e+08</td>\n      <td>3.524049</td>\n      <td>4.301036</td>\n      <td>24.298981</td>\n      <td>351.914129</td>\n      <td>0.014064</td>\n      <td>0.052813</td>\n      <td>0.079720</td>\n      <td>0.038803</td>\n      <td>0.027414</td>\n      <td>...</td>\n      <td>4.833242</td>\n      <td>6.146258</td>\n      <td>33.602542</td>\n      <td>569.356993</td>\n      <td>0.022832</td>\n      <td>0.157336</td>\n      <td>0.208624</td>\n      <td>0.065732</td>\n      <td>0.061867</td>\n      <td>0.018061</td>\n    </tr>\n    <tr>\n      <th>min</th>\n      <td>8.670000e+03</td>\n      <td>6.981000</td>\n      <td>9.710000</td>\n      <td>43.790000</td>\n      <td>143.500000</td>\n      <td>0.052630</td>\n      <td>0.019380</td>\n      <td>0.000000</td>\n      <td>0.000000</td>\n      <td>0.106000</td>\n      <td>...</td>\n      <td>7.930000</td>\n      <td>12.020000</td>\n      <td>50.410000</td>\n      <td>185.200000</td>\n      <td>0.071170</td>\n      <td>0.027290</td>\n      <td>0.000000</td>\n      <td>0.000000</td>\n      <td>0.156500</td>\n      <td>0.055040</td>\n    </tr>\n    <tr>\n      <th>25%</th>\n      <td>8.692180e+05</td>\n      <td>11.700000</td>\n      <td>16.170000</td>\n      <td>75.170000</td>\n      <td>420.300000</td>\n      <td>0.086370</td>\n      <td>0.064920</td>\n      <td>0.029560</td>\n      <td>0.020310</td>\n      <td>0.161900</td>\n      <td>...</td>\n      <td>13.010000</td>\n      <td>21.080000</td>\n      <td>84.110000</td>\n      <td>515.300000</td>\n      <td>0.116600</td>\n      <td>0.147200</td>\n      <td>0.114500</td>\n      <td>0.064930</td>\n      <td>0.250400</td>\n      <td>0.071460</td>\n    </tr>\n    <tr>\n      <th>50%</th>\n      <td>9.060240e+05</td>\n      <td>13.370000</td>\n      <td>18.840000</td>\n      <td>86.240000</td>\n      <td>551.100000</td>\n      <td>0.095870</td>\n      <td>0.092630</td>\n      <td>0.061540</td>\n      <td>0.033500</td>\n      <td>0.179200</td>\n      <td>...</td>\n      <td>14.970000</td>\n      <td>25.410000</td>\n      <td>97.660000</td>\n      <td>686.500000</td>\n      <td>0.131300</td>\n      <td>0.211900</td>\n      <td>0.226700</td>\n      <td>0.099930</td>\n      <td>0.282200</td>\n      <td>0.080040</td>\n    </tr>\n    <tr>\n      <th>75%</th>\n      <td>8.813129e+06</td>\n      <td>15.780000</td>\n      <td>21.800000</td>\n      <td>104.100000</td>\n      <td>782.700000</td>\n      <td>0.105300</td>\n      <td>0.130400</td>\n      <td>0.130700</td>\n      <td>0.074000</td>\n      <td>0.195700</td>\n      <td>...</td>\n      <td>18.790000</td>\n      <td>29.720000</td>\n      <td>125.400000</td>\n      <td>1084.000000</td>\n      <td>0.146000</td>\n      <td>0.339100</td>\n      <td>0.382900</td>\n      <td>0.161400</td>\n      <td>0.317900</td>\n      <td>0.092080</td>\n    </tr>\n    <tr>\n      <th>max</th>\n      <td>9.113205e+08</td>\n      <td>28.110000</td>\n      <td>39.280000</td>\n      <td>188.500000</td>\n      <td>2501.000000</td>\n      <td>0.163400</td>\n      <td>0.345400</td>\n      <td>0.426800</td>\n      <td>0.201200</td>\n      <td>0.304000</td>\n      <td>...</td>\n      <td>36.040000</td>\n      <td>49.540000</td>\n      <td>251.200000</td>\n      <td>4254.000000</td>\n      <td>0.222600</td>\n      <td>1.058000</td>\n      <td>1.252000</td>\n      <td>0.291000</td>\n      <td>0.663800</td>\n      <td>0.207500</td>\n    </tr>\n  </tbody>\n</table>\n<p>8 rows × 31 columns</p>\n</div>"
          },
          "metadata": {}
        }
      ],
      "execution_count": 28,
      "metadata": {
        "gather": {
          "logged": 1706962863826
        },
        "jupyter": {
          "outputs_hidden": false,
          "source_hidden": false
        },
        "nteract": {
          "transient": {
            "deleting": false
          }
        }
      }
    },
    {
      "cell_type": "markdown",
      "source": [
        "## AutoML Configuration\n",
        "\n",
        "TODO: Explain why you chose the automl settings and cofiguration you used below."
      ],
      "metadata": {}
    },
    {
      "cell_type": "code",
      "source": [
        "# TODO: Put your automl settings here\n",
        "automl_settings = {\n",
        "    \"experiment_timeout_minutes\": 20,\n",
        "    \"max_concurrent_iterations\": 4,\n",
        "    \"n_cross_validations\": 5,\n",
        "    \"primary_metric\" : 'AUC_weighted'\n",
        "}\n",
        "\n",
        "# TODO: Put your automl config here\n",
        "automl_config = AutoMLConfig(compute_target=compute_target,\n",
        "                             task = \"classification\",\n",
        "                             training_data=dataset,\n",
        "                             label_column_name=\"diagnosis\",   \n",
        "                             path = project_folder,\n",
        "                             enable_early_stopping= True,\n",
        "                             #enable_onnx_compatible_models=True,\n",
        "                             featurization= 'auto',\n",
        "                             debug_log = \"automl_errors.log\",\n",
        "                             **automl_settings\n",
        "                            )\n"
      ],
      "outputs": [],
      "execution_count": 36,
      "metadata": {
        "gather": {
          "logged": 1706963303382
        },
        "jupyter": {
          "outputs_hidden": false,
          "source_hidden": false
        },
        "nteract": {
          "transient": {
            "deleting": false
          }
        }
      }
    },
    {
      "cell_type": "code",
      "source": [
        "# Submit experiment\n",
        "from azureml.widgets import RunDetails\n",
        "remote_run = experiment.submit(automl_config)\n",
        "RunDetails(remote_run).show()\n",
        "remote_run.wait_for_completion(show_output=True)\n"
      ],
      "outputs": [
        {
          "output_type": "stream",
          "name": "stdout",
          "text": "Submitting remote run.\n"
        },
        {
          "output_type": "display_data",
          "data": {
            "text/html": "<table style=\"width:100%\"><tr><th>Experiment</th><th>Id</th><th>Type</th><th>Status</th><th>Details Page</th><th>Docs Page</th></tr><tr><td>BreastCancer-Experiment</td><td>AutoML_c758c99e-8bff-4ff0-a0dc-282052e4873b</td><td>automl</td><td>NotStarted</td><td><a href=\"https://ml.azure.com/runs/AutoML_c758c99e-8bff-4ff0-a0dc-282052e4873b?wsid=/subscriptions/b968fb36-f06a-4c76-a15f-afab68ae7667/resourcegroups/aml-quickstarts-251498/workspaces/quick-starts-ws-251498&amp;tid=660b3398-b80e-49d2-bc5b-ac1dc93b5254\" target=\"_blank\" rel=\"noopener\">Link to Azure Machine Learning studio</a></td><td><a href=\"https://docs.microsoft.com/en-us/python/api/overview/azure/ml/intro?view=azure-ml-py\" target=\"_blank\" rel=\"noopener\">Link to Documentation</a></td></tr></table>"
          },
          "metadata": {}
        },
        {
          "output_type": "display_data",
          "data": {
            "text/plain": "_AutoMLWidget(widget_settings={'childWidgetDisplay': 'popup', 'send_telemetry': False, 'log_level': 'INFO', 's…",
            "application/vnd.jupyter.widget-view+json": {
              "version_major": 2,
              "version_minor": 0,
              "model_id": "df770e87965f4c28834cd3c8a68b005c"
            }
          },
          "metadata": {}
        },
        {
          "output_type": "display_data",
          "data": {
            "application/aml.mini.widget.v1": "{\"status\": \"Completed\", \"workbench_run_details_uri\": \"https://ml.azure.com/runs/AutoML_c758c99e-8bff-4ff0-a0dc-282052e4873b?wsid=/subscriptions/b968fb36-f06a-4c76-a15f-afab68ae7667/resourcegroups/aml-quickstarts-251498/workspaces/quick-starts-ws-251498&tid=660b3398-b80e-49d2-bc5b-ac1dc93b5254\", \"run_id\": \"AutoML_c758c99e-8bff-4ff0-a0dc-282052e4873b\", \"run_properties\": {\"run_id\": \"AutoML_c758c99e-8bff-4ff0-a0dc-282052e4873b\", \"created_utc\": \"2024-02-03T12:28:27.962129Z\", \"properties\": {\"num_iterations\": \"1000\", \"training_type\": \"TrainFull\", \"acquisition_function\": \"EI\", \"primary_metric\": \"AUC_weighted\", \"train_split\": \"0\", \"acquisition_parameter\": \"0\", \"num_cross_validation\": \"5\", \"target\": \"azurecapstone-project\", \"AMLSettingsJsonString\": \"{\\\"path\\\":null,\\\"name\\\":\\\"BreastCancer-Experiment\\\",\\\"subscription_id\\\":\\\"b968fb36-f06a-4c76-a15f-afab68ae7667\\\",\\\"resource_group\\\":\\\"aml-quickstarts-251498\\\",\\\"workspace_name\\\":\\\"quick-starts-ws-251498\\\",\\\"region\\\":\\\"westeurope\\\",\\\"compute_target\\\":\\\"azurecapstone-project\\\",\\\"spark_service\\\":null,\\\"azure_service\\\":\\\"remote\\\",\\\"many_models\\\":false,\\\"pipeline_fetch_max_batch_size\\\":1,\\\"enable_batch_run\\\":true,\\\"enable_parallel_run\\\":false,\\\"num_procs\\\":null,\\\"enable_run_restructure\\\":false,\\\"start_auxiliary_runs_before_parent_complete\\\":false,\\\"enable_code_generation\\\":true,\\\"iterations\\\":1000,\\\"primary_metric\\\":\\\"AUC_weighted\\\",\\\"task_type\\\":\\\"classification\\\",\\\"positive_label\\\":null,\\\"data_script\\\":null,\\\"test_size\\\":0.0,\\\"test_include_predictions_only\\\":false,\\\"validation_size\\\":0.0,\\\"n_cross_validations\\\":5,\\\"y_min\\\":null,\\\"y_max\\\":null,\\\"num_classes\\\":null,\\\"featurization\\\":\\\"auto\\\",\\\"_ignore_package_version_incompatibilities\\\":false,\\\"is_timeseries\\\":false,\\\"max_cores_per_iteration\\\":1,\\\"max_concurrent_iterations\\\":4,\\\"iteration_timeout_minutes\\\":null,\\\"mem_in_mb\\\":null,\\\"enforce_time_on_windows\\\":false,\\\"experiment_timeout_minutes\\\":20,\\\"experiment_exit_score\\\":null,\\\"partition_column_names\\\":null,\\\"whitelist_models\\\":null,\\\"blacklist_algos\\\":[\\\"TensorFlowLinearClassifier\\\",\\\"TensorFlowDNN\\\"],\\\"supported_models\\\":[\\\"SGD\\\",\\\"LinearSVM\\\",\\\"LogisticRegression\\\",\\\"ExtremeRandomTrees\\\",\\\"TensorFlowDNN\\\",\\\"DecisionTree\\\",\\\"TensorFlowLinearClassifier\\\",\\\"MultinomialNaiveBayes\\\",\\\"TabnetClassifier\\\",\\\"GradientBoosting\\\",\\\"KNN\\\",\\\"SVM\\\",\\\"AveragedPerceptronClassifier\\\",\\\"XGBoostClassifier\\\",\\\"LightGBM\\\",\\\"BernoulliNaiveBayes\\\",\\\"RandomForest\\\"],\\\"private_models\\\":[],\\\"auto_blacklist\\\":true,\\\"blacklist_samples_reached\\\":false,\\\"exclude_nan_labels\\\":true,\\\"verbosity\\\":20,\\\"_debug_log\\\":\\\"azureml_automl.log\\\",\\\"show_warnings\\\":false,\\\"model_explainability\\\":true,\\\"service_url\\\":null,\\\"sdk_url\\\":null,\\\"sdk_packages\\\":null,\\\"enable_onnx_compatible_models\\\":false,\\\"enable_split_onnx_featurizer_estimator_models\\\":false,\\\"vm_type\\\":\\\"STANDARD_D2_V2\\\",\\\"telemetry_verbosity\\\":20,\\\"send_telemetry\\\":true,\\\"enable_dnn\\\":false,\\\"scenario\\\":\\\"AutoML\\\",\\\"environment_label\\\":null,\\\"save_mlflow\\\":false,\\\"enable_categorical_indicators\\\":false,\\\"force_text_dnn\\\":false,\\\"enable_feature_sweeping\\\":true,\\\"enable_early_stopping\\\":true,\\\"early_stopping_n_iters\\\":10,\\\"arguments\\\":null,\\\"dataset_id\\\":\\\"0de2f4ea-1f38-4a44-8283-31a47a501ba8\\\",\\\"hyperdrive_config\\\":null,\\\"validation_dataset_id\\\":null,\\\"run_source\\\":null,\\\"metrics\\\":null,\\\"enable_metric_confidence\\\":false,\\\"enable_ensembling\\\":true,\\\"enable_stack_ensembling\\\":true,\\\"ensemble_iterations\\\":15,\\\"enable_tf\\\":false,\\\"enable_subsampling\\\":null,\\\"subsample_seed\\\":null,\\\"enable_nimbusml\\\":false,\\\"enable_streaming\\\":false,\\\"force_streaming\\\":false,\\\"track_child_runs\\\":true,\\\"n_best_runs\\\":1,\\\"allowed_private_models\\\":[],\\\"label_column_name\\\":\\\"diagnosis\\\",\\\"weight_column_name\\\":null,\\\"cv_split_column_names\\\":null,\\\"enable_local_managed\\\":false,\\\"_local_managed_run_id\\\":null,\\\"cost_mode\\\":1,\\\"lag_length\\\":0,\\\"metric_operation\\\":\\\"maximize\\\",\\\"preprocess\\\":true}\", \"DataPrepJsonString\": \"{\\\\\\\"training_data\\\\\\\": {\\\\\\\"datasetId\\\\\\\": \\\\\\\"0de2f4ea-1f38-4a44-8283-31a47a501ba8\\\\\\\"}, \\\\\\\"datasets\\\\\\\": 0}\", \"EnableSubsampling\": null, \"runTemplate\": \"AutoML\", \"azureml.runsource\": \"automl\", \"display_task_type\": \"classification\", \"dependencies_versions\": \"{\\\"azureml-dataprep-native\\\": \\\"38.0.0\\\", \\\"azureml-dataprep\\\": \\\"4.10.8\\\", \\\"azureml-dataprep-rslex\\\": \\\"2.17.12\\\", \\\"azureml-train-automl-runtime\\\": \\\"1.51.0.post2\\\", \\\"azureml-train-automl-client\\\": \\\"1.51.0.post1\\\", \\\"azureml-training-tabular\\\": \\\"1.51.0.post1\\\", \\\"azureml-automl-runtime\\\": \\\"1.51.0.post1\\\", \\\"azureml-automl-core\\\": \\\"1.51.0.post1\\\", \\\"azureml-mlflow\\\": \\\"1.51.0\\\", \\\"azureml-datadrift\\\": \\\"1.51.0\\\", \\\"azureml-pipeline\\\": \\\"1.51.0\\\", \\\"azureml-contrib-dataset\\\": \\\"1.51.0\\\", \\\"azureml-contrib-notebook\\\": \\\"1.51.0\\\", \\\"azureml-accel-models\\\": \\\"1.51.0\\\", \\\"azureml-automl-dnn-nlp\\\": \\\"1.51.0\\\", \\\"azureml-pipeline-core\\\": \\\"1.51.0\\\", \\\"azureml-responsibleai\\\": \\\"1.51.0\\\", \\\"azureml-contrib-automl-pipeline-steps\\\": \\\"1.51.0\\\", \\\"azureml-pipeline-steps\\\": \\\"1.51.0\\\", \\\"azureml-core\\\": \\\"1.51.0\\\", \\\"azureml-contrib-reinforcementlearning\\\": \\\"1.51.0\\\", \\\"azureml-contrib-server\\\": \\\"1.51.0\\\", \\\"azureml-opendatasets\\\": \\\"1.51.0\\\", \\\"azureml-contrib-services\\\": \\\"1.51.0\\\", \\\"azureml-telemetry\\\": \\\"1.51.0\\\", \\\"azureml-train-restclients-hyperdrive\\\": \\\"1.51.0\\\", \\\"azureml-interpret\\\": \\\"1.51.0\\\", \\\"azureml-train-core\\\": \\\"1.51.0\\\", \\\"azureml-tensorboard\\\": \\\"1.51.0\\\", \\\"azureml-train\\\": \\\"1.51.0\\\", \\\"azureml-contrib-pipeline-steps\\\": \\\"1.51.0\\\", \\\"azureml-explain-model\\\": \\\"1.51.0\\\", \\\"azureml-cli-common\\\": \\\"1.51.0\\\", \\\"azureml-widgets\\\": \\\"1.51.0\\\", \\\"azureml-train-automl\\\": \\\"1.51.0\\\", \\\"azureml-defaults\\\": \\\"1.51.0\\\", \\\"azureml-contrib-fairness\\\": \\\"1.51.0\\\", \\\"azureml-sdk\\\": \\\"1.51.0\\\", \\\"azureml-dataset-runtime\\\": \\\"1.51.0\\\", \\\"azureml-inference-server-http\\\": \\\"0.8.4\\\"}\", \"_aml_system_scenario_identification\": \"Remote.Parent\", \"ClientType\": \"SDK\", \"PlatformVersion\": \"DPV1\", \"environment_cpu_name\": \"AzureML-AutoML\", \"environment_cpu_label\": \"scikit-upgrade2\", \"environment_gpu_name\": \"AzureML-AutoML-GPU\", \"environment_gpu_label\": \"scikit-upgrade2\", \"root_attribution\": \"automl\", \"attribution\": \"AutoML\", \"Orchestrator\": \"AutoML\", \"CancelUri\": \"https://westeurope.api.azureml.ms/jasmine/v1.0/subscriptions/b968fb36-f06a-4c76-a15f-afab68ae7667/resourceGroups/aml-quickstarts-251498/providers/Microsoft.MachineLearningServices/workspaces/quick-starts-ws-251498/experimentids/5b05bb45-e117-47b5-ae9e-a0e15bb386c2/cancel/AutoML_c758c99e-8bff-4ff0-a0dc-282052e4873b\", \"ClientSdkVersion\": null, \"snapshotId\": \"00000000-0000-0000-0000-000000000000\", \"SetupRunId\": \"AutoML_c758c99e-8bff-4ff0-a0dc-282052e4873b_setup\", \"SetupRunContainerId\": \"dcid.AutoML_c758c99e-8bff-4ff0-a0dc-282052e4873b_setup\", \"FeaturizationRunJsonPath\": \"featurizer_container.json\", \"FeaturizationRunId\": \"AutoML_c758c99e-8bff-4ff0-a0dc-282052e4873b_featurize\", \"ProblemInfoJsonString\": \"{\\\"dataset_num_categorical\\\": 0, \\\"is_sparse\\\": false, \\\"subsampling\\\": false, \\\"has_extra_col\\\": true, \\\"dataset_classes\\\": 2, \\\"dataset_features\\\": 31, \\\"dataset_samples\\\": 569, \\\"single_frequency_class_detected\\\": false}\", \"ModelExplainRunId\": \"AutoML_c758c99e-8bff-4ff0-a0dc-282052e4873b_ModelExplain\"}, \"tags\": {\"model_explain_run\": \"best_run\", \"_aml_system_automl_run_workspace_id\": \"71088719-bd7c-4e2a-88ea-6b46f8f6ea22\", \"_aml_system_azureml.automlComponent\": \"AutoML\", \"pipeline_id_000\": \"5dfac790c5c209f98a1da2dc1c7fb76f0397324f;c7af0367625be6ac5c2fecbfc72ed444cb7a2111;51ae05309834b29f71340af1008fc94fbd8213f4;ce2643edf3d450b10c86c7d034a9bc952dc282d3;a18bd1af1629e8f96b25a32ac94e62b3bd9a9605;039a99c3d5147edeb525249e2660628be3e8b83f;a3dadd95854bf6116ab454844302b51d417d78b7;1dfdf370ba770047b14bfa59c40920815defcdab;516a24fb1445632ecf04366c17b960ce157878b3;e92a63ad06df7b68a48ce96c06fad3fbf2a25ce2;088b94df63b852cc8cba96bb2fa191ce8d1ef2e5;5bc24cef89e67ee668d55e59548e1032cfbc7f0f;681a59302459aec2cc115ddbc14e1d28f4b3b8df;294650ec23bc3d067a4972de7ceb12f6e97260fa;4f207270c6817858b81b8050f1efa1d0053db52e;634afb4b36be9286ca21289f56b5f7cdf1c72fa9;7ea0a64582be36507254a026ac98e9a5a49e1f34;b983b703e4d6dbffd4a815a4d1c2ed94225c5027;6f4a466f84f725a47910c1dff062a1bb46df2a21;dea7fdbaedc77258dbfe31dbfed41e768ca38939;c74787cd2f0507b852a1ac70d504d83ac9bdec83;a72eb56f3d4aadb7b7f0149ba6e5f05657a95ca1;9610149fbcf43017aa810a290e9c04cbe6fa8684;a7434e890cabef86b0ce4ae71fb633e1e92b854d;1e38ae92baee19b18f211a8b14c16015d5ee3dc3;c1e43884338b986d80aa81e319906344eb27c2e0;147303e7e2d6e72437aad5c3c3751cb680cf2ab8;f3a3575b457f4241b1211fea81aac986e5685fee;2aa41acf133c6478770be628f9aa2251111947cc;ee6442312164321d1328c44e980bce4c8b3e250a;55609b63cef82650f347f75f468356428beb60fc;ce53dab0ef7db9e336845bc0803def0534aa2ef0;32db2a9e32a802c1b6abe8193754160eaf6c3813;64fb49efe514abb65dd69469e46129585f6960cd;be29578b5ff5dc76802e7610f76d72d938431083;__AutoML_Stack_Ensemble__;__AutoML_Ensemble__\", \"score_000\": \"0.9931983676407905;0.9941429596242175;0.988257150871328;0.9885652659175186;0.8778468450761532;0.9896363115568763;0.9801271173135481;0.9713497558377562;0.98455918576333;0.9893355119223137;0.9927507801294124;0.9814879450173107;0.9762847059936932;0.9884932298093849;0.9895369405969479;0.9678706383444983;0.9912888228322387;0.9870659864423589;0.9637173667512862;0.9925325886366794;0.99187374186338;0.9887016500134802;0.9876877333979129;0.992152953900965;0.9856513683410324;0.996280239393554;0.9961171299986329;0.994172772463692;0.9940013587581007;0.9895565351148992;0.9851578122938347;NaN;NaN;NaN;0.9949250752106563;0.9968440832428775;0.9972353704622667\", \"predicted_cost_000\": \"0;0;0.5;0.5;0.5;0.5;0.5;0.5;0.5;0.5;0.5;0.5;0.5;0.5;0.5;0.5;0.5;0.5;0.5;0.5;0.06382667268450709;0.015213663188496176;0.14988138209103413;0.5519162601022677;0.2998931942317501;0.03339436948798053;1.2585549473849131;0.014168129105200034;0.26633649785548774;0.08288036614777339;0.8311706690575422;0.13616049714065043;0.17535767063718868;0.2763032462082147;0.23172240265415617;0;0\", \"fit_time_000\": \"0.187655;0.108443;0.019639800000000002;0.026209;0.006500000000000001;0.0218652;0.029987000000000003;0.26225760000000004;0.0453488;0.017893;0.0270718;0.1834946;0.034220799999999996;0.0246778;0.0981796;0.005640000000000001;0.040993800000000004;0.042093000000000005;0.027161200000000003;0.5570116;0.051832;0.2448554;0.0389964;0.3230244;0.055932;0.052920800000000004;0.4142398;0.0338488;0.1339794;0.05649620000000001;1.8407854000000001;NaN;NaN;NaN;1200;23;20\", \"training_percent_000\": \"100;100;100;100;100;100;100;100;100;100;100;100;100;100;100;100;100;100;100;100;100;100;100;100;100;100;100;100;100;100;100;100;100;100;100;100;100\", \"iteration_000\": \"0;1;2;3;5;4;6;7;10;8;11;9;15;12;16;13;17;14;18;19;20;21;22;24;23;26;25;27;28;29;30;34;33;32;31;36;35\", \"run_preprocessor_000\": \"MaxAbsScaler;MaxAbsScaler;MaxAbsScaler;MaxAbsScaler;StandardScalerWrapper;StandardScalerWrapper;SparseNormalizer;SparseNormalizer;StandardScalerWrapper;RobustScaler;StandardScalerWrapper;MinMaxScaler;SparseNormalizer;StandardScalerWrapper;MinMaxScaler;SparseNormalizer;MinMaxScaler;RobustScaler;SparseNormalizer;MaxAbsScaler;StandardScalerWrapper;StandardScalerWrapper;MaxAbsScaler;StandardScalerWrapper;MaxAbsScaler;MaxAbsScaler;StandardScalerWrapper;MinMaxScaler;StandardScalerWrapper;RobustScaler;MaxAbsScaler;;;;StandardScalerWrapper;;\", \"run_algorithm_000\": \"LightGBM;XGBoostClassifier;ExtremeRandomTrees;RandomForest;KNN;LightGBM;XGBoostClassifier;RandomForest;LogisticRegression;KNN;SVM;RandomForest;XGBoostClassifier;XGBoostClassifier;ExtremeRandomTrees;KNN;ExtremeRandomTrees;ExtremeRandomTrees;LightGBM;ExtremeRandomTrees;XGBoostClassifier;RandomForest;LightGBM;ExtremeRandomTrees;LogisticRegression;LogisticRegression;XGBoostClassifier;LogisticRegression;LightGBM;LogisticRegression;RandomForest;;;;GradientBoosting;StackEnsemble;VotingEnsemble\", \"dynamic_allowlisting_iterations\": \"<25>;<29>;\", \"_aml_system_azureml.automl_early_exit_message\": \"Experiment timeout reached, hence experiment stopped. Current experiment timeout: 0 hour(s) 20 minute(s)\", \"automl_best_child_run_id\": \"AutoML_c758c99e-8bff-4ff0-a0dc-282052e4873b_35\", \"model_explain_best_run_child_id\": \"AutoML_c758c99e-8bff-4ff0-a0dc-282052e4873b_35\"}, \"end_time_utc\": \"2024-02-03T12:56:55.597887Z\", \"status\": \"Completed\", \"log_files\": {}, \"log_groups\": [], \"run_duration\": \"0:28:27\", \"run_number\": \"1706963307\", \"run_queued_details\": {\"status\": \"Completed\", \"details\": null}}, \"child_runs\": [{\"run_id\": \"AutoML_c758c99e-8bff-4ff0-a0dc-282052e4873b_setup\", \"run_number\": 1706963320, \"metric\": null, \"status\": \"Completed\", \"run_type\": \"azureml.scriptrun\", \"training_percent\": null, \"start_time\": \"2024-02-03T12:30:48.602127Z\", \"end_time\": \"2024-02-03T12:31:28.516968Z\", \"created_time\": \"2024-02-03T12:28:40.674837Z\", \"created_time_dt\": \"2024-02-03T12:28:40.674837Z\", \"duration\": \"0:02:47\", \"iteration\": null, \"goal\": null, \"run_name\": \"Completed\", \"run_properties\": null}, {\"run_id\": \"AutoML_c758c99e-8bff-4ff0-a0dc-282052e4873b_featurize\", \"run_number\": 1706963488, \"metric\": null, \"status\": \"Completed\", \"run_type\": \"automl.featurization\", \"training_percent\": null, \"start_time\": \"2024-02-03T12:31:29.383089Z\", \"end_time\": \"2024-02-03T12:33:15.563822Z\", \"created_time\": \"2024-02-03T12:31:28.894049Z\", \"created_time_dt\": \"2024-02-03T12:31:28.894049Z\", \"duration\": \"0:01:46\", \"iteration\": null, \"goal\": null, \"run_name\": \"Completed\", \"run_properties\": null}, {\"run_id\": \"AutoML_c758c99e-8bff-4ff0-a0dc-282052e4873b_0\", \"run_number\": 1706963597, \"metric\": null, \"status\": \"Completed\", \"run_type\": null, \"training_percent\": \"100\", \"start_time\": \"2024-02-03T12:35:35.40344Z\", \"end_time\": \"2024-02-03T12:35:51.252237Z\", \"created_time\": \"2024-02-03T12:33:17.13497Z\", \"created_time_dt\": \"2024-02-03T12:33:17.13497Z\", \"duration\": \"0:02:34\", \"iteration\": \"0\", \"goal\": \"AUC_weighted_max\", \"run_name\": \"MaxAbsScaler, LightGBM\", \"run_properties\": \"copy=True\", \"primary_metric\": 0.99319837, \"best_metric\": 0.99319837}, {\"run_id\": \"AutoML_c758c99e-8bff-4ff0-a0dc-282052e4873b_2\", \"run_number\": 1706963598, \"metric\": null, \"status\": \"Completed\", \"run_type\": null, \"training_percent\": \"100\", \"start_time\": \"2024-02-03T12:36:06.165794Z\", \"end_time\": \"2024-02-03T12:36:18.344305Z\", \"created_time\": \"2024-02-03T12:33:18.190222Z\", \"created_time_dt\": \"2024-02-03T12:33:18.190222Z\", \"duration\": \"0:03:00\", \"iteration\": \"2\", \"goal\": \"AUC_weighted_max\", \"run_name\": \"MaxAbsScaler, ExtremeRandomTrees\", \"run_properties\": \"copy=True\", \"primary_metric\": 0.98825715, \"best_metric\": 0.99319837}, {\"run_id\": \"AutoML_c758c99e-8bff-4ff0-a0dc-282052e4873b_worker_0\", \"run_number\": 1706963599, \"metric\": null, \"status\": \"Completed\", \"run_type\": \"azureml.scriptrun\", \"training_percent\": null, \"start_time\": \"2024-02-03T12:35:23.435202Z\", \"end_time\": \"2024-02-03T12:36:54.775923Z\", \"created_time\": \"2024-02-03T12:33:19.473601Z\", \"created_time_dt\": \"2024-02-03T12:33:19.473601Z\", \"duration\": \"0:03:35\", \"iteration\": null, \"goal\": null, \"run_name\": \"Completed\", \"run_properties\": null}, {\"run_id\": \"AutoML_c758c99e-8bff-4ff0-a0dc-282052e4873b_6\", \"run_number\": 1706963600, \"metric\": null, \"status\": \"Completed\", \"run_type\": null, \"training_percent\": \"100\", \"start_time\": \"2024-02-03T12:36:35.759697Z\", \"end_time\": \"2024-02-03T12:36:47.948371Z\", \"created_time\": \"2024-02-03T12:33:20.122417Z\", \"created_time_dt\": \"2024-02-03T12:33:20.122417Z\", \"duration\": \"0:03:27\", \"iteration\": \"6\", \"goal\": \"AUC_weighted_max\", \"run_name\": \"SparseNormalizer, XGBoostClassifier\", \"run_properties\": \"copy=True, norm='max'\", \"primary_metric\": 0.98012712, \"best_metric\": 0.99319837}, {\"run_id\": \"AutoML_c758c99e-8bff-4ff0-a0dc-282052e4873b_worker_1\", \"run_number\": 1706963601, \"metric\": null, \"status\": \"Completed\", \"run_type\": \"azureml.scriptrun\", \"training_percent\": null, \"start_time\": \"2024-02-03T12:36:08.888172Z\", \"end_time\": \"2024-02-03T12:37:39.94964Z\", \"created_time\": \"2024-02-03T12:33:21.758694Z\", \"created_time_dt\": \"2024-02-03T12:33:21.758694Z\", \"duration\": \"0:04:18\", \"iteration\": null, \"goal\": null, \"run_name\": \"Completed\", \"run_properties\": null}, {\"run_id\": \"AutoML_c758c99e-8bff-4ff0-a0dc-282052e4873b_10\", \"run_number\": 1706963602, \"metric\": null, \"status\": \"Completed\", \"run_type\": null, \"training_percent\": \"100\", \"start_time\": \"2024-02-03T12:36:58.888038Z\", \"end_time\": \"2024-02-03T12:37:13.263792Z\", \"created_time\": \"2024-02-03T12:33:21.995084Z\", \"created_time_dt\": \"2024-02-03T12:33:21.995084Z\", \"duration\": \"0:03:51\", \"iteration\": \"10\", \"goal\": \"AUC_weighted_max\", \"run_name\": \"StandardScalerWrapper, LogisticRegression\", \"run_properties\": \"copy=True, with_mean=True, with_std=True\", \"primary_metric\": 0.98455919, \"best_metric\": 0.99319837}, {\"run_id\": \"AutoML_c758c99e-8bff-4ff0-a0dc-282052e4873b_worker_2\", \"run_number\": 1706963603, \"metric\": null, \"status\": \"Completed\", \"run_type\": \"azureml.scriptrun\", \"training_percent\": null, \"start_time\": \"2024-02-03T12:36:47.783488Z\", \"end_time\": \"2024-02-03T12:38:15.2485Z\", \"created_time\": \"2024-02-03T12:33:23.942817Z\", \"created_time_dt\": \"2024-02-03T12:33:23.942817Z\", \"duration\": \"0:04:51\", \"iteration\": null, \"goal\": null, \"run_name\": \"Completed\", \"run_properties\": null}, {\"run_id\": \"AutoML_c758c99e-8bff-4ff0-a0dc-282052e4873b_15\", \"run_number\": 1706963604, \"metric\": null, \"status\": \"Completed\", \"run_type\": null, \"training_percent\": \"100\", \"start_time\": \"2024-02-03T12:37:20.971029Z\", \"end_time\": \"2024-02-03T12:37:35.496323Z\", \"created_time\": \"2024-02-03T12:33:24.125982Z\", \"created_time_dt\": \"2024-02-03T12:33:24.125982Z\", \"duration\": \"0:04:11\", \"iteration\": \"15\", \"goal\": \"AUC_weighted_max\", \"run_name\": \"SparseNormalizer, XGBoostClassifier\", \"run_properties\": \"copy=True, norm='max'\", \"primary_metric\": 0.97628471, \"best_metric\": 0.99319837}, {\"run_id\": \"AutoML_c758c99e-8bff-4ff0-a0dc-282052e4873b_17\", \"run_number\": 1706963605, \"metric\": null, \"status\": \"Completed\", \"run_type\": null, \"training_percent\": \"100\", \"start_time\": \"2024-02-03T12:37:50.140527Z\", \"end_time\": \"2024-02-03T12:38:02.43564Z\", \"created_time\": \"2024-02-03T12:33:25.045931Z\", \"created_time_dt\": \"2024-02-03T12:33:25.045931Z\", \"duration\": \"0:04:37\", \"iteration\": \"17\", \"goal\": \"AUC_weighted_max\", \"run_name\": \"MinMaxScaler, ExtremeRandomTrees\", \"run_properties\": \"copy=True, feature_range=(0, 1\", \"primary_metric\": 0.99128882, \"best_metric\": 0.99319837}, {\"run_id\": \"AutoML_c758c99e-8bff-4ff0-a0dc-282052e4873b_worker_3\", \"run_number\": 1706963606, \"metric\": null, \"status\": \"Completed\", \"run_type\": \"azureml.scriptrun\", \"training_percent\": null, \"start_time\": \"2024-02-03T12:37:09.104777Z\", \"end_time\": \"2024-02-03T12:38:41.789707Z\", \"created_time\": \"2024-02-03T12:33:26.26702Z\", \"created_time_dt\": \"2024-02-03T12:33:26.26702Z\", \"duration\": \"0:05:15\", \"iteration\": null, \"goal\": null, \"run_name\": \"Completed\", \"run_properties\": null}, {\"run_id\": \"AutoML_c758c99e-8bff-4ff0-a0dc-282052e4873b_21\", \"run_number\": 1706963885, \"metric\": null, \"status\": \"Completed\", \"run_type\": \"azureml.scriptrun\", \"training_percent\": \"100\", \"start_time\": \"2024-02-03T12:41:22.049443Z\", \"end_time\": \"2024-02-03T12:41:56.573969Z\", \"created_time\": \"2024-02-03T12:38:05.726398Z\", \"created_time_dt\": \"2024-02-03T12:38:05.726398Z\", \"duration\": \"0:03:50\", \"iteration\": \"21\", \"goal\": \"AUC_weighted_max\", \"run_name\": \"StandardScalerWrapper, RandomForest\", \"run_properties\": \"copy=True, with_mean=False, with_std=False\", \"primary_metric\": 0.98870165, \"best_metric\": 0.99319837}, {\"run_id\": \"AutoML_c758c99e-8bff-4ff0-a0dc-282052e4873b_22\", \"run_number\": 1706963898, \"metric\": null, \"status\": \"Completed\", \"run_type\": \"azureml.scriptrun\", \"training_percent\": \"100\", \"start_time\": \"2024-02-03T12:41:46.401539Z\", \"end_time\": \"2024-02-03T12:42:20.939987Z\", \"created_time\": \"2024-02-03T12:38:18.010383Z\", \"created_time_dt\": \"2024-02-03T12:38:18.010383Z\", \"duration\": \"0:04:02\", \"iteration\": \"22\", \"goal\": \"AUC_weighted_max\", \"run_name\": \"MaxAbsScaler, LightGBM\", \"run_properties\": \"copy=True\", \"primary_metric\": 0.98768773, \"best_metric\": 0.99319837}, {\"run_id\": \"AutoML_c758c99e-8bff-4ff0-a0dc-282052e4873b_24\", \"run_number\": 1706964118, \"metric\": null, \"status\": \"Completed\", \"run_type\": \"azureml.scriptrun\", \"training_percent\": \"100\", \"start_time\": \"2024-02-03T12:45:54.626061Z\", \"end_time\": \"2024-02-03T12:46:30.387275Z\", \"created_time\": \"2024-02-03T12:41:58.561445Z\", \"created_time_dt\": \"2024-02-03T12:41:58.561445Z\", \"duration\": \"0:04:31\", \"iteration\": \"24\", \"goal\": \"AUC_weighted_max\", \"run_name\": \"StandardScalerWrapper, ExtremeRandomTrees\", \"run_properties\": \"copy=True, with_mean=False, with_std=True\", \"primary_metric\": 0.99215295, \"best_metric\": 0.99319837}, {\"run_id\": \"AutoML_c758c99e-8bff-4ff0-a0dc-282052e4873b_25\", \"run_number\": 1706964121, \"metric\": null, \"status\": \"Completed\", \"run_type\": \"azureml.scriptrun\", \"training_percent\": \"100\", \"start_time\": \"2024-02-03T12:46:24.836998Z\", \"end_time\": \"2024-02-03T12:47:01.210982Z\", \"created_time\": \"2024-02-03T12:42:01.771384Z\", \"created_time_dt\": \"2024-02-03T12:42:01.771384Z\", \"duration\": \"0:04:59\", \"iteration\": \"25\", \"goal\": \"AUC_weighted_max\", \"run_name\": \"StandardScalerWrapper, XGBoostClassifier\", \"run_properties\": \"copy=True, with_mean=False, with_std=False\", \"primary_metric\": 0.99611713, \"best_metric\": 0.99611713}, {\"run_id\": \"AutoML_c758c99e-8bff-4ff0-a0dc-282052e4873b_26\", \"run_number\": 1706964142, \"metric\": null, \"status\": \"Completed\", \"run_type\": \"azureml.scriptrun\", \"training_percent\": \"100\", \"start_time\": \"2024-02-03T12:46:25.322421Z\", \"end_time\": \"2024-02-03T12:47:01.238988Z\", \"created_time\": \"2024-02-03T12:42:22.471087Z\", \"created_time_dt\": \"2024-02-03T12:42:22.471087Z\", \"duration\": \"0:04:38\", \"iteration\": \"26\", \"goal\": \"AUC_weighted_max\", \"run_name\": \"MaxAbsScaler, LogisticRegression\", \"run_properties\": \"copy=True\", \"primary_metric\": 0.99628024, \"best_metric\": 0.99628024}, {\"run_id\": \"AutoML_c758c99e-8bff-4ff0-a0dc-282052e4873b_27\", \"run_number\": 1706964391, \"metric\": null, \"status\": \"Completed\", \"run_type\": \"azureml.scriptrun\", \"training_percent\": \"100\", \"start_time\": \"2024-02-03T12:50:01.643958Z\", \"end_time\": \"2024-02-03T12:50:35.704692Z\", \"created_time\": \"2024-02-03T12:46:31.965817Z\", \"created_time_dt\": \"2024-02-03T12:46:31.965817Z\", \"duration\": \"0:04:03\", \"iteration\": \"27\", \"goal\": \"AUC_weighted_max\", \"run_name\": \"MinMaxScaler, LogisticRegression\", \"run_properties\": \"copy=True, feature_range=(0, 1\", \"primary_metric\": 0.99417277, \"best_metric\": 0.99628024}, {\"run_id\": \"AutoML_c758c99e-8bff-4ff0-a0dc-282052e4873b_28\", \"run_number\": 1706964394, \"metric\": null, \"status\": \"Completed\", \"run_type\": \"azureml.scriptrun\", \"training_percent\": \"100\", \"start_time\": \"2024-02-03T12:50:10.843084Z\", \"end_time\": \"2024-02-03T12:50:44.916239Z\", \"created_time\": \"2024-02-03T12:46:34.076595Z\", \"created_time_dt\": \"2024-02-03T12:46:34.076595Z\", \"duration\": \"0:04:10\", \"iteration\": \"28\", \"goal\": \"AUC_weighted_max\", \"run_name\": \"StandardScalerWrapper, LightGBM\", \"run_properties\": \"copy=True, with_mean=True, with_std=True\", \"primary_metric\": 0.99400136, \"best_metric\": 0.99628024}, {\"run_id\": \"AutoML_c758c99e-8bff-4ff0-a0dc-282052e4873b_30\", \"run_number\": 1706964423, \"metric\": null, \"status\": \"Completed\", \"run_type\": \"azureml.scriptrun\", \"training_percent\": \"100\", \"start_time\": \"2024-02-03T12:50:17.199523Z\", \"end_time\": \"2024-02-03T12:51:02.724326Z\", \"created_time\": \"2024-02-03T12:47:03.587166Z\", \"created_time_dt\": \"2024-02-03T12:47:03.587166Z\", \"duration\": \"0:03:59\", \"iteration\": \"30\", \"goal\": \"AUC_weighted_max\", \"run_name\": \"MaxAbsScaler, RandomForest\", \"run_properties\": \"copy=True\", \"primary_metric\": 0.98515781, \"best_metric\": 0.99628024}, {\"run_id\": \"AutoML_c758c99e-8bff-4ff0-a0dc-282052e4873b_31\", \"run_number\": 1706964637, \"metric\": null, \"status\": \"Canceled\", \"run_type\": \"azureml.scriptrun\", \"training_percent\": \"100\", \"start_time\": \"2024-02-03T12:53:00.02392Z\", \"end_time\": \"2024-02-03T12:53:36.570101Z\", \"created_time\": \"2024-02-03T12:50:37.246475Z\", \"created_time_dt\": \"2024-02-03T12:50:37.246475Z\", \"duration\": \"0:02:59\", \"iteration\": \"31\", \"goal\": \"AUC_weighted_max\", \"run_name\": \"StandardScalerWrapper, GradientBoosting\", \"run_properties\": \"copy=True, with_mean=False, with_std=True\", \"primary_metric\": 0.99492508, \"best_metric\": 0.99628024}, {\"run_id\": \"AutoML_c758c99e-8bff-4ff0-a0dc-282052e4873b_32\", \"run_number\": 1706964646, \"metric\": null, \"status\": \"Canceled\", \"run_type\": \"azureml.scriptrun\", \"training_percent\": \"100\", \"start_time\": \"2024-02-03T12:53:31.11916Z\", \"end_time\": \"2024-02-03T12:53:34.919042Z\", \"created_time\": \"2024-02-03T12:50:46.533449Z\", \"created_time_dt\": \"2024-02-03T12:50:46.533449Z\", \"duration\": \"0:02:48\", \"iteration\": \"32\", \"goal\": null, \"run_name\": \"Canceled\", \"run_properties\": null}, {\"run_id\": \"AutoML_c758c99e-8bff-4ff0-a0dc-282052e4873b_33\", \"run_number\": 1706964656, \"metric\": null, \"status\": \"Canceled\", \"run_type\": \"azureml.scriptrun\", \"training_percent\": \"100\", \"start_time\": \"2024-02-03T12:53:31.092633Z\", \"end_time\": \"2024-02-03T12:53:33.954156Z\", \"created_time\": \"2024-02-03T12:50:56.457531Z\", \"created_time_dt\": \"2024-02-03T12:50:56.457531Z\", \"duration\": \"0:02:37\", \"iteration\": \"33\", \"goal\": null, \"run_name\": \"Canceled\", \"run_properties\": null}, {\"run_id\": \"AutoML_c758c99e-8bff-4ff0-a0dc-282052e4873b_34\", \"run_number\": 1706964664, \"metric\": null, \"status\": \"Canceled\", \"run_type\": \"azureml.scriptrun\", \"training_percent\": \"100\", \"start_time\": \"2024-02-03T12:53:31.137172Z\", \"end_time\": \"2024-02-03T12:53:33.491689Z\", \"created_time\": \"2024-02-03T12:51:04.154966Z\", \"created_time_dt\": \"2024-02-03T12:51:04.154966Z\", \"duration\": \"0:02:29\", \"iteration\": \"34\", \"goal\": null, \"run_name\": \"Canceled\", \"run_properties\": null}, {\"run_id\": \"AutoML_c758c99e-8bff-4ff0-a0dc-282052e4873b_36\", \"run_number\": 1706964817, \"metric\": null, \"status\": \"Completed\", \"run_type\": \"azureml.scriptrun\", \"training_percent\": \"100\", \"start_time\": \"2024-02-03T12:55:31.840972Z\", \"end_time\": \"2024-02-03T12:56:35.153367Z\", \"created_time\": \"2024-02-03T12:53:37.252135Z\", \"created_time_dt\": \"2024-02-03T12:53:37.252135Z\", \"duration\": \"0:02:57\", \"iteration\": \"36\", \"goal\": \"AUC_weighted_max\", \"run_name\": \"StackEnsemble\", \"run_properties\": \"base_learners=[('26', Pipeline(memory=None, steps=[('maxabsscaler', MaxAbsScaler(copy=True\", \"primary_metric\": 0.99684408, \"best_metric\": 0.99684408}], \"children_metrics\": {\"categories\": [0], \"series\": {\"precision_score_micro\": [{\"categories\": [\"0\", \"2\", \"6\", \"10\", \"15\", \"17\", \"21\", \"22\", \"24\", \"25\", \"26\", \"27\", \"28\", \"30\", \"31\", \"36\"], \"mode\": \"markers\", \"name\": \"precision_score_micro\", \"stepped\": false, \"type\": \"scatter\", \"data\": [0.964834653004192, 0.9402421984163949, 0.9261605340785592, 0.9542617605961807, 0.9297003570874087, 0.9630647414997672, 0.9578015836050303, 0.9454743052321067, 0.9648501785437043, 0.9806241266884024, 0.9736065828287532, 0.9788852662630025, 0.9665735134295916, 0.956016146561093, 0.9683278993945039, 0.9133209129017233]}, {\"categories\": [\"0\", \"2\", \"6\", \"10\", \"15\", \"17\", \"21\", \"22\", \"24\", \"25\", \"26\", \"27\", \"28\", \"30\", \"31\", \"36\"], \"mode\": \"lines\", \"name\": \"precision_score_micro_max\", \"stepped\": true, \"type\": \"scatter\", \"data\": [0.964834653004192, 0.964834653004192, 0.964834653004192, 0.964834653004192, 0.964834653004192, 0.964834653004192, 0.964834653004192, 0.964834653004192, 0.9648501785437043, 0.9806241266884024, 0.9806241266884024, 0.9806241266884024, 0.9806241266884024, 0.9806241266884024, 0.9806241266884024, 0.9806241266884024]}], \"average_precision_score_macro\": [{\"categories\": [\"0\", \"2\", \"6\", \"10\", \"15\", \"17\", \"21\", \"22\", \"24\", \"25\", \"26\", \"27\", \"28\", \"30\", \"31\", \"36\"], \"mode\": \"markers\", \"name\": \"average_precision_score_macro\", \"stepped\": false, \"type\": \"scatter\", \"data\": [0.9932713982636241, 0.9881321888865424, 0.9784487111457635, 0.982239787022186, 0.9733368766556353, 0.990565561839699, 0.9876631345743029, 0.987261816499308, 0.992178032341499, 0.996240524428341, 0.9963238063904797, 0.9946197796717575, 0.9940682021555224, 0.9840098022720788, 0.9949966713530947, 0.9970525430475817]}, {\"categories\": [\"0\", \"2\", \"6\", \"10\", \"15\", \"17\", \"21\", \"22\", \"24\", \"25\", \"26\", \"27\", \"28\", \"30\", \"31\", \"36\"], \"mode\": \"lines\", \"name\": \"average_precision_score_macro_max\", \"stepped\": true, \"type\": \"scatter\", \"data\": [0.9932713982636241, 0.9932713982636241, 0.9932713982636241, 0.9932713982636241, 0.9932713982636241, 0.9932713982636241, 0.9932713982636241, 0.9932713982636241, 0.9932713982636241, 0.996240524428341, 0.9963238063904797, 0.9963238063904797, 0.9963238063904797, 0.9963238063904797, 0.9963238063904797, 0.9970525430475817]}], \"AUC_weighted\": [{\"categories\": [\"0\", \"2\", \"6\", \"10\", \"15\", \"17\", \"21\", \"22\", \"24\", \"25\", \"26\", \"27\", \"28\", \"30\", \"31\", \"36\"], \"mode\": \"markers\", \"name\": \"AUC_weighted\", \"stepped\": false, \"type\": \"scatter\", \"data\": [0.9931983676407905, 0.988257150871328, 0.9801271173135481, 0.98455918576333, 0.9762847059936932, 0.9912888228322387, 0.9887016500134802, 0.9876877333979129, 0.992152953900965, 0.9961171299986329, 0.996280239393554, 0.994172772463692, 0.9940013587581007, 0.9851578122938347, 0.9949250752106563, 0.9968440832428775]}, {\"categories\": [\"0\", \"2\", \"6\", \"10\", \"15\", \"17\", \"21\", \"22\", \"24\", \"25\", \"26\", \"27\", \"28\", \"30\", \"31\", \"36\"], \"mode\": \"lines\", \"name\": \"AUC_weighted_max\", \"stepped\": true, \"type\": \"scatter\", \"data\": [0.9931983676407905, 0.9931983676407905, 0.9931983676407905, 0.9931983676407905, 0.9931983676407905, 0.9931983676407905, 0.9931983676407905, 0.9931983676407905, 0.9931983676407905, 0.9961171299986329, 0.996280239393554, 0.996280239393554, 0.996280239393554, 0.996280239393554, 0.996280239393554, 0.9968440832428775]}], \"AUC_micro\": [{\"categories\": [\"0\", \"2\", \"6\", \"10\", \"15\", \"17\", \"21\", \"22\", \"24\", \"25\", \"26\", \"27\", \"28\", \"30\", \"31\", \"36\"], \"mode\": \"markers\", \"name\": \"AUC_micro\", \"stepped\": false, \"type\": \"scatter\", \"data\": [0.9933396267087584, 0.9884283039094109, 0.9804464302479644, 0.9860650822613758, 0.9772205149190647, 0.9917620477379124, 0.9897370832681615, 0.9852286194145992, 0.9922489665970946, 0.996263534619868, 0.9964806270264281, 0.9949897751028823, 0.9938180644919002, 0.9870823184545345, 0.9952547457568166, 0.9638755972096066]}, {\"categories\": [\"0\", \"2\", \"6\", \"10\", \"15\", \"17\", \"21\", \"22\", \"24\", \"25\", \"26\", \"27\", \"28\", \"30\", \"31\", \"36\"], \"mode\": \"lines\", \"name\": \"AUC_micro_max\", \"stepped\": true, \"type\": \"scatter\", \"data\": [0.9933396267087584, 0.9933396267087584, 0.9933396267087584, 0.9933396267087584, 0.9933396267087584, 0.9933396267087584, 0.9933396267087584, 0.9933396267087584, 0.9933396267087584, 0.996263534619868, 0.9964806270264281, 0.9964806270264281, 0.9964806270264281, 0.9964806270264281, 0.9964806270264281, 0.9964806270264281]}], \"recall_score_micro\": [{\"categories\": [\"0\", \"2\", \"6\", \"10\", \"15\", \"17\", \"21\", \"22\", \"24\", \"25\", \"26\", \"27\", \"28\", \"30\", \"31\", \"36\"], \"mode\": \"markers\", \"name\": \"recall_score_micro\", \"stepped\": false, \"type\": \"scatter\", \"data\": [0.964834653004192, 0.9402421984163949, 0.9261605340785592, 0.9542617605961807, 0.9297003570874087, 0.9630647414997672, 0.9578015836050303, 0.9454743052321067, 0.9648501785437043, 0.9806241266884024, 0.9736065828287532, 0.9788852662630025, 0.9665735134295916, 0.956016146561093, 0.9683278993945039, 0.9133209129017233]}, {\"categories\": [\"0\", \"2\", \"6\", \"10\", \"15\", \"17\", \"21\", \"22\", \"24\", \"25\", \"26\", \"27\", \"28\", \"30\", \"31\", \"36\"], \"mode\": \"lines\", \"name\": \"recall_score_micro_max\", \"stepped\": true, \"type\": \"scatter\", \"data\": [0.964834653004192, 0.964834653004192, 0.964834653004192, 0.964834653004192, 0.964834653004192, 0.964834653004192, 0.964834653004192, 0.964834653004192, 0.9648501785437043, 0.9806241266884024, 0.9806241266884024, 0.9806241266884024, 0.9806241266884024, 0.9806241266884024, 0.9806241266884024, 0.9806241266884024]}], \"precision_score_weighted\": [{\"categories\": [\"0\", \"2\", \"6\", \"10\", \"15\", \"17\", \"21\", \"22\", \"24\", \"25\", \"26\", \"27\", \"28\", \"30\", \"31\", \"36\"], \"mode\": \"markers\", \"name\": \"precision_score_weighted\", \"stepped\": false, \"type\": \"scatter\", \"data\": [0.965030882825759, 0.9415615478899063, 0.9273716359340132, 0.9569497777882464, 0.9321564497681372, 0.9641055154892115, 0.9590357755768263, 0.946685832284353, 0.9658937069077103, 0.981542724001336, 0.9747674799281691, 0.9793948004804843, 0.9676349710782268, 0.9573456205691512, 0.9693656384016471, 0.8651380323423687]}, {\"categories\": [\"0\", \"2\", \"6\", \"10\", \"15\", \"17\", \"21\", \"22\", \"24\", \"25\", \"26\", \"27\", \"28\", \"30\", \"31\", \"36\"], \"mode\": \"lines\", \"name\": \"precision_score_weighted_max\", \"stepped\": true, \"type\": \"scatter\", \"data\": [0.965030882825759, 0.965030882825759, 0.965030882825759, 0.965030882825759, 0.965030882825759, 0.965030882825759, 0.965030882825759, 0.965030882825759, 0.9658937069077103, 0.981542724001336, 0.981542724001336, 0.981542724001336, 0.981542724001336, 0.981542724001336, 0.981542724001336, 0.981542724001336]}], \"recall_score_macro\": [{\"categories\": [\"0\", \"2\", \"6\", \"10\", \"15\", \"17\", \"21\", \"22\", \"24\", \"25\", \"26\", \"27\", \"28\", \"30\", \"31\", \"36\"], \"mode\": \"markers\", \"name\": \"recall_score_macro\", \"stepped\": false, \"type\": \"scatter\", \"data\": [0.9604268817545634, 0.9343800996675788, 0.9203760561836116, 0.954128938726068, 0.9255971710783246, 0.9618388028690091, 0.9519774030076092, 0.9389551901826435, 0.964798747924249, 0.9766526931476307, 0.9691663839355918, 0.9750271692281236, 0.9626478722732446, 0.9536963327445708, 0.9640882657624184, 0.8938921213787205]}, {\"categories\": [\"0\", \"2\", \"6\", \"10\", \"15\", \"17\", \"21\", \"22\", \"24\", \"25\", \"26\", \"27\", \"28\", \"30\", \"31\", \"36\"], \"mode\": \"lines\", \"name\": \"recall_score_macro_max\", \"stepped\": true, \"type\": \"scatter\", \"data\": [0.9604268817545634, 0.9604268817545634, 0.9604268817545634, 0.9604268817545634, 0.9604268817545634, 0.9618388028690091, 0.9618388028690091, 0.9618388028690091, 0.964798747924249, 0.9766526931476307, 0.9766526931476307, 0.9766526931476307, 0.9766526931476307, 0.9766526931476307, 0.9766526931476307, 0.9766526931476307]}], \"f1_score_macro\": [{\"categories\": [\"0\", \"2\", \"6\", \"10\", \"15\", \"17\", \"21\", \"22\", \"24\", \"25\", \"26\", \"27\", \"28\", \"30\", \"31\", \"36\"], \"mode\": \"markers\", \"name\": \"f1_score_macro\", \"stepped\": false, \"type\": \"scatter\", \"data\": [0.9619148794143854, 0.9351482210395196, 0.9205083788996051, 0.9513709344993548, 0.9245939566724675, 0.9602495960216088, 0.9539106073231751, 0.9411038253501381, 0.9622060059457539, 0.979198693033252, 0.9715112201053863, 0.9771849477204038, 0.9637438617571872, 0.9529800587679121, 0.9657682311600903, 0.8687601889343913]}, {\"categories\": [\"0\", \"2\", \"6\", \"10\", \"15\", \"17\", \"21\", \"22\", \"24\", \"25\", \"26\", \"27\", \"28\", \"30\", \"31\", \"36\"], \"mode\": \"lines\", \"name\": \"f1_score_macro_max\", \"stepped\": true, \"type\": \"scatter\", \"data\": [0.9619148794143854, 0.9619148794143854, 0.9619148794143854, 0.9619148794143854, 0.9619148794143854, 0.9619148794143854, 0.9619148794143854, 0.9619148794143854, 0.9622060059457539, 0.979198693033252, 0.979198693033252, 0.979198693033252, 0.979198693033252, 0.979198693033252, 0.979198693033252, 0.979198693033252]}], \"recall_score_weighted\": [{\"categories\": [\"0\", \"2\", \"6\", \"10\", \"15\", \"17\", \"21\", \"22\", \"24\", \"25\", \"26\", \"27\", \"28\", \"30\", \"31\", \"36\"], \"mode\": \"markers\", \"name\": \"recall_score_weighted\", \"stepped\": false, \"type\": \"scatter\", \"data\": [0.964834653004192, 0.9402421984163949, 0.9261605340785592, 0.9542617605961807, 0.9297003570874087, 0.9630647414997672, 0.9578015836050303, 0.9454743052321067, 0.9648501785437043, 0.9806241266884024, 0.9736065828287532, 0.9788852662630025, 0.9665735134295916, 0.956016146561093, 0.9683278993945039, 0.9133209129017233]}, {\"categories\": [\"0\", \"2\", \"6\", \"10\", \"15\", \"17\", \"21\", \"22\", \"24\", \"25\", \"26\", \"27\", \"28\", \"30\", \"31\", \"36\"], \"mode\": \"lines\", \"name\": \"recall_score_weighted_max\", \"stepped\": true, \"type\": \"scatter\", \"data\": [0.964834653004192, 0.964834653004192, 0.964834653004192, 0.964834653004192, 0.964834653004192, 0.964834653004192, 0.964834653004192, 0.964834653004192, 0.9648501785437043, 0.9806241266884024, 0.9806241266884024, 0.9806241266884024, 0.9806241266884024, 0.9806241266884024, 0.9806241266884024, 0.9806241266884024]}], \"AUC_macro\": [{\"categories\": [\"0\", \"2\", \"6\", \"10\", \"15\", \"17\", \"21\", \"22\", \"24\", \"25\", \"26\", \"27\", \"28\", \"30\", \"31\", \"36\"], \"mode\": \"markers\", \"name\": \"AUC_macro\", \"stepped\": false, \"type\": \"scatter\", \"data\": [0.9931983676407903, 0.988257150871328, 0.9801271173135481, 0.9847428748177276, 0.9762847059936932, 0.9912888228322387, 0.9887016500134802, 0.987687733397913, 0.992152953900965, 0.9961171299986329, 0.996280239393554, 0.994172772463692, 0.9940013587581007, 0.9851578122938347, 0.9949250752106563, 0.9968440832428775]}, {\"categories\": [\"0\", \"2\", \"6\", \"10\", \"15\", \"17\", \"21\", \"22\", \"24\", \"25\", \"26\", \"27\", \"28\", \"30\", \"31\", \"36\"], \"mode\": \"lines\", \"name\": \"AUC_macro_max\", \"stepped\": true, \"type\": \"scatter\", \"data\": [0.9931983676407903, 0.9931983676407903, 0.9931983676407903, 0.9931983676407903, 0.9931983676407903, 0.9931983676407903, 0.9931983676407903, 0.9931983676407903, 0.9931983676407903, 0.9961171299986329, 0.996280239393554, 0.996280239393554, 0.996280239393554, 0.996280239393554, 0.996280239393554, 0.9968440832428775]}], \"f1_score_weighted\": [{\"categories\": [\"0\", \"2\", \"6\", \"10\", \"15\", \"17\", \"21\", \"22\", \"24\", \"25\", \"26\", \"27\", \"28\", \"30\", \"31\", \"36\"], \"mode\": \"markers\", \"name\": \"f1_score_weighted\", \"stepped\": false, \"type\": \"scatter\", \"data\": [0.9647419560789074, 0.940092053041162, 0.9260374855073035, 0.9542820505954757, 0.9298075283363911, 0.9630964963823739, 0.9575763959647375, 0.9452273299132912, 0.964967049653022, 0.9805159864356698, 0.9734862592781639, 0.9788167079805493, 0.9664447948940402, 0.9559585339213795, 0.9682028957305553, 0.8830117942862247]}, {\"categories\": [\"0\", \"2\", \"6\", \"10\", \"15\", \"17\", \"21\", \"22\", \"24\", \"25\", \"26\", \"27\", \"28\", \"30\", \"31\", \"36\"], \"mode\": \"lines\", \"name\": \"f1_score_weighted_max\", \"stepped\": true, \"type\": \"scatter\", \"data\": [0.9647419560789074, 0.9647419560789074, 0.9647419560789074, 0.9647419560789074, 0.9647419560789074, 0.9647419560789074, 0.9647419560789074, 0.9647419560789074, 0.964967049653022, 0.9805159864356698, 0.9805159864356698, 0.9805159864356698, 0.9805159864356698, 0.9805159864356698, 0.9805159864356698, 0.9805159864356698]}], \"f1_score_micro\": [{\"categories\": [\"0\", \"2\", \"6\", \"10\", \"15\", \"17\", \"21\", \"22\", \"24\", \"25\", \"26\", \"27\", \"28\", \"30\", \"31\", \"36\"], \"mode\": \"markers\", \"name\": \"f1_score_micro\", \"stepped\": false, \"type\": \"scatter\", \"data\": [0.964834653004192, 0.9402421984163949, 0.9261605340785592, 0.9542617605961807, 0.9297003570874087, 0.9630647414997672, 0.9578015836050303, 0.9454743052321067, 0.9648501785437043, 0.9806241266884024, 0.9736065828287532, 0.9788852662630025, 0.9665735134295916, 0.956016146561093, 0.9683278993945039, 0.9133209129017233]}, {\"categories\": [\"0\", \"2\", \"6\", \"10\", \"15\", \"17\", \"21\", \"22\", \"24\", \"25\", \"26\", \"27\", \"28\", \"30\", \"31\", \"36\"], \"mode\": \"lines\", \"name\": \"f1_score_micro_max\", \"stepped\": true, \"type\": \"scatter\", \"data\": [0.964834653004192, 0.964834653004192, 0.964834653004192, 0.964834653004192, 0.964834653004192, 0.964834653004192, 0.964834653004192, 0.964834653004192, 0.9648501785437043, 0.9806241266884024, 0.9806241266884024, 0.9806241266884024, 0.9806241266884024, 0.9806241266884024, 0.9806241266884024, 0.9806241266884024]}], \"matthews_correlation\": [{\"categories\": [\"0\", \"2\", \"6\", \"10\", \"15\", \"17\", \"21\", \"22\", \"24\", \"25\", \"26\", \"27\", \"28\", \"30\", \"31\", \"36\"], \"mode\": \"markers\", \"name\": \"matthews_correlation\", \"stepped\": false, \"type\": \"scatter\", \"data\": [0.9242309383022034, 0.8720159201348583, 0.8425849888416586, 0.9055598429902156, 0.8515851446552725, 0.9215360767357259, 0.9096320778274072, 0.8840170274728878, 0.9252845155247764, 0.959588779743305, 0.9445054625210751, 0.9550453595072632, 0.9288573057531618, 0.9074965303072051, 0.9328735091009654, 0.7887381897448469]}, {\"categories\": [\"0\", \"2\", \"6\", \"10\", \"15\", \"17\", \"21\", \"22\", \"24\", \"25\", \"26\", \"27\", \"28\", \"30\", \"31\", \"36\"], \"mode\": \"lines\", \"name\": \"matthews_correlation_max\", \"stepped\": true, \"type\": \"scatter\", \"data\": [0.9242309383022034, 0.9242309383022034, 0.9242309383022034, 0.9242309383022034, 0.9242309383022034, 0.9242309383022034, 0.9242309383022034, 0.9242309383022034, 0.9252845155247764, 0.959588779743305, 0.959588779743305, 0.959588779743305, 0.959588779743305, 0.959588779743305, 0.959588779743305, 0.959588779743305]}], \"accuracy\": [{\"categories\": [\"0\", \"2\", \"6\", \"10\", \"15\", \"17\", \"21\", \"22\", \"24\", \"25\", \"26\", \"27\", \"28\", \"30\", \"31\", \"36\"], \"mode\": \"markers\", \"name\": \"accuracy\", \"stepped\": false, \"type\": \"scatter\", \"data\": [0.964834653004192, 0.9402421984163949, 0.9261605340785592, 0.9542617605961807, 0.9297003570874087, 0.9630647414997672, 0.9578015836050303, 0.9454743052321067, 0.9648501785437043, 0.9806241266884024, 0.9736065828287532, 0.9788852662630025, 0.9665735134295916, 0.956016146561093, 0.9683278993945039, 0.9133209129017233]}, {\"categories\": [\"0\", \"2\", \"6\", \"10\", \"15\", \"17\", \"21\", \"22\", \"24\", \"25\", \"26\", \"27\", \"28\", \"30\", \"31\", \"36\"], \"mode\": \"lines\", \"name\": \"accuracy_max\", \"stepped\": true, \"type\": \"scatter\", \"data\": [0.964834653004192, 0.964834653004192, 0.964834653004192, 0.964834653004192, 0.964834653004192, 0.964834653004192, 0.964834653004192, 0.964834653004192, 0.9648501785437043, 0.9806241266884024, 0.9806241266884024, 0.9806241266884024, 0.9806241266884024, 0.9806241266884024, 0.9806241266884024, 0.9806241266884024]}], \"balanced_accuracy\": [{\"categories\": [\"0\", \"2\", \"6\", \"10\", \"15\", \"17\", \"21\", \"22\", \"24\", \"25\", \"26\", \"27\", \"28\", \"30\", \"31\", \"36\"], \"mode\": \"markers\", \"name\": \"balanced_accuracy\", \"stepped\": false, \"type\": \"scatter\", \"data\": [0.9604268817545634, 0.9343800996675788, 0.9203760561836116, 0.954128938726068, 0.9255971710783246, 0.9618388028690091, 0.9519774030076092, 0.9389551901826435, 0.964798747924249, 0.9766526931476307, 0.9691663839355918, 0.9750271692281236, 0.9626478722732446, 0.9536963327445708, 0.9640882657624184, 0.8938921213787205]}, {\"categories\": [\"0\", \"2\", \"6\", \"10\", \"15\", \"17\", \"21\", \"22\", \"24\", \"25\", \"26\", \"27\", \"28\", \"30\", \"31\", \"36\"], \"mode\": \"lines\", \"name\": \"balanced_accuracy_max\", \"stepped\": true, \"type\": \"scatter\", \"data\": [0.9604268817545634, 0.9604268817545634, 0.9604268817545634, 0.9604268817545634, 0.9604268817545634, 0.9618388028690091, 0.9618388028690091, 0.9618388028690091, 0.964798747924249, 0.9766526931476307, 0.9766526931476307, 0.9766526931476307, 0.9766526931476307, 0.9766526931476307, 0.9766526931476307, 0.9766526931476307]}], \"log_loss\": [{\"categories\": [\"0\", \"2\", \"6\", \"10\", \"15\", \"17\", \"21\", \"22\", \"24\", \"25\", \"26\", \"27\", \"28\", \"30\", \"31\", \"36\"], \"mode\": \"markers\", \"name\": \"log_loss\", \"stepped\": false, \"type\": \"scatter\", \"data\": [0.13316503900441012, 0.1532404924504857, 0.18323564442983473, 0.6491638268189186, 0.1994988002001653, 0.1705842227265985, 0.17747217350505254, 0.24001041989253089, 0.1307310449516489, 0.0715547165242886, 0.07779506619739687, 0.08971455141014259, 0.09321623463860662, 0.23539312537664045, 0.08173684205537471, 0.22706336203588565]}, {\"categories\": [\"0\", \"2\", \"6\", \"10\", \"15\", \"17\", \"21\", \"22\", \"24\", \"25\", \"26\", \"27\", \"28\", \"30\", \"31\", \"36\"], \"mode\": \"lines\", \"name\": \"log_loss_min\", \"stepped\": true, \"type\": \"scatter\", \"data\": [0.13316503900441012, 0.13316503900441012, 0.13316503900441012, 0.13316503900441012, 0.13316503900441012, 0.13316503900441012, 0.13316503900441012, 0.13316503900441012, 0.1307310449516489, 0.0715547165242886, 0.0715547165242886, 0.0715547165242886, 0.0715547165242886, 0.0715547165242886, 0.0715547165242886, 0.0715547165242886]}], \"average_precision_score_micro\": [{\"categories\": [\"0\", \"2\", \"6\", \"10\", \"15\", \"17\", \"21\", \"22\", \"24\", \"25\", \"26\", \"27\", \"28\", \"30\", \"31\", \"36\"], \"mode\": \"markers\", \"name\": \"average_precision_score_micro\", \"stepped\": false, \"type\": \"scatter\", \"data\": [0.9933929810662493, 0.9887386006946534, 0.9803498072641373, 0.9825329454106285, 0.9756781776804037, 0.9908145447970094, 0.988279694354983, 0.9851030529745739, 0.9923883659386664, 0.9963708710229675, 0.996592250968326, 0.9950806558776952, 0.9938186801346038, 0.9848791276940932, 0.995372238242456, 0.9690658541990939]}, {\"categories\": [\"0\", \"2\", \"6\", \"10\", \"15\", \"17\", \"21\", \"22\", \"24\", \"25\", \"26\", \"27\", \"28\", \"30\", \"31\", \"36\"], \"mode\": \"lines\", \"name\": \"average_precision_score_micro_max\", \"stepped\": true, \"type\": \"scatter\", \"data\": [0.9933929810662493, 0.9933929810662493, 0.9933929810662493, 0.9933929810662493, 0.9933929810662493, 0.9933929810662493, 0.9933929810662493, 0.9933929810662493, 0.9933929810662493, 0.9963708710229675, 0.996592250968326, 0.996592250968326, 0.996592250968326, 0.996592250968326, 0.996592250968326, 0.996592250968326]}], \"precision_score_macro\": [{\"categories\": [\"0\", \"2\", \"6\", \"10\", \"15\", \"17\", \"21\", \"22\", \"24\", \"25\", \"26\", \"27\", \"28\", \"30\", \"31\", \"36\"], \"mode\": \"markers\", \"name\": \"precision_score_macro\", \"stepped\": false, \"type\": \"scatter\", \"data\": [0.9638261065168049, 0.9377407615504116, 0.9223057408955349, 0.9515882598640193, 0.926127023777411, 0.9597567141309182, 0.9578032032973625, 0.9451714627507171, 0.9605369923848185, 0.9830077489814866, 0.9754395604395605, 0.9800545007805053, 0.9662853733697814, 0.9538798277573537, 0.9688607958118298, 0.8541460181812747]}, {\"categories\": [\"0\", \"2\", \"6\", \"10\", \"15\", \"17\", \"21\", \"22\", \"24\", \"25\", \"26\", \"27\", \"28\", \"30\", \"31\", \"36\"], \"mode\": \"lines\", \"name\": \"precision_score_macro_max\", \"stepped\": true, \"type\": \"scatter\", \"data\": [0.9638261065168049, 0.9638261065168049, 0.9638261065168049, 0.9638261065168049, 0.9638261065168049, 0.9638261065168049, 0.9638261065168049, 0.9638261065168049, 0.9638261065168049, 0.9830077489814866, 0.9830077489814866, 0.9830077489814866, 0.9830077489814866, 0.9830077489814866, 0.9830077489814866, 0.9830077489814866]}], \"average_precision_score_weighted\": [{\"categories\": [\"0\", \"2\", \"6\", \"10\", \"15\", \"17\", \"21\", \"22\", \"24\", \"25\", \"26\", \"27\", \"28\", \"30\", \"31\", \"36\"], \"mode\": \"markers\", \"name\": \"average_precision_score_weighted\", \"stepped\": false, \"type\": \"scatter\", \"data\": [0.9937242209301191, 0.9893422352703196, 0.9808430094883891, 0.9823740155120939, 0.9759117897721905, 0.9910431633156358, 0.9881655080702064, 0.9885289097836697, 0.9928187632852161, 0.9964259362162216, 0.9965969645993589, 0.994954269132968, 0.9944411207178276, 0.9842227538963243, 0.9953104705800915, 0.9971536662911019]}, {\"categories\": [\"0\", \"2\", \"6\", \"10\", \"15\", \"17\", \"21\", \"22\", \"24\", \"25\", \"26\", \"27\", \"28\", \"30\", \"31\", \"36\"], \"mode\": \"lines\", \"name\": \"average_precision_score_weighted_max\", \"stepped\": true, \"type\": \"scatter\", \"data\": [0.9937242209301191, 0.9937242209301191, 0.9937242209301191, 0.9937242209301191, 0.9937242209301191, 0.9937242209301191, 0.9937242209301191, 0.9937242209301191, 0.9937242209301191, 0.9964259362162216, 0.9965969645993589, 0.9965969645993589, 0.9965969645993589, 0.9965969645993589, 0.9965969645993589, 0.9971536662911019]}], \"weighted_accuracy\": [{\"categories\": [\"0\", \"2\", \"6\", \"10\", \"15\", \"17\", \"21\", \"22\", \"24\", \"25\", \"26\", \"27\", \"28\", \"30\", \"31\", \"36\"], \"mode\": \"markers\", \"name\": \"weighted_accuracy\", \"stepped\": false, \"type\": \"scatter\", \"data\": [0.9686340594227827, 0.9453630162069008, 0.9311743428850902, 0.9547065359389766, 0.9333788774422376, 0.9642783699495444, 0.9628476755432687, 0.9511872891413043, 0.9649888986066271, 0.9841524318237667, 0.9775429969054338, 0.9822978681895307, 0.970096124638857, 0.9581941347716117, 0.9721244625313981, 0.931388083943095]}, {\"categories\": [\"0\", \"2\", \"6\", \"10\", \"15\", \"17\", \"21\", \"22\", \"24\", \"25\", \"26\", \"27\", \"28\", \"30\", \"31\", \"36\"], \"mode\": \"lines\", \"name\": \"weighted_accuracy_max\", \"stepped\": true, \"type\": \"scatter\", \"data\": [0.9686340594227827, 0.9686340594227827, 0.9686340594227827, 0.9686340594227827, 0.9686340594227827, 0.9686340594227827, 0.9686340594227827, 0.9686340594227827, 0.9686340594227827, 0.9841524318237667, 0.9841524318237667, 0.9841524318237667, 0.9841524318237667, 0.9841524318237667, 0.9841524318237667, 0.9841524318237667]}], \"norm_macro_recall\": [{\"categories\": [\"0\", \"2\", \"6\", \"10\", \"15\", \"17\", \"21\", \"22\", \"24\", \"25\", \"26\", \"27\", \"28\", \"30\", \"31\", \"36\"], \"mode\": \"markers\", \"name\": \"norm_macro_recall\", \"stepped\": false, \"type\": \"scatter\", \"data\": [0.920853763509127, 0.8687601993351578, 0.8407521123672236, 0.908257877452136, 0.8511943421566489, 0.9236776057380183, 0.9039548060152185, 0.877910380365287, 0.9295974958484979, 0.9533053862952612, 0.9383327678711837, 0.9500543384562473, 0.925295744546489, 0.9073926654891415, 0.9281765315248368, 0.7877842427574411]}, {\"categories\": [\"0\", \"2\", \"6\", \"10\", \"15\", \"17\", \"21\", \"22\", \"24\", \"25\", \"26\", \"27\", \"28\", \"30\", \"31\", \"36\"], \"mode\": \"lines\", \"name\": \"norm_macro_recall_max\", \"stepped\": true, \"type\": \"scatter\", \"data\": [0.920853763509127, 0.920853763509127, 0.920853763509127, 0.920853763509127, 0.920853763509127, 0.9236776057380183, 0.9236776057380183, 0.9236776057380183, 0.9295974958484979, 0.9533053862952612, 0.9533053862952612, 0.9533053862952612, 0.9533053862952612, 0.9533053862952612, 0.9533053862952612, 0.9533053862952612]}]}, \"metricName\": null, \"primaryMetricName\": \"AUC_weighted\", \"showLegend\": false}, \"run_metrics\": [{\"name\": \"experiment_status\", \"run_id\": \"AutoML_c758c99e-8bff-4ff0-a0dc-282052e4873b\", \"categories\": [0, 1, 2, 3, 4, 5, 6, 7, 8, 9, 10, 11, 12, 13], \"series\": [{\"data\": [\"DatasetEvaluation\", \"FeaturesGeneration\", \"DatasetFeaturization\", \"DatasetFeaturizationCompleted\", \"DatasetCrossValidationSplit\", \"ModelSelection\", \"BestRunExplainModel\", \"ModelExplanationDataSetSetup\", \"PickSurrogateModel\", \"EngineeredFeatureExplanations\", \"EngineeredFeatureExplanations\", \"RawFeaturesExplanations\", \"RawFeaturesExplanations\", \"BestRunExplainModel\"]}]}, {\"name\": \"experiment_status_description\", \"run_id\": \"AutoML_c758c99e-8bff-4ff0-a0dc-282052e4873b\", \"categories\": [0, 1, 2, 3, 4, 5, 6, 7, 8, 9, 10, 11, 12, 13], \"series\": [{\"data\": [\"Gathering dataset statistics.\", \"Generating features for the dataset.\", \"Beginning to fit featurizers and featurize the dataset.\", \"Completed fit featurizers and featurizing the dataset.\", \"Generating individually featurized CV splits.\", \"Beginning model selection.\", \"Best run model explanations started\", \"Model explanations data setup completed\", \"Choosing LightGBM as the surrogate model for explanations\", \"Computation of engineered features started\", \"Computation of engineered features completed\", \"Computation of raw features started\", \"Computation of raw features completed\", \"Best run model explanations completed\"]}]}, {\"name\": \"f1_score_macro\", \"run_id\": \"AutoML_c758c99e-8bff-4ff0-a0dc-282052e4873b\", \"categories\": [0], \"series\": [{\"data\": [0.9812481944810759]}]}, {\"name\": \"f1_score_weighted\", \"run_id\": \"AutoML_c758c99e-8bff-4ff0-a0dc-282052e4873b\", \"categories\": [0], \"series\": [{\"data\": [0.9823163049519655]}]}, {\"name\": \"precision_score_micro\", \"run_id\": \"AutoML_c758c99e-8bff-4ff0-a0dc-282052e4873b\", \"categories\": [0], \"series\": [{\"data\": [0.9823785126533148]}]}, {\"name\": \"precision_score_weighted\", \"run_id\": \"AutoML_c758c99e-8bff-4ff0-a0dc-282052e4873b\", \"categories\": [0], \"series\": [{\"data\": [0.9833487742145884]}]}, {\"name\": \"AUC_macro\", \"run_id\": \"AutoML_c758c99e-8bff-4ff0-a0dc-282052e4873b\", \"categories\": [0], \"series\": [{\"data\": [0.9972353704622667]}]}, {\"name\": \"matthews_correlation\", \"run_id\": \"AutoML_c758c99e-8bff-4ff0-a0dc-282052e4873b\", \"categories\": [0], \"series\": [{\"data\": [0.9636431844331634]}]}, {\"name\": \"average_precision_score_weighted\", \"run_id\": \"AutoML_c758c99e-8bff-4ff0-a0dc-282052e4873b\", \"categories\": [0], \"series\": [{\"data\": [0.9975025050683943]}]}, {\"name\": \"norm_macro_recall\", \"run_id\": \"AutoML_c758c99e-8bff-4ff0-a0dc-282052e4873b\", \"categories\": [0], \"series\": [{\"data\": [0.963028186018061]}]}, {\"name\": \"recall_score_micro\", \"run_id\": \"AutoML_c758c99e-8bff-4ff0-a0dc-282052e4873b\", \"categories\": [0], \"series\": [{\"data\": [0.9823785126533148]}]}, {\"name\": \"recall_score_weighted\", \"run_id\": \"AutoML_c758c99e-8bff-4ff0-a0dc-282052e4873b\", \"categories\": [0], \"series\": [{\"data\": [0.9823785126533148]}]}, {\"name\": \"accuracy\", \"run_id\": \"AutoML_c758c99e-8bff-4ff0-a0dc-282052e4873b\", \"categories\": [0], \"series\": [{\"data\": [0.9823785126533148]}]}, {\"name\": \"weighted_accuracy\", \"run_id\": \"AutoML_c758c99e-8bff-4ff0-a0dc-282052e4873b\", \"categories\": [0], \"series\": [{\"data\": [0.983321961730325]}]}, {\"name\": \"average_precision_score_micro\", \"run_id\": \"AutoML_c758c99e-8bff-4ff0-a0dc-282052e4873b\", \"categories\": [0], \"series\": [{\"data\": [0.9966311434155676]}]}, {\"name\": \"recall_score_macro\", \"run_id\": \"AutoML_c758c99e-8bff-4ff0-a0dc-282052e4873b\", \"categories\": [0], \"series\": [{\"data\": [0.9815140930090305]}]}, {\"name\": \"AUC_weighted\", \"run_id\": \"AutoML_c758c99e-8bff-4ff0-a0dc-282052e4873b\", \"categories\": [0], \"series\": [{\"data\": [0.9972353704622667]}]}, {\"name\": \"balanced_accuracy\", \"run_id\": \"AutoML_c758c99e-8bff-4ff0-a0dc-282052e4873b\", \"categories\": [0], \"series\": [{\"data\": [0.9815140930090305]}]}, {\"name\": \"log_loss\", \"run_id\": \"AutoML_c758c99e-8bff-4ff0-a0dc-282052e4873b\", \"categories\": [0], \"series\": [{\"data\": [0.07891403137000982]}]}, {\"name\": \"precision_score_macro\", \"run_id\": \"AutoML_c758c99e-8bff-4ff0-a0dc-282052e4873b\", \"categories\": [0], \"series\": [{\"data\": [0.9821932126406343]}]}, {\"name\": \"AUC_micro\", \"run_id\": \"AutoML_c758c99e-8bff-4ff0-a0dc-282052e4873b\", \"categories\": [0], \"series\": [{\"data\": [0.9965537436159023]}]}, {\"name\": \"average_precision_score_macro\", \"run_id\": \"AutoML_c758c99e-8bff-4ff0-a0dc-282052e4873b\", \"categories\": [0], \"series\": [{\"data\": [0.9974214481485879]}]}, {\"name\": \"f1_score_micro\", \"run_id\": \"AutoML_c758c99e-8bff-4ff0-a0dc-282052e4873b\", \"categories\": [0], \"series\": [{\"data\": [0.9823785126533148]}]}], \"run_logs\": \"\\nRun is completed.\", \"graph\": {}, \"widget_settings\": {\"childWidgetDisplay\": \"popup\", \"send_telemetry\": false, \"log_level\": \"INFO\", \"sdk_version\": \"1.51.0\"}, \"loading\": false}"
          },
          "metadata": {}
        },
        {
          "output_type": "display_data",
          "data": {
            "text/html": "<table style=\"width:100%\"><tr><th>Experiment</th><th>Id</th><th>Type</th><th>Status</th><th>Details Page</th><th>Docs Page</th></tr><tr><td>BreastCancer-Experiment</td><td>AutoML_c758c99e-8bff-4ff0-a0dc-282052e4873b</td><td>automl</td><td>NotStarted</td><td><a href=\"https://ml.azure.com/runs/AutoML_c758c99e-8bff-4ff0-a0dc-282052e4873b?wsid=/subscriptions/b968fb36-f06a-4c76-a15f-afab68ae7667/resourcegroups/aml-quickstarts-251498/workspaces/quick-starts-ws-251498&amp;tid=660b3398-b80e-49d2-bc5b-ac1dc93b5254\" target=\"_blank\" rel=\"noopener\">Link to Azure Machine Learning studio</a></td><td><a href=\"https://docs.microsoft.com/en-us/python/api/overview/azure/ml/intro?view=azure-ml-py\" target=\"_blank\" rel=\"noopener\">Link to Documentation</a></td></tr></table>"
          },
          "metadata": {}
        },
        {
          "output_type": "stream",
          "name": "stdout",
          "text": "\nCurrent status: FeaturesGeneration. Generating features for the dataset.\nCurrent status: DatasetCrossValidationSplit. Generating individually featurized CV splits.\nCurrent status: ModelSelection. Beginning model selection.\n\n********************************************************************************************\nDATA GUARDRAILS: \n\nTYPE:         Class balancing detection\nSTATUS:       PASSED\nDESCRIPTION:  Your inputs were analyzed, and all classes are balanced in your training data.\n              Learn more about imbalanced data: https://aka.ms/AutomatedMLImbalancedData\n\n********************************************************************************************\n\nTYPE:         Missing feature values imputation\nSTATUS:       PASSED\nDESCRIPTION:  No feature missing values were detected in the training data.\n              Learn more about missing value imputation: https://aka.ms/AutomatedMLFeaturization\n\n********************************************************************************************\n\nTYPE:         High cardinality feature detection\nSTATUS:       PASSED\nDESCRIPTION:  Your inputs were analyzed, and no high cardinality features were detected.\n              Learn more about high cardinality feature handling: https://aka.ms/AutomatedMLFeaturization\n\n********************************************************************************************\n\n********************************************************************************************\nITER: The iteration being evaluated.\nPIPELINE: A summary description of the pipeline being evaluated.\nDURATION: Time taken for the current iteration.\nMETRIC: The result of computing score on the fitted pipeline.\nBEST: The best observed score thus far.\n********************************************************************************************\n\n ITER   PIPELINE                                       DURATION            METRIC      BEST\n    0   MaxAbsScaler LightGBM                          0:00:16             0.9932    0.9932\n    1   MaxAbsScaler XGBoostClassifier                 0:00:13             0.9941    0.9941\n    2   MaxAbsScaler ExtremeRandomTrees                0:00:12             0.9883    0.9941\n    3   MaxAbsScaler RandomForest                      0:00:12             0.9886    0.9941\n    4   StandardScalerWrapper LightGBM                 0:00:12             0.9896    0.9941\n    5   StandardScalerWrapper KNN                      0:00:15             0.8778    0.9941\n    6   SparseNormalizer XGBoostClassifier             0:00:12             0.9801    0.9941\n    7   SparseNormalizer RandomForest                  0:00:14             0.9713    0.9941\n   10   StandardScalerWrapper LogisticRegression       0:00:14             0.9846    0.9941\n    8   RobustScaler KNN                               0:00:12             0.9893    0.9941\n   11   StandardScalerWrapper SVM                      0:00:12             0.9928    0.9941\n    9   MinMaxScaler RandomForest                      0:00:13             0.9815    0.9941\n   12   StandardScalerWrapper XGBoostClassifier        0:00:12             0.9885    0.9941\n   13   SparseNormalizer KNN                           0:00:12             0.9679    0.9941\n   15   SparseNormalizer XGBoostClassifier             0:00:15             0.9763    0.9941\n   14   RobustScaler ExtremeRandomTrees                0:00:12             0.9871    0.9941\n   16   MinMaxScaler ExtremeRandomTrees                0:00:13             0.9895    0.9941\n   17   MinMaxScaler ExtremeRandomTrees                0:00:12             0.9913    0.9941\n   18   SparseNormalizer LightGBM                      0:00:12             0.9637    0.9941\n   19   MaxAbsScaler ExtremeRandomTrees                0:00:16             0.9925    0.9941\n   20   StandardScalerWrapper XGBoostClassifier        0:00:34             0.9919    0.9941\n   21   StandardScalerWrapper RandomForest             0:00:35             0.9887    0.9941\n   22   MaxAbsScaler LightGBM                          0:00:35             0.9877    0.9941\n   23   MaxAbsScaler LogisticRegression                0:00:35             0.9857    0.9941\n   24   StandardScalerWrapper ExtremeRandomTrees       0:00:36             0.9922    0.9941\n   25   StandardScalerWrapper XGBoostClassifier        0:00:36             0.9961    0.9961\n   26   MaxAbsScaler LogisticRegression                0:00:36             0.9963    0.9963\n   27   MinMaxScaler LogisticRegression                0:00:34             0.9942    0.9963\n   28   StandardScalerWrapper LightGBM                 0:00:34             0.9940    0.9963\n   29   RobustScaler LogisticRegression                0:00:35             0.9896    0.9963\n   30   MaxAbsScaler RandomForest                      0:00:46             0.9852    0.9963\n   31   StandardScalerWrapper GradientBoosting         0:00:37             0.9949    0.9963\nERROR: {\n    \"additional_properties\": {},\n    \"error\": {\n        \"additional_properties\": {\n            \"debugInfo\": null\n        },\n        \"code\": \"UserError\",\n        \"severity\": null,\n        \"message\": \"Experiment timeout reached, please consider increasing your experiment timeout.\",\n        \"message_format\": \"Experiment timeout reached, please consider increasing your experiment timeout.\",\n        \"message_parameters\": {},\n        \"reference_code\": null,\n        \"details_uri\": null,\n        \"target\": null,\n        \"details\": [],\n        \"inner_error\": {\n            \"additional_properties\": {},\n            \"code\": \"ResourceExhausted\",\n            \"inner_error\": {\n                \"additional_properties\": {},\n                \"code\": \"Timeout\",\n                \"inner_error\": {\n                    \"additional_properties\": {},\n                    \"code\": \"ExperimentTimeoutForIterations\",\n                    \"inner_error\": null\n                }\n            }\n        },\n        \"additional_info\": null\n    },\n    \"correlation\": null,\n    \"environment\": null,\n    \"location\": null,\n    \"time\": {},\n    \"component_name\": null\n}\n   32                                                  0:00:04                nan    0.9963\nERROR: {\n    \"additional_properties\": {},\n    \"error\": {\n        \"additional_properties\": {\n            \"debugInfo\": null\n        },\n        \"code\": \"UserError\",\n        \"severity\": null,\n        \"message\": \"Experiment timeout reached, please consider increasing your experiment timeout.\",\n        \"message_format\": \"Experiment timeout reached, please consider increasing your experiment timeout.\",\n        \"message_parameters\": {},\n        \"reference_code\": null,\n        \"details_uri\": null,\n        \"target\": null,\n        \"details\": [],\n        \"inner_error\": {\n            \"additional_properties\": {},\n            \"code\": \"ResourceExhausted\",\n            \"inner_error\": {\n                \"additional_properties\": {},\n                \"code\": \"Timeout\",\n                \"inner_error\": {\n                    \"additional_properties\": {},\n                    \"code\": \"ExperimentTimeoutForIterations\",\n                    \"inner_error\": null\n                }\n            }\n        },\n        \"additional_info\": null\n    },\n    \"correlation\": null,\n    \"environment\": null,\n    \"location\": null,\n    \"time\": {},\n    \"component_name\": null\n}\n   33                                                  0:00:03                nan    0.9963\nERROR: {\n    \"additional_properties\": {},\n    \"error\": {\n        \"additional_properties\": {\n            \"debugInfo\": null\n        },\n        \"code\": \"UserError\",\n        \"severity\": null,\n        \"message\": \"Experiment timeout reached, please consider increasing your experiment timeout.\",\n        \"message_format\": \"Experiment timeout reached, please consider increasing your experiment timeout.\",\n        \"message_parameters\": {},\n        \"reference_code\": null,\n        \"details_uri\": null,\n        \"target\": null,\n        \"details\": [],\n        \"inner_error\": {\n            \"additional_properties\": {},\n            \"code\": \"ResourceExhausted\",\n            \"inner_error\": {\n                \"additional_properties\": {},\n                \"code\": \"Timeout\",\n                \"inner_error\": {\n                    \"additional_properties\": {},\n                    \"code\": \"ExperimentTimeoutForIterations\",\n                    \"inner_error\": null\n                }\n            }\n        },\n        \"additional_info\": null\n    },\n    \"correlation\": null,\n    \"environment\": null,\n    \"location\": null,\n    \"time\": {},\n    \"component_name\": null\n}\n   34                                                  0:00:02                nan    0.9963\nERROR: {\n    \"additional_properties\": {},\n    \"error\": {\n        \"additional_properties\": {\n            \"debugInfo\": null\n        },\n        \"code\": \"UserError\",\n        \"severity\": null,\n        \"message\": \"Experiment timeout reached, please consider increasing your experiment timeout.\",\n        \"message_format\": \"Experiment timeout reached, please consider increasing your experiment timeout.\",\n        \"message_parameters\": {},\n        \"reference_code\": null,\n        \"details_uri\": null,\n        \"target\": null,\n        \"details\": [],\n        \"inner_error\": {\n            \"additional_properties\": {},\n            \"code\": \"ResourceExhausted\",\n            \"inner_error\": {\n                \"additional_properties\": {},\n                \"code\": \"Timeout\",\n                \"inner_error\": {\n                    \"additional_properties\": {},\n                    \"code\": \"ExperimentTimeoutForIterations\",\n                    \"inner_error\": null\n                }\n            }\n        },\n        \"additional_info\": null\n    },\n    \"correlation\": null,\n    \"environment\": null,\n    \"location\": null,\n    \"time\": {},\n    \"component_name\": null\n}\n   36    StackEnsemble                                 0:01:03             0.9968    0.9968\n   35    VotingEnsemble                                0:00:58             0.9972    0.9972\n"
        },
        {
          "output_type": "execute_result",
          "execution_count": 37,
          "data": {
            "text/plain": "{'runId': 'AutoML_c758c99e-8bff-4ff0-a0dc-282052e4873b',\n 'target': 'azurecapstone-project',\n 'status': 'Completed',\n 'startTimeUtc': '2024-02-03T12:28:42.166646Z',\n 'endTimeUtc': '2024-02-03T12:56:55.597887Z',\n 'services': {},\n 'warnings': [{'source': 'JasmineService',\n   'message': 'Experiment timeout reached, hence experiment stopped. Current experiment timeout: 0 hour(s) 20 minute(s)'}],\n 'properties': {'num_iterations': '1000',\n  'training_type': 'TrainFull',\n  'acquisition_function': 'EI',\n  'primary_metric': 'AUC_weighted',\n  'train_split': '0',\n  'acquisition_parameter': '0',\n  'num_cross_validation': '5',\n  'target': 'azurecapstone-project',\n  'AMLSettingsJsonString': '{\"path\":null,\"name\":\"BreastCancer-Experiment\",\"subscription_id\":\"b968fb36-f06a-4c76-a15f-afab68ae7667\",\"resource_group\":\"aml-quickstarts-251498\",\"workspace_name\":\"quick-starts-ws-251498\",\"region\":\"westeurope\",\"compute_target\":\"azurecapstone-project\",\"spark_service\":null,\"azure_service\":\"remote\",\"many_models\":false,\"pipeline_fetch_max_batch_size\":1,\"enable_batch_run\":true,\"enable_parallel_run\":false,\"num_procs\":null,\"enable_run_restructure\":false,\"start_auxiliary_runs_before_parent_complete\":false,\"enable_code_generation\":true,\"iterations\":1000,\"primary_metric\":\"AUC_weighted\",\"task_type\":\"classification\",\"positive_label\":null,\"data_script\":null,\"test_size\":0.0,\"test_include_predictions_only\":false,\"validation_size\":0.0,\"n_cross_validations\":5,\"y_min\":null,\"y_max\":null,\"num_classes\":null,\"featurization\":\"auto\",\"_ignore_package_version_incompatibilities\":false,\"is_timeseries\":false,\"max_cores_per_iteration\":1,\"max_concurrent_iterations\":4,\"iteration_timeout_minutes\":null,\"mem_in_mb\":null,\"enforce_time_on_windows\":false,\"experiment_timeout_minutes\":20,\"experiment_exit_score\":null,\"partition_column_names\":null,\"whitelist_models\":null,\"blacklist_algos\":[\"TensorFlowLinearClassifier\",\"TensorFlowDNN\"],\"supported_models\":[\"SGD\",\"LinearSVM\",\"LogisticRegression\",\"ExtremeRandomTrees\",\"TensorFlowDNN\",\"DecisionTree\",\"TensorFlowLinearClassifier\",\"MultinomialNaiveBayes\",\"TabnetClassifier\",\"GradientBoosting\",\"KNN\",\"SVM\",\"AveragedPerceptronClassifier\",\"XGBoostClassifier\",\"LightGBM\",\"BernoulliNaiveBayes\",\"RandomForest\"],\"private_models\":[],\"auto_blacklist\":true,\"blacklist_samples_reached\":false,\"exclude_nan_labels\":true,\"verbosity\":20,\"_debug_log\":\"azureml_automl.log\",\"show_warnings\":false,\"model_explainability\":true,\"service_url\":null,\"sdk_url\":null,\"sdk_packages\":null,\"enable_onnx_compatible_models\":false,\"enable_split_onnx_featurizer_estimator_models\":false,\"vm_type\":\"STANDARD_D2_V2\",\"telemetry_verbosity\":20,\"send_telemetry\":true,\"enable_dnn\":false,\"scenario\":\"AutoML\",\"environment_label\":null,\"save_mlflow\":false,\"enable_categorical_indicators\":false,\"force_text_dnn\":false,\"enable_feature_sweeping\":true,\"enable_early_stopping\":true,\"early_stopping_n_iters\":10,\"arguments\":null,\"dataset_id\":\"0de2f4ea-1f38-4a44-8283-31a47a501ba8\",\"hyperdrive_config\":null,\"validation_dataset_id\":null,\"run_source\":null,\"metrics\":null,\"enable_metric_confidence\":false,\"enable_ensembling\":true,\"enable_stack_ensembling\":true,\"ensemble_iterations\":15,\"enable_tf\":false,\"enable_subsampling\":null,\"subsample_seed\":null,\"enable_nimbusml\":false,\"enable_streaming\":false,\"force_streaming\":false,\"track_child_runs\":true,\"n_best_runs\":1,\"allowed_private_models\":[],\"label_column_name\":\"diagnosis\",\"weight_column_name\":null,\"cv_split_column_names\":null,\"enable_local_managed\":false,\"_local_managed_run_id\":null,\"cost_mode\":1,\"lag_length\":0,\"metric_operation\":\"maximize\",\"preprocess\":true}',\n  'DataPrepJsonString': '{\\\\\"training_data\\\\\": {\\\\\"datasetId\\\\\": \\\\\"0de2f4ea-1f38-4a44-8283-31a47a501ba8\\\\\"}, \\\\\"datasets\\\\\": 0}',\n  'EnableSubsampling': None,\n  'runTemplate': 'AutoML',\n  'azureml.runsource': 'automl',\n  'display_task_type': 'classification',\n  'dependencies_versions': '{\"azureml-dataprep-native\": \"38.0.0\", \"azureml-dataprep\": \"4.10.8\", \"azureml-dataprep-rslex\": \"2.17.12\", \"azureml-train-automl-runtime\": \"1.51.0.post2\", \"azureml-train-automl-client\": \"1.51.0.post1\", \"azureml-training-tabular\": \"1.51.0.post1\", \"azureml-automl-runtime\": \"1.51.0.post1\", \"azureml-automl-core\": \"1.51.0.post1\", \"azureml-mlflow\": \"1.51.0\", \"azureml-datadrift\": \"1.51.0\", \"azureml-pipeline\": \"1.51.0\", \"azureml-contrib-dataset\": \"1.51.0\", \"azureml-contrib-notebook\": \"1.51.0\", \"azureml-accel-models\": \"1.51.0\", \"azureml-automl-dnn-nlp\": \"1.51.0\", \"azureml-pipeline-core\": \"1.51.0\", \"azureml-responsibleai\": \"1.51.0\", \"azureml-contrib-automl-pipeline-steps\": \"1.51.0\", \"azureml-pipeline-steps\": \"1.51.0\", \"azureml-core\": \"1.51.0\", \"azureml-contrib-reinforcementlearning\": \"1.51.0\", \"azureml-contrib-server\": \"1.51.0\", \"azureml-opendatasets\": \"1.51.0\", \"azureml-contrib-services\": \"1.51.0\", \"azureml-telemetry\": \"1.51.0\", \"azureml-train-restclients-hyperdrive\": \"1.51.0\", \"azureml-interpret\": \"1.51.0\", \"azureml-train-core\": \"1.51.0\", \"azureml-tensorboard\": \"1.51.0\", \"azureml-train\": \"1.51.0\", \"azureml-contrib-pipeline-steps\": \"1.51.0\", \"azureml-explain-model\": \"1.51.0\", \"azureml-cli-common\": \"1.51.0\", \"azureml-widgets\": \"1.51.0\", \"azureml-train-automl\": \"1.51.0\", \"azureml-defaults\": \"1.51.0\", \"azureml-contrib-fairness\": \"1.51.0\", \"azureml-sdk\": \"1.51.0\", \"azureml-dataset-runtime\": \"1.51.0\", \"azureml-inference-server-http\": \"0.8.4\"}',\n  '_aml_system_scenario_identification': 'Remote.Parent',\n  'ClientType': 'SDK',\n  'PlatformVersion': 'DPV1',\n  'environment_cpu_name': 'AzureML-AutoML',\n  'environment_cpu_label': 'scikit-upgrade2',\n  'environment_gpu_name': 'AzureML-AutoML-GPU',\n  'environment_gpu_label': 'scikit-upgrade2',\n  'root_attribution': 'automl',\n  'attribution': 'AutoML',\n  'Orchestrator': 'AutoML',\n  'CancelUri': 'https://westeurope.api.azureml.ms/jasmine/v1.0/subscriptions/b968fb36-f06a-4c76-a15f-afab68ae7667/resourceGroups/aml-quickstarts-251498/providers/Microsoft.MachineLearningServices/workspaces/quick-starts-ws-251498/experimentids/5b05bb45-e117-47b5-ae9e-a0e15bb386c2/cancel/AutoML_c758c99e-8bff-4ff0-a0dc-282052e4873b',\n  'ClientSdkVersion': None,\n  'snapshotId': '00000000-0000-0000-0000-000000000000',\n  'SetupRunId': 'AutoML_c758c99e-8bff-4ff0-a0dc-282052e4873b_setup',\n  'SetupRunContainerId': 'dcid.AutoML_c758c99e-8bff-4ff0-a0dc-282052e4873b_setup',\n  'FeaturizationRunJsonPath': 'featurizer_container.json',\n  'FeaturizationRunId': 'AutoML_c758c99e-8bff-4ff0-a0dc-282052e4873b_featurize',\n  'ProblemInfoJsonString': '{\"dataset_num_categorical\": 0, \"is_sparse\": false, \"subsampling\": false, \"has_extra_col\": true, \"dataset_classes\": 2, \"dataset_features\": 31, \"dataset_samples\": 569, \"single_frequency_class_detected\": false}',\n  'ModelExplainRunId': 'AutoML_c758c99e-8bff-4ff0-a0dc-282052e4873b_ModelExplain'},\n 'inputDatasets': [{'dataset': {'id': '0de2f4ea-1f38-4a44-8283-31a47a501ba8'}, 'consumptionDetails': {'type': 'RunInput', 'inputName': 'training_data', 'mechanism': 'Direct'}}],\n 'outputDatasets': [{'identifier': {'savedId': 'a8377eac-b129-4a28-a1e5-36a8a404a42b'},\n   'outputType': 'RunOutput',\n   'outputDetails': {'outputName': 'full_training_dataset'},\n   'dataset': {\n     \"source\": [\n       \"('workspaceartifactstore', 'ExperimentRun/dcid.AutoML_c758c99e-8bff-4ff0-a0dc-282052e4873b/outputs/featurization/data/full_training_dataset.df.parquet')\"\n     ],\n     \"definition\": [\n       \"GetDatastoreFiles\",\n       \"ReadParquetFile\",\n       \"DropColumns\"\n     ],\n     \"registration\": {\n       \"id\": \"a8377eac-b129-4a28-a1e5-36a8a404a42b\",\n       \"name\": null,\n       \"version\": null,\n       \"workspace\": \"Workspace.create(name='quick-starts-ws-251498', subscription_id='b968fb36-f06a-4c76-a15f-afab68ae7667', resource_group='aml-quickstarts-251498')\"\n     }\n   }}],\n 'logFiles': {},\n 'submittedBy': 'ODL_User 251498'}"
          },
          "metadata": {}
        }
      ],
      "execution_count": 37,
      "metadata": {
        "gather": {
          "logged": 1706965037046
        },
        "jupyter": {
          "outputs_hidden": false,
          "source_hidden": false
        },
        "nteract": {
          "transient": {
            "deleting": false
          }
        }
      }
    },
    {
      "cell_type": "markdown",
      "source": [
        "## Run Details\n",
        "\n",
        "OPTIONAL: Write about the different models trained and their performance. Why do you think some models did better than others?\n",
        "\n",
        "TODO: In the cell below, use the `RunDetails` widget to show the different experiments."
      ],
      "metadata": {}
    },
    {
      "cell_type": "code",
      "source": [
        "RunDetails(remote_run).show()"
      ],
      "outputs": [],
      "execution_count": null,
      "metadata": {
        "gather": {
          "logged": 1598431121770
        },
        "jupyter": {
          "outputs_hidden": false,
          "source_hidden": false
        },
        "nteract": {
          "transient": {
            "deleting": false
          }
        }
      }
    },
    {
      "cell_type": "markdown",
      "source": [
        "## Best Model\n",
        "\n",
        "TODO: In the cell below, get the best model from the automl experiments and display all the properties of the model.\n",
        "\n"
      ],
      "metadata": {}
    },
    {
      "cell_type": "code",
      "source": [
        "automl_best_run, automl_best_model = remote_run.get_output()\n",
        "automl_best_run\n",
        "\n",
        "\n",
        "automl_best_model\n"
      ],
      "outputs": [
        {
          "output_type": "stream",
          "name": "stderr",
          "text": "WARNING:root:The version of the SDK does not match the version the model was trained on.\nWARNING:root:The consistency in the result may not be guaranteed.\nWARNING:root:Package:azureml-automl-core, training version:1.52.0.post1, current version:1.51.0.post1\nPackage:azureml-automl-runtime, training version:1.52.0.post1, current version:1.51.0.post1\nPackage:azureml-core, training version:1.52.0, current version:1.51.0\nPackage:azureml-dataprep, training version:4.11.4, current version:4.10.8\nPackage:azureml-dataprep-rslex, training version:2.18.4, current version:2.17.12\nPackage:azureml-dataset-runtime, training version:1.52.0, current version:1.51.0\nPackage:azureml-defaults, training version:1.52.0, current version:1.51.0\nPackage:azureml-interpret, training version:1.52.0, current version:1.51.0\nPackage:azureml-mlflow, training version:1.52.0, current version:1.51.0\nPackage:azureml-pipeline-core, training version:1.52.0, current version:1.51.0\nPackage:azureml-responsibleai, training version:1.52.0, current version:1.51.0\nPackage:azureml-telemetry, training version:1.52.0, current version:1.51.0\nPackage:azureml-train-automl-client, training version:1.52.0, current version:1.51.0.post1\nPackage:azureml-train-automl-runtime, training version:1.52.0, current version:1.51.0.post2\nPackage:azureml-train-core, training version:1.52.0, current version:1.51.0\nPackage:azureml-train-restclients-hyperdrive, training version:1.52.0, current version:1.51.0\nPackage:azureml-training-tabular, training version:1.52.0, current version:1.51.0.post1\nWARNING:root:Please ensure the version of your local conda dependencies match the version on which your model was trained in order to properly retrieve your model.\n"
        },
        {
          "output_type": "execute_result",
          "execution_count": 38,
          "data": {
            "text/plain": "0.9823785126533148"
          },
          "metadata": {}
        }
      ],
      "execution_count": 38,
      "metadata": {
        "gather": {
          "logged": 1706965181822
        },
        "jupyter": {
          "outputs_hidden": false,
          "source_hidden": false
        },
        "nteract": {
          "transient": {
            "deleting": false
          }
        }
      }
    },
    {
      "cell_type": "code",
      "source": [
        "metrics = automl_best_run.get_metrics()\n",
        "metrics['accuracy']"
      ],
      "outputs": [
        {
          "output_type": "execute_result",
          "execution_count": 39,
          "data": {
            "text/plain": "0.9823785126533148"
          },
          "metadata": {}
        }
      ],
      "execution_count": 39,
      "metadata": {
        "jupyter": {
          "source_hidden": false,
          "outputs_hidden": false
        },
        "nteract": {
          "transient": {
            "deleting": false
          }
        },
        "gather": {
          "logged": 1706965219793
        }
      }
    },
    {
      "cell_type": "code",
      "source": [
        "#TODO: Save the best model\n",
        "import joblib\n",
        "from azureml.core.model import Model\n",
        "\n",
        "description = \"Best-fit AutoML model trained on Breast Cancer dataset\"\n",
        "\n",
        "os.makedirs('outputs', exist_ok=True)\n",
        "joblib.dump(automl_best_model, filename=\"outputs/automl-model.pkl\")\n",
        "automl_model = remote_run.register_model(model_name='automl-breastcancer', description=description)"
      ],
      "outputs": [],
      "execution_count": 40,
      "metadata": {
        "gather": {
          "logged": 1706965254731
        },
        "jupyter": {
          "outputs_hidden": false,
          "source_hidden": false
        },
        "nteract": {
          "transient": {
            "deleting": false
          }
        }
      }
    },
    {
      "cell_type": "markdown",
      "source": [
        "## Model Deployment\n",
        "\n",
        "Remember you have to deploy only one of the two models you trained but you still need to register both the models. Perform the steps in the rest of this notebook only if you wish to deploy this model.\n",
        "\n",
        "TODO: In the cell below, register the model, create an inference config and deploy the model as a web service."
      ],
      "metadata": {}
    },
    {
      "cell_type": "code",
      "source": [
        "from azureml.core.webservice import AciWebservice\n",
        "\n",
        "aci_config = AciWebservice.deploy_configuration(\n",
        "    cpu_cores=1,\n",
        "    memory_gb=1,\n",
        "    description='Predict tumor diagnosis - Malignant(1) or Benign(0)',\n",
        "    auth_enabled=True\n",
        ")"
      ],
      "outputs": [],
      "execution_count": 41,
      "metadata": {
        "gather": {
          "logged": 1706965270096
        },
        "jupyter": {
          "outputs_hidden": false,
          "source_hidden": false
        },
        "nteract": {
          "transient": {
            "deleting": false
          }
        }
      }
    },
    {
      "cell_type": "markdown",
      "source": [
        "TODO: In the cell below, send a request to the web service you deployed to test it."
      ],
      "metadata": {
        "collapsed": true,
        "gather": {
          "logged": 1598431657736
        },
        "jupyter": {
          "outputs_hidden": false,
          "source_hidden": false
        },
        "nteract": {
          "transient": {
            "deleting": false
          }
        }
      }
    },
    {
      "cell_type": "code",
      "source": [
        "\n",
        "from azureml.core.webservice import Webservice\n",
        "from azureml.core.model import InferenceConfig\n",
        "from azureml.core.environment import Environment\n",
        "from azureml.core import Workspace\n",
        "from azureml.core.model import Model\n",
        "from azureml.automl.core.shared import constants\n",
        "\n",
        "model = Model(ws, 'automl-breastcancer')\n",
        "\n",
        "\n",
        "myenv = automl_best_run.get_environment()\n",
        "entry_script = 'predict.py'\n",
        "#best_run.download_file('outputs/scoring_file_v_1_0_0.py', entry_script)\n",
        "#best_run.download_file(constants.CONDA_ENV_FILE_PATH, 'myenv.yml')\n",
        "inference_config = InferenceConfig(entry_script=entry_script, environment=myenv)\n",
        "\n",
        "service = Model.deploy(workspace=ws, \n",
        "                       name='automl-breastcancer', \n",
        "                       models=[model], \n",
        "                       inference_config=inference_config, \n",
        "                       deployment_config=aci_config)\n",
        "\n",
        "service.wait_for_deployment(show_output=True)\n",
        "\n"
      ],
      "outputs": [
        {
          "output_type": "stream",
          "name": "stdout",
          "text": "Tips: You can try get_logs(): https://aka.ms/debugimage#dockerlog or local deployment: https://aka.ms/debugimage#debug-locally to debug if deployment takes longer than 10 minutes.\nRunning\n2024-02-03 13:07:12+00:00 Creating Container Registry if not exists..\n2024-02-03 13:17:12+00:00 Registering the environment..\n2024-02-03 13:17:12+00:00 Use the existing image.\n2024-02-03 13:17:13+00:00 Submitting deployment to compute..\n2024-02-03 13:17:19+00:00 Checking the status of deployment automl-breastcancer..\n2024-02-03 13:20:07+00:00 Checking the status of inference endpoint automl-breastcancer.\nSucceeded\nACI service creation operation finished, operation \"Succeeded\"\n"
        }
      ],
      "execution_count": 43,
      "metadata": {
        "gather": {
          "logged": 1706966413679
        },
        "jupyter": {
          "outputs_hidden": false,
          "source_hidden": false
        },
        "nteract": {
          "transient": {
            "deleting": false
          }
        }
      }
    },
    {
      "cell_type": "markdown",
      "source": [
        "TODO: In the cell below, print the logs of the web service and delete the service"
      ],
      "metadata": {
        "collapsed": true,
        "gather": {
          "logged": 1598432765711
        },
        "jupyter": {
          "outputs_hidden": false,
          "source_hidden": false
        },
        "nteract": {
          "transient": {
            "deleting": false
          }
        }
      }
    },
    {
      "cell_type": "code",
      "source": [
        "if service.enable_app_insights==False:\n",
        "    service.update(enable_app_insights=True)\n",
        "print(service.get_logs())"
      ],
      "outputs": [
        {
          "output_type": "stream",
          "name": "stdout",
          "text": "2024-02-03T13:26:01,282972412+00:00 - rsyslog/run \n2024-02-03T13:26:01,292385512+00:00 - gunicorn/run \n2024-02-03T13:26:01,296626512+00:00 | gunicorn/run | \n2024-02-03T13:26:01,299956612+00:00 | gunicorn/run | ###############################################\n2024-02-03T13:26:01,305427012+00:00 | gunicorn/run | AzureML Container Runtime Information\n2024-02-03T13:26:01,308990412+00:00 | gunicorn/run | ###############################################\n2024-02-03T13:26:01,318880412+00:00 | gunicorn/run | \n2024-02-03T13:26:01,321600512+00:00 - nginx/run \n2024-02-03T13:26:01,340423912+00:00 | gunicorn/run | \n2024-02-03T13:26:01,353638712+00:00 | gunicorn/run | AzureML image information: openmpi4.1.0-ubuntu20.04, Materializaton Build:20230628.v2\n2024-02-03T13:26:01,357401212+00:00 | gunicorn/run | \n2024-02-03T13:26:01,369929312+00:00 | gunicorn/run | \n2024-02-03T13:26:01,378080012+00:00 | gunicorn/run | PATH environment variable: /azureml-envs/azureml-automl/bin:/opt/miniconda/bin:/usr/local/sbin:/usr/local/bin:/usr/sbin:/usr/bin:/sbin:/bin\n2024-02-03T13:26:01,387384512+00:00 | gunicorn/run | PYTHONPATH environment variable: \n2024-02-03T13:26:01,389690012+00:00 | gunicorn/run | \n2024-02-03T13:26:02,877496012+00:00 | gunicorn/run | CONDAPATH environment variable: /opt/miniconda\n\n# conda environments:\n#\n                         /azureml-envs/azureml-automl\nbase                     /opt/miniconda\n\n2024-02-03T13:26:04,616280512+00:00 | gunicorn/run | \n2024-02-03T13:26:04,617993712+00:00 | gunicorn/run | Pip Dependencies (before dynamic installation)\n\nadal==1.2.7\napplicationinsights==0.11.10\narch==5.3.1\nargcomplete==2.1.2\nargon2-cffi==21.3.0\nargon2-cffi-bindings==21.2.0\nasttokens==2.2.1\nattrs==23.1.0\nazure-common==1.1.28\nazure-core==1.27.1\nazure-graphrbac==0.61.1\nazure-identity==1.13.0\nazure-mgmt-authorization==3.0.0\nazure-mgmt-containerregistry==10.1.0\nazure-mgmt-core==1.4.0\nazure-mgmt-keyvault==10.2.2\nazure-mgmt-resource==22.0.0\nazure-mgmt-storage==21.0.0\nazure-storage-blob==12.13.0\nazure-storage-queue==12.6.0\nazureml-automl-core==1.52.0.post1\nazureml-automl-runtime==1.52.0.post1\nazureml-core==1.52.0\nazureml-dataprep==4.11.4\nazureml-dataprep-native==38.0.0\nazureml-dataprep-rslex==2.18.4\nazureml-dataset-runtime==1.52.0\nazureml-defaults==1.52.0\nazureml-inference-server-http==0.8.4\nazureml-interpret==1.52.0\nazureml-mlflow==1.52.0\nazureml-pipeline-core==1.52.0\nazureml-responsibleai==1.52.0\nazureml-telemetry==1.52.0\nazureml-train-automl-client==1.52.0\nazureml-train-automl-runtime==1.52.0\nazureml-train-core==1.52.0\nazureml-train-restclients-hyperdrive==1.52.0\nazureml-training-tabular==1.52.0\nbackcall==0.2.0\nbackports.tempfile==1.0\nbackports.weakref==1.0.post1\nbcrypt==4.0.1\nbeautifulsoup4==4.12.2\nbleach==6.0.0\nbokeh==2.4.3\nboto==2.49.0\nboto3==1.20.19\nbotocore==1.23.19\nBrotli @ file:///home/conda/feedstock_root/build_artifacts/brotli-split_1687884021435/work\ncachetools==5.3.1\ncertifi==2023.5.7\ncffi @ file:///home/conda/feedstock_root/build_artifacts/cffi_1671179356964/work\ncharset-normalizer @ file:///home/conda/feedstock_root/build_artifacts/charset-normalizer_1678108872112/work\nclick==8.1.4\ncloudpickle @ file:///home/conda/feedstock_root/build_artifacts/cloudpickle_1598400192773/work\ncmdstanpy==0.9.5\ncontextlib2==21.6.0\ncontourpy==1.1.0\nconvertdate @ file:///home/conda/feedstock_root/build_artifacts/convertdate_1642883757836/work\ncryptography==41.0.0\ncycler==0.11.0\nCython==0.29.17\ndask==2023.2.0\ndatabricks-cli==0.17.7\ndataclasses==0.6\ndebugpy==1.6.7\ndecorator==5.1.1\ndefusedxml==0.7.1\ndice-ml==0.9\ndill==0.3.6\ndistributed==2023.2.0\ndistro==1.8.0\ndocker==6.1.3\ndotnetcore2==3.1.23\neconml==0.14.1\nentrypoints==0.4\nephem==4.1.4\nerroranalysis==0.4.4\nexecuting==1.2.0\nfairlearn==0.8.0\nfastjsonschema==2.17.1\nfbprophet==0.7.1\nfire==0.5.0\nFlask==2.2.5\nFlask-Cors==3.0.10\nflatbuffers==23.5.26\nfonttools==4.40.0\nfsspec==2023.6.0\nfusepy==3.0.1\ngensim==3.8.3\ngitdb==4.0.10\nGitPython==3.1.31\ngoogle-api-core==2.11.1\ngoogle-auth==2.21.0\ngoogleapis-common-protos==1.59.1\ngunicorn==20.1.0\nh5py==3.9.0\nholidays @ file:///home/conda/feedstock_root/build_artifacts/holidays_1595448845196/work\nhumanfriendly==10.0\nidna @ file:///home/conda/feedstock_root/build_artifacts/idna_1663625384323/work\nimportlib-metadata==6.8.0\nimportlib-resources==5.13.0\ninference-schema==1.5.1\ninterpret-community==0.29.0\ninterpret-core==0.3.2\nipykernel==6.8.0\nipython==8.12.2\nipython-genutils==0.2.0\nisodate==0.6.1\nitsdangerous==2.1.2\njedi==0.18.2\njeepney==0.8.0\nJinja2==3.1.2\njmespath==0.10.0\njoblib @ file:///home/conda/feedstock_root/build_artifacts/joblib_1663332044897/work\njsonpickle==3.0.1\njsonschema==4.18.0\njsonschema-specifications==2023.6.1\njupyter_client==7.4.9\njupyter_core==5.3.1\njupyterlab-pygments==0.2.2\nkeras2onnx==1.6.0\nkiwisolver==1.4.4\nknack==0.10.1\nkorean-lunar-calendar @ file:///home/conda/feedstock_root/build_artifacts/korean_lunar_calendar_1663341251025/work\nlightgbm==3.2.1\nllvmlite==0.38.1\nlocket==1.0.0\nLunarCalendar==0.0.9\nMarkupSafe==2.1.2\nmatplotlib==3.7.2\nmatplotlib-inline==0.1.6\nmistune==3.0.1\nml-wrappers==0.4.11\nmlflow-skinny==2.4.1\nmltable==1.4.1\nmsal==1.22.0\nmsal-extensions==1.0.0\nmsgpack==1.0.5\nmsrest==0.7.1\nmsrestazure==0.6.4\nnbclient==0.8.0\nnbconvert==7.6.0\nnbformat==5.9.0\nndg-httpsclient==0.5.1\nnest-asyncio==1.5.6\nnetworkx==2.5\nnotebook==6.4.9\nnumba==0.55.2\nnumpy==1.22.3\noauthlib==3.2.2\nonnx==1.13.1\nonnxconverter-common==1.6.0\nonnxmltools==1.4.1\nonnxruntime==1.11.1\nopencensus==0.11.2\nopencensus-context==0.1.3\nopencensus-ext-azure==1.1.9\npackaging==23.0\npandas==1.1.5\npandocfilters==1.5.0\nparamiko==3.2.0\nparso==0.8.3\npartd==1.4.0\npathspec==0.11.1\npatsy==0.5.3\npexpect==4.8.0\npickleshare==0.7.5\nPillow==10.0.0\npkginfo==1.9.6\npkgutil_resolve_name==1.3.10\nplatformdirs @ file:///home/conda/feedstock_root/build_artifacts/platformdirs_1688739404342/work\npmdarima==1.8.0\npooch @ file:///home/conda/feedstock_root/build_artifacts/pooch_1679580333621/work\nportalocker==2.7.0\nprometheus-client==0.17.0\nprompt-toolkit==3.0.39\nproperty-cached==1.6.4\nprotobuf==3.20.3\npsutil @ file:///home/conda/feedstock_root/build_artifacts/psutil_1681775007745/work\nptyprocess==0.7.0\npure-eval==0.2.2\npy-cpuinfo==5.0.0\npyarrow==9.0.0\npyasn1==0.5.0\npyasn1-modules==0.3.0\npycparser @ file:///home/conda/feedstock_root/build_artifacts/pycparser_1636257122734/work\npydantic==1.10.11\nPygments==2.15.1\nPyJWT==2.7.0\nPyMeeus @ file:///home/conda/feedstock_root/build_artifacts/pymeeus_1670868433998/work\nPyNaCl==1.5.0\npyOpenSSL @ file:///home/conda/feedstock_root/build_artifacts/pyopenssl_1685514481738/work\npyparsing==3.0.9\nPySocks @ file:///home/conda/feedstock_root/build_artifacts/pysocks_1661604839144/work\npystan==2.19.1.1\npython-dateutil @ file:///home/conda/feedstock_root/build_artifacts/python-dateutil_1626286286081/work\npytz @ file:///home/conda/feedstock_root/build_artifacts/pytz_1680088766131/work\nPyYAML==6.0\npyzmq==25.1.0\nraiutils==0.4.0\nreferencing==0.29.1\nrequests @ file:///home/conda/feedstock_root/build_artifacts/requests_1684774241324/work\nrequests-oauthlib==1.3.1\nresponsibleai==0.28.0\nrpds-py==0.8.8\nrsa==4.9\ns3transfer==0.5.2\nscikit-learn==0.22.1\nscipy==1.5.3\nSecretStorage==3.3.3\nsemver==2.13.0\nSend2Trash==1.8.2\nsetuptools-git==1.2\nshap==0.41.0\nsix @ file:///home/conda/feedstock_root/build_artifacts/six_1620240208055/work\nskl2onnx==1.4.9\nsklearn-pandas==1.7.0\nslicer==0.0.7\nsmart-open==1.9.0\nsmmap==5.0.0\nsortedcontainers==2.4.0\nsoupsieve==2.4.1\nsparse==0.14.0\nsqlparse==0.4.4\nstack-data==0.6.2\nstatsmodels==0.11.1\ntabulate==0.9.0\ntblib==2.0.0\ntermcolor==2.3.0\nterminado==0.17.1\ntinycss2==1.2.1\ntoolz==0.12.0\ntornado==6.3.2\ntqdm==4.65.0\ntraitlets==5.9.0\ntyping_extensions @ file:///home/conda/feedstock_root/build_artifacts/typing_extensions_1688315532570/work\nurllib3==1.26.16\nwcwidth==0.2.6\nwebencodings==0.5.1\nwebsocket-client==1.6.1\nWerkzeug==2.3.6\nwrapt==1.12.1\nxgboost==1.3.3\nzict==3.0.0\nzipp==3.15.0\n\n2024-02-03T13:26:08,434738515+00:00 | gunicorn/run | \n2024-02-03T13:26:08,441375672+00:00 | gunicorn/run | ###############################################\n2024-02-03T13:26:08,446860220+00:00 | gunicorn/run | Checking if the Python package azureml-inference-server-http is installed\n2024-02-03T13:26:08,451967664+00:00 | gunicorn/run | ###############################################\n2024-02-03T13:26:08,459930933+00:00 | gunicorn/run | \n2024-02-03T13:26:13,571396794+00:00 | gunicorn/run | \n2024-02-03T13:26:13,573454112+00:00 | gunicorn/run | ###############################################\n2024-02-03T13:26:13,574943325+00:00 | gunicorn/run | AzureML Inference Server\n2024-02-03T13:26:13,581489582+00:00 | gunicorn/run | ###############################################\n2024-02-03T13:26:13,583057495+00:00 | gunicorn/run | \n2024-02-03T13:26:18,589057300+00:00 | gunicorn/run | Starting AzureML Inference Server HTTP.\n2024-02-03 13:26:19,393 I [76] azmlinfsrv - Loaded logging config from /azureml-envs/azureml-automl/lib/python3.8/site-packages/azureml_inference_server_http/logging.json\n2024-02-03 13:26:20,186 I [76] gunicorn.error - Starting gunicorn 20.1.0\n2024-02-03 13:26:20,189 I [76] gunicorn.error - Listening at: http://0.0.0.0:31311 (76)\n2024-02-03 13:26:20,189 I [76] gunicorn.error - Using worker: sync\n2024-02-03 13:26:20,199 I [134] gunicorn.error - Booting worker with pid: 134\nValid Application Insights instrumentation key provided.\n\nAzure ML Inferencing HTTP server v0.8.4\n\n\nServer Settings\n---------------\nEntry Script Name: /var/azureml-app/main.py\nModel Directory: /var/azureml-app/azureml-models/automl-breastcancer/1\nConfig File: None\nWorker Count: 1\nWorker Timeout (seconds): 300\nServer Port: 31311\nHealth Port: 31311\nApplication Insights Enabled: true\nApplication Insights Key: AppInsights key provided\nInferencing HTTP server version: azmlinfsrv/0.8.4\nCORS for the specified origins: None\nCreate dedicated endpoint for health: None\n\n\nServer Routes\n---------------\nLiveness Probe: GET   127.0.0.1:31311/\nScore:          POST  127.0.0.1:31311/score\n\n/azureml-envs/azureml-automl/lib/python3.8/site-packages/azureml_inference_server_http/server/config.py:51: FutureWarning: aliases are no longer used by BaseSettings to define which environment variables to read. Instead use the \"env\" field setting. See https://pydantic-docs.helpmanual.io/usage/settings/#environment-variable-names\n  class AMLInferenceServerConfig(pydantic.BaseSettings):\n2024-02-03 13:26:22,193 I [134] azmlinfsrv - AML_FLASK_ONE_COMPATIBILITY is set. Patched Flask to ensure compatibility with Flask 1.\nInitializing logger\n2024-02-03 13:26:22,200 I [134] azmlinfsrv - Starting up app insights client\nWARNING:opencensus.ext.azure.common:DeprecationWarning: Explicitly using instrumentation key isdeprecated. Please use a connection string instead.\nWARNING:opencensus.ext.azure.common:DeprecationWarning: Explicitly using instrumentation key isdeprecated. Please use a connection string instead.\nWARNING:opencensus.ext.azure.common:DeprecationWarning: Explicitly using instrumentation key isdeprecated. Please use a connection string instead.\n2024-02-03 13:26:30,534 I [134] azmlinfsrv.user_script - Found driver script at /var/azureml-app/main.py and the score script at /var/azureml-app/predict.py\n2024-02-03 13:26:30,534 I [134] azmlinfsrv.user_script - run() is not decorated. Server will invoke it with the input in JSON string.\n2024-02-03 13:26:30,534 I [134] azmlinfsrv.user_script - Invoking user's init function\n/azureml-envs/azureml-automl/lib/python3.8/site-packages/sklearn/externals/joblib/__init__.py:15: FutureWarning: sklearn.externals.joblib is deprecated in 0.21 and will be removed in 0.23. Please import this functionality directly from joblib, which can be installed with: pip install joblib. If this warning is raised when loading pickled models, you may need to re-serialize those models with scikit-learn 0.21+.\n  warnings.warn(msg, category=FutureWarning)\nERROR:fbprophet.plot:Importing plotly failed. Interactive plots will not work.\n2024-02-03 13:26:47,669 I [134] azmlinfsrv.user_script - Users's init has completed successfully\n2024-02-03 13:26:47,675 I [134] azmlinfsrv.swagger - Swaggers are prepared for the following versions: [2, 3, 3.1].\n2024-02-03 13:26:47,675 I [134] azmlinfsrv - Scoring timeout is set to 60000\n2024-02-03 13:26:50,675 W [134] azmlinfsrv - x-ms-request-id header has been deprecated and will be removed from future versions of the server. Please use x-ms-client-request-id.\n2024-02-03 13:26:50,681 I [134] gunicorn.access - 127.0.0.1 - - [03/Feb/2024:13:26:50 +0000] \"GET / HTTP/1.0\" 200 7 \"-\" \"Go-http-client/1.1\"\n2024-02-03 13:26:50,691 W [134] azmlinfsrv - x-ms-request-id header has been deprecated and will be removed from future versions of the server. Please use x-ms-client-request-id.\n2024-02-03 13:26:50,691 I [134] azmlinfsrv - GET /swagger.json 200 0.549ms 2216\n2024-02-03 13:26:50,693 I [134] gunicorn.access - 127.0.0.1 - - [03/Feb/2024:13:26:50 +0000] \"GET /swagger.json HTTP/1.0\" 200 2216 \"-\" \"Go-http-client/1.1\"\n\n"
        }
      ],
      "execution_count": 47,
      "metadata": {
        "jupyter": {
          "outputs_hidden": false,
          "source_hidden": false
        },
        "nteract": {
          "transient": {
            "deleting": false
          }
        },
        "gather": {
          "logged": 1706966819721
        }
      }
    },
    {
      "cell_type": "code",
      "source": [
        "print(\"State: \"+service.state)\n",
        "print(\"Scoring URI: \"+service.scoring_uri)"
      ],
      "outputs": [
        {
          "output_type": "stream",
          "name": "stdout",
          "text": "State: Healthy\nScoring URI: http://87cbc28d-3a5b-4690-9955-058d8758c3c3.westeurope.azurecontainer.io/score\n"
        }
      ],
      "execution_count": 48,
      "metadata": {
        "jupyter": {
          "source_hidden": false,
          "outputs_hidden": false
        },
        "nteract": {
          "transient": {
            "deleting": false
          }
        },
        "gather": {
          "logged": 1706966956627
        }
      }
    },
    {
      "cell_type": "markdown",
      "source": [
        "**Submission Checklist**\n",
        "- I have registered the model.\n",
        "- I have deployed the model with the best accuracy as a webservice.\n",
        "- I have tested the webservice by sending a request to the model endpoint.\n",
        "- I have deleted the webservice and shutdown all the computes that I have used.\n",
        "- I have taken a screenshot showing the model endpoint as active.\n",
        "- The project includes a file containing the environment details.\n"
      ],
      "metadata": {}
    },
    {
      "cell_type": "markdown",
      "source": [],
      "metadata": {}
    }
  ],
  "metadata": {
    "kernel_info": {
      "name": "python38-azureml"
    },
    "kernelspec": {
      "name": "python38-azureml",
      "language": "python",
      "display_name": "Python 3.8 - AzureML"
    },
    "language_info": {
      "name": "python",
      "version": "3.8.5",
      "mimetype": "text/x-python",
      "codemirror_mode": {
        "name": "ipython",
        "version": 3
      },
      "pygments_lexer": "ipython3",
      "nbconvert_exporter": "python",
      "file_extension": ".py"
    },
    "microsoft": {
      "host": {
        "AzureML": {
          "notebookHasBeenCompleted": true
        }
      },
      "ms_spell_check": {
        "ms_spell_check_language": "en"
      }
    },
    "nteract": {
      "version": "nteract-front-end@1.0.0"
    }
  },
  "nbformat": 4,
  "nbformat_minor": 2
}