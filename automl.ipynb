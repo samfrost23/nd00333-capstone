{
 "cells": [
  {
   "cell_type": "markdown",
   "metadata": {},
   "source": [
    "# Automated ML\n",
    "\n",
    "TODO: Import Dependencies. In the cell below, import all the dependencies that you will need to complete the project."
   ]
  },
  {
   "cell_type": "code",
   "execution_count": 1,
   "metadata": {
    "gather": {
     "logged": 1707123412666
    },
    "jupyter": {
     "outputs_hidden": false,
     "source_hidden": false
    },
    "nteract": {
     "transient": {
      "deleting": false
     }
    }
   },
   "outputs": [
    {
     "name": "stdout",
     "output_type": "stream",
     "text": [
      "SDK version: 1.51.0\n"
     ]
    }
   ],
   "source": [
    "import logging\n",
    "import os\n",
    "import csv\n",
    "\n",
    "from matplotlib import pyplot as plt\n",
    "import numpy as np\n",
    "import pandas as pd\n",
    "from sklearn import datasets\n",
    "import pkg_resources\n",
    "\n",
    "import azureml.core\n",
    "from azureml.core.experiment import Experiment\n",
    "from azureml.core.workspace import Workspace\n",
    "from azureml.train.automl import AutoMLConfig\n",
    "from azureml.core.dataset import Dataset\n",
    "\n",
    "from azureml.pipeline.steps import AutoMLStep\n",
    "\n",
    "# Check core SDK version number\n",
    "print(\"SDK version:\", azureml.core.VERSION)"
   ]
  },
  {
   "cell_type": "code",
   "execution_count": 2,
   "metadata": {
    "gather": {
     "logged": 1707123427543
    },
    "jupyter": {
     "outputs_hidden": false,
     "source_hidden": false
    },
    "nteract": {
     "transient": {
      "deleting": false
     }
    }
   },
   "outputs": [
    {
     "data": {
      "text/html": [
       "<table style=\"width:100%\"><tr><th>Name</th><th>Workspace</th><th>Report Page</th><th>Docs Page</th></tr><tr><td>BreastCancer-Experiment</td><td>quick-starts-ws-251697</td><td><a href=\"https://ml.azure.com/experiments/id/276f01db-8708-4a93-99c4-985fbb01a4b7?wsid=/subscriptions/9b72f9e6-56c5-4c16-991b-19c652994860/resourcegroups/aml-quickstarts-251697/workspaces/quick-starts-ws-251697&amp;tid=660b3398-b80e-49d2-bc5b-ac1dc93b5254\" target=\"_blank\" rel=\"noopener\">Link to Azure Machine Learning studio</a></td><td><a href=\"https://docs.microsoft.com/en-us/python/api/azureml-core/azureml.core.experiment.Experiment?view=azure-ml-py\" target=\"_blank\" rel=\"noopener\">Link to Documentation</a></td></tr></table>"
      ],
      "text/plain": [
       "Experiment(Name: BreastCancer-Experiment,\n",
       "Workspace: quick-starts-ws-251697)"
      ]
     },
     "execution_count": 2,
     "metadata": {},
     "output_type": "execute_result"
    }
   ],
   "source": [
    "ws = Workspace.from_config()\n",
    "\n",
    "# choose a name for experiment\n",
    "experiment_name = 'BreastCancer-Experiment'\n",
    "\n",
    "experiment=Experiment(ws, experiment_name)\n",
    "\n",
    "\n",
    "# choose a name for experiment\n",
    "\n",
    "project_folder = './breastcancer'\n",
    "experiment"
   ]
  },
  {
   "cell_type": "code",
   "execution_count": 4,
   "metadata": {
    "gather": {
     "logged": 1707123952762
    },
    "jupyter": {
     "outputs_hidden": false,
     "source_hidden": false
    },
    "nteract": {
     "transient": {
      "deleting": false
     }
    }
   },
   "outputs": [
    {
     "name": "stdout",
     "output_type": "stream",
     "text": [
      "InProgress......\n",
      "SucceededProvisioning operation finished, operation \"Succeeded\"\n",
      "Succeeded...........................................................\n",
      "AmlCompute wait for completion finished\n",
      "\n",
      "Wait timeout has been reached\n",
      "Current provisioning state of AmlCompute is \"Succeeded\" and current node count is \"0\"\n"
     ]
    }
   ],
   "source": [
    "from azureml.core.compute import AmlCompute\n",
    "from azureml.core.compute import ComputeTarget\n",
    "from azureml.core.compute_target import ComputeTargetException\n",
    "\n",
    "# NOTE: update the cluster name to match the existing cluster\n",
    "# Choose a name for your CPU cluster\n",
    "amlcompute_cluster_name = \"azurecapstone-project\"\n",
    "\n",
    "# Verify that cluster does not exist already\n",
    "try:\n",
    "    compute_target = ComputeTarget(workspace=ws, name=amlcompute_cluster_name)\n",
    "    print('Found existing cluster, use it.')\n",
    "except ComputeTargetException:\n",
    "    compute_config = AmlCompute.provisioning_configuration(vm_size='STANDARD_D2_V2',# for GPU, use \"STANDARD_NC6\"\n",
    "                                                           #vm_priority = 'lowpriority', # optional\n",
    "                                                           max_nodes=4)\n",
    "    compute_target = ComputeTarget.create(ws, amlcompute_cluster_name, compute_config)\n",
    "\n",
    "    compute_target.wait_for_completion(show_output=True, min_node_count = 1, timeout_in_minutes = 5)\n",
    "\n"
   ]
  },
  {
   "cell_type": "markdown",
   "metadata": {},
   "source": [
    "## Dataset\n",
    "\n",
    "### Overview\n",
    "TODO: In this markdown cell, give an overview of the dataset you are using. Also mention the task you will be performing.\n",
    "\n",
    "\n",
    "TODO: Get data. In the cell below, write code to access the data you will be using in this project. Remember that the dataset needs to be external."
   ]
  },
  {
   "cell_type": "code",
   "execution_count": 25,
   "metadata": {
    "gather": {
     "logged": 1707123591405
    },
    "jupyter": {
     "outputs_hidden": false,
     "source_hidden": false
    },
    "nteract": {
     "transient": {
      "deleting": false
     }
    }
   },
   "outputs": [
    {
     "data": {
      "text/html": [
       "<div>\n",
       "<style scoped>\n",
       "    .dataframe tbody tr th:only-of-type {\n",
       "        vertical-align: middle;\n",
       "    }\n",
       "\n",
       "    .dataframe tbody tr th {\n",
       "        vertical-align: top;\n",
       "    }\n",
       "\n",
       "    .dataframe thead th {\n",
       "        text-align: right;\n",
       "    }\n",
       "</style>\n",
       "<table border=\"1\" class=\"dataframe\">\n",
       "  <thead>\n",
       "    <tr style=\"text-align: right;\">\n",
       "      <th></th>\n",
       "      <th>id</th>\n",
       "      <th>diagnosis</th>\n",
       "      <th>radius_mean</th>\n",
       "      <th>texture_mean</th>\n",
       "      <th>perimeter_mean</th>\n",
       "      <th>area_mean</th>\n",
       "      <th>smoothness_mean</th>\n",
       "      <th>compactness_mean</th>\n",
       "      <th>concavity_mean</th>\n",
       "      <th>concave points_mean</th>\n",
       "      <th>...</th>\n",
       "      <th>radius_worst</th>\n",
       "      <th>texture_worst</th>\n",
       "      <th>perimeter_worst</th>\n",
       "      <th>area_worst</th>\n",
       "      <th>smoothness_worst</th>\n",
       "      <th>compactness_worst</th>\n",
       "      <th>concavity_worst</th>\n",
       "      <th>concave points_worst</th>\n",
       "      <th>symmetry_worst</th>\n",
       "      <th>fractal_dimension_worst</th>\n",
       "    </tr>\n",
       "  </thead>\n",
       "  <tbody>\n",
       "    <tr>\n",
       "      <th>0</th>\n",
       "      <td>842302</td>\n",
       "      <td>M</td>\n",
       "      <td>17.99</td>\n",
       "      <td>10.38</td>\n",
       "      <td>122.80</td>\n",
       "      <td>1001.00</td>\n",
       "      <td>0.12</td>\n",
       "      <td>0.28</td>\n",
       "      <td>0.30</td>\n",
       "      <td>0.15</td>\n",
       "      <td>...</td>\n",
       "      <td>25.38</td>\n",
       "      <td>17.33</td>\n",
       "      <td>184.60</td>\n",
       "      <td>2019.00</td>\n",
       "      <td>0.16</td>\n",
       "      <td>0.67</td>\n",
       "      <td>0.71</td>\n",
       "      <td>0.27</td>\n",
       "      <td>0.46</td>\n",
       "      <td>0.12</td>\n",
       "    </tr>\n",
       "    <tr>\n",
       "      <th>1</th>\n",
       "      <td>842517</td>\n",
       "      <td>M</td>\n",
       "      <td>20.57</td>\n",
       "      <td>17.77</td>\n",
       "      <td>132.90</td>\n",
       "      <td>1326.00</td>\n",
       "      <td>0.08</td>\n",
       "      <td>0.08</td>\n",
       "      <td>0.09</td>\n",
       "      <td>0.07</td>\n",
       "      <td>...</td>\n",
       "      <td>24.99</td>\n",
       "      <td>23.41</td>\n",
       "      <td>158.80</td>\n",
       "      <td>1956.00</td>\n",
       "      <td>0.12</td>\n",
       "      <td>0.19</td>\n",
       "      <td>0.24</td>\n",
       "      <td>0.19</td>\n",
       "      <td>0.28</td>\n",
       "      <td>0.09</td>\n",
       "    </tr>\n",
       "    <tr>\n",
       "      <th>2</th>\n",
       "      <td>84300903</td>\n",
       "      <td>M</td>\n",
       "      <td>19.69</td>\n",
       "      <td>21.25</td>\n",
       "      <td>130.00</td>\n",
       "      <td>1203.00</td>\n",
       "      <td>0.11</td>\n",
       "      <td>0.16</td>\n",
       "      <td>0.20</td>\n",
       "      <td>0.13</td>\n",
       "      <td>...</td>\n",
       "      <td>23.57</td>\n",
       "      <td>25.53</td>\n",
       "      <td>152.50</td>\n",
       "      <td>1709.00</td>\n",
       "      <td>0.14</td>\n",
       "      <td>0.42</td>\n",
       "      <td>0.45</td>\n",
       "      <td>0.24</td>\n",
       "      <td>0.36</td>\n",
       "      <td>0.09</td>\n",
       "    </tr>\n",
       "    <tr>\n",
       "      <th>3</th>\n",
       "      <td>84348301</td>\n",
       "      <td>M</td>\n",
       "      <td>11.42</td>\n",
       "      <td>20.38</td>\n",
       "      <td>77.58</td>\n",
       "      <td>386.10</td>\n",
       "      <td>0.14</td>\n",
       "      <td>0.28</td>\n",
       "      <td>0.24</td>\n",
       "      <td>0.11</td>\n",
       "      <td>...</td>\n",
       "      <td>14.91</td>\n",
       "      <td>26.50</td>\n",
       "      <td>98.87</td>\n",
       "      <td>567.70</td>\n",
       "      <td>0.21</td>\n",
       "      <td>0.87</td>\n",
       "      <td>0.69</td>\n",
       "      <td>0.26</td>\n",
       "      <td>0.66</td>\n",
       "      <td>0.17</td>\n",
       "    </tr>\n",
       "    <tr>\n",
       "      <th>4</th>\n",
       "      <td>84358402</td>\n",
       "      <td>M</td>\n",
       "      <td>20.29</td>\n",
       "      <td>14.34</td>\n",
       "      <td>135.10</td>\n",
       "      <td>1297.00</td>\n",
       "      <td>0.10</td>\n",
       "      <td>0.13</td>\n",
       "      <td>0.20</td>\n",
       "      <td>0.10</td>\n",
       "      <td>...</td>\n",
       "      <td>22.54</td>\n",
       "      <td>16.67</td>\n",
       "      <td>152.20</td>\n",
       "      <td>1575.00</td>\n",
       "      <td>0.14</td>\n",
       "      <td>0.20</td>\n",
       "      <td>0.40</td>\n",
       "      <td>0.16</td>\n",
       "      <td>0.24</td>\n",
       "      <td>0.08</td>\n",
       "    </tr>\n",
       "  </tbody>\n",
       "</table>\n",
       "<p>5 rows × 32 columns</p>\n",
       "</div>"
      ],
      "text/plain": [
       "         id diagnosis  radius_mean  texture_mean  perimeter_mean  area_mean  \\\n",
       "0    842302         M        17.99         10.38          122.80    1001.00   \n",
       "1    842517         M        20.57         17.77          132.90    1326.00   \n",
       "2  84300903         M        19.69         21.25          130.00    1203.00   \n",
       "3  84348301         M        11.42         20.38           77.58     386.10   \n",
       "4  84358402         M        20.29         14.34          135.10    1297.00   \n",
       "\n",
       "   smoothness_mean  compactness_mean  concavity_mean  concave points_mean  \\\n",
       "0             0.12              0.28            0.30                 0.15   \n",
       "1             0.08              0.08            0.09                 0.07   \n",
       "2             0.11              0.16            0.20                 0.13   \n",
       "3             0.14              0.28            0.24                 0.11   \n",
       "4             0.10              0.13            0.20                 0.10   \n",
       "\n",
       "   ...  radius_worst  texture_worst  perimeter_worst  area_worst  \\\n",
       "0  ...         25.38          17.33           184.60     2019.00   \n",
       "1  ...         24.99          23.41           158.80     1956.00   \n",
       "2  ...         23.57          25.53           152.50     1709.00   \n",
       "3  ...         14.91          26.50            98.87      567.70   \n",
       "4  ...         22.54          16.67           152.20     1575.00   \n",
       "\n",
       "   smoothness_worst  compactness_worst  concavity_worst  concave points_worst  \\\n",
       "0              0.16               0.67             0.71                  0.27   \n",
       "1              0.12               0.19             0.24                  0.19   \n",
       "2              0.14               0.42             0.45                  0.24   \n",
       "3              0.21               0.87             0.69                  0.26   \n",
       "4              0.14               0.20             0.40                  0.16   \n",
       "\n",
       "   symmetry_worst  fractal_dimension_worst  \n",
       "0            0.46                     0.12  \n",
       "1            0.28                     0.09  \n",
       "2            0.36                     0.09  \n",
       "3            0.66                     0.17  \n",
       "4            0.24                     0.08  \n",
       "\n",
       "[5 rows x 32 columns]"
      ]
     },
     "execution_count": 25,
     "metadata": {},
     "output_type": "execute_result"
    }
   ],
   "source": [
    "# NOTE: update the key to match the dataset name\n",
    "found = False\n",
    "key = \"BreastCancerDataset\"\n",
    "description_text = \"Dataset for Capstone Project\"\n",
    "\n",
    "if key in ws.datasets.keys(): \n",
    "        found = True\n",
    "        dataset = ws.datasets[key] \n",
    "\n",
    "if not found:\n",
    "        # Create AML Dataset and register it into Workspace\n",
    "        example_data = 'https://raw.githubusercontent.com/samfrost23/nd00333-capstone/master/breast-cancer-dataset.csv'\n",
    "        dataset = Dataset.Tabular.from_delimited_files(example_data)        \n",
    "        #Register Dataset in Workspace\n",
    "        dataset = dataset.register(workspace=ws,\n",
    "                                   name=key,\n",
    "                                   description=description_text)\n",
    "\n",
    "\n",
    "df = dataset.to_pandas_dataframe()\n",
    "df.head(5)"
   ]
  },
  {
   "cell_type": "code",
   "execution_count": 6,
   "metadata": {
    "jupyter": {
     "outputs_hidden": false,
     "source_hidden": false
    },
    "nteract": {
     "transient": {
      "deleting": false
     }
    }
   },
   "outputs": [
    {
     "data": {
      "text/html": [
       "<div>\n",
       "<style scoped>\n",
       "    .dataframe tbody tr th:only-of-type {\n",
       "        vertical-align: middle;\n",
       "    }\n",
       "\n",
       "    .dataframe tbody tr th {\n",
       "        vertical-align: top;\n",
       "    }\n",
       "\n",
       "    .dataframe thead th {\n",
       "        text-align: right;\n",
       "    }\n",
       "</style>\n",
       "<table border=\"1\" class=\"dataframe\">\n",
       "  <thead>\n",
       "    <tr style=\"text-align: right;\">\n",
       "      <th></th>\n",
       "      <th>id</th>\n",
       "      <th>radius_mean</th>\n",
       "      <th>texture_mean</th>\n",
       "      <th>perimeter_mean</th>\n",
       "      <th>area_mean</th>\n",
       "      <th>smoothness_mean</th>\n",
       "      <th>compactness_mean</th>\n",
       "      <th>concavity_mean</th>\n",
       "      <th>concave points_mean</th>\n",
       "      <th>symmetry_mean</th>\n",
       "      <th>...</th>\n",
       "      <th>radius_worst</th>\n",
       "      <th>texture_worst</th>\n",
       "      <th>perimeter_worst</th>\n",
       "      <th>area_worst</th>\n",
       "      <th>smoothness_worst</th>\n",
       "      <th>compactness_worst</th>\n",
       "      <th>concavity_worst</th>\n",
       "      <th>concave points_worst</th>\n",
       "      <th>symmetry_worst</th>\n",
       "      <th>fractal_dimension_worst</th>\n",
       "    </tr>\n",
       "  </thead>\n",
       "  <tbody>\n",
       "    <tr>\n",
       "      <th>count</th>\n",
       "      <td>5.690000e+02</td>\n",
       "      <td>569.000000</td>\n",
       "      <td>569.000000</td>\n",
       "      <td>569.000000</td>\n",
       "      <td>569.000000</td>\n",
       "      <td>569.000000</td>\n",
       "      <td>569.000000</td>\n",
       "      <td>569.000000</td>\n",
       "      <td>569.000000</td>\n",
       "      <td>569.000000</td>\n",
       "      <td>...</td>\n",
       "      <td>569.000000</td>\n",
       "      <td>569.000000</td>\n",
       "      <td>569.000000</td>\n",
       "      <td>569.000000</td>\n",
       "      <td>569.000000</td>\n",
       "      <td>569.000000</td>\n",
       "      <td>569.000000</td>\n",
       "      <td>569.000000</td>\n",
       "      <td>569.000000</td>\n",
       "      <td>569.000000</td>\n",
       "    </tr>\n",
       "    <tr>\n",
       "      <th>mean</th>\n",
       "      <td>3.037183e+07</td>\n",
       "      <td>14.127292</td>\n",
       "      <td>19.289649</td>\n",
       "      <td>91.969033</td>\n",
       "      <td>654.889104</td>\n",
       "      <td>0.096360</td>\n",
       "      <td>0.104341</td>\n",
       "      <td>0.088799</td>\n",
       "      <td>0.048919</td>\n",
       "      <td>0.181162</td>\n",
       "      <td>...</td>\n",
       "      <td>16.269190</td>\n",
       "      <td>25.677223</td>\n",
       "      <td>107.261213</td>\n",
       "      <td>880.583128</td>\n",
       "      <td>0.132369</td>\n",
       "      <td>0.254265</td>\n",
       "      <td>0.272188</td>\n",
       "      <td>0.114606</td>\n",
       "      <td>0.290076</td>\n",
       "      <td>0.083946</td>\n",
       "    </tr>\n",
       "    <tr>\n",
       "      <th>std</th>\n",
       "      <td>1.250206e+08</td>\n",
       "      <td>3.524049</td>\n",
       "      <td>4.301036</td>\n",
       "      <td>24.298981</td>\n",
       "      <td>351.914129</td>\n",
       "      <td>0.014064</td>\n",
       "      <td>0.052813</td>\n",
       "      <td>0.079720</td>\n",
       "      <td>0.038803</td>\n",
       "      <td>0.027414</td>\n",
       "      <td>...</td>\n",
       "      <td>4.833242</td>\n",
       "      <td>6.146258</td>\n",
       "      <td>33.602542</td>\n",
       "      <td>569.356993</td>\n",
       "      <td>0.022832</td>\n",
       "      <td>0.157336</td>\n",
       "      <td>0.208624</td>\n",
       "      <td>0.065732</td>\n",
       "      <td>0.061867</td>\n",
       "      <td>0.018061</td>\n",
       "    </tr>\n",
       "    <tr>\n",
       "      <th>min</th>\n",
       "      <td>8.670000e+03</td>\n",
       "      <td>6.981000</td>\n",
       "      <td>9.710000</td>\n",
       "      <td>43.790000</td>\n",
       "      <td>143.500000</td>\n",
       "      <td>0.052630</td>\n",
       "      <td>0.019380</td>\n",
       "      <td>0.000000</td>\n",
       "      <td>0.000000</td>\n",
       "      <td>0.106000</td>\n",
       "      <td>...</td>\n",
       "      <td>7.930000</td>\n",
       "      <td>12.020000</td>\n",
       "      <td>50.410000</td>\n",
       "      <td>185.200000</td>\n",
       "      <td>0.071170</td>\n",
       "      <td>0.027290</td>\n",
       "      <td>0.000000</td>\n",
       "      <td>0.000000</td>\n",
       "      <td>0.156500</td>\n",
       "      <td>0.055040</td>\n",
       "    </tr>\n",
       "    <tr>\n",
       "      <th>25%</th>\n",
       "      <td>8.692180e+05</td>\n",
       "      <td>11.700000</td>\n",
       "      <td>16.170000</td>\n",
       "      <td>75.170000</td>\n",
       "      <td>420.300000</td>\n",
       "      <td>0.086370</td>\n",
       "      <td>0.064920</td>\n",
       "      <td>0.029560</td>\n",
       "      <td>0.020310</td>\n",
       "      <td>0.161900</td>\n",
       "      <td>...</td>\n",
       "      <td>13.010000</td>\n",
       "      <td>21.080000</td>\n",
       "      <td>84.110000</td>\n",
       "      <td>515.300000</td>\n",
       "      <td>0.116600</td>\n",
       "      <td>0.147200</td>\n",
       "      <td>0.114500</td>\n",
       "      <td>0.064930</td>\n",
       "      <td>0.250400</td>\n",
       "      <td>0.071460</td>\n",
       "    </tr>\n",
       "    <tr>\n",
       "      <th>50%</th>\n",
       "      <td>9.060240e+05</td>\n",
       "      <td>13.370000</td>\n",
       "      <td>18.840000</td>\n",
       "      <td>86.240000</td>\n",
       "      <td>551.100000</td>\n",
       "      <td>0.095870</td>\n",
       "      <td>0.092630</td>\n",
       "      <td>0.061540</td>\n",
       "      <td>0.033500</td>\n",
       "      <td>0.179200</td>\n",
       "      <td>...</td>\n",
       "      <td>14.970000</td>\n",
       "      <td>25.410000</td>\n",
       "      <td>97.660000</td>\n",
       "      <td>686.500000</td>\n",
       "      <td>0.131300</td>\n",
       "      <td>0.211900</td>\n",
       "      <td>0.226700</td>\n",
       "      <td>0.099930</td>\n",
       "      <td>0.282200</td>\n",
       "      <td>0.080040</td>\n",
       "    </tr>\n",
       "    <tr>\n",
       "      <th>75%</th>\n",
       "      <td>8.813129e+06</td>\n",
       "      <td>15.780000</td>\n",
       "      <td>21.800000</td>\n",
       "      <td>104.100000</td>\n",
       "      <td>782.700000</td>\n",
       "      <td>0.105300</td>\n",
       "      <td>0.130400</td>\n",
       "      <td>0.130700</td>\n",
       "      <td>0.074000</td>\n",
       "      <td>0.195700</td>\n",
       "      <td>...</td>\n",
       "      <td>18.790000</td>\n",
       "      <td>29.720000</td>\n",
       "      <td>125.400000</td>\n",
       "      <td>1084.000000</td>\n",
       "      <td>0.146000</td>\n",
       "      <td>0.339100</td>\n",
       "      <td>0.382900</td>\n",
       "      <td>0.161400</td>\n",
       "      <td>0.317900</td>\n",
       "      <td>0.092080</td>\n",
       "    </tr>\n",
       "    <tr>\n",
       "      <th>max</th>\n",
       "      <td>9.113205e+08</td>\n",
       "      <td>28.110000</td>\n",
       "      <td>39.280000</td>\n",
       "      <td>188.500000</td>\n",
       "      <td>2501.000000</td>\n",
       "      <td>0.163400</td>\n",
       "      <td>0.345400</td>\n",
       "      <td>0.426800</td>\n",
       "      <td>0.201200</td>\n",
       "      <td>0.304000</td>\n",
       "      <td>...</td>\n",
       "      <td>36.040000</td>\n",
       "      <td>49.540000</td>\n",
       "      <td>251.200000</td>\n",
       "      <td>4254.000000</td>\n",
       "      <td>0.222600</td>\n",
       "      <td>1.058000</td>\n",
       "      <td>1.252000</td>\n",
       "      <td>0.291000</td>\n",
       "      <td>0.663800</td>\n",
       "      <td>0.207500</td>\n",
       "    </tr>\n",
       "  </tbody>\n",
       "</table>\n",
       "<p>8 rows × 31 columns</p>\n",
       "</div>"
      ],
      "text/plain": [
       "                 id  radius_mean  texture_mean  perimeter_mean    area_mean  \\\n",
       "count  5.690000e+02   569.000000    569.000000      569.000000   569.000000   \n",
       "mean   3.037183e+07    14.127292     19.289649       91.969033   654.889104   \n",
       "std    1.250206e+08     3.524049      4.301036       24.298981   351.914129   \n",
       "min    8.670000e+03     6.981000      9.710000       43.790000   143.500000   \n",
       "25%    8.692180e+05    11.700000     16.170000       75.170000   420.300000   \n",
       "50%    9.060240e+05    13.370000     18.840000       86.240000   551.100000   \n",
       "75%    8.813129e+06    15.780000     21.800000      104.100000   782.700000   \n",
       "max    9.113205e+08    28.110000     39.280000      188.500000  2501.000000   \n",
       "\n",
       "       smoothness_mean  compactness_mean  concavity_mean  concave points_mean  \\\n",
       "count       569.000000        569.000000      569.000000           569.000000   \n",
       "mean          0.096360          0.104341        0.088799             0.048919   \n",
       "std           0.014064          0.052813        0.079720             0.038803   \n",
       "min           0.052630          0.019380        0.000000             0.000000   \n",
       "25%           0.086370          0.064920        0.029560             0.020310   \n",
       "50%           0.095870          0.092630        0.061540             0.033500   \n",
       "75%           0.105300          0.130400        0.130700             0.074000   \n",
       "max           0.163400          0.345400        0.426800             0.201200   \n",
       "\n",
       "       symmetry_mean  ...  radius_worst  texture_worst  perimeter_worst  \\\n",
       "count     569.000000  ...    569.000000     569.000000       569.000000   \n",
       "mean        0.181162  ...     16.269190      25.677223       107.261213   \n",
       "std         0.027414  ...      4.833242       6.146258        33.602542   \n",
       "min         0.106000  ...      7.930000      12.020000        50.410000   \n",
       "25%         0.161900  ...     13.010000      21.080000        84.110000   \n",
       "50%         0.179200  ...     14.970000      25.410000        97.660000   \n",
       "75%         0.195700  ...     18.790000      29.720000       125.400000   \n",
       "max         0.304000  ...     36.040000      49.540000       251.200000   \n",
       "\n",
       "        area_worst  smoothness_worst  compactness_worst  concavity_worst  \\\n",
       "count   569.000000        569.000000         569.000000       569.000000   \n",
       "mean    880.583128          0.132369           0.254265         0.272188   \n",
       "std     569.356993          0.022832           0.157336         0.208624   \n",
       "min     185.200000          0.071170           0.027290         0.000000   \n",
       "25%     515.300000          0.116600           0.147200         0.114500   \n",
       "50%     686.500000          0.131300           0.211900         0.226700   \n",
       "75%    1084.000000          0.146000           0.339100         0.382900   \n",
       "max    4254.000000          0.222600           1.058000         1.252000   \n",
       "\n",
       "       concave points_worst  symmetry_worst  fractal_dimension_worst  \n",
       "count            569.000000      569.000000               569.000000  \n",
       "mean               0.114606        0.290076                 0.083946  \n",
       "std                0.065732        0.061867                 0.018061  \n",
       "min                0.000000        0.156500                 0.055040  \n",
       "25%                0.064930        0.250400                 0.071460  \n",
       "50%                0.099930        0.282200                 0.080040  \n",
       "75%                0.161400        0.317900                 0.092080  \n",
       "max                0.291000        0.663800                 0.207500  \n",
       "\n",
       "[8 rows x 31 columns]"
      ]
     },
     "execution_count": 6,
     "metadata": {},
     "output_type": "execute_result"
    }
   ],
   "source": [
    "df.describe()"
   ]
  },
  {
   "cell_type": "markdown",
   "metadata": {},
   "source": [
    "## AutoML Configuration\n",
    "\n",
    "TODO: Explain why you chose the automl settings and cofiguration you used below."
   ]
  },
  {
   "cell_type": "code",
   "execution_count": 7,
   "metadata": {
    "gather": {
     "logged": 1706989285868
    },
    "jupyter": {
     "outputs_hidden": false,
     "source_hidden": false
    },
    "nteract": {
     "transient": {
      "deleting": false
     }
    }
   },
   "outputs": [],
   "source": [
    "# Automl settings\n",
    "automl_settings = {\n",
    "    \"experiment_timeout_minutes\": 20,\n",
    "    \"max_concurrent_iterations\": 4,\n",
    "    \"n_cross_validations\": 5,\n",
    "    \"primary_metric\" : 'AUC_weighted'\n",
    "}\n",
    "\n",
    "# Automl config\n",
    "automl_config = AutoMLConfig(compute_target=compute_target,\n",
    "                             task = \"classification\",\n",
    "                             training_data=dataset,\n",
    "                             label_column_name=\"diagnosis\",   \n",
    "                             path = project_folder,\n",
    "                             enable_early_stopping= True,\n",
    "                             enable_onnx_compatible_models=True,\n",
    "                             featurization= 'auto',\n",
    "                             debug_log = \"automl_errors.log\",\n",
    "                             **automl_settings\n",
    "                            )\n"
   ]
  },
  {
   "cell_type": "code",
   "execution_count": 8,
   "metadata": {
    "gather": {
     "logged": 1706993267610
    },
    "jupyter": {
     "outputs_hidden": false,
     "source_hidden": false
    },
    "nteract": {
     "transient": {
      "deleting": false
     }
    }
   },
   "outputs": [
    {
     "name": "stdout",
     "output_type": "stream",
     "text": [
      "Submitting remote run.\n"
     ]
    },
    {
     "data": {
      "text/html": [
       "<table style=\"width:100%\"><tr><th>Experiment</th><th>Id</th><th>Type</th><th>Status</th><th>Details Page</th><th>Docs Page</th></tr><tr><td>BreastCancer-Experiment</td><td>AutoML_cd384120-893a-45a8-8048-8d6fc6280a44</td><td>automl</td><td>NotStarted</td><td><a href=\"https://ml.azure.com/runs/AutoML_cd384120-893a-45a8-8048-8d6fc6280a44?wsid=/subscriptions/9b72f9e6-56c5-4c16-991b-19c652994860/resourcegroups/aml-quickstarts-251697/workspaces/quick-starts-ws-251697&amp;tid=660b3398-b80e-49d2-bc5b-ac1dc93b5254\" target=\"_blank\" rel=\"noopener\">Link to Azure Machine Learning studio</a></td><td><a href=\"https://docs.microsoft.com/en-us/python/api/overview/azure/ml/intro?view=azure-ml-py\" target=\"_blank\" rel=\"noopener\">Link to Documentation</a></td></tr></table>"
      ]
     },
     "metadata": {},
     "output_type": "display_data"
    },
    {
     "data": {
      "application/vnd.jupyter.widget-view+json": {
       "model_id": "ca760b7b21a14280814d51fbb1698840",
       "version_major": 2,
       "version_minor": 0
      },
      "text/plain": [
       "_AutoMLWidget(widget_settings={'childWidgetDisplay': 'popup', 'send_telemetry': False, 'log_level': 'INFO', 's…"
      ]
     },
     "metadata": {},
     "output_type": "display_data"
    },
    {
     "data": {
      "application/aml.mini.widget.v1": "{\"status\": \"Completed\", \"workbench_run_details_uri\": \"https://ml.azure.com/runs/AutoML_cd384120-893a-45a8-8048-8d6fc6280a44?wsid=/subscriptions/9b72f9e6-56c5-4c16-991b-19c652994860/resourcegroups/aml-quickstarts-251697/workspaces/quick-starts-ws-251697&tid=660b3398-b80e-49d2-bc5b-ac1dc93b5254\", \"run_id\": \"AutoML_cd384120-893a-45a8-8048-8d6fc6280a44\", \"run_properties\": {\"run_id\": \"AutoML_cd384120-893a-45a8-8048-8d6fc6280a44\", \"created_utc\": \"2024-02-05T09:09:20.479296Z\", \"properties\": {\"num_iterations\": \"1000\", \"training_type\": \"TrainFull\", \"acquisition_function\": \"EI\", \"primary_metric\": \"AUC_weighted\", \"train_split\": \"0\", \"acquisition_parameter\": \"0\", \"num_cross_validation\": \"5\", \"target\": \"azurecapstone-project\", \"AMLSettingsJsonString\": \"{\\\"path\\\":null,\\\"name\\\":\\\"BreastCancer-Experiment\\\",\\\"subscription_id\\\":\\\"9b72f9e6-56c5-4c16-991b-19c652994860\\\",\\\"resource_group\\\":\\\"aml-quickstarts-251697\\\",\\\"workspace_name\\\":\\\"quick-starts-ws-251697\\\",\\\"region\\\":\\\"westus2\\\",\\\"compute_target\\\":\\\"azurecapstone-project\\\",\\\"spark_service\\\":null,\\\"azure_service\\\":\\\"remote\\\",\\\"many_models\\\":false,\\\"pipeline_fetch_max_batch_size\\\":1,\\\"enable_batch_run\\\":true,\\\"enable_parallel_run\\\":false,\\\"num_procs\\\":null,\\\"enable_run_restructure\\\":false,\\\"start_auxiliary_runs_before_parent_complete\\\":false,\\\"enable_code_generation\\\":true,\\\"iterations\\\":1000,\\\"primary_metric\\\":\\\"AUC_weighted\\\",\\\"task_type\\\":\\\"classification\\\",\\\"positive_label\\\":null,\\\"data_script\\\":null,\\\"test_size\\\":0.0,\\\"test_include_predictions_only\\\":false,\\\"validation_size\\\":0.0,\\\"n_cross_validations\\\":5,\\\"y_min\\\":null,\\\"y_max\\\":null,\\\"num_classes\\\":null,\\\"featurization\\\":\\\"auto\\\",\\\"_ignore_package_version_incompatibilities\\\":false,\\\"is_timeseries\\\":false,\\\"max_cores_per_iteration\\\":1,\\\"max_concurrent_iterations\\\":4,\\\"iteration_timeout_minutes\\\":null,\\\"mem_in_mb\\\":null,\\\"enforce_time_on_windows\\\":false,\\\"experiment_timeout_minutes\\\":20,\\\"experiment_exit_score\\\":null,\\\"partition_column_names\\\":null,\\\"whitelist_models\\\":null,\\\"blacklist_algos\\\":[\\\"TensorFlowLinearClassifier\\\",\\\"TensorFlowDNN\\\"],\\\"supported_models\\\":[\\\"DecisionTree\\\",\\\"LinearSVM\\\",\\\"TensorFlowLinearClassifier\\\",\\\"ExtremeRandomTrees\\\",\\\"AveragedPerceptronClassifier\\\",\\\"XGBoostClassifier\\\",\\\"GradientBoosting\\\",\\\"SGD\\\",\\\"KNN\\\",\\\"BernoulliNaiveBayes\\\",\\\"TabnetClassifier\\\",\\\"LightGBM\\\",\\\"TensorFlowDNN\\\",\\\"RandomForest\\\",\\\"SVM\\\",\\\"LogisticRegression\\\",\\\"MultinomialNaiveBayes\\\"],\\\"private_models\\\":[],\\\"auto_blacklist\\\":true,\\\"blacklist_samples_reached\\\":false,\\\"exclude_nan_labels\\\":true,\\\"verbosity\\\":20,\\\"_debug_log\\\":\\\"azureml_automl.log\\\",\\\"show_warnings\\\":false,\\\"model_explainability\\\":true,\\\"service_url\\\":null,\\\"sdk_url\\\":null,\\\"sdk_packages\\\":null,\\\"enable_onnx_compatible_models\\\":true,\\\"enable_split_onnx_featurizer_estimator_models\\\":false,\\\"vm_type\\\":\\\"STANDARD_D2_V2\\\",\\\"telemetry_verbosity\\\":20,\\\"send_telemetry\\\":true,\\\"enable_dnn\\\":false,\\\"scenario\\\":\\\"AutoML\\\",\\\"environment_label\\\":null,\\\"save_mlflow\\\":false,\\\"enable_categorical_indicators\\\":false,\\\"force_text_dnn\\\":false,\\\"enable_feature_sweeping\\\":false,\\\"enable_early_stopping\\\":true,\\\"early_stopping_n_iters\\\":10,\\\"arguments\\\":null,\\\"dataset_id\\\":\\\"89364875-33e2-4b3b-bcf4-ccdb52d24546\\\",\\\"hyperdrive_config\\\":null,\\\"validation_dataset_id\\\":null,\\\"run_source\\\":null,\\\"metrics\\\":null,\\\"enable_metric_confidence\\\":false,\\\"enable_ensembling\\\":true,\\\"enable_stack_ensembling\\\":false,\\\"ensemble_iterations\\\":15,\\\"enable_tf\\\":false,\\\"enable_subsampling\\\":null,\\\"subsample_seed\\\":null,\\\"enable_nimbusml\\\":false,\\\"enable_streaming\\\":false,\\\"force_streaming\\\":false,\\\"track_child_runs\\\":true,\\\"n_best_runs\\\":1,\\\"allowed_private_models\\\":[],\\\"label_column_name\\\":\\\"diagnosis\\\",\\\"weight_column_name\\\":null,\\\"cv_split_column_names\\\":null,\\\"enable_local_managed\\\":false,\\\"_local_managed_run_id\\\":null,\\\"cost_mode\\\":1,\\\"lag_length\\\":0,\\\"metric_operation\\\":\\\"maximize\\\",\\\"preprocess\\\":true}\", \"DataPrepJsonString\": \"{\\\\\\\"training_data\\\\\\\": {\\\\\\\"datasetId\\\\\\\": \\\\\\\"89364875-33e2-4b3b-bcf4-ccdb52d24546\\\\\\\"}, \\\\\\\"datasets\\\\\\\": 0}\", \"EnableSubsampling\": null, \"runTemplate\": \"AutoML\", \"azureml.runsource\": \"automl\", \"display_task_type\": \"classification\", \"dependencies_versions\": \"{\\\"azureml-dataprep-native\\\": \\\"38.0.0\\\", \\\"azureml-dataprep\\\": \\\"4.10.8\\\", \\\"azureml-dataprep-rslex\\\": \\\"2.17.12\\\", \\\"azureml-train-automl-runtime\\\": \\\"1.51.0.post2\\\", \\\"azureml-train-automl-client\\\": \\\"1.51.0.post1\\\", \\\"azureml-training-tabular\\\": \\\"1.51.0.post1\\\", \\\"azureml-automl-runtime\\\": \\\"1.51.0.post1\\\", \\\"azureml-automl-core\\\": \\\"1.51.0.post1\\\", \\\"azureml-mlflow\\\": \\\"1.51.0\\\", \\\"azureml-datadrift\\\": \\\"1.51.0\\\", \\\"azureml-pipeline\\\": \\\"1.51.0\\\", \\\"azureml-contrib-dataset\\\": \\\"1.51.0\\\", \\\"azureml-contrib-notebook\\\": \\\"1.51.0\\\", \\\"azureml-accel-models\\\": \\\"1.51.0\\\", \\\"azureml-automl-dnn-nlp\\\": \\\"1.51.0\\\", \\\"azureml-pipeline-core\\\": \\\"1.51.0\\\", \\\"azureml-responsibleai\\\": \\\"1.51.0\\\", \\\"azureml-contrib-automl-pipeline-steps\\\": \\\"1.51.0\\\", \\\"azureml-pipeline-steps\\\": \\\"1.51.0\\\", \\\"azureml-core\\\": \\\"1.51.0\\\", \\\"azureml-contrib-reinforcementlearning\\\": \\\"1.51.0\\\", \\\"azureml-contrib-server\\\": \\\"1.51.0\\\", \\\"azureml-opendatasets\\\": \\\"1.51.0\\\", \\\"azureml-contrib-services\\\": \\\"1.51.0\\\", \\\"azureml-telemetry\\\": \\\"1.51.0\\\", \\\"azureml-train-restclients-hyperdrive\\\": \\\"1.51.0\\\", \\\"azureml-interpret\\\": \\\"1.51.0\\\", \\\"azureml-train-core\\\": \\\"1.51.0\\\", \\\"azureml-tensorboard\\\": \\\"1.51.0\\\", \\\"azureml-train\\\": \\\"1.51.0\\\", \\\"azureml-contrib-pipeline-steps\\\": \\\"1.51.0\\\", \\\"azureml-explain-model\\\": \\\"1.51.0\\\", \\\"azureml-cli-common\\\": \\\"1.51.0\\\", \\\"azureml-widgets\\\": \\\"1.51.0\\\", \\\"azureml-train-automl\\\": \\\"1.51.0\\\", \\\"azureml-defaults\\\": \\\"1.51.0\\\", \\\"azureml-contrib-fairness\\\": \\\"1.51.0\\\", \\\"azureml-sdk\\\": \\\"1.51.0\\\", \\\"azureml-dataset-runtime\\\": \\\"1.51.0\\\", \\\"azureml-inference-server-http\\\": \\\"0.8.4\\\"}\", \"_aml_system_scenario_identification\": \"Remote.Parent\", \"ClientType\": \"SDK\", \"PlatformVersion\": \"DPV1\", \"environment_cpu_name\": \"AzureML-AutoML\", \"environment_cpu_label\": \"scikit-upgrade2\", \"environment_gpu_name\": \"AzureML-AutoML-GPU\", \"environment_gpu_label\": \"scikit-upgrade2\", \"root_attribution\": \"automl\", \"attribution\": \"AutoML\", \"Orchestrator\": \"AutoML\", \"CancelUri\": \"https://westus2.api.azureml.ms/jasmine/v1.0/subscriptions/9b72f9e6-56c5-4c16-991b-19c652994860/resourceGroups/aml-quickstarts-251697/providers/Microsoft.MachineLearningServices/workspaces/quick-starts-ws-251697/experimentids/276f01db-8708-4a93-99c4-985fbb01a4b7/cancel/AutoML_cd384120-893a-45a8-8048-8d6fc6280a44\", \"ClientSdkVersion\": null, \"snapshotId\": \"00000000-0000-0000-0000-000000000000\", \"SetupRunId\": \"AutoML_cd384120-893a-45a8-8048-8d6fc6280a44_setup\", \"SetupRunContainerId\": \"dcid.AutoML_cd384120-893a-45a8-8048-8d6fc6280a44_setup\", \"FeaturizationRunJsonPath\": \"featurizer_container.json\", \"FeaturizationRunId\": \"AutoML_cd384120-893a-45a8-8048-8d6fc6280a44_featurize\", \"ProblemInfoJsonString\": \"{\\\"dataset_num_categorical\\\": 0, \\\"is_sparse\\\": false, \\\"subsampling\\\": false, \\\"has_extra_col\\\": true, \\\"dataset_classes\\\": 2, \\\"dataset_features\\\": 31, \\\"dataset_samples\\\": 569, \\\"single_frequency_class_detected\\\": false}\", \"ModelExplainRunId\": \"AutoML_cd384120-893a-45a8-8048-8d6fc6280a44_ModelExplain\"}, \"tags\": {\"model_explain_run\": \"best_run\", \"_aml_system_automl_run_workspace_id\": \"c46c0d27-1115-4bba-bad2-e05bcabaf5a8\", \"_aml_system_azureml.automlComponent\": \"AutoML\", \"pipeline_id_000\": \"5dfac790c5c209f98a1da2dc1c7fb76f0397324f;c7af0367625be6ac5c2fecbfc72ed444cb7a2111;51ae05309834b29f71340af1008fc94fbd8213f4;ce2643edf3d450b10c86c7d034a9bc952dc282d3;039a99c3d5147edeb525249e2660628be3e8b83f;a18bd1af1629e8f96b25a32ac94e62b3bd9a9605;a3dadd95854bf6116ab454844302b51d417d78b7;1dfdf370ba770047b14bfa59c40920815defcdab;e92a63ad06df7b68a48ce96c06fad3fbf2a25ce2;5bc24cef89e67ee668d55e59548e1032cfbc7f0f;516a24fb1445632ecf04366c17b960ce157878b3;088b94df63b852cc8cba96bb2fa191ce8d1ef2e5;681a59302459aec2cc115ddbc14e1d28f4b3b8df;294650ec23bc3d067a4972de7ceb12f6e97260fa;4f207270c6817858b81b8050f1efa1d0053db52e;634afb4b36be9286ca21289f56b5f7cdf1c72fa9;7ea0a64582be36507254a026ac98e9a5a49e1f34;b983b703e4d6dbffd4a815a4d1c2ed94225c5027;6f4a466f84f725a47910c1dff062a1bb46df2a21;dea7fdbaedc77258dbfe31dbfed41e768ca38939;a72eb56f3d4aadb7b7f0149ba6e5f05657a95ca1;9610149fbcf43017aa810a290e9c04cbe6fa8684;a7434e890cabef86b0ce4ae71fb633e1e92b854d;1e38ae92baee19b18f211a8b14c16015d5ee3dc3;169ee938398f3d9dbb72503258e097a85432b6c9;55609b63cef82650f347f75f468356428beb60fc;c74787cd2f0507b852a1ac70d504d83ac9bdec83;fd9c8284f8cabb25c8c6d3073dac3316b188423b;fce9cbb45e12a1de9e002997fb16ef7abff5a367;f476490fe3c1a500ea0e52a1df5c04f838c8426f;835074966ac5351570e037c312c41a2410987b21;eb182ddcb878d4cb26fc5f29014b50921addb130;45a2b456f7e2442196ff2b5b80e43afcdc33cb05;aa9bb1be0fdd90d85173de50544a9c238007a00e;c333b62373921d582b55bd524c0494d07552ec41;a3d638a252f9f4db61f1307c1ba13981faeae142;8c00fc7a571495dd75759cfc7a0fd491e680e8fe;8716a81b0684aedc5da6e4385c58bb7b922d2ce0;28df615b5b82d37b220b3a82a0a5b67ee28db734;b9fa8bf37aef47590ee2611ea49af2a1d5d325fc;1e3ec75dde78c9f11c110951eb946e05ab32ab24;5280752a2d9ce9f8dd6f2ec56bf4459ebee42cd4;017cac792b96b33481eb24859e8f5e20efa63d58;96cb1f6334642835f1e4868f949663808245f352;7968b0b8248555fd37a32beb3696cc9ee95171a1;d83d558bd89e185c5eeba7d1117dbc409fb60e39;b3b90cbf98cabda0c1e3840f405d26ad4cb275a0;5aba097241bc400ae8f821f116b5a04d9fa689b2;__AutoML_Ensemble__\", \"score_000\": \"0.9931983676407905;0.9941429596242175;0.9862569626427135;0.9859649737032516;0.9896363115568763;0.8778468450761532;0.9801271173135481;0.9716877882451967;0.9893355119223137;0.9789937972485054;0.98455918576333;0.9927507801294124;0.9762847059936932;0.9884932298093849;0.9906341427022701;0.9678706383444983;0.9901961755280595;0.9874266100428345;0.9637173667512862;0.9926746690113519;0.9881442346644569;0.9876877333979129;0.9915489258336727;0.9856513683410324;0.995203036089654;0.9869344233999193;0.99187374186338;0.9861723157259472;0.9851583923370433;0.993134673063313;0.9950823453919202;0.9971007152233439;0.9962501225124807;0.9955722837565582;0.9968966606043453;0.33109952710644064;0.9882843716111582;0.9959618081673934;0.9951131989871737;0.9845811184388819;0.9861225248505535;0.9882288736017909;0.9960996814627002;0.99027208122669;0.9936341962054911;NaN;NaN;NaN;0.9973031263121731\", \"predicted_cost_000\": \"0;0;0.5;0.5;0.5;0.5;0.5;0.5;0.5;0.5;0.5;0.5;0.5;0.5;0.5;0.5;0.5;0.5;0.5;0.5;0.02862660817453122;0.15651140137986397;0.5689119905357792;0.3868068288658626;0.3281838963443726;0.7910839457118503;0.08255102284357926;0.20376160320926465;0.26130963498035187;0.29592529303669873;0.48653894483713706;0.08444032056934014;0.1295928569931163;0.043912843410964714;0.13060437786787896;0.14350181528210676;0.3220207559046428;0.04023492558565237;0.36940540410136113;0.5874699356975203;0.017879338216568137;0.522042210512894;0.05367651953878457;0.30143487524755164;0.11895098925606823;0.10699981152716803;0.23501053286978138;0.023411839535190816;0\", \"fit_time_000\": \"0.19310619999999998;0.11873879999999999;0.0388262;0.0413728;0.0434954;0.006436599999999999;0.050788;0.25250880000000003;0.0173988;0.1840512;0.0620448;0.0371258;0.0530106;0.037775199999999995;0.11601920000000002;0.015087800000000002;0.067441;0.0672252;0.030744000000000004;0.5512544;0.27148999999999995;0.06150100000000001;0.3621682;0.076546;0.10513140000000001;1.7980429999999998;0.0745832;0.08480739999999999;1.1096434;0.1611356;0.1368358;0.0318268;0.033449400000000004;0.03231540000000001;0.051756;0.0746712;0.239981;0.0380776;0.1173708;1.1121874;0.0593494;0.5315888;0.0368134;0.28925340000000005;0.2251564;NaN;NaN;NaN;35\", \"training_percent_000\": \"100;100;100;100;100;100;100;100;100;100;100;100;100;100;100;100;100;100;100;100;100;100;100;100;100;100;100;100;100;100;100;100;100;100;100;100;100;100;100;100;100;100;100;100;100;100;100;100;100\", \"iteration_000\": \"0;1;2;3;4;5;6;7;8;9;10;11;15;12;16;13;17;14;18;19;21;22;24;23;25;26;20;27;28;29;30;31;32;33;34;35;36;37;38;39;40;41;42;43;44;47;46;45;48\", \"run_preprocessor_000\": \"MaxAbsScaler;MaxAbsScaler;MaxAbsScaler;MaxAbsScaler;StandardScalerWrapper;StandardScalerWrapper;SparseNormalizer;SparseNormalizer;RobustScaler;MinMaxScaler;StandardScalerWrapper;StandardScalerWrapper;SparseNormalizer;StandardScalerWrapper;MinMaxScaler;SparseNormalizer;MinMaxScaler;RobustScaler;SparseNormalizer;MaxAbsScaler;StandardScalerWrapper;MaxAbsScaler;StandardScalerWrapper;MaxAbsScaler;StandardScalerWrapper;MaxAbsScaler;StandardScalerWrapper;MaxAbsScaler;RobustScaler;StandardScalerWrapper;StandardScalerWrapper;StandardScalerWrapper;StandardScalerWrapper;StandardScalerWrapper;RobustScaler;SparseNormalizer;StandardScalerWrapper;StandardScalerWrapper;StandardScalerWrapper;MinMaxScaler;StandardScalerWrapper;MinMaxScaler;StandardScalerWrapper;RobustScaler;StandardScalerWrapper;;;;\", \"run_algorithm_000\": \"LightGBM;XGBoostClassifier;ExtremeRandomTrees;RandomForest;LightGBM;KNN;XGBoostClassifier;RandomForest;KNN;RandomForest;LogisticRegression;SVM;XGBoostClassifier;XGBoostClassifier;ExtremeRandomTrees;KNN;ExtremeRandomTrees;ExtremeRandomTrees;LightGBM;ExtremeRandomTrees;RandomForest;LightGBM;ExtremeRandomTrees;LogisticRegression;XGBoostClassifier;RandomForest;XGBoostClassifier;LogisticRegression;RandomForest;LightGBM;XGBoostClassifier;SVM;SVM;SVM;SVM;SVM;XGBoostClassifier;SVM;XGBoostClassifier;RandomForest;SVM;ExtremeRandomTrees;LogisticRegression;GradientBoosting;GradientBoosting;;;;VotingEnsemble\", \"dynamic_allowlisting_iterations\": \"<25>;<30>;<35>;<40>;<45>;\", \"_aml_system_azureml.automl_early_exit_message\": \"No scores improved over last 10 iterations, so experiment stopped early. This early stopping behavior can be disabled by setting enable_early_stopping = False in AutoMLConfig for notebook/python SDK runs.\", \"automl_best_child_run_id\": \"AutoML_cd384120-893a-45a8-8048-8d6fc6280a44_48\", \"model_explain_best_run_child_id\": \"AutoML_cd384120-893a-45a8-8048-8d6fc6280a44_48\"}, \"end_time_utc\": \"2024-02-05T09:36:25.120981Z\", \"status\": \"Completed\", \"log_files\": {}, \"log_groups\": [], \"run_duration\": \"0:27:04\", \"run_number\": \"1707124160\", \"run_queued_details\": {\"status\": \"Completed\", \"details\": null}}, \"child_runs\": [{\"run_id\": \"AutoML_cd384120-893a-45a8-8048-8d6fc6280a44_setup\", \"run_number\": 1707124175, \"metric\": null, \"status\": \"Completed\", \"run_type\": \"azureml.scriptrun\", \"training_percent\": null, \"start_time\": \"2024-02-05T09:15:03.291234Z\", \"end_time\": \"2024-02-05T09:17:59.58915Z\", \"created_time\": \"2024-02-05T09:09:35.65857Z\", \"created_time_dt\": \"2024-02-05T09:09:35.65857Z\", \"duration\": \"0:08:23\", \"iteration\": null, \"goal\": null, \"run_name\": \"Completed\", \"run_properties\": null}, {\"run_id\": \"AutoML_cd384120-893a-45a8-8048-8d6fc6280a44_featurize\", \"run_number\": 1707124679, \"metric\": null, \"status\": \"Completed\", \"run_type\": \"automl.featurization\", \"training_percent\": null, \"start_time\": \"2024-02-05T09:18:00.227627Z\", \"end_time\": \"2024-02-05T09:19:04.689027Z\", \"created_time\": \"2024-02-05T09:17:59.787591Z\", \"created_time_dt\": \"2024-02-05T09:17:59.787591Z\", \"duration\": \"0:01:04\", \"iteration\": null, \"goal\": null, \"run_name\": \"Completed\", \"run_properties\": null}, {\"run_id\": \"AutoML_cd384120-893a-45a8-8048-8d6fc6280a44_0\", \"run_number\": 1707124746, \"metric\": null, \"status\": \"Completed\", \"run_type\": null, \"training_percent\": \"100\", \"start_time\": \"2024-02-05T09:19:45.239916Z\", \"end_time\": \"2024-02-05T09:20:02.185019Z\", \"created_time\": \"2024-02-05T09:19:06.224642Z\", \"created_time_dt\": \"2024-02-05T09:19:06.224642Z\", \"duration\": \"0:00:55\", \"iteration\": \"0\", \"goal\": \"AUC_weighted_max\", \"run_name\": \"MaxAbsScaler, LightGBM\", \"run_properties\": \"copy=True\", \"primary_metric\": 0.99319837, \"best_metric\": 0.99319837}, {\"run_id\": \"AutoML_cd384120-893a-45a8-8048-8d6fc6280a44_2\", \"run_number\": 1707124747, \"metric\": null, \"status\": \"Completed\", \"run_type\": null, \"training_percent\": \"100\", \"start_time\": \"2024-02-05T09:20:19.275258Z\", \"end_time\": \"2024-02-05T09:20:32.374571Z\", \"created_time\": \"2024-02-05T09:19:07.162827Z\", \"created_time_dt\": \"2024-02-05T09:19:07.162827Z\", \"duration\": \"0:01:25\", \"iteration\": \"2\", \"goal\": \"AUC_weighted_max\", \"run_name\": \"MaxAbsScaler, ExtremeRandomTrees\", \"run_properties\": \"copy=True\", \"primary_metric\": 0.98625696, \"best_metric\": 0.99319837}, {\"run_id\": \"AutoML_cd384120-893a-45a8-8048-8d6fc6280a44_worker_0\", \"run_number\": 1707124748, \"metric\": null, \"status\": \"Completed\", \"run_type\": \"azureml.scriptrun\", \"training_percent\": null, \"start_time\": \"2024-02-05T09:19:32.06224Z\", \"end_time\": \"2024-02-05T09:21:14.93728Z\", \"created_time\": \"2024-02-05T09:19:08.419753Z\", \"created_time_dt\": \"2024-02-05T09:19:08.419753Z\", \"duration\": \"0:02:06\", \"iteration\": null, \"goal\": null, \"run_name\": \"Completed\", \"run_properties\": null}, {\"run_id\": \"AutoML_cd384120-893a-45a8-8048-8d6fc6280a44_6\", \"run_number\": 1707124749, \"metric\": null, \"status\": \"Completed\", \"run_type\": null, \"training_percent\": \"100\", \"start_time\": \"2024-02-05T09:22:01.73895Z\", \"end_time\": \"2024-02-05T09:22:15.224661Z\", \"created_time\": \"2024-02-05T09:19:09.165942Z\", \"created_time_dt\": \"2024-02-05T09:19:09.165942Z\", \"duration\": \"0:03:06\", \"iteration\": \"6\", \"goal\": \"AUC_weighted_max\", \"run_name\": \"SparseNormalizer, XGBoostClassifier\", \"run_properties\": \"copy=True, norm='max'\", \"primary_metric\": 0.98012712, \"best_metric\": 0.99319837}, {\"run_id\": \"AutoML_cd384120-893a-45a8-8048-8d6fc6280a44_worker_1\", \"run_number\": 1707124750, \"metric\": null, \"status\": \"Completed\", \"run_type\": \"azureml.scriptrun\", \"training_percent\": null, \"start_time\": \"2024-02-05T09:21:18.979293Z\", \"end_time\": \"2024-02-05T09:23:10.885767Z\", \"created_time\": \"2024-02-05T09:19:10.613083Z\", \"created_time_dt\": \"2024-02-05T09:19:10.613083Z\", \"duration\": \"0:04:00\", \"iteration\": null, \"goal\": null, \"run_name\": \"Completed\", \"run_properties\": null}, {\"run_id\": \"AutoML_cd384120-893a-45a8-8048-8d6fc6280a44_11\", \"run_number\": 1707124751, \"metric\": null, \"status\": \"Completed\", \"run_type\": null, \"training_percent\": \"100\", \"start_time\": \"2024-02-05T09:25:40.098403Z\", \"end_time\": \"2024-02-05T09:25:54.306546Z\", \"created_time\": \"2024-02-05T09:19:11.189529Z\", \"created_time_dt\": \"2024-02-05T09:19:11.189529Z\", \"duration\": \"0:06:43\", \"iteration\": \"11\", \"goal\": \"AUC_weighted_max\", \"run_name\": \"StandardScalerWrapper, SVM\", \"run_properties\": \"copy=True, with_mean=True, with_std=True\", \"primary_metric\": 0.99275078, \"best_metric\": 0.99319837}, {\"run_id\": \"AutoML_cd384120-893a-45a8-8048-8d6fc6280a44_worker_2\", \"run_number\": 1707124752, \"metric\": null, \"status\": \"Completed\", \"run_type\": \"azureml.scriptrun\", \"training_percent\": null, \"start_time\": \"2024-02-05T09:23:00.973971Z\", \"end_time\": \"2024-02-05T09:26:49.206061Z\", \"created_time\": \"2024-02-05T09:19:12.673004Z\", \"created_time_dt\": \"2024-02-05T09:19:12.673004Z\", \"duration\": \"0:07:36\", \"iteration\": null, \"goal\": null, \"run_name\": \"Completed\", \"run_properties\": null}, {\"run_id\": \"AutoML_cd384120-893a-45a8-8048-8d6fc6280a44_16\", \"run_number\": 1707124753, \"metric\": null, \"status\": \"Completed\", \"run_type\": null, \"training_percent\": \"100\", \"start_time\": \"2024-02-05T09:26:02.212904Z\", \"end_time\": \"2024-02-05T09:26:16.258033Z\", \"created_time\": \"2024-02-05T09:19:13.33694Z\", \"created_time_dt\": \"2024-02-05T09:19:13.33694Z\", \"duration\": \"0:07:02\", \"iteration\": \"16\", \"goal\": \"AUC_weighted_max\", \"run_name\": \"MinMaxScaler, ExtremeRandomTrees\", \"run_properties\": \"copy=True, feature_range=(0, 1\", \"primary_metric\": 0.99063414, \"best_metric\": 0.99319837}, {\"run_id\": \"AutoML_cd384120-893a-45a8-8048-8d6fc6280a44_worker_3\", \"run_number\": 1707124754, \"metric\": null, \"status\": \"Completed\", \"run_type\": \"azureml.scriptrun\", \"training_percent\": null, \"start_time\": \"2024-02-05T09:23:03.808257Z\", \"end_time\": \"2024-02-05T09:27:16.450415Z\", \"created_time\": \"2024-02-05T09:19:14.905933Z\", \"created_time_dt\": \"2024-02-05T09:19:14.905933Z\", \"duration\": \"0:08:01\", \"iteration\": null, \"goal\": null, \"run_name\": \"Completed\", \"run_properties\": null}, {\"run_id\": \"AutoML_cd384120-893a-45a8-8048-8d6fc6280a44_21\", \"run_number\": 1707125195, \"metric\": null, \"status\": \"Completed\", \"run_type\": \"azureml.scriptrun\", \"training_percent\": \"100\", \"start_time\": \"2024-02-05T09:27:06.045496Z\", \"end_time\": \"2024-02-05T09:27:43.202124Z\", \"created_time\": \"2024-02-05T09:26:35.034467Z\", \"created_time_dt\": \"2024-02-05T09:26:35.034467Z\", \"duration\": \"0:01:08\", \"iteration\": \"21\", \"goal\": \"AUC_weighted_max\", \"run_name\": \"StandardScalerWrapper, RandomForest\", \"run_properties\": \"copy=True, with_mean=False, with_std=False\", \"primary_metric\": 0.98814423, \"best_metric\": 0.99319837}, {\"run_id\": \"AutoML_cd384120-893a-45a8-8048-8d6fc6280a44_22\", \"run_number\": 1707125228, \"metric\": null, \"status\": \"Completed\", \"run_type\": \"azureml.scriptrun\", \"training_percent\": \"100\", \"start_time\": \"2024-02-05T09:27:37.389719Z\", \"end_time\": \"2024-02-05T09:28:13.075725Z\", \"created_time\": \"2024-02-05T09:27:08.710883Z\", \"created_time_dt\": \"2024-02-05T09:27:08.710883Z\", \"duration\": \"0:01:04\", \"iteration\": \"22\", \"goal\": \"AUC_weighted_max\", \"run_name\": \"MaxAbsScaler, LightGBM\", \"run_properties\": \"copy=True\", \"primary_metric\": 0.98768773, \"best_metric\": 0.99319837}, {\"run_id\": \"AutoML_cd384120-893a-45a8-8048-8d6fc6280a44_24\", \"run_number\": 1707125266, \"metric\": null, \"status\": \"Completed\", \"run_type\": \"azureml.scriptrun\", \"training_percent\": \"100\", \"start_time\": \"2024-02-05T09:28:10.502045Z\", \"end_time\": \"2024-02-05T09:28:47.813182Z\", \"created_time\": \"2024-02-05T09:27:46.118161Z\", \"created_time_dt\": \"2024-02-05T09:27:46.118161Z\", \"duration\": \"0:01:01\", \"iteration\": \"24\", \"goal\": \"AUC_weighted_max\", \"run_name\": \"StandardScalerWrapper, ExtremeRandomTrees\", \"run_properties\": \"copy=True, with_mean=False, with_std=True\", \"primary_metric\": 0.99154893, \"best_metric\": 0.99319837}, {\"run_id\": \"AutoML_cd384120-893a-45a8-8048-8d6fc6280a44_25\", \"run_number\": 1707125295, \"metric\": null, \"status\": \"Completed\", \"run_type\": \"azureml.scriptrun\", \"training_percent\": \"100\", \"start_time\": \"2024-02-05T09:28:40.106422Z\", \"end_time\": \"2024-02-05T09:29:19.884035Z\", \"created_time\": \"2024-02-05T09:28:15.422133Z\", \"created_time_dt\": \"2024-02-05T09:28:15.422133Z\", \"duration\": \"0:01:04\", \"iteration\": \"25\", \"goal\": \"AUC_weighted_max\", \"run_name\": \"StandardScalerWrapper, XGBoostClassifier\", \"run_properties\": \"copy=True, with_mean=False, with_std=False\", \"primary_metric\": 0.99520304, \"best_metric\": 0.99520304}, {\"run_id\": \"AutoML_cd384120-893a-45a8-8048-8d6fc6280a44_26\", \"run_number\": 1707125329, \"metric\": null, \"status\": \"Completed\", \"run_type\": \"azureml.scriptrun\", \"training_percent\": \"100\", \"start_time\": \"2024-02-05T09:29:14.952722Z\", \"end_time\": \"2024-02-05T09:30:01.282532Z\", \"created_time\": \"2024-02-05T09:28:49.456613Z\", \"created_time_dt\": \"2024-02-05T09:28:49.456613Z\", \"duration\": \"0:01:11\", \"iteration\": \"26\", \"goal\": \"AUC_weighted_max\", \"run_name\": \"MaxAbsScaler, RandomForest\", \"run_properties\": \"copy=True\", \"primary_metric\": 0.98693442, \"best_metric\": 0.99520304}, {\"run_id\": \"AutoML_cd384120-893a-45a8-8048-8d6fc6280a44_27\", \"run_number\": 1707125355, \"metric\": null, \"status\": \"Completed\", \"run_type\": \"azureml.scriptrun\", \"training_percent\": \"100\", \"start_time\": \"2024-02-05T09:29:38.031202Z\", \"end_time\": \"2024-02-05T09:30:14.62388Z\", \"created_time\": \"2024-02-05T09:29:15.694177Z\", \"created_time_dt\": \"2024-02-05T09:29:15.694177Z\", \"duration\": \"0:00:58\", \"iteration\": \"27\", \"goal\": \"AUC_weighted_max\", \"run_name\": \"MaxAbsScaler, LogisticRegression\", \"run_properties\": \"copy=True\", \"primary_metric\": 0.98617232, \"best_metric\": 0.99520304}, {\"run_id\": \"AutoML_cd384120-893a-45a8-8048-8d6fc6280a44_28\", \"run_number\": 1707125361, \"metric\": null, \"status\": \"Completed\", \"run_type\": \"azureml.scriptrun\", \"training_percent\": \"100\", \"start_time\": \"2024-02-05T09:29:44.738265Z\", \"end_time\": \"2024-02-05T09:30:29.900325Z\", \"created_time\": \"2024-02-05T09:29:21.248862Z\", \"created_time_dt\": \"2024-02-05T09:29:21.248862Z\", \"duration\": \"0:01:08\", \"iteration\": \"28\", \"goal\": \"AUC_weighted_max\", \"run_name\": \"RobustScaler, RandomForest\", \"run_properties\": \"copy=True, quantile_range=[25, 75], with_centering=True,\\n             with_scaling=False\", \"primary_metric\": 0.98515839, \"best_metric\": 0.99520304}, {\"run_id\": \"AutoML_cd384120-893a-45a8-8048-8d6fc6280a44_29\", \"run_number\": 1707125402, \"metric\": null, \"status\": \"Completed\", \"run_type\": \"azureml.scriptrun\", \"training_percent\": \"100\", \"start_time\": \"2024-02-05T09:30:27.426798Z\", \"end_time\": \"2024-02-05T09:31:04.210755Z\", \"created_time\": \"2024-02-05T09:30:02.752282Z\", \"created_time_dt\": \"2024-02-05T09:30:02.752282Z\", \"duration\": \"0:01:01\", \"iteration\": \"29\", \"goal\": \"AUC_weighted_max\", \"run_name\": \"StandardScalerWrapper, LightGBM\", \"run_properties\": \"copy=True, with_mean=True, with_std=False\", \"primary_metric\": 0.99313467, \"best_metric\": 0.99520304}, {\"run_id\": \"AutoML_cd384120-893a-45a8-8048-8d6fc6280a44_30\", \"run_number\": 1707125406, \"metric\": null, \"status\": \"Completed\", \"run_type\": \"azureml.scriptrun\", \"training_percent\": \"100\", \"start_time\": \"2024-02-05T09:30:29.899529Z\", \"end_time\": \"2024-02-05T09:31:06.376226Z\", \"created_time\": \"2024-02-05T09:30:06.294996Z\", \"created_time_dt\": \"2024-02-05T09:30:06.294996Z\", \"duration\": \"0:01:00\", \"iteration\": \"30\", \"goal\": \"AUC_weighted_max\", \"run_name\": \"StandardScalerWrapper, XGBoostClassifier\", \"run_properties\": \"copy=True, with_mean=False, with_std=False\", \"primary_metric\": 0.99508235, \"best_metric\": 0.99520304}, {\"run_id\": \"AutoML_cd384120-893a-45a8-8048-8d6fc6280a44_31\", \"run_number\": 1707125416, \"metric\": null, \"status\": \"Completed\", \"run_type\": \"azureml.scriptrun\", \"training_percent\": \"100\", \"start_time\": \"2024-02-05T09:30:39.73283Z\", \"end_time\": \"2024-02-05T09:31:18.150824Z\", \"created_time\": \"2024-02-05T09:30:16.433366Z\", \"created_time_dt\": \"2024-02-05T09:30:16.433366Z\", \"duration\": \"0:01:01\", \"iteration\": \"31\", \"goal\": \"AUC_weighted_max\", \"run_name\": \"StandardScalerWrapper, SVM\", \"run_properties\": \"copy=True, with_mean=False, with_std=True\", \"primary_metric\": 0.99710072, \"best_metric\": 0.99710072}, {\"run_id\": \"AutoML_cd384120-893a-45a8-8048-8d6fc6280a44_32\", \"run_number\": 1707125431, \"metric\": null, \"status\": \"Completed\", \"run_type\": \"azureml.scriptrun\", \"training_percent\": \"100\", \"start_time\": \"2024-02-05T09:30:57.554485Z\", \"end_time\": \"2024-02-05T09:31:33.159363Z\", \"created_time\": \"2024-02-05T09:30:31.335097Z\", \"created_time_dt\": \"2024-02-05T09:30:31.335097Z\", \"duration\": \"0:01:01\", \"iteration\": \"32\", \"goal\": \"AUC_weighted_max\", \"run_name\": \"StandardScalerWrapper, SVM\", \"run_properties\": \"copy=True, with_mean=False, with_std=True\", \"primary_metric\": 0.99625012, \"best_metric\": 0.99710072}, {\"run_id\": \"AutoML_cd384120-893a-45a8-8048-8d6fc6280a44_33\", \"run_number\": 1707125466, \"metric\": null, \"status\": \"Completed\", \"run_type\": \"azureml.scriptrun\", \"training_percent\": \"100\", \"start_time\": \"2024-02-05T09:31:30.849816Z\", \"end_time\": \"2024-02-05T09:32:05.126508Z\", \"created_time\": \"2024-02-05T09:31:06.067561Z\", \"created_time_dt\": \"2024-02-05T09:31:06.067561Z\", \"duration\": \"0:00:59\", \"iteration\": \"33\", \"goal\": \"AUC_weighted_max\", \"run_name\": \"StandardScalerWrapper, SVM\", \"run_properties\": \"copy=True, with_mean=False, with_std=True\", \"primary_metric\": 0.99557228, \"best_metric\": 0.99710072}, {\"run_id\": \"AutoML_cd384120-893a-45a8-8048-8d6fc6280a44_34\", \"run_number\": 1707125468, \"metric\": null, \"status\": \"Completed\", \"run_type\": \"azureml.scriptrun\", \"training_percent\": \"100\", \"start_time\": \"2024-02-05T09:31:30.682321Z\", \"end_time\": \"2024-02-05T09:32:06.213404Z\", \"created_time\": \"2024-02-05T09:31:08.447606Z\", \"created_time_dt\": \"2024-02-05T09:31:08.447606Z\", \"duration\": \"0:00:57\", \"iteration\": \"34\", \"goal\": \"AUC_weighted_max\", \"run_name\": \"RobustScaler, SVM\", \"run_properties\": \"copy=True, quantile_range=[25, 75], with_centering=False,\\n             with_scaling=True\", \"primary_metric\": 0.99689666, \"best_metric\": 0.99710072}, {\"run_id\": \"AutoML_cd384120-893a-45a8-8048-8d6fc6280a44_35\", \"run_number\": 1707125480, \"metric\": null, \"status\": \"Completed\", \"run_type\": \"azureml.scriptrun\", \"training_percent\": \"100\", \"start_time\": \"2024-02-05T09:31:48.162186Z\", \"end_time\": \"2024-02-05T09:32:25.417034Z\", \"created_time\": \"2024-02-05T09:31:20.672865Z\", \"created_time_dt\": \"2024-02-05T09:31:20.672865Z\", \"duration\": \"0:01:04\", \"iteration\": \"35\", \"goal\": \"AUC_weighted_max\", \"run_name\": \"SparseNormalizer, SVM\", \"run_properties\": \"copy=True, norm='max'\", \"primary_metric\": 0.33109953, \"best_metric\": 0.99710072}, {\"run_id\": \"AutoML_cd384120-893a-45a8-8048-8d6fc6280a44_36\", \"run_number\": 1707125494, \"metric\": null, \"status\": \"Completed\", \"run_type\": \"azureml.scriptrun\", \"training_percent\": \"100\", \"start_time\": \"2024-02-05T09:31:59.869958Z\", \"end_time\": \"2024-02-05T09:32:36.450214Z\", \"created_time\": \"2024-02-05T09:31:34.904887Z\", \"created_time_dt\": \"2024-02-05T09:31:34.904887Z\", \"duration\": \"0:01:01\", \"iteration\": \"36\", \"goal\": \"AUC_weighted_max\", \"run_name\": \"StandardScalerWrapper, XGBoostClassifier\", \"run_properties\": \"copy=True, with_mean=False, with_std=False\", \"primary_metric\": 0.98828437, \"best_metric\": 0.99710072}, {\"run_id\": \"AutoML_cd384120-893a-45a8-8048-8d6fc6280a44_37\", \"run_number\": 1707125526, \"metric\": null, \"status\": \"Completed\", \"run_type\": \"azureml.scriptrun\", \"training_percent\": \"100\", \"start_time\": \"2024-02-05T09:32:28.069176Z\", \"end_time\": \"2024-02-05T09:33:02.597678Z\", \"created_time\": \"2024-02-05T09:32:06.890606Z\", \"created_time_dt\": \"2024-02-05T09:32:06.890606Z\", \"duration\": \"0:00:55\", \"iteration\": \"37\", \"goal\": \"AUC_weighted_max\", \"run_name\": \"StandardScalerWrapper, SVM\", \"run_properties\": \"copy=True, with_mean=False, with_std=True\", \"primary_metric\": 0.99596181, \"best_metric\": 0.99710072}, {\"run_id\": \"AutoML_cd384120-893a-45a8-8048-8d6fc6280a44_38\", \"run_number\": 1707125529, \"metric\": null, \"status\": \"Completed\", \"run_type\": \"azureml.scriptrun\", \"training_percent\": \"100\", \"start_time\": \"2024-02-05T09:32:33.411686Z\", \"end_time\": \"2024-02-05T09:33:10.936587Z\", \"created_time\": \"2024-02-05T09:32:09.131107Z\", \"created_time_dt\": \"2024-02-05T09:32:09.131107Z\", \"duration\": \"0:01:01\", \"iteration\": \"38\", \"goal\": \"AUC_weighted_max\", \"run_name\": \"StandardScalerWrapper, XGBoostClassifier\", \"run_properties\": \"copy=True, with_mean=False, with_std=False\", \"primary_metric\": 0.9951132, \"best_metric\": 0.99710072}, {\"run_id\": \"AutoML_cd384120-893a-45a8-8048-8d6fc6280a44_39\", \"run_number\": 1707125546, \"metric\": null, \"status\": \"Completed\", \"run_type\": \"azureml.scriptrun\", \"training_percent\": \"100\", \"start_time\": \"2024-02-05T09:32:50.088465Z\", \"end_time\": \"2024-02-05T09:33:31.676342Z\", \"created_time\": \"2024-02-05T09:32:26.8357Z\", \"created_time_dt\": \"2024-02-05T09:32:26.8357Z\", \"duration\": \"0:01:04\", \"iteration\": \"39\", \"goal\": \"AUC_weighted_max\", \"run_name\": \"MinMaxScaler, RandomForest\", \"run_properties\": \"copy=True, feature_range=(0, 1\", \"primary_metric\": 0.98458112, \"best_metric\": 0.99710072}, {\"run_id\": \"AutoML_cd384120-893a-45a8-8048-8d6fc6280a44_40\", \"run_number\": 1707125558, \"metric\": null, \"status\": \"Completed\", \"run_type\": \"azureml.scriptrun\", \"training_percent\": \"100\", \"start_time\": \"2024-02-05T09:33:04.293711Z\", \"end_time\": \"2024-02-05T09:33:38.455356Z\", \"created_time\": \"2024-02-05T09:32:38.979307Z\", \"created_time_dt\": \"2024-02-05T09:32:38.979307Z\", \"duration\": \"0:00:59\", \"iteration\": \"40\", \"goal\": \"AUC_weighted_max\", \"run_name\": \"StandardScalerWrapper, SVM\", \"run_properties\": \"copy=True, with_mean=True, with_std=True\", \"primary_metric\": 0.98612252, \"best_metric\": 0.99710072}, {\"run_id\": \"AutoML_cd384120-893a-45a8-8048-8d6fc6280a44_41\", \"run_number\": 1707125584, \"metric\": null, \"status\": \"Completed\", \"run_type\": \"azureml.scriptrun\", \"training_percent\": \"100\", \"start_time\": \"2024-02-05T09:33:28.77438Z\", \"end_time\": \"2024-02-05T09:34:06.573449Z\", \"created_time\": \"2024-02-05T09:33:04.137649Z\", \"created_time_dt\": \"2024-02-05T09:33:04.137649Z\", \"duration\": \"0:01:02\", \"iteration\": \"41\", \"goal\": \"AUC_weighted_max\", \"run_name\": \"MinMaxScaler, ExtremeRandomTrees\", \"run_properties\": \"copy=True, feature_range=(0, 1\", \"primary_metric\": 0.98822887, \"best_metric\": 0.99710072}, {\"run_id\": \"AutoML_cd384120-893a-45a8-8048-8d6fc6280a44_42\", \"run_number\": 1707125592, \"metric\": null, \"status\": \"Completed\", \"run_type\": \"azureml.scriptrun\", \"training_percent\": \"100\", \"start_time\": \"2024-02-05T09:33:41.804922Z\", \"end_time\": \"2024-02-05T09:34:20.033942Z\", \"created_time\": \"2024-02-05T09:33:12.739799Z\", \"created_time_dt\": \"2024-02-05T09:33:12.739799Z\", \"duration\": \"0:01:07\", \"iteration\": \"42\", \"goal\": \"AUC_weighted_max\", \"run_name\": \"StandardScalerWrapper, LogisticRegression\", \"run_properties\": \"copy=True, with_mean=True, with_std=True\", \"primary_metric\": 0.99609968, \"best_metric\": 0.99710072}, {\"run_id\": \"AutoML_cd384120-893a-45a8-8048-8d6fc6280a44_43\", \"run_number\": 1707125613, \"metric\": null, \"status\": \"Completed\", \"run_type\": \"azureml.scriptrun\", \"training_percent\": \"100\", \"start_time\": \"2024-02-05T09:33:58.536079Z\", \"end_time\": \"2024-02-05T09:34:34.158965Z\", \"created_time\": \"2024-02-05T09:33:33.266468Z\", \"created_time_dt\": \"2024-02-05T09:33:33.266468Z\", \"duration\": \"0:01:00\", \"iteration\": \"43\", \"goal\": \"AUC_weighted_max\", \"run_name\": \"RobustScaler, GradientBoosting\", \"run_properties\": \"copy=True, quantile_range=[10, 90], with_centering=False,\\n             with_scaling=True\", \"primary_metric\": 0.99027208, \"best_metric\": 0.99710072}, {\"run_id\": \"AutoML_cd384120-893a-45a8-8048-8d6fc6280a44_44\", \"run_number\": 1707125619, \"metric\": null, \"status\": \"Completed\", \"run_type\": \"azureml.scriptrun\", \"training_percent\": \"100\", \"start_time\": \"2024-02-05T09:34:01.839134Z\", \"end_time\": \"2024-02-05T09:34:37.641055Z\", \"created_time\": \"2024-02-05T09:33:39.918795Z\", \"created_time_dt\": \"2024-02-05T09:33:39.918795Z\", \"duration\": \"0:00:57\", \"iteration\": \"44\", \"goal\": \"AUC_weighted_max\", \"run_name\": \"StandardScalerWrapper, GradientBoosting\", \"run_properties\": \"copy=True, with_mean=True, with_std=False\", \"primary_metric\": 0.9936342, \"best_metric\": 0.99710072}, {\"run_id\": \"AutoML_cd384120-893a-45a8-8048-8d6fc6280a44_45\", \"run_number\": 1707125649, \"metric\": null, \"status\": \"Canceled\", \"run_type\": \"azureml.scriptrun\", \"training_percent\": \"100\", \"start_time\": \"2024-02-05T09:34:33.129166Z\", \"end_time\": \"2024-02-05T09:34:44.10184Z\", \"created_time\": \"2024-02-05T09:34:09.023306Z\", \"created_time_dt\": \"2024-02-05T09:34:09.023306Z\", \"duration\": \"0:00:35\", \"iteration\": \"45\", \"goal\": null, \"run_name\": \"Canceled\", \"run_properties\": null}, {\"run_id\": \"AutoML_cd384120-893a-45a8-8048-8d6fc6280a44_46\", \"run_number\": 1707125661, \"metric\": null, \"status\": \"Canceled\", \"run_type\": \"azureml.scriptrun\", \"training_percent\": \"100\", \"start_time\": \"2024-02-05T09:34:38.212054Z\", \"end_time\": \"2024-02-05T09:34:42.277869Z\", \"created_time\": \"2024-02-05T09:34:21.750093Z\", \"created_time_dt\": \"2024-02-05T09:34:21.750093Z\", \"duration\": \"0:00:20\", \"iteration\": \"46\", \"goal\": null, \"run_name\": \"Canceled\", \"run_properties\": null}, {\"run_id\": \"AutoML_cd384120-893a-45a8-8048-8d6fc6280a44_47\", \"run_number\": 1707125675, \"metric\": null, \"status\": \"Canceled\", \"run_type\": \"azureml.scriptrun\", \"training_percent\": \"100\", \"start_time\": \"2024-02-05T09:34:38.261299Z\", \"end_time\": \"2024-02-05T09:34:38.495002Z\", \"created_time\": \"2024-02-05T09:34:35.682412Z\", \"created_time_dt\": \"2024-02-05T09:34:35.682412Z\", \"duration\": \"0:00:02\", \"iteration\": \"47\", \"goal\": null, \"run_name\": \"Canceled\", \"run_properties\": null}, {\"run_id\": \"AutoML_cd384120-893a-45a8-8048-8d6fc6280a44_48\", \"run_number\": 1707125684, \"metric\": null, \"status\": \"Completed\", \"run_type\": \"azureml.scriptrun\", \"training_percent\": \"100\", \"start_time\": \"2024-02-05T09:35:09.193126Z\", \"end_time\": \"2024-02-05T09:36:23.998708Z\", \"created_time\": \"2024-02-05T09:34:44.722087Z\", \"created_time_dt\": \"2024-02-05T09:34:44.722087Z\", \"duration\": \"0:01:39\", \"iteration\": \"48\", \"goal\": \"AUC_weighted_max\", \"run_name\": \"VotingEnsemble\", \"run_properties\": \"classification_labels=numpy.array([0, 1]\", \"primary_metric\": 0.99730313, \"best_metric\": 0.99730313}], \"children_metrics\": {\"categories\": [0], \"series\": {\"norm_macro_recall\": [{\"categories\": [\"0\", \"2\", \"6\", \"11\", \"16\", \"21\", \"22\", \"24\", \"25\", \"26\", \"27\", \"28\", \"29\", \"30\", \"31\", \"32\", \"33\", \"34\", \"35\", \"36\", \"37\", \"38\", \"39\", \"40\", \"41\", \"42\", \"43\", \"44\", \"48\"], \"mode\": \"markers\", \"name\": \"norm_macro_recall\", \"stepped\": false, \"type\": \"scatter\", \"data\": [0.920853763509127, 0.8910635214161738, 0.8407521123672236, 0.9171300801170725, 0.9067073878653614, 0.9047480408792128, 0.877910380365287, 0.9215753978969378, 0.9444290143452474, 0.9073926654891415, 0.9265220359523354, 0.877021055771295, 0.9222815087151701, 0.9294533678014517, 0.943907222189079, 0.944492590650085, 0.954123976977345, 0.9526070587212964, 0.0, 0.8857709632452566, 0.9549413793432879, 0.9305650106256447, 0.8597091158763511, 0.7990886399229888, 0.8797792429147255, 0.945983712646491, 0.8906057756168956, 0.9303508903139635, 0.9609279688513951]}, {\"categories\": [\"0\", \"2\", \"6\", \"11\", \"16\", \"21\", \"22\", \"24\", \"25\", \"26\", \"27\", \"28\", \"29\", \"30\", \"31\", \"32\", \"33\", \"34\", \"35\", \"36\", \"37\", \"38\", \"39\", \"40\", \"41\", \"42\", \"43\", \"44\", \"48\"], \"mode\": \"lines\", \"name\": \"norm_macro_recall_max\", \"stepped\": true, \"type\": \"scatter\", \"data\": [0.920853763509127, 0.920853763509127, 0.920853763509127, 0.920853763509127, 0.920853763509127, 0.920853763509127, 0.920853763509127, 0.9215753978969378, 0.9444290143452474, 0.9444290143452474, 0.9444290143452474, 0.9444290143452474, 0.9444290143452474, 0.9444290143452474, 0.9444290143452474, 0.944492590650085, 0.954123976977345, 0.954123976977345, 0.954123976977345, 0.954123976977345, 0.9549413793432879, 0.9549413793432879, 0.9549413793432879, 0.9549413793432879, 0.9549413793432879, 0.9549413793432879, 0.9549413793432879, 0.9549413793432879, 0.9609279688513951]}], \"balanced_accuracy\": [{\"categories\": [\"0\", \"2\", \"6\", \"11\", \"16\", \"21\", \"22\", \"24\", \"25\", \"26\", \"27\", \"28\", \"29\", \"30\", \"31\", \"32\", \"33\", \"34\", \"35\", \"36\", \"37\", \"38\", \"39\", \"40\", \"41\", \"42\", \"43\", \"44\", \"48\"], \"mode\": \"markers\", \"name\": \"balanced_accuracy\", \"stepped\": false, \"type\": \"scatter\", \"data\": [0.9604268817545634, 0.9455317607080869, 0.9203760561836116, 0.9585650400585364, 0.9533536939326807, 0.9523740204396063, 0.9389551901826435, 0.9607876989484689, 0.9722145071726237, 0.9536963327445708, 0.9632610179761677, 0.9385105278856475, 0.9611407543575851, 0.9647266839007258, 0.9719536110945395, 0.9722462953250425, 0.9770619884886725, 0.9763035293606481, 0.5, 0.9428854816226282, 0.977470689671644, 0.9652825053128223, 0.9298545579381756, 0.8995443199614945, 0.9398896214573627, 0.9729918563232456, 0.9453028878084477, 0.9651754451569818, 0.9804639844256975]}, {\"categories\": [\"0\", \"2\", \"6\", \"11\", \"16\", \"21\", \"22\", \"24\", \"25\", \"26\", \"27\", \"28\", \"29\", \"30\", \"31\", \"32\", \"33\", \"34\", \"35\", \"36\", \"37\", \"38\", \"39\", \"40\", \"41\", \"42\", \"43\", \"44\", \"48\"], \"mode\": \"lines\", \"name\": \"balanced_accuracy_max\", \"stepped\": true, \"type\": \"scatter\", \"data\": [0.9604268817545634, 0.9604268817545634, 0.9604268817545634, 0.9604268817545634, 0.9604268817545634, 0.9604268817545634, 0.9604268817545634, 0.9607876989484689, 0.9722145071726237, 0.9722145071726237, 0.9722145071726237, 0.9722145071726237, 0.9722145071726237, 0.9722145071726237, 0.9722145071726237, 0.9722462953250425, 0.9770619884886725, 0.9770619884886725, 0.9770619884886725, 0.9770619884886725, 0.977470689671644, 0.977470689671644, 0.977470689671644, 0.977470689671644, 0.977470689671644, 0.977470689671644, 0.977470689671644, 0.977470689671644, 0.9804639844256975]}], \"f1_score_weighted\": [{\"categories\": [\"0\", \"2\", \"6\", \"11\", \"16\", \"21\", \"22\", \"24\", \"25\", \"26\", \"27\", \"28\", \"29\", \"30\", \"31\", \"32\", \"33\", \"34\", \"35\", \"36\", \"37\", \"38\", \"39\", \"40\", \"41\", \"42\", \"43\", \"44\", \"48\"], \"mode\": \"markers\", \"name\": \"f1_score_weighted\", \"stepped\": false, \"type\": \"scatter\", \"data\": [0.9647419560789074, 0.9490417689200152, 0.9260374855073035, 0.9612760978479933, 0.9593549407981119, 0.9575951801418222, 0.9452273299132912, 0.9614294154714743, 0.9735359252359224, 0.9559585339213795, 0.9646408222281957, 0.9370692567416306, 0.9646859977702904, 0.968228538644688, 0.9769723678408265, 0.9768918300704128, 0.9788964373131129, 0.9788282343762168, 0.48404586304148695, 0.9471312754470074, 0.9788765360889311, 0.968240896700585, 0.9363034108209464, 0.9222721140272198, 0.9469859181480527, 0.9787151243794255, 0.9521343194347074, 0.9682194475433059, 0.9840050978006565]}, {\"categories\": [\"0\", \"2\", \"6\", \"11\", \"16\", \"21\", \"22\", \"24\", \"25\", \"26\", \"27\", \"28\", \"29\", \"30\", \"31\", \"32\", \"33\", \"34\", \"35\", \"36\", \"37\", \"38\", \"39\", \"40\", \"41\", \"42\", \"43\", \"44\", \"48\"], \"mode\": \"lines\", \"name\": \"f1_score_weighted_max\", \"stepped\": true, \"type\": \"scatter\", \"data\": [0.9647419560789074, 0.9647419560789074, 0.9647419560789074, 0.9647419560789074, 0.9647419560789074, 0.9647419560789074, 0.9647419560789074, 0.9647419560789074, 0.9735359252359224, 0.9735359252359224, 0.9735359252359224, 0.9735359252359224, 0.9735359252359224, 0.9735359252359224, 0.9769723678408265, 0.9769723678408265, 0.9788964373131129, 0.9788964373131129, 0.9788964373131129, 0.9788964373131129, 0.9788964373131129, 0.9788964373131129, 0.9788964373131129, 0.9788964373131129, 0.9788964373131129, 0.9788964373131129, 0.9788964373131129, 0.9788964373131129, 0.9840050978006565]}], \"AUC_weighted\": [{\"categories\": [\"0\", \"2\", \"6\", \"11\", \"16\", \"21\", \"22\", \"24\", \"25\", \"26\", \"27\", \"28\", \"29\", \"30\", \"31\", \"32\", \"33\", \"34\", \"35\", \"36\", \"37\", \"38\", \"39\", \"40\", \"41\", \"42\", \"43\", \"44\", \"48\"], \"mode\": \"markers\", \"name\": \"AUC_weighted\", \"stepped\": false, \"type\": \"scatter\", \"data\": [0.9931983676407905, 0.9862569626427135, 0.9801271173135481, 0.9927507801294124, 0.9906341427022701, 0.9881442346644569, 0.9876877333979129, 0.9915489258336727, 0.995203036089654, 0.9869344233999193, 0.9861723157259472, 0.9851583923370433, 0.993134673063313, 0.9950823453919202, 0.9971007152233439, 0.9962501225124807, 0.9955722837565582, 0.9968966606043453, 0.33109952710644064, 0.9882843716111582, 0.9959618081673934, 0.9951131989871737, 0.9845811184388819, 0.9861225248505535, 0.9882288736017909, 0.9960996814627002, 0.99027208122669, 0.9936341962054911, 0.9973031263121731]}, {\"categories\": [\"0\", \"2\", \"6\", \"11\", \"16\", \"21\", \"22\", \"24\", \"25\", \"26\", \"27\", \"28\", \"29\", \"30\", \"31\", \"32\", \"33\", \"34\", \"35\", \"36\", \"37\", \"38\", \"39\", \"40\", \"41\", \"42\", \"43\", \"44\", \"48\"], \"mode\": \"lines\", \"name\": \"AUC_weighted_max\", \"stepped\": true, \"type\": \"scatter\", \"data\": [0.9931983676407905, 0.9931983676407905, 0.9931983676407905, 0.9931983676407905, 0.9931983676407905, 0.9931983676407905, 0.9931983676407905, 0.9931983676407905, 0.995203036089654, 0.995203036089654, 0.995203036089654, 0.995203036089654, 0.995203036089654, 0.995203036089654, 0.9971007152233439, 0.9971007152233439, 0.9971007152233439, 0.9971007152233439, 0.9971007152233439, 0.9971007152233439, 0.9971007152233439, 0.9971007152233439, 0.9971007152233439, 0.9971007152233439, 0.9971007152233439, 0.9971007152233439, 0.9971007152233439, 0.9971007152233439, 0.9973031263121731]}], \"recall_score_micro\": [{\"categories\": [\"0\", \"2\", \"6\", \"11\", \"16\", \"21\", \"22\", \"24\", \"25\", \"26\", \"27\", \"28\", \"29\", \"30\", \"31\", \"32\", \"33\", \"34\", \"35\", \"36\", \"37\", \"38\", \"39\", \"40\", \"41\", \"42\", \"43\", \"44\", \"48\"], \"mode\": \"markers\", \"name\": \"recall_score_micro\", \"stepped\": false, \"type\": \"scatter\", \"data\": [0.964834653004192, 0.9490296537804689, 0.9261605340785592, 0.9613103555348548, 0.9595559695699425, 0.9577860580655179, 0.9454743052321067, 0.9613258810743673, 0.9735910572892408, 0.956016146561093, 0.9647880763856544, 0.9367179009470579, 0.9648191274646795, 0.9683278993945039, 0.9770998292190652, 0.9770843036795529, 0.9789007918025151, 0.9788852662630025, 0.6273560006210216, 0.947228691197019, 0.9788852662630025, 0.9683278993945039, 0.9366713243285204, 0.924406148113647, 0.9472442167365316, 0.9788697407234901, 0.9524763235522435, 0.9683278993945039, 0.9841173730787144]}, {\"categories\": [\"0\", \"2\", \"6\", \"11\", \"16\", \"21\", \"22\", \"24\", \"25\", \"26\", \"27\", \"28\", \"29\", \"30\", \"31\", \"32\", \"33\", \"34\", \"35\", \"36\", \"37\", \"38\", \"39\", \"40\", \"41\", \"42\", \"43\", \"44\", \"48\"], \"mode\": \"lines\", \"name\": \"recall_score_micro_max\", \"stepped\": true, \"type\": \"scatter\", \"data\": [0.964834653004192, 0.964834653004192, 0.964834653004192, 0.964834653004192, 0.964834653004192, 0.964834653004192, 0.964834653004192, 0.964834653004192, 0.9735910572892408, 0.9735910572892408, 0.9735910572892408, 0.9735910572892408, 0.9735910572892408, 0.9735910572892408, 0.9770998292190652, 0.9770998292190652, 0.9789007918025151, 0.9789007918025151, 0.9789007918025151, 0.9789007918025151, 0.9789007918025151, 0.9789007918025151, 0.9789007918025151, 0.9789007918025151, 0.9789007918025151, 0.9789007918025151, 0.9789007918025151, 0.9789007918025151, 0.9841173730787144]}], \"f1_score_macro\": [{\"categories\": [\"0\", \"2\", \"6\", \"11\", \"16\", \"21\", \"22\", \"24\", \"25\", \"26\", \"27\", \"28\", \"29\", \"30\", \"31\", \"32\", \"33\", \"34\", \"35\", \"36\", \"37\", \"38\", \"39\", \"40\", \"41\", \"42\", \"43\", \"44\", \"48\"], \"mode\": \"markers\", \"name\": \"f1_score_macro\", \"stepped\": false, \"type\": \"scatter\", \"data\": [0.9619148794143854, 0.9447500016037068, 0.9205083788996051, 0.958469730123244, 0.9559340459970136, 0.954188824746419, 0.9411038253501381, 0.9584408642919374, 0.9717997441661442, 0.9529800587679121, 0.9625354377517763, 0.9326649338947188, 0.961958258912504, 0.9657556323019112, 0.9754527827053707, 0.9754692208684295, 0.9772463057476486, 0.9772560366951912, 0.3853330691002781, 0.9433818017495839, 0.9773432004543929, 0.9658973949345299, 0.9312231705183824, 0.9150617090234713, 0.9426272353463817, 0.9770803825782689, 0.9484001438141, 0.9657838250618564, 0.9831077280912254]}, {\"categories\": [\"0\", \"2\", \"6\", \"11\", \"16\", \"21\", \"22\", \"24\", \"25\", \"26\", \"27\", \"28\", \"29\", \"30\", \"31\", \"32\", \"33\", \"34\", \"35\", \"36\", \"37\", \"38\", \"39\", \"40\", \"41\", \"42\", \"43\", \"44\", \"48\"], \"mode\": \"lines\", \"name\": \"f1_score_macro_max\", \"stepped\": true, \"type\": \"scatter\", \"data\": [0.9619148794143854, 0.9619148794143854, 0.9619148794143854, 0.9619148794143854, 0.9619148794143854, 0.9619148794143854, 0.9619148794143854, 0.9619148794143854, 0.9717997441661442, 0.9717997441661442, 0.9717997441661442, 0.9717997441661442, 0.9717997441661442, 0.9717997441661442, 0.9754527827053707, 0.9754692208684295, 0.9772463057476486, 0.9772560366951912, 0.9772560366951912, 0.9772560366951912, 0.9773432004543929, 0.9773432004543929, 0.9773432004543929, 0.9773432004543929, 0.9773432004543929, 0.9773432004543929, 0.9773432004543929, 0.9773432004543929, 0.9831077280912254]}], \"AUC_macro\": [{\"categories\": [\"0\", \"2\", \"6\", \"11\", \"16\", \"21\", \"22\", \"24\", \"25\", \"26\", \"27\", \"28\", \"29\", \"30\", \"31\", \"32\", \"33\", \"34\", \"35\", \"36\", \"37\", \"38\", \"39\", \"40\", \"41\", \"42\", \"43\", \"44\", \"48\"], \"mode\": \"markers\", \"name\": \"AUC_macro\", \"stepped\": false, \"type\": \"scatter\", \"data\": [0.9931983676407903, 0.9862569626427135, 0.9801271173135481, 0.9927507801294124, 0.9906341427022699, 0.9881442346644571, 0.987687733397913, 0.9915489258336729, 0.9952030360896542, 0.9869344233999193, 0.9860664438305358, 0.9851583923370433, 0.993134673063313, 0.9950823453919202, 0.9971007152233439, 0.9962501225124809, 0.9955722837565582, 0.9968966606043453, 0.33109952710644064, 0.9882843716111582, 0.9959618081673934, 0.9951131989871737, 0.9845811184388819, 0.9861225248505534, 0.9882288736017909, 0.9960996814627, 0.99027208122669, 0.9936341962054913, 0.9973031263121731]}, {\"categories\": [\"0\", \"2\", \"6\", \"11\", \"16\", \"21\", \"22\", \"24\", \"25\", \"26\", \"27\", \"28\", \"29\", \"30\", \"31\", \"32\", \"33\", \"34\", \"35\", \"36\", \"37\", \"38\", \"39\", \"40\", \"41\", \"42\", \"43\", \"44\", \"48\"], \"mode\": \"lines\", \"name\": \"AUC_macro_max\", \"stepped\": true, \"type\": \"scatter\", \"data\": [0.9931983676407903, 0.9931983676407903, 0.9931983676407903, 0.9931983676407903, 0.9931983676407903, 0.9931983676407903, 0.9931983676407903, 0.9931983676407903, 0.9952030360896542, 0.9952030360896542, 0.9952030360896542, 0.9952030360896542, 0.9952030360896542, 0.9952030360896542, 0.9971007152233439, 0.9971007152233439, 0.9971007152233439, 0.9971007152233439, 0.9971007152233439, 0.9971007152233439, 0.9971007152233439, 0.9971007152233439, 0.9971007152233439, 0.9971007152233439, 0.9971007152233439, 0.9971007152233439, 0.9971007152233439, 0.9971007152233439, 0.9973031263121731]}], \"recall_score_macro\": [{\"categories\": [\"0\", \"2\", \"6\", \"11\", \"16\", \"21\", \"22\", \"24\", \"25\", \"26\", \"27\", \"28\", \"29\", \"30\", \"31\", \"32\", \"33\", \"34\", \"35\", \"36\", \"37\", \"38\", \"39\", \"40\", \"41\", \"42\", \"43\", \"44\", \"48\"], \"mode\": \"markers\", \"name\": \"recall_score_macro\", \"stepped\": false, \"type\": \"scatter\", \"data\": [0.9604268817545634, 0.9455317607080869, 0.9203760561836116, 0.9585650400585364, 0.9533536939326807, 0.9523740204396063, 0.9389551901826435, 0.9607876989484689, 0.9722145071726237, 0.9536963327445708, 0.9632610179761677, 0.9385105278856475, 0.9611407543575851, 0.9647266839007258, 0.9719536110945395, 0.9722462953250425, 0.9770619884886725, 0.9763035293606481, 0.5, 0.9428854816226282, 0.977470689671644, 0.9652825053128223, 0.9298545579381756, 0.8995443199614945, 0.9398896214573627, 0.9729918563232456, 0.9453028878084477, 0.9651754451569818, 0.9804639844256975]}, {\"categories\": [\"0\", \"2\", \"6\", \"11\", \"16\", \"21\", \"22\", \"24\", \"25\", \"26\", \"27\", \"28\", \"29\", \"30\", \"31\", \"32\", \"33\", \"34\", \"35\", \"36\", \"37\", \"38\", \"39\", \"40\", \"41\", \"42\", \"43\", \"44\", \"48\"], \"mode\": \"lines\", \"name\": \"recall_score_macro_max\", \"stepped\": true, \"type\": \"scatter\", \"data\": [0.9604268817545634, 0.9604268817545634, 0.9604268817545634, 0.9604268817545634, 0.9604268817545634, 0.9604268817545634, 0.9604268817545634, 0.9607876989484689, 0.9722145071726237, 0.9722145071726237, 0.9722145071726237, 0.9722145071726237, 0.9722145071726237, 0.9722145071726237, 0.9722145071726237, 0.9722462953250425, 0.9770619884886725, 0.9770619884886725, 0.9770619884886725, 0.9770619884886725, 0.977470689671644, 0.977470689671644, 0.977470689671644, 0.977470689671644, 0.977470689671644, 0.977470689671644, 0.977470689671644, 0.977470689671644, 0.9804639844256975]}], \"matthews_correlation\": [{\"categories\": [\"0\", \"2\", \"6\", \"11\", \"16\", \"21\", \"22\", \"24\", \"25\", \"26\", \"27\", \"28\", \"29\", \"30\", \"31\", \"32\", \"33\", \"34\", \"35\", \"36\", \"37\", \"38\", \"39\", \"40\", \"41\", \"42\", \"43\", \"44\", \"48\"], \"mode\": \"markers\", \"name\": \"matthews_correlation\", \"stepped\": false, \"type\": \"scatter\", \"data\": [0.9242309383022034, 0.8902816908813536, 0.8425849888416586, 0.9176706663400098, 0.9129166725888421, 0.9098470389197916, 0.8840170274728878, 0.9178058559211799, 0.9442989155826383, 0.9074965303072051, 0.9266599820328849, 0.867918594058664, 0.9254574887048832, 0.9322417120495545, 0.9517453039524095, 0.9522563876190986, 0.9548980680114839, 0.9552601234771008, 0.0, 0.8884356933369698, 0.9555735843668053, 0.9331962740888147, 0.8653803860363691, 0.8427898029815865, 0.8862450904934759, 0.9552485645299644, 0.8987503738811535, 0.9331053779653153, 0.9669197728287953]}, {\"categories\": [\"0\", \"2\", \"6\", \"11\", \"16\", \"21\", \"22\", \"24\", \"25\", \"26\", \"27\", \"28\", \"29\", \"30\", \"31\", \"32\", \"33\", \"34\", \"35\", \"36\", \"37\", \"38\", \"39\", \"40\", \"41\", \"42\", \"43\", \"44\", \"48\"], \"mode\": \"lines\", \"name\": \"matthews_correlation_max\", \"stepped\": true, \"type\": \"scatter\", \"data\": [0.9242309383022034, 0.9242309383022034, 0.9242309383022034, 0.9242309383022034, 0.9242309383022034, 0.9242309383022034, 0.9242309383022034, 0.9242309383022034, 0.9442989155826383, 0.9442989155826383, 0.9442989155826383, 0.9442989155826383, 0.9442989155826383, 0.9442989155826383, 0.9517453039524095, 0.9522563876190986, 0.9548980680114839, 0.9552601234771008, 0.9552601234771008, 0.9552601234771008, 0.9555735843668053, 0.9555735843668053, 0.9555735843668053, 0.9555735843668053, 0.9555735843668053, 0.9555735843668053, 0.9555735843668053, 0.9555735843668053, 0.9669197728287953]}], \"precision_score_micro\": [{\"categories\": [\"0\", \"2\", \"6\", \"11\", \"16\", \"21\", \"22\", \"24\", \"25\", \"26\", \"27\", \"28\", \"29\", \"30\", \"31\", \"32\", \"33\", \"34\", \"35\", \"36\", \"37\", \"38\", \"39\", \"40\", \"41\", \"42\", \"43\", \"44\", \"48\"], \"mode\": \"markers\", \"name\": \"precision_score_micro\", \"stepped\": false, \"type\": \"scatter\", \"data\": [0.964834653004192, 0.9490296537804689, 0.9261605340785592, 0.9613103555348548, 0.9595559695699425, 0.9577860580655179, 0.9454743052321067, 0.9613258810743673, 0.9735910572892408, 0.956016146561093, 0.9647880763856544, 0.9367179009470579, 0.9648191274646795, 0.9683278993945039, 0.9770998292190652, 0.9770843036795529, 0.9789007918025151, 0.9788852662630025, 0.6273560006210216, 0.947228691197019, 0.9788852662630025, 0.9683278993945039, 0.9366713243285204, 0.924406148113647, 0.9472442167365316, 0.9788697407234901, 0.9524763235522435, 0.9683278993945039, 0.9841173730787144]}, {\"categories\": [\"0\", \"2\", \"6\", \"11\", \"16\", \"21\", \"22\", \"24\", \"25\", \"26\", \"27\", \"28\", \"29\", \"30\", \"31\", \"32\", \"33\", \"34\", \"35\", \"36\", \"37\", \"38\", \"39\", \"40\", \"41\", \"42\", \"43\", \"44\", \"48\"], \"mode\": \"lines\", \"name\": \"precision_score_micro_max\", \"stepped\": true, \"type\": \"scatter\", \"data\": [0.964834653004192, 0.964834653004192, 0.964834653004192, 0.964834653004192, 0.964834653004192, 0.964834653004192, 0.964834653004192, 0.964834653004192, 0.9735910572892408, 0.9735910572892408, 0.9735910572892408, 0.9735910572892408, 0.9735910572892408, 0.9735910572892408, 0.9770998292190652, 0.9770998292190652, 0.9789007918025151, 0.9789007918025151, 0.9789007918025151, 0.9789007918025151, 0.9789007918025151, 0.9789007918025151, 0.9789007918025151, 0.9789007918025151, 0.9789007918025151, 0.9789007918025151, 0.9789007918025151, 0.9789007918025151, 0.9841173730787144]}], \"average_precision_score_micro\": [{\"categories\": [\"0\", \"2\", \"6\", \"11\", \"16\", \"21\", \"22\", \"24\", \"25\", \"26\", \"27\", \"28\", \"29\", \"30\", \"31\", \"32\", \"33\", \"34\", \"35\", \"36\", \"37\", \"38\", \"39\", \"40\", \"41\", \"42\", \"43\", \"44\", \"48\"], \"mode\": \"markers\", \"name\": \"average_precision_score_micro\", \"stepped\": false, \"type\": \"scatter\", \"data\": [0.9933929810662493, 0.9851656881874377, 0.9803498072641373, 0.9935477113153146, 0.9911762487300264, 0.9866433081730301, 0.9851030529745739, 0.9919854594182318, 0.9951870544605057, 0.9871161564694131, 0.9849552010339245, 0.9856491995457546, 0.9929097976116695, 0.9951151022287602, 0.9971759257976309, 0.9967246722829071, 0.9960008782034222, 0.9971405716623346, 0.5263519121707412, 0.9882236196614047, 0.9961894451370539, 0.9953168810324164, 0.9850333207404127, 0.983942619699282, 0.9893270640493034, 0.9960322113147401, 0.990696588006361, 0.9927523990896046, 0.9968206232690082]}, {\"categories\": [\"0\", \"2\", \"6\", \"11\", \"16\", \"21\", \"22\", \"24\", \"25\", \"26\", \"27\", \"28\", \"29\", \"30\", \"31\", \"32\", \"33\", \"34\", \"35\", \"36\", \"37\", \"38\", \"39\", \"40\", \"41\", \"42\", \"43\", \"44\", \"48\"], \"mode\": \"lines\", \"name\": \"average_precision_score_micro_max\", \"stepped\": true, \"type\": \"scatter\", \"data\": [0.9933929810662493, 0.9933929810662493, 0.9933929810662493, 0.9935477113153146, 0.9935477113153146, 0.9935477113153146, 0.9935477113153146, 0.9935477113153146, 0.9951870544605057, 0.9951870544605057, 0.9951870544605057, 0.9951870544605057, 0.9951870544605057, 0.9951870544605057, 0.9971759257976309, 0.9971759257976309, 0.9971759257976309, 0.9971759257976309, 0.9971759257976309, 0.9971759257976309, 0.9971759257976309, 0.9971759257976309, 0.9971759257976309, 0.9971759257976309, 0.9971759257976309, 0.9971759257976309, 0.9971759257976309, 0.9971759257976309, 0.9971759257976309]}], \"precision_score_weighted\": [{\"categories\": [\"0\", \"2\", \"6\", \"11\", \"16\", \"21\", \"22\", \"24\", \"25\", \"26\", \"27\", \"28\", \"29\", \"30\", \"31\", \"32\", \"33\", \"34\", \"35\", \"36\", \"37\", \"38\", \"39\", \"40\", \"41\", \"42\", \"43\", \"44\", \"48\"], \"mode\": \"markers\", \"name\": \"precision_score_weighted\", \"stepped\": false, \"type\": \"scatter\", \"data\": [0.965030882825759, 0.949766413503897, 0.9273716359340132, 0.961937478948057, 0.9601409622451627, 0.9587936536174354, 0.946685832284353, 0.9623883622990477, 0.9741473210044653, 0.9573456205691512, 0.9660094322788252, 0.9398222792260746, 0.9660277281841416, 0.9688267345205827, 0.9776461274880364, 0.9779530037607673, 0.97927933623515, 0.9794825044198772, 0.3943182961215727, 0.9485834412771512, 0.9797063065910478, 0.969501841403237, 0.9387079013419282, 0.9320100202455647, 0.9476655753147354, 0.9795986926701371, 0.9536369765460344, 0.9695850100233698, 0.9845651386862236]}, {\"categories\": [\"0\", \"2\", \"6\", \"11\", \"16\", \"21\", \"22\", \"24\", \"25\", \"26\", \"27\", \"28\", \"29\", \"30\", \"31\", \"32\", \"33\", \"34\", \"35\", \"36\", \"37\", \"38\", \"39\", \"40\", \"41\", \"42\", \"43\", \"44\", \"48\"], \"mode\": \"lines\", \"name\": \"precision_score_weighted_max\", \"stepped\": true, \"type\": \"scatter\", \"data\": [0.965030882825759, 0.965030882825759, 0.965030882825759, 0.965030882825759, 0.965030882825759, 0.965030882825759, 0.965030882825759, 0.965030882825759, 0.9741473210044653, 0.9741473210044653, 0.9741473210044653, 0.9741473210044653, 0.9741473210044653, 0.9741473210044653, 0.9776461274880364, 0.9779530037607673, 0.97927933623515, 0.9794825044198772, 0.9794825044198772, 0.9794825044198772, 0.9797063065910478, 0.9797063065910478, 0.9797063065910478, 0.9797063065910478, 0.9797063065910478, 0.9797063065910478, 0.9797063065910478, 0.9797063065910478, 0.9845651386862236]}], \"recall_score_weighted\": [{\"categories\": [\"0\", \"2\", \"6\", \"11\", \"16\", \"21\", \"22\", \"24\", \"25\", \"26\", \"27\", \"28\", \"29\", \"30\", \"31\", \"32\", \"33\", \"34\", \"35\", \"36\", \"37\", \"38\", \"39\", \"40\", \"41\", \"42\", \"43\", \"44\", \"48\"], \"mode\": \"markers\", \"name\": \"recall_score_weighted\", \"stepped\": false, \"type\": \"scatter\", \"data\": [0.964834653004192, 0.9490296537804689, 0.9261605340785592, 0.9613103555348548, 0.9595559695699425, 0.9577860580655179, 0.9454743052321067, 0.9613258810743673, 0.9735910572892408, 0.956016146561093, 0.9647880763856544, 0.9367179009470579, 0.9648191274646795, 0.9683278993945039, 0.9770998292190652, 0.9770843036795529, 0.9789007918025151, 0.9788852662630025, 0.6273560006210216, 0.947228691197019, 0.9788852662630025, 0.9683278993945039, 0.9366713243285204, 0.924406148113647, 0.9472442167365316, 0.9788697407234901, 0.9524763235522435, 0.9683278993945039, 0.9841173730787144]}, {\"categories\": [\"0\", \"2\", \"6\", \"11\", \"16\", \"21\", \"22\", \"24\", \"25\", \"26\", \"27\", \"28\", \"29\", \"30\", \"31\", \"32\", \"33\", \"34\", \"35\", \"36\", \"37\", \"38\", \"39\", \"40\", \"41\", \"42\", \"43\", \"44\", \"48\"], \"mode\": \"lines\", \"name\": \"recall_score_weighted_max\", \"stepped\": true, \"type\": \"scatter\", \"data\": [0.964834653004192, 0.964834653004192, 0.964834653004192, 0.964834653004192, 0.964834653004192, 0.964834653004192, 0.964834653004192, 0.964834653004192, 0.9735910572892408, 0.9735910572892408, 0.9735910572892408, 0.9735910572892408, 0.9735910572892408, 0.9735910572892408, 0.9770998292190652, 0.9770998292190652, 0.9789007918025151, 0.9789007918025151, 0.9789007918025151, 0.9789007918025151, 0.9789007918025151, 0.9789007918025151, 0.9789007918025151, 0.9789007918025151, 0.9789007918025151, 0.9789007918025151, 0.9789007918025151, 0.9789007918025151, 0.9841173730787144]}], \"log_loss\": [{\"categories\": [\"0\", \"2\", \"6\", \"11\", \"16\", \"21\", \"22\", \"24\", \"25\", \"26\", \"27\", \"28\", \"29\", \"30\", \"31\", \"32\", \"33\", \"34\", \"35\", \"36\", \"37\", \"38\", \"39\", \"40\", \"41\", \"42\", \"43\", \"44\", \"48\"], \"mode\": \"markers\", \"name\": \"log_loss\", \"stepped\": false, \"type\": \"scatter\", \"data\": [0.13316503900441012, 0.20552450637003883, 0.18323564442983473, 0.10520621435535049, 0.13915005107428202, 0.2257507451640759, 0.24001041989253089, 0.1315052773845246, 0.08125458999211667, 0.18448709777462474, 0.3677414090918596, 0.1638217631807245, 0.10186763099820043, 0.09212786427405377, 0.07077351177534767, 0.08223682102557713, 0.0767956052035147, 0.07184012665902621, 0.6624179436156276, 0.6186097113272242, 0.07631147513740173, 0.08359292808283425, 0.16289317123986202, 0.17649554752663138, 0.16419129547283742, 0.09860065904498228, 0.12304569718286869, 0.08903624687427862, 0.12592303314845932]}, {\"categories\": [\"0\", \"2\", \"6\", \"11\", \"16\", \"21\", \"22\", \"24\", \"25\", \"26\", \"27\", \"28\", \"29\", \"30\", \"31\", \"32\", \"33\", \"34\", \"35\", \"36\", \"37\", \"38\", \"39\", \"40\", \"41\", \"42\", \"43\", \"44\", \"48\"], \"mode\": \"lines\", \"name\": \"log_loss_min\", \"stepped\": true, \"type\": \"scatter\", \"data\": [0.13316503900441012, 0.13316503900441012, 0.13316503900441012, 0.10520621435535049, 0.10520621435535049, 0.10520621435535049, 0.10520621435535049, 0.10520621435535049, 0.08125458999211667, 0.08125458999211667, 0.08125458999211667, 0.08125458999211667, 0.08125458999211667, 0.08125458999211667, 0.07077351177534767, 0.07077351177534767, 0.07077351177534767, 0.07077351177534767, 0.07077351177534767, 0.07077351177534767, 0.07077351177534767, 0.07077351177534767, 0.07077351177534767, 0.07077351177534767, 0.07077351177534767, 0.07077351177534767, 0.07077351177534767, 0.07077351177534767, 0.07077351177534767]}], \"weighted_accuracy\": [{\"categories\": [\"0\", \"2\", \"6\", \"11\", \"16\", \"21\", \"22\", \"24\", \"25\", \"26\", \"27\", \"28\", \"29\", \"30\", \"31\", \"32\", \"33\", \"34\", \"35\", \"36\", \"37\", \"38\", \"39\", \"40\", \"41\", \"42\", \"43\", \"44\", \"48\"], \"mode\": \"markers\", \"name\": \"weighted_accuracy\", \"stepped\": false, \"type\": \"scatter\", \"data\": [0.9686340594227827, 0.9520248471014368, 0.9311743428850902, 0.9638382389533732, 0.9649150759543502, 0.9625309725626507, 0.9511872891413043, 0.9618383884883436, 0.9749150378627238, 0.9581941347716117, 0.9663814375937863, 0.9352418986360362, 0.9680946579465702, 0.971520256619052, 0.9816553245673119, 0.9814094728214359, 0.9806004567487552, 0.9812600872138006, 0.7373853936974661, 0.9509989461917522, 0.9802902540835474, 0.9711332433183509, 0.9426284973721042, 0.9458983465175417, 0.9536374472184154, 0.9839966186040371, 0.9587239947941104, 0.9712039818321913, 0.987380663357517]}, {\"categories\": [\"0\", \"2\", \"6\", \"11\", \"16\", \"21\", \"22\", \"24\", \"25\", \"26\", \"27\", \"28\", \"29\", \"30\", \"31\", \"32\", \"33\", \"34\", \"35\", \"36\", \"37\", \"38\", \"39\", \"40\", \"41\", \"42\", \"43\", \"44\", \"48\"], \"mode\": \"lines\", \"name\": \"weighted_accuracy_max\", \"stepped\": true, \"type\": \"scatter\", \"data\": [0.9686340594227827, 0.9686340594227827, 0.9686340594227827, 0.9686340594227827, 0.9686340594227827, 0.9686340594227827, 0.9686340594227827, 0.9686340594227827, 0.9749150378627238, 0.9749150378627238, 0.9749150378627238, 0.9749150378627238, 0.9749150378627238, 0.9749150378627238, 0.9816553245673119, 0.9816553245673119, 0.9816553245673119, 0.9816553245673119, 0.9816553245673119, 0.9816553245673119, 0.9816553245673119, 0.9816553245673119, 0.9816553245673119, 0.9816553245673119, 0.9816553245673119, 0.9839966186040371, 0.9839966186040371, 0.9839966186040371, 0.987380663357517]}], \"f1_score_micro\": [{\"categories\": [\"0\", \"2\", \"6\", \"11\", \"16\", \"21\", \"22\", \"24\", \"25\", \"26\", \"27\", \"28\", \"29\", \"30\", \"31\", \"32\", \"33\", \"34\", \"35\", \"36\", \"37\", \"38\", \"39\", \"40\", \"41\", \"42\", \"43\", \"44\", \"48\"], \"mode\": \"markers\", \"name\": \"f1_score_micro\", \"stepped\": false, \"type\": \"scatter\", \"data\": [0.964834653004192, 0.9490296537804689, 0.9261605340785592, 0.9613103555348548, 0.9595559695699425, 0.9577860580655179, 0.9454743052321067, 0.9613258810743673, 0.9735910572892408, 0.956016146561093, 0.9647880763856544, 0.9367179009470579, 0.9648191274646795, 0.9683278993945039, 0.9770998292190652, 0.9770843036795529, 0.9789007918025151, 0.9788852662630025, 0.6273560006210216, 0.947228691197019, 0.9788852662630025, 0.9683278993945039, 0.9366713243285204, 0.924406148113647, 0.9472442167365316, 0.9788697407234901, 0.9524763235522435, 0.9683278993945039, 0.9841173730787144]}, {\"categories\": [\"0\", \"2\", \"6\", \"11\", \"16\", \"21\", \"22\", \"24\", \"25\", \"26\", \"27\", \"28\", \"29\", \"30\", \"31\", \"32\", \"33\", \"34\", \"35\", \"36\", \"37\", \"38\", \"39\", \"40\", \"41\", \"42\", \"43\", \"44\", \"48\"], \"mode\": \"lines\", \"name\": \"f1_score_micro_max\", \"stepped\": true, \"type\": \"scatter\", \"data\": [0.964834653004192, 0.964834653004192, 0.964834653004192, 0.964834653004192, 0.964834653004192, 0.964834653004192, 0.964834653004192, 0.964834653004192, 0.9735910572892408, 0.9735910572892408, 0.9735910572892408, 0.9735910572892408, 0.9735910572892408, 0.9735910572892408, 0.9770998292190652, 0.9770998292190652, 0.9789007918025151, 0.9789007918025151, 0.9789007918025151, 0.9789007918025151, 0.9789007918025151, 0.9789007918025151, 0.9789007918025151, 0.9789007918025151, 0.9789007918025151, 0.9789007918025151, 0.9789007918025151, 0.9789007918025151, 0.9841173730787144]}], \"AUC_micro\": [{\"categories\": [\"0\", \"2\", \"6\", \"11\", \"16\", \"21\", \"22\", \"24\", \"25\", \"26\", \"27\", \"28\", \"29\", \"30\", \"31\", \"32\", \"33\", \"34\", \"35\", \"36\", \"37\", \"38\", \"39\", \"40\", \"41\", \"42\", \"43\", \"44\", \"48\"], \"mode\": \"markers\", \"name\": \"AUC_micro\", \"stepped\": false, \"type\": \"scatter\", \"data\": [0.9933396267087584, 0.9877283963901397, 0.9804464302479644, 0.9934783700984425, 0.9910552319441119, 0.9890632348402845, 0.9852286194145992, 0.9917589696267562, 0.995155774961969, 0.9881344708412362, 0.9876778178655355, 0.9855657485145584, 0.9929062626449324, 0.9949398455848787, 0.9971003047956755, 0.9966383506954951, 0.9959101267229679, 0.997052495245379, 0.5486565081285154, 0.9883089517763629, 0.9961045454783211, 0.9952305330500314, 0.9852110413992452, 0.9834255344530185, 0.9891353932863094, 0.9959387167593221, 0.9908512715262592, 0.9934673924259808, 0.9967897819533066]}, {\"categories\": [\"0\", \"2\", \"6\", \"11\", \"16\", \"21\", \"22\", \"24\", \"25\", \"26\", \"27\", \"28\", \"29\", \"30\", \"31\", \"32\", \"33\", \"34\", \"35\", \"36\", \"37\", \"38\", \"39\", \"40\", \"41\", \"42\", \"43\", \"44\", \"48\"], \"mode\": \"lines\", \"name\": \"AUC_micro_max\", \"stepped\": true, \"type\": \"scatter\", \"data\": [0.9933396267087584, 0.9933396267087584, 0.9933396267087584, 0.9934783700984425, 0.9934783700984425, 0.9934783700984425, 0.9934783700984425, 0.9934783700984425, 0.995155774961969, 0.995155774961969, 0.995155774961969, 0.995155774961969, 0.995155774961969, 0.995155774961969, 0.9971003047956755, 0.9971003047956755, 0.9971003047956755, 0.9971003047956755, 0.9971003047956755, 0.9971003047956755, 0.9971003047956755, 0.9971003047956755, 0.9971003047956755, 0.9971003047956755, 0.9971003047956755, 0.9971003047956755, 0.9971003047956755, 0.9971003047956755, 0.9971003047956755]}], \"average_precision_score_macro\": [{\"categories\": [\"0\", \"2\", \"6\", \"11\", \"16\", \"21\", \"22\", \"24\", \"25\", \"26\", \"27\", \"28\", \"29\", \"30\", \"31\", \"32\", \"33\", \"34\", \"35\", \"36\", \"37\", \"38\", \"39\", \"40\", \"41\", \"42\", \"43\", \"44\", \"48\"], \"mode\": \"markers\", \"name\": \"average_precision_score_macro\", \"stepped\": false, \"type\": \"scatter\", \"data\": [0.9932713982636241, 0.984806670808241, 0.9784487111457635, 0.99269981432795, 0.9905361990646562, 0.9865498692898109, 0.987261816499308, 0.991496386191937, 0.995292556561162, 0.9864475889830133, 0.9838918539754058, 0.985058581969728, 0.9931712670704311, 0.9950292887830148, 0.9972572542110208, 0.9963791482938742, 0.9956847783372847, 0.9970247092253691, 0.43012681436299866, 0.9882467507783239, 0.9960243627196981, 0.9951610546287716, 0.9843248110009497, 0.9864399531882709, 0.9880466560458668, 0.9962247268316196, 0.9903010068898356, 0.993655612623283, 0.9975051253602784]}, {\"categories\": [\"0\", \"2\", \"6\", \"11\", \"16\", \"21\", \"22\", \"24\", \"25\", \"26\", \"27\", \"28\", \"29\", \"30\", \"31\", \"32\", \"33\", \"34\", \"35\", \"36\", \"37\", \"38\", \"39\", \"40\", \"41\", \"42\", \"43\", \"44\", \"48\"], \"mode\": \"lines\", \"name\": \"average_precision_score_macro_max\", \"stepped\": true, \"type\": \"scatter\", \"data\": [0.9932713982636241, 0.9932713982636241, 0.9932713982636241, 0.9932713982636241, 0.9932713982636241, 0.9932713982636241, 0.9932713982636241, 0.9932713982636241, 0.995292556561162, 0.995292556561162, 0.995292556561162, 0.995292556561162, 0.995292556561162, 0.995292556561162, 0.9972572542110208, 0.9972572542110208, 0.9972572542110208, 0.9972572542110208, 0.9972572542110208, 0.9972572542110208, 0.9972572542110208, 0.9972572542110208, 0.9972572542110208, 0.9972572542110208, 0.9972572542110208, 0.9972572542110208, 0.9972572542110208, 0.9972572542110208, 0.9975051253602784]}], \"precision_score_macro\": [{\"categories\": [\"0\", \"2\", \"6\", \"11\", \"16\", \"21\", \"22\", \"24\", \"25\", \"26\", \"27\", \"28\", \"29\", \"30\", \"31\", \"32\", \"33\", \"34\", \"35\", \"36\", \"37\", \"38\", \"39\", \"40\", \"41\", \"42\", \"43\", \"44\", \"48\"], \"mode\": \"markers\", \"name\": \"precision_score_macro\", \"stepped\": false, \"type\": \"scatter\", \"data\": [0.9638261065168049, 0.9448134818239791, 0.9223057408955349, 0.959145747343293, 0.9596328856306288, 0.9575651027008396, 0.9451714627507171, 0.9570681935132063, 0.9721221585090142, 0.9538798277573537, 0.9634911505358685, 0.9295256916883752, 0.9644049098023618, 0.9675532790218275, 0.9798392850446224, 0.9800934431422237, 0.9778568598024865, 0.9789992164055802, 0.3136780003105108, 0.9456658522059105, 0.9781557756571946, 0.9679921165696527, 0.9357134580970896, 0.9446123896838552, 0.9464169896423418, 0.9823227889097454, 0.9535746215108931, 0.9680157902397332, 0.9864959397882336]}, {\"categories\": [\"0\", \"2\", \"6\", \"11\", \"16\", \"21\", \"22\", \"24\", \"25\", \"26\", \"27\", \"28\", \"29\", \"30\", \"31\", \"32\", \"33\", \"34\", \"35\", \"36\", \"37\", \"38\", \"39\", \"40\", \"41\", \"42\", \"43\", \"44\", \"48\"], \"mode\": \"lines\", \"name\": \"precision_score_macro_max\", \"stepped\": true, \"type\": \"scatter\", \"data\": [0.9638261065168049, 0.9638261065168049, 0.9638261065168049, 0.9638261065168049, 0.9638261065168049, 0.9638261065168049, 0.9638261065168049, 0.9638261065168049, 0.9721221585090142, 0.9721221585090142, 0.9721221585090142, 0.9721221585090142, 0.9721221585090142, 0.9721221585090142, 0.9798392850446224, 0.9800934431422237, 0.9800934431422237, 0.9800934431422237, 0.9800934431422237, 0.9800934431422237, 0.9800934431422237, 0.9800934431422237, 0.9800934431422237, 0.9800934431422237, 0.9800934431422237, 0.9823227889097454, 0.9823227889097454, 0.9823227889097454, 0.9864959397882336]}], \"average_precision_score_weighted\": [{\"categories\": [\"0\", \"2\", \"6\", \"11\", \"16\", \"21\", \"22\", \"24\", \"25\", \"26\", \"27\", \"28\", \"29\", \"30\", \"31\", \"32\", \"33\", \"34\", \"35\", \"36\", \"37\", \"38\", \"39\", \"40\", \"41\", \"42\", \"43\", \"44\", \"48\"], \"mode\": \"markers\", \"name\": \"average_precision_score_weighted\", \"stepped\": false, \"type\": \"scatter\", \"data\": [0.9937242209301191, 0.9853184601280848, 0.9808430094883891, 0.9931772488495199, 0.9913651835468136, 0.9868409498136135, 0.9885289097836697, 0.9922718612663572, 0.9954907546917167, 0.9869292238153664, 0.9842349326506037, 0.9862186646332155, 0.9936579254304332, 0.9954635246671536, 0.9973613925426241, 0.9965518761696257, 0.9959624228208632, 0.9971713289513356, 0.45684767707205054, 0.989232561575693, 0.9962977616913788, 0.9954723263600073, 0.9855348819261964, 0.9876024138329182, 0.9892061498566932, 0.9964519613864564, 0.9909416211772257, 0.9938862626178769, 0.997564488719026]}, {\"categories\": [\"0\", \"2\", \"6\", \"11\", \"16\", \"21\", \"22\", \"24\", \"25\", \"26\", \"27\", \"28\", \"29\", \"30\", \"31\", \"32\", \"33\", \"34\", \"35\", \"36\", \"37\", \"38\", \"39\", \"40\", \"41\", \"42\", \"43\", \"44\", \"48\"], \"mode\": \"lines\", \"name\": \"average_precision_score_weighted_max\", \"stepped\": true, \"type\": \"scatter\", \"data\": [0.9937242209301191, 0.9937242209301191, 0.9937242209301191, 0.9937242209301191, 0.9937242209301191, 0.9937242209301191, 0.9937242209301191, 0.9937242209301191, 0.9954907546917167, 0.9954907546917167, 0.9954907546917167, 0.9954907546917167, 0.9954907546917167, 0.9954907546917167, 0.9973613925426241, 0.9973613925426241, 0.9973613925426241, 0.9973613925426241, 0.9973613925426241, 0.9973613925426241, 0.9973613925426241, 0.9973613925426241, 0.9973613925426241, 0.9973613925426241, 0.9973613925426241, 0.9973613925426241, 0.9973613925426241, 0.9973613925426241, 0.997564488719026]}], \"accuracy\": [{\"categories\": [\"0\", \"2\", \"6\", \"11\", \"16\", \"21\", \"22\", \"24\", \"25\", \"26\", \"27\", \"28\", \"29\", \"30\", \"31\", \"32\", \"33\", \"34\", \"35\", \"36\", \"37\", \"38\", \"39\", \"40\", \"41\", \"42\", \"43\", \"44\", \"48\"], \"mode\": \"markers\", \"name\": \"accuracy\", \"stepped\": false, \"type\": \"scatter\", \"data\": [0.964834653004192, 0.9490296537804689, 0.9261605340785592, 0.9613103555348548, 0.9595559695699425, 0.9577860580655179, 0.9454743052321067, 0.9613258810743673, 0.9735910572892408, 0.956016146561093, 0.9647880763856544, 0.9367179009470579, 0.9648191274646795, 0.9683278993945039, 0.9770998292190652, 0.9770843036795529, 0.9789007918025151, 0.9788852662630025, 0.6273560006210216, 0.947228691197019, 0.9788852662630025, 0.9683278993945039, 0.9366713243285204, 0.924406148113647, 0.9472442167365316, 0.9788697407234901, 0.9524763235522435, 0.9683278993945039, 0.9841173730787144]}, {\"categories\": [\"0\", \"2\", \"6\", \"11\", \"16\", \"21\", \"22\", \"24\", \"25\", \"26\", \"27\", \"28\", \"29\", \"30\", \"31\", \"32\", \"33\", \"34\", \"35\", \"36\", \"37\", \"38\", \"39\", \"40\", \"41\", \"42\", \"43\", \"44\", \"48\"], \"mode\": \"lines\", \"name\": \"accuracy_max\", \"stepped\": true, \"type\": \"scatter\", \"data\": [0.964834653004192, 0.964834653004192, 0.964834653004192, 0.964834653004192, 0.964834653004192, 0.964834653004192, 0.964834653004192, 0.964834653004192, 0.9735910572892408, 0.9735910572892408, 0.9735910572892408, 0.9735910572892408, 0.9735910572892408, 0.9735910572892408, 0.9770998292190652, 0.9770998292190652, 0.9789007918025151, 0.9789007918025151, 0.9789007918025151, 0.9789007918025151, 0.9789007918025151, 0.9789007918025151, 0.9789007918025151, 0.9789007918025151, 0.9789007918025151, 0.9789007918025151, 0.9789007918025151, 0.9789007918025151, 0.9841173730787144]}]}, \"metricName\": null, \"primaryMetricName\": \"AUC_weighted\", \"showLegend\": false}, \"run_metrics\": [{\"name\": \"experiment_status\", \"run_id\": \"AutoML_cd384120-893a-45a8-8048-8d6fc6280a44\", \"categories\": [0, 1, 2, 3, 4, 5, 6, 7, 8, 9, 10, 11, 12, 13], \"series\": [{\"data\": [\"DatasetEvaluation\", \"FeaturesGeneration\", \"DatasetFeaturization\", \"DatasetFeaturizationCompleted\", \"DatasetCrossValidationSplit\", \"ModelSelection\", \"BestRunExplainModel\", \"ModelExplanationDataSetSetup\", \"PickSurrogateModel\", \"EngineeredFeatureExplanations\", \"EngineeredFeatureExplanations\", \"RawFeaturesExplanations\", \"RawFeaturesExplanations\", \"BestRunExplainModel\"]}]}, {\"name\": \"experiment_status_description\", \"run_id\": \"AutoML_cd384120-893a-45a8-8048-8d6fc6280a44\", \"categories\": [0, 1, 2, 3, 4, 5, 6, 7, 8, 9, 10, 11, 12, 13], \"series\": [{\"data\": [\"Gathering dataset statistics.\", \"Generating features for the dataset.\", \"Beginning to fit featurizers and featurize the dataset.\", \"Completed fit featurizers and featurizing the dataset.\", \"Generating individually featurized CV splits.\", \"Beginning model selection.\", \"Best run model explanations started\", \"Model explanations data setup completed\", \"Choosing LightGBM as the surrogate model for explanations\", \"Computation of engineered features started\", \"Computation of engineered features completed\", \"Computation of raw features started\", \"Computation of raw features completed\", \"Best run model explanations completed\"]}]}, {\"name\": \"f1_score_macro\", \"run_id\": \"AutoML_cd384120-893a-45a8-8048-8d6fc6280a44\", \"categories\": [0], \"series\": [{\"data\": [0.9831077280912254]}]}, {\"name\": \"AUC_micro\", \"run_id\": \"AutoML_cd384120-893a-45a8-8048-8d6fc6280a44\", \"categories\": [0], \"series\": [{\"data\": [0.9967897819533066]}]}, {\"name\": \"precision_score_macro\", \"run_id\": \"AutoML_cd384120-893a-45a8-8048-8d6fc6280a44\", \"categories\": [0], \"series\": [{\"data\": [0.9864959397882336]}]}, {\"name\": \"recall_score_micro\", \"run_id\": \"AutoML_cd384120-893a-45a8-8048-8d6fc6280a44\", \"categories\": [0], \"series\": [{\"data\": [0.9841173730787144]}]}, {\"name\": \"recall_score_macro\", \"run_id\": \"AutoML_cd384120-893a-45a8-8048-8d6fc6280a44\", \"categories\": [0], \"series\": [{\"data\": [0.9804639844256975]}]}, {\"name\": \"f1_score_micro\", \"run_id\": \"AutoML_cd384120-893a-45a8-8048-8d6fc6280a44\", \"categories\": [0], \"series\": [{\"data\": [0.9841173730787144]}]}, {\"name\": \"accuracy\", \"run_id\": \"AutoML_cd384120-893a-45a8-8048-8d6fc6280a44\", \"categories\": [0], \"series\": [{\"data\": [0.9841173730787144]}]}, {\"name\": \"precision_score_micro\", \"run_id\": \"AutoML_cd384120-893a-45a8-8048-8d6fc6280a44\", \"categories\": [0], \"series\": [{\"data\": [0.9841173730787144]}]}, {\"name\": \"AUC_macro\", \"run_id\": \"AutoML_cd384120-893a-45a8-8048-8d6fc6280a44\", \"categories\": [0], \"series\": [{\"data\": [0.9973031263121731]}]}, {\"name\": \"norm_macro_recall\", \"run_id\": \"AutoML_cd384120-893a-45a8-8048-8d6fc6280a44\", \"categories\": [0], \"series\": [{\"data\": [0.9609279688513951]}]}, {\"name\": \"balanced_accuracy\", \"run_id\": \"AutoML_cd384120-893a-45a8-8048-8d6fc6280a44\", \"categories\": [0], \"series\": [{\"data\": [0.9804639844256975]}]}, {\"name\": \"precision_score_weighted\", \"run_id\": \"AutoML_cd384120-893a-45a8-8048-8d6fc6280a44\", \"categories\": [0], \"series\": [{\"data\": [0.9845651386862236]}]}, {\"name\": \"f1_score_weighted\", \"run_id\": \"AutoML_cd384120-893a-45a8-8048-8d6fc6280a44\", \"categories\": [0], \"series\": [{\"data\": [0.9840050978006565]}]}, {\"name\": \"average_precision_score_weighted\", \"run_id\": \"AutoML_cd384120-893a-45a8-8048-8d6fc6280a44\", \"categories\": [0], \"series\": [{\"data\": [0.997564488719026]}]}, {\"name\": \"average_precision_score_micro\", \"run_id\": \"AutoML_cd384120-893a-45a8-8048-8d6fc6280a44\", \"categories\": [0], \"series\": [{\"data\": [0.9968206232690082]}]}, {\"name\": \"recall_score_weighted\", \"run_id\": \"AutoML_cd384120-893a-45a8-8048-8d6fc6280a44\", \"categories\": [0], \"series\": [{\"data\": [0.9841173730787144]}]}, {\"name\": \"AUC_weighted\", \"run_id\": \"AutoML_cd384120-893a-45a8-8048-8d6fc6280a44\", \"categories\": [0], \"series\": [{\"data\": [0.9973031263121731]}]}, {\"name\": \"matthews_correlation\", \"run_id\": \"AutoML_cd384120-893a-45a8-8048-8d6fc6280a44\", \"categories\": [0], \"series\": [{\"data\": [0.9669197728287953]}]}, {\"name\": \"average_precision_score_macro\", \"run_id\": \"AutoML_cd384120-893a-45a8-8048-8d6fc6280a44\", \"categories\": [0], \"series\": [{\"data\": [0.9975051253602784]}]}, {\"name\": \"log_loss\", \"run_id\": \"AutoML_cd384120-893a-45a8-8048-8d6fc6280a44\", \"categories\": [0], \"series\": [{\"data\": [0.12592303314845932]}]}, {\"name\": \"weighted_accuracy\", \"run_id\": \"AutoML_cd384120-893a-45a8-8048-8d6fc6280a44\", \"categories\": [0], \"series\": [{\"data\": [0.987380663357517]}]}], \"run_logs\": \"\\nRun is completed.\", \"graph\": {}, \"widget_settings\": {\"childWidgetDisplay\": \"popup\", \"send_telemetry\": false, \"log_level\": \"INFO\", \"sdk_version\": \"1.51.0\"}, \"loading\": false}"
     },
     "metadata": {},
     "output_type": "display_data"
    },
    {
     "data": {
      "text/html": [
       "<table style=\"width:100%\"><tr><th>Experiment</th><th>Id</th><th>Type</th><th>Status</th><th>Details Page</th><th>Docs Page</th></tr><tr><td>BreastCancer-Experiment</td><td>AutoML_cd384120-893a-45a8-8048-8d6fc6280a44</td><td>automl</td><td>NotStarted</td><td><a href=\"https://ml.azure.com/runs/AutoML_cd384120-893a-45a8-8048-8d6fc6280a44?wsid=/subscriptions/9b72f9e6-56c5-4c16-991b-19c652994860/resourcegroups/aml-quickstarts-251697/workspaces/quick-starts-ws-251697&amp;tid=660b3398-b80e-49d2-bc5b-ac1dc93b5254\" target=\"_blank\" rel=\"noopener\">Link to Azure Machine Learning studio</a></td><td><a href=\"https://docs.microsoft.com/en-us/python/api/overview/azure/ml/intro?view=azure-ml-py\" target=\"_blank\" rel=\"noopener\">Link to Documentation</a></td></tr></table>"
      ]
     },
     "metadata": {},
     "output_type": "display_data"
    },
    {
     "name": "stdout",
     "output_type": "stream",
     "text": [
      "\n",
      "Current status: FeaturesGeneration. Generating features for the dataset.\n",
      "Current status: DatasetCrossValidationSplit. Generating individually featurized CV splits.\n",
      "Current status: ModelSelection. Beginning model selection.\n",
      "\n",
      "********************************************************************************************\n",
      "DATA GUARDRAILS: \n",
      "\n",
      "TYPE:         Class balancing detection\n",
      "STATUS:       PASSED\n",
      "DESCRIPTION:  Your inputs were analyzed, and all classes are balanced in your training data.\n",
      "              Learn more about imbalanced data: https://aka.ms/AutomatedMLImbalancedData\n",
      "\n",
      "********************************************************************************************\n",
      "\n",
      "TYPE:         Missing feature values imputation\n",
      "STATUS:       PASSED\n",
      "DESCRIPTION:  No feature missing values were detected in the training data.\n",
      "              Learn more about missing value imputation: https://aka.ms/AutomatedMLFeaturization\n",
      "\n",
      "********************************************************************************************\n",
      "\n",
      "TYPE:         High cardinality feature detection\n",
      "STATUS:       PASSED\n",
      "DESCRIPTION:  Your inputs were analyzed, and no high cardinality features were detected.\n",
      "              Learn more about high cardinality feature handling: https://aka.ms/AutomatedMLFeaturization\n",
      "\n",
      "********************************************************************************************\n",
      "\n",
      "********************************************************************************************\n",
      "ITER: The iteration being evaluated.\n",
      "PIPELINE: A summary description of the pipeline being evaluated.\n",
      "DURATION: Time taken for the current iteration.\n",
      "METRIC: The result of computing score on the fitted pipeline.\n",
      "BEST: The best observed score thus far.\n",
      "********************************************************************************************\n",
      "\n",
      " ITER   PIPELINE                                       DURATION            METRIC      BEST\n",
      "    0   MaxAbsScaler LightGBM                          0:00:17             0.9932    0.9932\n",
      "    1   MaxAbsScaler XGBoostClassifier                 0:00:14             0.9941    0.9941\n",
      "    2   MaxAbsScaler ExtremeRandomTrees                0:00:13             0.9863    0.9941\n",
      "    3   MaxAbsScaler RandomForest                      0:00:14             0.9860    0.9941\n",
      "    4   StandardScalerWrapper LightGBM                 0:00:14             0.9896    0.9941\n",
      "    5   StandardScalerWrapper KNN                      0:00:16             0.8778    0.9941\n",
      "    6   SparseNormalizer XGBoostClassifier             0:00:13             0.9801    0.9941\n",
      "    7   SparseNormalizer RandomForest                  0:00:14             0.9717    0.9941\n",
      "    8   RobustScaler KNN                               0:00:13             0.9893    0.9941\n",
      "    9   MinMaxScaler RandomForest                      0:00:14             0.9790    0.9941\n",
      "   10   StandardScalerWrapper LogisticRegression       0:00:16             0.9846    0.9941\n",
      "   11   StandardScalerWrapper SVM                      0:00:14             0.9928    0.9941\n",
      "   12   StandardScalerWrapper XGBoostClassifier        0:00:13             0.9885    0.9941\n",
      "   15   SparseNormalizer XGBoostClassifier             0:00:16             0.9763    0.9941\n",
      "   13   SparseNormalizer KNN                           0:00:13             0.9679    0.9941\n",
      "   16   MinMaxScaler ExtremeRandomTrees                0:00:14             0.9906    0.9941\n",
      "   14   RobustScaler ExtremeRandomTrees                0:00:13             0.9874    0.9941\n",
      "   17   MinMaxScaler ExtremeRandomTrees                0:00:13             0.9902    0.9941\n",
      "   18   SparseNormalizer LightGBM                      0:00:13             0.9637    0.9941\n",
      "   19   MaxAbsScaler ExtremeRandomTrees                0:00:19             0.9927    0.9941\n",
      "   21   StandardScalerWrapper RandomForest             0:00:37             0.9881    0.9941\n",
      "   22   MaxAbsScaler LightGBM                          0:00:36             0.9877    0.9941\n",
      "   24   StandardScalerWrapper ExtremeRandomTrees       0:00:37             0.9915    0.9941\n",
      "   23   MaxAbsScaler LogisticRegression                0:00:38             0.9857    0.9941\n",
      "   25   StandardScalerWrapper XGBoostClassifier        0:00:40             0.9952    0.9952\n",
      "   20   StandardScalerWrapper XGBoostClassifier        0:02:53             0.9919    0.9952\n",
      "   26   MaxAbsScaler RandomForest                      0:00:46             0.9869    0.9952\n",
      "   27   MaxAbsScaler LogisticRegression                0:00:37             0.9862    0.9952\n",
      "   28   RobustScaler RandomForest                      0:00:45             0.9852    0.9952\n",
      "   29   StandardScalerWrapper LightGBM                 0:00:37             0.9931    0.9952\n",
      "   30   StandardScalerWrapper XGBoostClassifier        0:00:36             0.9951    0.9952\n",
      "   31   StandardScalerWrapper SVM                      0:00:38             0.9971    0.9971\n",
      "   32   StandardScalerWrapper SVM                      0:00:36             0.9963    0.9971\n",
      "   33   StandardScalerWrapper SVM                      0:00:34             0.9956    0.9971\n",
      "   34   RobustScaler SVM                               0:00:36             0.9969    0.9971\n",
      "   35   SparseNormalizer SVM                           0:00:37             0.3311    0.9971\n",
      "   36   StandardScalerWrapper XGBoostClassifier        0:00:37             0.9883    0.9971\n",
      "   37   StandardScalerWrapper SVM                      0:00:35             0.9960    0.9971\n",
      "   38   StandardScalerWrapper XGBoostClassifier        0:00:38             0.9951    0.9971\n",
      "   39   MinMaxScaler RandomForest                      0:00:42             0.9846    0.9971\n",
      "   40   StandardScalerWrapper SVM                      0:00:34             0.9861    0.9971\n",
      "   41   MinMaxScaler ExtremeRandomTrees                0:00:38             0.9882    0.9971\n",
      "   42   StandardScalerWrapper LogisticRegression       0:00:38             0.9961    0.9971\n",
      "   43   RobustScaler GradientBoosting                  0:00:36             0.9903    0.9971\n",
      "   44   StandardScalerWrapper GradientBoosting         0:00:36             0.9936    0.9971\n",
      "   45                                                  0:00:11                nan    0.9971\n",
      "   46                                                  0:00:04                nan    0.9971\n",
      "   47                                                  0:00:00                nan    0.9971\n",
      "   48    VotingEnsemble                                0:01:15             0.9973    0.9973\n"
     ]
    },
    {
     "data": {
      "text/plain": [
       "{'runId': 'AutoML_cd384120-893a-45a8-8048-8d6fc6280a44',\n",
       " 'target': 'azurecapstone-project',\n",
       " 'status': 'Completed',\n",
       " 'startTimeUtc': '2024-02-05T09:09:36.949305Z',\n",
       " 'endTimeUtc': '2024-02-05T09:36:25.120981Z',\n",
       " 'services': {},\n",
       " 'warnings': [{'source': 'JasmineService',\n",
       "   'message': 'No scores improved over last 10 iterations, so experiment stopped early. This early stopping behavior can be disabled by setting enable_early_stopping = False in AutoMLConfig for notebook/python SDK runs.'}],\n",
       " 'properties': {'num_iterations': '1000',\n",
       "  'training_type': 'TrainFull',\n",
       "  'acquisition_function': 'EI',\n",
       "  'primary_metric': 'AUC_weighted',\n",
       "  'train_split': '0',\n",
       "  'acquisition_parameter': '0',\n",
       "  'num_cross_validation': '5',\n",
       "  'target': 'azurecapstone-project',\n",
       "  'AMLSettingsJsonString': '{\"path\":null,\"name\":\"BreastCancer-Experiment\",\"subscription_id\":\"9b72f9e6-56c5-4c16-991b-19c652994860\",\"resource_group\":\"aml-quickstarts-251697\",\"workspace_name\":\"quick-starts-ws-251697\",\"region\":\"westus2\",\"compute_target\":\"azurecapstone-project\",\"spark_service\":null,\"azure_service\":\"remote\",\"many_models\":false,\"pipeline_fetch_max_batch_size\":1,\"enable_batch_run\":true,\"enable_parallel_run\":false,\"num_procs\":null,\"enable_run_restructure\":false,\"start_auxiliary_runs_before_parent_complete\":false,\"enable_code_generation\":true,\"iterations\":1000,\"primary_metric\":\"AUC_weighted\",\"task_type\":\"classification\",\"positive_label\":null,\"data_script\":null,\"test_size\":0.0,\"test_include_predictions_only\":false,\"validation_size\":0.0,\"n_cross_validations\":5,\"y_min\":null,\"y_max\":null,\"num_classes\":null,\"featurization\":\"auto\",\"_ignore_package_version_incompatibilities\":false,\"is_timeseries\":false,\"max_cores_per_iteration\":1,\"max_concurrent_iterations\":4,\"iteration_timeout_minutes\":null,\"mem_in_mb\":null,\"enforce_time_on_windows\":false,\"experiment_timeout_minutes\":20,\"experiment_exit_score\":null,\"partition_column_names\":null,\"whitelist_models\":null,\"blacklist_algos\":[\"TensorFlowLinearClassifier\",\"TensorFlowDNN\"],\"supported_models\":[\"DecisionTree\",\"LinearSVM\",\"TensorFlowLinearClassifier\",\"ExtremeRandomTrees\",\"AveragedPerceptronClassifier\",\"XGBoostClassifier\",\"GradientBoosting\",\"SGD\",\"KNN\",\"BernoulliNaiveBayes\",\"TabnetClassifier\",\"LightGBM\",\"TensorFlowDNN\",\"RandomForest\",\"SVM\",\"LogisticRegression\",\"MultinomialNaiveBayes\"],\"private_models\":[],\"auto_blacklist\":true,\"blacklist_samples_reached\":false,\"exclude_nan_labels\":true,\"verbosity\":20,\"_debug_log\":\"azureml_automl.log\",\"show_warnings\":false,\"model_explainability\":true,\"service_url\":null,\"sdk_url\":null,\"sdk_packages\":null,\"enable_onnx_compatible_models\":true,\"enable_split_onnx_featurizer_estimator_models\":false,\"vm_type\":\"STANDARD_D2_V2\",\"telemetry_verbosity\":20,\"send_telemetry\":true,\"enable_dnn\":false,\"scenario\":\"AutoML\",\"environment_label\":null,\"save_mlflow\":false,\"enable_categorical_indicators\":false,\"force_text_dnn\":false,\"enable_feature_sweeping\":false,\"enable_early_stopping\":true,\"early_stopping_n_iters\":10,\"arguments\":null,\"dataset_id\":\"89364875-33e2-4b3b-bcf4-ccdb52d24546\",\"hyperdrive_config\":null,\"validation_dataset_id\":null,\"run_source\":null,\"metrics\":null,\"enable_metric_confidence\":false,\"enable_ensembling\":true,\"enable_stack_ensembling\":false,\"ensemble_iterations\":15,\"enable_tf\":false,\"enable_subsampling\":null,\"subsample_seed\":null,\"enable_nimbusml\":false,\"enable_streaming\":false,\"force_streaming\":false,\"track_child_runs\":true,\"n_best_runs\":1,\"allowed_private_models\":[],\"label_column_name\":\"diagnosis\",\"weight_column_name\":null,\"cv_split_column_names\":null,\"enable_local_managed\":false,\"_local_managed_run_id\":null,\"cost_mode\":1,\"lag_length\":0,\"metric_operation\":\"maximize\",\"preprocess\":true}',\n",
       "  'DataPrepJsonString': '{\\\\\"training_data\\\\\": {\\\\\"datasetId\\\\\": \\\\\"89364875-33e2-4b3b-bcf4-ccdb52d24546\\\\\"}, \\\\\"datasets\\\\\": 0}',\n",
       "  'EnableSubsampling': None,\n",
       "  'runTemplate': 'AutoML',\n",
       "  'azureml.runsource': 'automl',\n",
       "  'display_task_type': 'classification',\n",
       "  'dependencies_versions': '{\"azureml-dataprep-native\": \"38.0.0\", \"azureml-dataprep\": \"4.10.8\", \"azureml-dataprep-rslex\": \"2.17.12\", \"azureml-train-automl-runtime\": \"1.51.0.post2\", \"azureml-train-automl-client\": \"1.51.0.post1\", \"azureml-training-tabular\": \"1.51.0.post1\", \"azureml-automl-runtime\": \"1.51.0.post1\", \"azureml-automl-core\": \"1.51.0.post1\", \"azureml-mlflow\": \"1.51.0\", \"azureml-datadrift\": \"1.51.0\", \"azureml-pipeline\": \"1.51.0\", \"azureml-contrib-dataset\": \"1.51.0\", \"azureml-contrib-notebook\": \"1.51.0\", \"azureml-accel-models\": \"1.51.0\", \"azureml-automl-dnn-nlp\": \"1.51.0\", \"azureml-pipeline-core\": \"1.51.0\", \"azureml-responsibleai\": \"1.51.0\", \"azureml-contrib-automl-pipeline-steps\": \"1.51.0\", \"azureml-pipeline-steps\": \"1.51.0\", \"azureml-core\": \"1.51.0\", \"azureml-contrib-reinforcementlearning\": \"1.51.0\", \"azureml-contrib-server\": \"1.51.0\", \"azureml-opendatasets\": \"1.51.0\", \"azureml-contrib-services\": \"1.51.0\", \"azureml-telemetry\": \"1.51.0\", \"azureml-train-restclients-hyperdrive\": \"1.51.0\", \"azureml-interpret\": \"1.51.0\", \"azureml-train-core\": \"1.51.0\", \"azureml-tensorboard\": \"1.51.0\", \"azureml-train\": \"1.51.0\", \"azureml-contrib-pipeline-steps\": \"1.51.0\", \"azureml-explain-model\": \"1.51.0\", \"azureml-cli-common\": \"1.51.0\", \"azureml-widgets\": \"1.51.0\", \"azureml-train-automl\": \"1.51.0\", \"azureml-defaults\": \"1.51.0\", \"azureml-contrib-fairness\": \"1.51.0\", \"azureml-sdk\": \"1.51.0\", \"azureml-dataset-runtime\": \"1.51.0\", \"azureml-inference-server-http\": \"0.8.4\"}',\n",
       "  '_aml_system_scenario_identification': 'Remote.Parent',\n",
       "  'ClientType': 'SDK',\n",
       "  'PlatformVersion': 'DPV1',\n",
       "  'environment_cpu_name': 'AzureML-AutoML',\n",
       "  'environment_cpu_label': 'scikit-upgrade2',\n",
       "  'environment_gpu_name': 'AzureML-AutoML-GPU',\n",
       "  'environment_gpu_label': 'scikit-upgrade2',\n",
       "  'root_attribution': 'automl',\n",
       "  'attribution': 'AutoML',\n",
       "  'Orchestrator': 'AutoML',\n",
       "  'CancelUri': 'https://westus2.api.azureml.ms/jasmine/v1.0/subscriptions/9b72f9e6-56c5-4c16-991b-19c652994860/resourceGroups/aml-quickstarts-251697/providers/Microsoft.MachineLearningServices/workspaces/quick-starts-ws-251697/experimentids/276f01db-8708-4a93-99c4-985fbb01a4b7/cancel/AutoML_cd384120-893a-45a8-8048-8d6fc6280a44',\n",
       "  'ClientSdkVersion': None,\n",
       "  'snapshotId': '00000000-0000-0000-0000-000000000000',\n",
       "  'SetupRunId': 'AutoML_cd384120-893a-45a8-8048-8d6fc6280a44_setup',\n",
       "  'SetupRunContainerId': 'dcid.AutoML_cd384120-893a-45a8-8048-8d6fc6280a44_setup',\n",
       "  'FeaturizationRunJsonPath': 'featurizer_container.json',\n",
       "  'FeaturizationRunId': 'AutoML_cd384120-893a-45a8-8048-8d6fc6280a44_featurize',\n",
       "  'ProblemInfoJsonString': '{\"dataset_num_categorical\": 0, \"is_sparse\": false, \"subsampling\": false, \"has_extra_col\": true, \"dataset_classes\": 2, \"dataset_features\": 31, \"dataset_samples\": 569, \"single_frequency_class_detected\": false}',\n",
       "  'ModelExplainRunId': 'AutoML_cd384120-893a-45a8-8048-8d6fc6280a44_ModelExplain'},\n",
       " 'inputDatasets': [{'dataset': {'id': '89364875-33e2-4b3b-bcf4-ccdb52d24546'}, 'consumptionDetails': {'type': 'RunInput', 'inputName': 'training_data', 'mechanism': 'Direct'}}],\n",
       " 'outputDatasets': [{'identifier': {'savedId': 'd4149eb1-b227-465e-b122-15a0fd4790b5'},\n",
       "   'outputType': 'RunOutput',\n",
       "   'outputDetails': {'outputName': 'full_training_dataset'},\n",
       "   'dataset': {\n",
       "     \"source\": [\n",
       "       \"('workspaceartifactstore', 'ExperimentRun/dcid.AutoML_cd384120-893a-45a8-8048-8d6fc6280a44/outputs/featurization/data/full_training_dataset.df.parquet')\"\n",
       "     ],\n",
       "     \"definition\": [\n",
       "       \"GetDatastoreFiles\",\n",
       "       \"ReadParquetFile\",\n",
       "       \"DropColumns\"\n",
       "     ],\n",
       "     \"registration\": {\n",
       "       \"id\": \"d4149eb1-b227-465e-b122-15a0fd4790b5\",\n",
       "       \"name\": null,\n",
       "       \"version\": null,\n",
       "       \"workspace\": \"Workspace.create(name='quick-starts-ws-251697', subscription_id='9b72f9e6-56c5-4c16-991b-19c652994860', resource_group='aml-quickstarts-251697')\"\n",
       "     }\n",
       "   }}],\n",
       " 'logFiles': {},\n",
       " 'submittedBy': 'ODL_User 251697'}"
      ]
     },
     "execution_count": 8,
     "metadata": {},
     "output_type": "execute_result"
    }
   ],
   "source": [
    "# Submit experiment\n",
    "from azureml.widgets import RunDetails\n",
    "remote_run = experiment.submit(automl_config)\n",
    "RunDetails(remote_run).show()\n",
    "remote_run.wait_for_completion(show_output=True)\n"
   ]
  },
  {
   "cell_type": "markdown",
   "metadata": {},
   "source": [
    "## Run Details\n",
    "\n",
    "OPTIONAL: Write about the different models trained and their performance. Why do you think some models did better than others?\n",
    "\n",
    "TODO: In the cell below, use the `RunDetails` widget to show the different experiments."
   ]
  },
  {
   "cell_type": "code",
   "execution_count": 26,
   "metadata": {
    "gather": {
     "logged": 1706993281944
    },
    "jupyter": {
     "outputs_hidden": false,
     "source_hidden": false
    },
    "nteract": {
     "transient": {
      "deleting": false
     }
    }
   },
   "outputs": [
    {
     "data": {
      "application/vnd.jupyter.widget-view+json": {
       "model_id": "2aed7913c027449daa867f75b6ab26cd",
       "version_major": 2,
       "version_minor": 0
      },
      "text/plain": [
       "_AutoMLWidget(widget_settings={'childWidgetDisplay': 'popup', 'send_telemetry': False, 'log_level': 'INFO', 's…"
      ]
     },
     "metadata": {},
     "output_type": "display_data"
    },
    {
     "data": {
      "application/aml.mini.widget.v1": "{\"status\": \"Completed\", \"workbench_run_details_uri\": \"https://ml.azure.com/runs/AutoML_cd384120-893a-45a8-8048-8d6fc6280a44?wsid=/subscriptions/9b72f9e6-56c5-4c16-991b-19c652994860/resourcegroups/aml-quickstarts-251697/workspaces/quick-starts-ws-251697&tid=660b3398-b80e-49d2-bc5b-ac1dc93b5254\", \"run_id\": \"AutoML_cd384120-893a-45a8-8048-8d6fc6280a44\", \"run_properties\": {\"run_id\": \"AutoML_cd384120-893a-45a8-8048-8d6fc6280a44\", \"created_utc\": \"2024-02-05T09:09:20.479296Z\", \"properties\": {\"num_iterations\": \"1000\", \"training_type\": \"TrainFull\", \"acquisition_function\": \"EI\", \"primary_metric\": \"AUC_weighted\", \"train_split\": \"0\", \"acquisition_parameter\": \"0\", \"num_cross_validation\": \"5\", \"target\": \"azurecapstone-project\", \"AMLSettingsJsonString\": \"{\\\"path\\\":null,\\\"name\\\":\\\"BreastCancer-Experiment\\\",\\\"subscription_id\\\":\\\"9b72f9e6-56c5-4c16-991b-19c652994860\\\",\\\"resource_group\\\":\\\"aml-quickstarts-251697\\\",\\\"workspace_name\\\":\\\"quick-starts-ws-251697\\\",\\\"region\\\":\\\"westus2\\\",\\\"compute_target\\\":\\\"azurecapstone-project\\\",\\\"spark_service\\\":null,\\\"azure_service\\\":\\\"remote\\\",\\\"many_models\\\":false,\\\"pipeline_fetch_max_batch_size\\\":1,\\\"enable_batch_run\\\":true,\\\"enable_parallel_run\\\":false,\\\"num_procs\\\":null,\\\"enable_run_restructure\\\":false,\\\"start_auxiliary_runs_before_parent_complete\\\":false,\\\"enable_code_generation\\\":true,\\\"iterations\\\":1000,\\\"primary_metric\\\":\\\"AUC_weighted\\\",\\\"task_type\\\":\\\"classification\\\",\\\"positive_label\\\":null,\\\"data_script\\\":null,\\\"test_size\\\":0.0,\\\"test_include_predictions_only\\\":false,\\\"validation_size\\\":0.0,\\\"n_cross_validations\\\":5,\\\"y_min\\\":null,\\\"y_max\\\":null,\\\"num_classes\\\":null,\\\"featurization\\\":\\\"auto\\\",\\\"_ignore_package_version_incompatibilities\\\":false,\\\"is_timeseries\\\":false,\\\"max_cores_per_iteration\\\":1,\\\"max_concurrent_iterations\\\":4,\\\"iteration_timeout_minutes\\\":null,\\\"mem_in_mb\\\":null,\\\"enforce_time_on_windows\\\":false,\\\"experiment_timeout_minutes\\\":20,\\\"experiment_exit_score\\\":null,\\\"partition_column_names\\\":null,\\\"whitelist_models\\\":null,\\\"blacklist_algos\\\":[\\\"TensorFlowLinearClassifier\\\",\\\"TensorFlowDNN\\\"],\\\"supported_models\\\":[\\\"DecisionTree\\\",\\\"LinearSVM\\\",\\\"TensorFlowLinearClassifier\\\",\\\"ExtremeRandomTrees\\\",\\\"AveragedPerceptronClassifier\\\",\\\"XGBoostClassifier\\\",\\\"GradientBoosting\\\",\\\"SGD\\\",\\\"KNN\\\",\\\"BernoulliNaiveBayes\\\",\\\"TabnetClassifier\\\",\\\"LightGBM\\\",\\\"TensorFlowDNN\\\",\\\"RandomForest\\\",\\\"SVM\\\",\\\"LogisticRegression\\\",\\\"MultinomialNaiveBayes\\\"],\\\"private_models\\\":[],\\\"auto_blacklist\\\":true,\\\"blacklist_samples_reached\\\":false,\\\"exclude_nan_labels\\\":true,\\\"verbosity\\\":20,\\\"_debug_log\\\":\\\"azureml_automl.log\\\",\\\"show_warnings\\\":false,\\\"model_explainability\\\":true,\\\"service_url\\\":null,\\\"sdk_url\\\":null,\\\"sdk_packages\\\":null,\\\"enable_onnx_compatible_models\\\":true,\\\"enable_split_onnx_featurizer_estimator_models\\\":false,\\\"vm_type\\\":\\\"STANDARD_D2_V2\\\",\\\"telemetry_verbosity\\\":20,\\\"send_telemetry\\\":true,\\\"enable_dnn\\\":false,\\\"scenario\\\":\\\"AutoML\\\",\\\"environment_label\\\":null,\\\"save_mlflow\\\":false,\\\"enable_categorical_indicators\\\":false,\\\"force_text_dnn\\\":false,\\\"enable_feature_sweeping\\\":false,\\\"enable_early_stopping\\\":true,\\\"early_stopping_n_iters\\\":10,\\\"arguments\\\":null,\\\"dataset_id\\\":\\\"89364875-33e2-4b3b-bcf4-ccdb52d24546\\\",\\\"hyperdrive_config\\\":null,\\\"validation_dataset_id\\\":null,\\\"run_source\\\":null,\\\"metrics\\\":null,\\\"enable_metric_confidence\\\":false,\\\"enable_ensembling\\\":true,\\\"enable_stack_ensembling\\\":false,\\\"ensemble_iterations\\\":15,\\\"enable_tf\\\":false,\\\"enable_subsampling\\\":null,\\\"subsample_seed\\\":null,\\\"enable_nimbusml\\\":false,\\\"enable_streaming\\\":false,\\\"force_streaming\\\":false,\\\"track_child_runs\\\":true,\\\"n_best_runs\\\":1,\\\"allowed_private_models\\\":[],\\\"label_column_name\\\":\\\"diagnosis\\\",\\\"weight_column_name\\\":null,\\\"cv_split_column_names\\\":null,\\\"enable_local_managed\\\":false,\\\"_local_managed_run_id\\\":null,\\\"cost_mode\\\":1,\\\"lag_length\\\":0,\\\"metric_operation\\\":\\\"maximize\\\",\\\"preprocess\\\":true}\", \"DataPrepJsonString\": \"{\\\\\\\"training_data\\\\\\\": {\\\\\\\"datasetId\\\\\\\": \\\\\\\"89364875-33e2-4b3b-bcf4-ccdb52d24546\\\\\\\"}, \\\\\\\"datasets\\\\\\\": 0}\", \"EnableSubsampling\": null, \"runTemplate\": \"AutoML\", \"azureml.runsource\": \"automl\", \"display_task_type\": \"classification\", \"dependencies_versions\": \"{\\\"azureml-dataprep-native\\\": \\\"38.0.0\\\", \\\"azureml-dataprep\\\": \\\"4.10.8\\\", \\\"azureml-dataprep-rslex\\\": \\\"2.17.12\\\", \\\"azureml-train-automl-runtime\\\": \\\"1.51.0.post2\\\", \\\"azureml-train-automl-client\\\": \\\"1.51.0.post1\\\", \\\"azureml-training-tabular\\\": \\\"1.51.0.post1\\\", \\\"azureml-automl-runtime\\\": \\\"1.51.0.post1\\\", \\\"azureml-automl-core\\\": \\\"1.51.0.post1\\\", \\\"azureml-mlflow\\\": \\\"1.51.0\\\", \\\"azureml-datadrift\\\": \\\"1.51.0\\\", \\\"azureml-pipeline\\\": \\\"1.51.0\\\", \\\"azureml-contrib-dataset\\\": \\\"1.51.0\\\", \\\"azureml-contrib-notebook\\\": \\\"1.51.0\\\", \\\"azureml-accel-models\\\": \\\"1.51.0\\\", \\\"azureml-automl-dnn-nlp\\\": \\\"1.51.0\\\", \\\"azureml-pipeline-core\\\": \\\"1.51.0\\\", \\\"azureml-responsibleai\\\": \\\"1.51.0\\\", \\\"azureml-contrib-automl-pipeline-steps\\\": \\\"1.51.0\\\", \\\"azureml-pipeline-steps\\\": \\\"1.51.0\\\", \\\"azureml-core\\\": \\\"1.51.0\\\", \\\"azureml-contrib-reinforcementlearning\\\": \\\"1.51.0\\\", \\\"azureml-contrib-server\\\": \\\"1.51.0\\\", \\\"azureml-opendatasets\\\": \\\"1.51.0\\\", \\\"azureml-contrib-services\\\": \\\"1.51.0\\\", \\\"azureml-telemetry\\\": \\\"1.51.0\\\", \\\"azureml-train-restclients-hyperdrive\\\": \\\"1.51.0\\\", \\\"azureml-interpret\\\": \\\"1.51.0\\\", \\\"azureml-train-core\\\": \\\"1.51.0\\\", \\\"azureml-tensorboard\\\": \\\"1.51.0\\\", \\\"azureml-train\\\": \\\"1.51.0\\\", \\\"azureml-contrib-pipeline-steps\\\": \\\"1.51.0\\\", \\\"azureml-explain-model\\\": \\\"1.51.0\\\", \\\"azureml-cli-common\\\": \\\"1.51.0\\\", \\\"azureml-widgets\\\": \\\"1.51.0\\\", \\\"azureml-train-automl\\\": \\\"1.51.0\\\", \\\"azureml-defaults\\\": \\\"1.51.0\\\", \\\"azureml-contrib-fairness\\\": \\\"1.51.0\\\", \\\"azureml-sdk\\\": \\\"1.51.0\\\", \\\"azureml-dataset-runtime\\\": \\\"1.51.0\\\", \\\"azureml-inference-server-http\\\": \\\"0.8.4\\\"}\", \"_aml_system_scenario_identification\": \"Remote.Parent\", \"ClientType\": \"SDK\", \"PlatformVersion\": \"DPV1\", \"environment_cpu_name\": \"AzureML-AutoML\", \"environment_cpu_label\": \"scikit-upgrade2\", \"environment_gpu_name\": \"AzureML-AutoML-GPU\", \"environment_gpu_label\": \"scikit-upgrade2\", \"root_attribution\": \"automl\", \"attribution\": \"AutoML\", \"Orchestrator\": \"AutoML\", \"CancelUri\": \"https://westus2.api.azureml.ms/jasmine/v1.0/subscriptions/9b72f9e6-56c5-4c16-991b-19c652994860/resourceGroups/aml-quickstarts-251697/providers/Microsoft.MachineLearningServices/workspaces/quick-starts-ws-251697/experimentids/276f01db-8708-4a93-99c4-985fbb01a4b7/cancel/AutoML_cd384120-893a-45a8-8048-8d6fc6280a44\", \"ClientSdkVersion\": null, \"snapshotId\": \"00000000-0000-0000-0000-000000000000\", \"SetupRunId\": \"AutoML_cd384120-893a-45a8-8048-8d6fc6280a44_setup\", \"SetupRunContainerId\": \"dcid.AutoML_cd384120-893a-45a8-8048-8d6fc6280a44_setup\", \"FeaturizationRunJsonPath\": \"featurizer_container.json\", \"FeaturizationRunId\": \"AutoML_cd384120-893a-45a8-8048-8d6fc6280a44_featurize\", \"ProblemInfoJsonString\": \"{\\\"dataset_num_categorical\\\": 0, \\\"is_sparse\\\": false, \\\"subsampling\\\": false, \\\"has_extra_col\\\": true, \\\"dataset_classes\\\": 2, \\\"dataset_features\\\": 31, \\\"dataset_samples\\\": 569, \\\"single_frequency_class_detected\\\": false}\", \"ModelExplainRunId\": \"AutoML_cd384120-893a-45a8-8048-8d6fc6280a44_ModelExplain\"}, \"tags\": {\"model_explain_run\": \"best_run\", \"_aml_system_automl_run_workspace_id\": \"c46c0d27-1115-4bba-bad2-e05bcabaf5a8\", \"_aml_system_azureml.automlComponent\": \"AutoML\", \"pipeline_id_000\": \"5dfac790c5c209f98a1da2dc1c7fb76f0397324f;c7af0367625be6ac5c2fecbfc72ed444cb7a2111;51ae05309834b29f71340af1008fc94fbd8213f4;ce2643edf3d450b10c86c7d034a9bc952dc282d3;039a99c3d5147edeb525249e2660628be3e8b83f;a18bd1af1629e8f96b25a32ac94e62b3bd9a9605;a3dadd95854bf6116ab454844302b51d417d78b7;1dfdf370ba770047b14bfa59c40920815defcdab;e92a63ad06df7b68a48ce96c06fad3fbf2a25ce2;5bc24cef89e67ee668d55e59548e1032cfbc7f0f;516a24fb1445632ecf04366c17b960ce157878b3;088b94df63b852cc8cba96bb2fa191ce8d1ef2e5;681a59302459aec2cc115ddbc14e1d28f4b3b8df;294650ec23bc3d067a4972de7ceb12f6e97260fa;4f207270c6817858b81b8050f1efa1d0053db52e;634afb4b36be9286ca21289f56b5f7cdf1c72fa9;7ea0a64582be36507254a026ac98e9a5a49e1f34;b983b703e4d6dbffd4a815a4d1c2ed94225c5027;6f4a466f84f725a47910c1dff062a1bb46df2a21;dea7fdbaedc77258dbfe31dbfed41e768ca38939;a72eb56f3d4aadb7b7f0149ba6e5f05657a95ca1;9610149fbcf43017aa810a290e9c04cbe6fa8684;a7434e890cabef86b0ce4ae71fb633e1e92b854d;1e38ae92baee19b18f211a8b14c16015d5ee3dc3;169ee938398f3d9dbb72503258e097a85432b6c9;55609b63cef82650f347f75f468356428beb60fc;c74787cd2f0507b852a1ac70d504d83ac9bdec83;fd9c8284f8cabb25c8c6d3073dac3316b188423b;fce9cbb45e12a1de9e002997fb16ef7abff5a367;f476490fe3c1a500ea0e52a1df5c04f838c8426f;835074966ac5351570e037c312c41a2410987b21;eb182ddcb878d4cb26fc5f29014b50921addb130;45a2b456f7e2442196ff2b5b80e43afcdc33cb05;aa9bb1be0fdd90d85173de50544a9c238007a00e;c333b62373921d582b55bd524c0494d07552ec41;a3d638a252f9f4db61f1307c1ba13981faeae142;8c00fc7a571495dd75759cfc7a0fd491e680e8fe;8716a81b0684aedc5da6e4385c58bb7b922d2ce0;28df615b5b82d37b220b3a82a0a5b67ee28db734;b9fa8bf37aef47590ee2611ea49af2a1d5d325fc;1e3ec75dde78c9f11c110951eb946e05ab32ab24;5280752a2d9ce9f8dd6f2ec56bf4459ebee42cd4;017cac792b96b33481eb24859e8f5e20efa63d58;96cb1f6334642835f1e4868f949663808245f352;7968b0b8248555fd37a32beb3696cc9ee95171a1;d83d558bd89e185c5eeba7d1117dbc409fb60e39;b3b90cbf98cabda0c1e3840f405d26ad4cb275a0;5aba097241bc400ae8f821f116b5a04d9fa689b2;__AutoML_Ensemble__\", \"score_000\": \"0.9931983676407905;0.9941429596242175;0.9862569626427135;0.9859649737032516;0.9896363115568763;0.8778468450761532;0.9801271173135481;0.9716877882451967;0.9893355119223137;0.9789937972485054;0.98455918576333;0.9927507801294124;0.9762847059936932;0.9884932298093849;0.9906341427022701;0.9678706383444983;0.9901961755280595;0.9874266100428345;0.9637173667512862;0.9926746690113519;0.9881442346644569;0.9876877333979129;0.9915489258336727;0.9856513683410324;0.995203036089654;0.9869344233999193;0.99187374186338;0.9861723157259472;0.9851583923370433;0.993134673063313;0.9950823453919202;0.9971007152233439;0.9962501225124807;0.9955722837565582;0.9968966606043453;0.33109952710644064;0.9882843716111582;0.9959618081673934;0.9951131989871737;0.9845811184388819;0.9861225248505535;0.9882288736017909;0.9960996814627002;0.99027208122669;0.9936341962054911;NaN;NaN;NaN;0.9973031263121731\", \"predicted_cost_000\": \"0;0;0.5;0.5;0.5;0.5;0.5;0.5;0.5;0.5;0.5;0.5;0.5;0.5;0.5;0.5;0.5;0.5;0.5;0.5;0.02862660817453122;0.15651140137986397;0.5689119905357792;0.3868068288658626;0.3281838963443726;0.7910839457118503;0.08255102284357926;0.20376160320926465;0.26130963498035187;0.29592529303669873;0.48653894483713706;0.08444032056934014;0.1295928569931163;0.043912843410964714;0.13060437786787896;0.14350181528210676;0.3220207559046428;0.04023492558565237;0.36940540410136113;0.5874699356975203;0.017879338216568137;0.522042210512894;0.05367651953878457;0.30143487524755164;0.11895098925606823;0.10699981152716803;0.23501053286978138;0.023411839535190816;0\", \"fit_time_000\": \"0.19310619999999998;0.11873879999999999;0.0388262;0.0413728;0.0434954;0.006436599999999999;0.050788;0.25250880000000003;0.0173988;0.1840512;0.0620448;0.0371258;0.0530106;0.037775199999999995;0.11601920000000002;0.015087800000000002;0.067441;0.0672252;0.030744000000000004;0.5512544;0.27148999999999995;0.06150100000000001;0.3621682;0.076546;0.10513140000000001;1.7980429999999998;0.0745832;0.08480739999999999;1.1096434;0.1611356;0.1368358;0.0318268;0.033449400000000004;0.03231540000000001;0.051756;0.0746712;0.239981;0.0380776;0.1173708;1.1121874;0.0593494;0.5315888;0.0368134;0.28925340000000005;0.2251564;NaN;NaN;NaN;35\", \"training_percent_000\": \"100;100;100;100;100;100;100;100;100;100;100;100;100;100;100;100;100;100;100;100;100;100;100;100;100;100;100;100;100;100;100;100;100;100;100;100;100;100;100;100;100;100;100;100;100;100;100;100;100\", \"iteration_000\": \"0;1;2;3;4;5;6;7;8;9;10;11;15;12;16;13;17;14;18;19;21;22;24;23;25;26;20;27;28;29;30;31;32;33;34;35;36;37;38;39;40;41;42;43;44;47;46;45;48\", \"run_preprocessor_000\": \"MaxAbsScaler;MaxAbsScaler;MaxAbsScaler;MaxAbsScaler;StandardScalerWrapper;StandardScalerWrapper;SparseNormalizer;SparseNormalizer;RobustScaler;MinMaxScaler;StandardScalerWrapper;StandardScalerWrapper;SparseNormalizer;StandardScalerWrapper;MinMaxScaler;SparseNormalizer;MinMaxScaler;RobustScaler;SparseNormalizer;MaxAbsScaler;StandardScalerWrapper;MaxAbsScaler;StandardScalerWrapper;MaxAbsScaler;StandardScalerWrapper;MaxAbsScaler;StandardScalerWrapper;MaxAbsScaler;RobustScaler;StandardScalerWrapper;StandardScalerWrapper;StandardScalerWrapper;StandardScalerWrapper;StandardScalerWrapper;RobustScaler;SparseNormalizer;StandardScalerWrapper;StandardScalerWrapper;StandardScalerWrapper;MinMaxScaler;StandardScalerWrapper;MinMaxScaler;StandardScalerWrapper;RobustScaler;StandardScalerWrapper;;;;\", \"run_algorithm_000\": \"LightGBM;XGBoostClassifier;ExtremeRandomTrees;RandomForest;LightGBM;KNN;XGBoostClassifier;RandomForest;KNN;RandomForest;LogisticRegression;SVM;XGBoostClassifier;XGBoostClassifier;ExtremeRandomTrees;KNN;ExtremeRandomTrees;ExtremeRandomTrees;LightGBM;ExtremeRandomTrees;RandomForest;LightGBM;ExtremeRandomTrees;LogisticRegression;XGBoostClassifier;RandomForest;XGBoostClassifier;LogisticRegression;RandomForest;LightGBM;XGBoostClassifier;SVM;SVM;SVM;SVM;SVM;XGBoostClassifier;SVM;XGBoostClassifier;RandomForest;SVM;ExtremeRandomTrees;LogisticRegression;GradientBoosting;GradientBoosting;;;;VotingEnsemble\", \"dynamic_allowlisting_iterations\": \"<25>;<30>;<35>;<40>;<45>;\", \"_aml_system_azureml.automl_early_exit_message\": \"No scores improved over last 10 iterations, so experiment stopped early. This early stopping behavior can be disabled by setting enable_early_stopping = False in AutoMLConfig for notebook/python SDK runs.\", \"automl_best_child_run_id\": \"AutoML_cd384120-893a-45a8-8048-8d6fc6280a44_48\", \"model_explain_best_run_child_id\": \"AutoML_cd384120-893a-45a8-8048-8d6fc6280a44_48\"}, \"end_time_utc\": \"2024-02-05T09:36:25.120981Z\", \"status\": \"Completed\", \"log_files\": {}, \"log_groups\": [], \"run_duration\": \"0:27:04\", \"run_number\": \"1707124160\", \"run_queued_details\": {\"status\": \"Completed\", \"details\": null}}, \"child_runs\": [{\"run_id\": \"AutoML_cd384120-893a-45a8-8048-8d6fc6280a44_setup\", \"run_number\": 1707124175, \"metric\": null, \"status\": \"Completed\", \"run_type\": \"azureml.scriptrun\", \"training_percent\": null, \"start_time\": \"2024-02-05T09:15:03.291234Z\", \"end_time\": \"2024-02-05T09:17:59.58915Z\", \"created_time\": \"2024-02-05T09:09:35.65857Z\", \"created_time_dt\": \"2024-02-05T09:09:35.65857Z\", \"duration\": \"0:08:23\", \"iteration\": null, \"goal\": null, \"run_name\": \"Completed\", \"run_properties\": null}, {\"run_id\": \"AutoML_cd384120-893a-45a8-8048-8d6fc6280a44_featurize\", \"run_number\": 1707124679, \"metric\": null, \"status\": \"Completed\", \"run_type\": \"automl.featurization\", \"training_percent\": null, \"start_time\": \"2024-02-05T09:18:00.227627Z\", \"end_time\": \"2024-02-05T09:19:04.689027Z\", \"created_time\": \"2024-02-05T09:17:59.787591Z\", \"created_time_dt\": \"2024-02-05T09:17:59.787591Z\", \"duration\": \"0:01:04\", \"iteration\": null, \"goal\": null, \"run_name\": \"Completed\", \"run_properties\": null}, {\"run_id\": \"AutoML_cd384120-893a-45a8-8048-8d6fc6280a44_0\", \"run_number\": 1707124746, \"metric\": null, \"status\": \"Completed\", \"run_type\": null, \"training_percent\": \"100\", \"start_time\": \"2024-02-05T09:19:45.239916Z\", \"end_time\": \"2024-02-05T09:20:02.185019Z\", \"created_time\": \"2024-02-05T09:19:06.224642Z\", \"created_time_dt\": \"2024-02-05T09:19:06.224642Z\", \"duration\": \"0:00:55\", \"iteration\": \"0\", \"goal\": \"AUC_weighted_max\", \"run_name\": \"MaxAbsScaler, LightGBM\", \"run_properties\": \"copy=True\", \"primary_metric\": 0.99319837, \"best_metric\": 0.99319837}, {\"run_id\": \"AutoML_cd384120-893a-45a8-8048-8d6fc6280a44_2\", \"run_number\": 1707124747, \"metric\": null, \"status\": \"Completed\", \"run_type\": null, \"training_percent\": \"100\", \"start_time\": \"2024-02-05T09:20:19.275258Z\", \"end_time\": \"2024-02-05T09:20:32.374571Z\", \"created_time\": \"2024-02-05T09:19:07.162827Z\", \"created_time_dt\": \"2024-02-05T09:19:07.162827Z\", \"duration\": \"0:01:25\", \"iteration\": \"2\", \"goal\": \"AUC_weighted_max\", \"run_name\": \"MaxAbsScaler, ExtremeRandomTrees\", \"run_properties\": \"copy=True\", \"primary_metric\": 0.98625696, \"best_metric\": 0.99319837}, {\"run_id\": \"AutoML_cd384120-893a-45a8-8048-8d6fc6280a44_worker_0\", \"run_number\": 1707124748, \"metric\": null, \"status\": \"Completed\", \"run_type\": \"azureml.scriptrun\", \"training_percent\": null, \"start_time\": \"2024-02-05T09:19:32.06224Z\", \"end_time\": \"2024-02-05T09:21:14.93728Z\", \"created_time\": \"2024-02-05T09:19:08.419753Z\", \"created_time_dt\": \"2024-02-05T09:19:08.419753Z\", \"duration\": \"0:02:06\", \"iteration\": null, \"goal\": null, \"run_name\": \"Completed\", \"run_properties\": null}, {\"run_id\": \"AutoML_cd384120-893a-45a8-8048-8d6fc6280a44_6\", \"run_number\": 1707124749, \"metric\": null, \"status\": \"Completed\", \"run_type\": null, \"training_percent\": \"100\", \"start_time\": \"2024-02-05T09:22:01.73895Z\", \"end_time\": \"2024-02-05T09:22:15.224661Z\", \"created_time\": \"2024-02-05T09:19:09.165942Z\", \"created_time_dt\": \"2024-02-05T09:19:09.165942Z\", \"duration\": \"0:03:06\", \"iteration\": \"6\", \"goal\": \"AUC_weighted_max\", \"run_name\": \"SparseNormalizer, XGBoostClassifier\", \"run_properties\": \"copy=True, norm='max'\", \"primary_metric\": 0.98012712, \"best_metric\": 0.99319837}, {\"run_id\": \"AutoML_cd384120-893a-45a8-8048-8d6fc6280a44_worker_1\", \"run_number\": 1707124750, \"metric\": null, \"status\": \"Completed\", \"run_type\": \"azureml.scriptrun\", \"training_percent\": null, \"start_time\": \"2024-02-05T09:21:18.979293Z\", \"end_time\": \"2024-02-05T09:23:10.885767Z\", \"created_time\": \"2024-02-05T09:19:10.613083Z\", \"created_time_dt\": \"2024-02-05T09:19:10.613083Z\", \"duration\": \"0:04:00\", \"iteration\": null, \"goal\": null, \"run_name\": \"Completed\", \"run_properties\": null}, {\"run_id\": \"AutoML_cd384120-893a-45a8-8048-8d6fc6280a44_11\", \"run_number\": 1707124751, \"metric\": null, \"status\": \"Completed\", \"run_type\": null, \"training_percent\": \"100\", \"start_time\": \"2024-02-05T09:25:40.098403Z\", \"end_time\": \"2024-02-05T09:25:54.306546Z\", \"created_time\": \"2024-02-05T09:19:11.189529Z\", \"created_time_dt\": \"2024-02-05T09:19:11.189529Z\", \"duration\": \"0:06:43\", \"iteration\": \"11\", \"goal\": \"AUC_weighted_max\", \"run_name\": \"StandardScalerWrapper, SVM\", \"run_properties\": \"copy=True, with_mean=True, with_std=True\", \"primary_metric\": 0.99275078, \"best_metric\": 0.99319837}, {\"run_id\": \"AutoML_cd384120-893a-45a8-8048-8d6fc6280a44_worker_2\", \"run_number\": 1707124752, \"metric\": null, \"status\": \"Completed\", \"run_type\": \"azureml.scriptrun\", \"training_percent\": null, \"start_time\": \"2024-02-05T09:23:00.973971Z\", \"end_time\": \"2024-02-05T09:26:49.206061Z\", \"created_time\": \"2024-02-05T09:19:12.673004Z\", \"created_time_dt\": \"2024-02-05T09:19:12.673004Z\", \"duration\": \"0:07:36\", \"iteration\": null, \"goal\": null, \"run_name\": \"Completed\", \"run_properties\": null}, {\"run_id\": \"AutoML_cd384120-893a-45a8-8048-8d6fc6280a44_16\", \"run_number\": 1707124753, \"metric\": null, \"status\": \"Completed\", \"run_type\": null, \"training_percent\": \"100\", \"start_time\": \"2024-02-05T09:26:02.212904Z\", \"end_time\": \"2024-02-05T09:26:16.258033Z\", \"created_time\": \"2024-02-05T09:19:13.33694Z\", \"created_time_dt\": \"2024-02-05T09:19:13.33694Z\", \"duration\": \"0:07:02\", \"iteration\": \"16\", \"goal\": \"AUC_weighted_max\", \"run_name\": \"MinMaxScaler, ExtremeRandomTrees\", \"run_properties\": \"copy=True, feature_range=(0, 1\", \"primary_metric\": 0.99063414, \"best_metric\": 0.99319837}, {\"run_id\": \"AutoML_cd384120-893a-45a8-8048-8d6fc6280a44_worker_3\", \"run_number\": 1707124754, \"metric\": null, \"status\": \"Completed\", \"run_type\": \"azureml.scriptrun\", \"training_percent\": null, \"start_time\": \"2024-02-05T09:23:03.808257Z\", \"end_time\": \"2024-02-05T09:27:16.450415Z\", \"created_time\": \"2024-02-05T09:19:14.905933Z\", \"created_time_dt\": \"2024-02-05T09:19:14.905933Z\", \"duration\": \"0:08:01\", \"iteration\": null, \"goal\": null, \"run_name\": \"Completed\", \"run_properties\": null}, {\"run_id\": \"AutoML_cd384120-893a-45a8-8048-8d6fc6280a44_21\", \"run_number\": 1707125195, \"metric\": null, \"status\": \"Completed\", \"run_type\": \"azureml.scriptrun\", \"training_percent\": \"100\", \"start_time\": \"2024-02-05T09:27:06.045496Z\", \"end_time\": \"2024-02-05T09:27:43.202124Z\", \"created_time\": \"2024-02-05T09:26:35.034467Z\", \"created_time_dt\": \"2024-02-05T09:26:35.034467Z\", \"duration\": \"0:01:08\", \"iteration\": \"21\", \"goal\": \"AUC_weighted_max\", \"run_name\": \"StandardScalerWrapper, RandomForest\", \"run_properties\": \"copy=True, with_mean=False, with_std=False\", \"primary_metric\": 0.98814423, \"best_metric\": 0.99319837}, {\"run_id\": \"AutoML_cd384120-893a-45a8-8048-8d6fc6280a44_22\", \"run_number\": 1707125228, \"metric\": null, \"status\": \"Completed\", \"run_type\": \"azureml.scriptrun\", \"training_percent\": \"100\", \"start_time\": \"2024-02-05T09:27:37.389719Z\", \"end_time\": \"2024-02-05T09:28:13.075725Z\", \"created_time\": \"2024-02-05T09:27:08.710883Z\", \"created_time_dt\": \"2024-02-05T09:27:08.710883Z\", \"duration\": \"0:01:04\", \"iteration\": \"22\", \"goal\": \"AUC_weighted_max\", \"run_name\": \"MaxAbsScaler, LightGBM\", \"run_properties\": \"copy=True\", \"primary_metric\": 0.98768773, \"best_metric\": 0.99319837}, {\"run_id\": \"AutoML_cd384120-893a-45a8-8048-8d6fc6280a44_24\", \"run_number\": 1707125266, \"metric\": null, \"status\": \"Completed\", \"run_type\": \"azureml.scriptrun\", \"training_percent\": \"100\", \"start_time\": \"2024-02-05T09:28:10.502045Z\", \"end_time\": \"2024-02-05T09:28:47.813182Z\", \"created_time\": \"2024-02-05T09:27:46.118161Z\", \"created_time_dt\": \"2024-02-05T09:27:46.118161Z\", \"duration\": \"0:01:01\", \"iteration\": \"24\", \"goal\": \"AUC_weighted_max\", \"run_name\": \"StandardScalerWrapper, ExtremeRandomTrees\", \"run_properties\": \"copy=True, with_mean=False, with_std=True\", \"primary_metric\": 0.99154893, \"best_metric\": 0.99319837}, {\"run_id\": \"AutoML_cd384120-893a-45a8-8048-8d6fc6280a44_25\", \"run_number\": 1707125295, \"metric\": null, \"status\": \"Completed\", \"run_type\": \"azureml.scriptrun\", \"training_percent\": \"100\", \"start_time\": \"2024-02-05T09:28:40.106422Z\", \"end_time\": \"2024-02-05T09:29:19.884035Z\", \"created_time\": \"2024-02-05T09:28:15.422133Z\", \"created_time_dt\": \"2024-02-05T09:28:15.422133Z\", \"duration\": \"0:01:04\", \"iteration\": \"25\", \"goal\": \"AUC_weighted_max\", \"run_name\": \"StandardScalerWrapper, XGBoostClassifier\", \"run_properties\": \"copy=True, with_mean=False, with_std=False\", \"primary_metric\": 0.99520304, \"best_metric\": 0.99520304}, {\"run_id\": \"AutoML_cd384120-893a-45a8-8048-8d6fc6280a44_26\", \"run_number\": 1707125329, \"metric\": null, \"status\": \"Completed\", \"run_type\": \"azureml.scriptrun\", \"training_percent\": \"100\", \"start_time\": \"2024-02-05T09:29:14.952722Z\", \"end_time\": \"2024-02-05T09:30:01.282532Z\", \"created_time\": \"2024-02-05T09:28:49.456613Z\", \"created_time_dt\": \"2024-02-05T09:28:49.456613Z\", \"duration\": \"0:01:11\", \"iteration\": \"26\", \"goal\": \"AUC_weighted_max\", \"run_name\": \"MaxAbsScaler, RandomForest\", \"run_properties\": \"copy=True\", \"primary_metric\": 0.98693442, \"best_metric\": 0.99520304}, {\"run_id\": \"AutoML_cd384120-893a-45a8-8048-8d6fc6280a44_27\", \"run_number\": 1707125355, \"metric\": null, \"status\": \"Completed\", \"run_type\": \"azureml.scriptrun\", \"training_percent\": \"100\", \"start_time\": \"2024-02-05T09:29:38.031202Z\", \"end_time\": \"2024-02-05T09:30:14.62388Z\", \"created_time\": \"2024-02-05T09:29:15.694177Z\", \"created_time_dt\": \"2024-02-05T09:29:15.694177Z\", \"duration\": \"0:00:58\", \"iteration\": \"27\", \"goal\": \"AUC_weighted_max\", \"run_name\": \"MaxAbsScaler, LogisticRegression\", \"run_properties\": \"copy=True\", \"primary_metric\": 0.98617232, \"best_metric\": 0.99520304}, {\"run_id\": \"AutoML_cd384120-893a-45a8-8048-8d6fc6280a44_28\", \"run_number\": 1707125361, \"metric\": null, \"status\": \"Completed\", \"run_type\": \"azureml.scriptrun\", \"training_percent\": \"100\", \"start_time\": \"2024-02-05T09:29:44.738265Z\", \"end_time\": \"2024-02-05T09:30:29.900325Z\", \"created_time\": \"2024-02-05T09:29:21.248862Z\", \"created_time_dt\": \"2024-02-05T09:29:21.248862Z\", \"duration\": \"0:01:08\", \"iteration\": \"28\", \"goal\": \"AUC_weighted_max\", \"run_name\": \"RobustScaler, RandomForest\", \"run_properties\": \"copy=True, quantile_range=[25, 75], with_centering=True,\\n             with_scaling=False\", \"primary_metric\": 0.98515839, \"best_metric\": 0.99520304}, {\"run_id\": \"AutoML_cd384120-893a-45a8-8048-8d6fc6280a44_29\", \"run_number\": 1707125402, \"metric\": null, \"status\": \"Completed\", \"run_type\": \"azureml.scriptrun\", \"training_percent\": \"100\", \"start_time\": \"2024-02-05T09:30:27.426798Z\", \"end_time\": \"2024-02-05T09:31:04.210755Z\", \"created_time\": \"2024-02-05T09:30:02.752282Z\", \"created_time_dt\": \"2024-02-05T09:30:02.752282Z\", \"duration\": \"0:01:01\", \"iteration\": \"29\", \"goal\": \"AUC_weighted_max\", \"run_name\": \"StandardScalerWrapper, LightGBM\", \"run_properties\": \"copy=True, with_mean=True, with_std=False\", \"primary_metric\": 0.99313467, \"best_metric\": 0.99520304}, {\"run_id\": \"AutoML_cd384120-893a-45a8-8048-8d6fc6280a44_30\", \"run_number\": 1707125406, \"metric\": null, \"status\": \"Completed\", \"run_type\": \"azureml.scriptrun\", \"training_percent\": \"100\", \"start_time\": \"2024-02-05T09:30:29.899529Z\", \"end_time\": \"2024-02-05T09:31:06.376226Z\", \"created_time\": \"2024-02-05T09:30:06.294996Z\", \"created_time_dt\": \"2024-02-05T09:30:06.294996Z\", \"duration\": \"0:01:00\", \"iteration\": \"30\", \"goal\": \"AUC_weighted_max\", \"run_name\": \"StandardScalerWrapper, XGBoostClassifier\", \"run_properties\": \"copy=True, with_mean=False, with_std=False\", \"primary_metric\": 0.99508235, \"best_metric\": 0.99520304}, {\"run_id\": \"AutoML_cd384120-893a-45a8-8048-8d6fc6280a44_31\", \"run_number\": 1707125416, \"metric\": null, \"status\": \"Completed\", \"run_type\": \"azureml.scriptrun\", \"training_percent\": \"100\", \"start_time\": \"2024-02-05T09:30:39.73283Z\", \"end_time\": \"2024-02-05T09:31:18.150824Z\", \"created_time\": \"2024-02-05T09:30:16.433366Z\", \"created_time_dt\": \"2024-02-05T09:30:16.433366Z\", \"duration\": \"0:01:01\", \"iteration\": \"31\", \"goal\": \"AUC_weighted_max\", \"run_name\": \"StandardScalerWrapper, SVM\", \"run_properties\": \"copy=True, with_mean=False, with_std=True\", \"primary_metric\": 0.99710072, \"best_metric\": 0.99710072}, {\"run_id\": \"AutoML_cd384120-893a-45a8-8048-8d6fc6280a44_32\", \"run_number\": 1707125431, \"metric\": null, \"status\": \"Completed\", \"run_type\": \"azureml.scriptrun\", \"training_percent\": \"100\", \"start_time\": \"2024-02-05T09:30:57.554485Z\", \"end_time\": \"2024-02-05T09:31:33.159363Z\", \"created_time\": \"2024-02-05T09:30:31.335097Z\", \"created_time_dt\": \"2024-02-05T09:30:31.335097Z\", \"duration\": \"0:01:01\", \"iteration\": \"32\", \"goal\": \"AUC_weighted_max\", \"run_name\": \"StandardScalerWrapper, SVM\", \"run_properties\": \"copy=True, with_mean=False, with_std=True\", \"primary_metric\": 0.99625012, \"best_metric\": 0.99710072}, {\"run_id\": \"AutoML_cd384120-893a-45a8-8048-8d6fc6280a44_33\", \"run_number\": 1707125466, \"metric\": null, \"status\": \"Completed\", \"run_type\": \"azureml.scriptrun\", \"training_percent\": \"100\", \"start_time\": \"2024-02-05T09:31:30.849816Z\", \"end_time\": \"2024-02-05T09:32:05.126508Z\", \"created_time\": \"2024-02-05T09:31:06.067561Z\", \"created_time_dt\": \"2024-02-05T09:31:06.067561Z\", \"duration\": \"0:00:59\", \"iteration\": \"33\", \"goal\": \"AUC_weighted_max\", \"run_name\": \"StandardScalerWrapper, SVM\", \"run_properties\": \"copy=True, with_mean=False, with_std=True\", \"primary_metric\": 0.99557228, \"best_metric\": 0.99710072}, {\"run_id\": \"AutoML_cd384120-893a-45a8-8048-8d6fc6280a44_34\", \"run_number\": 1707125468, \"metric\": null, \"status\": \"Completed\", \"run_type\": \"azureml.scriptrun\", \"training_percent\": \"100\", \"start_time\": \"2024-02-05T09:31:30.682321Z\", \"end_time\": \"2024-02-05T09:32:06.213404Z\", \"created_time\": \"2024-02-05T09:31:08.447606Z\", \"created_time_dt\": \"2024-02-05T09:31:08.447606Z\", \"duration\": \"0:00:57\", \"iteration\": \"34\", \"goal\": \"AUC_weighted_max\", \"run_name\": \"RobustScaler, SVM\", \"run_properties\": \"copy=True, quantile_range=[25, 75], with_centering=False,\\n             with_scaling=True\", \"primary_metric\": 0.99689666, \"best_metric\": 0.99710072}, {\"run_id\": \"AutoML_cd384120-893a-45a8-8048-8d6fc6280a44_35\", \"run_number\": 1707125480, \"metric\": null, \"status\": \"Completed\", \"run_type\": \"azureml.scriptrun\", \"training_percent\": \"100\", \"start_time\": \"2024-02-05T09:31:48.162186Z\", \"end_time\": \"2024-02-05T09:32:25.417034Z\", \"created_time\": \"2024-02-05T09:31:20.672865Z\", \"created_time_dt\": \"2024-02-05T09:31:20.672865Z\", \"duration\": \"0:01:04\", \"iteration\": \"35\", \"goal\": \"AUC_weighted_max\", \"run_name\": \"SparseNormalizer, SVM\", \"run_properties\": \"copy=True, norm='max'\", \"primary_metric\": 0.33109953, \"best_metric\": 0.99710072}, {\"run_id\": \"AutoML_cd384120-893a-45a8-8048-8d6fc6280a44_36\", \"run_number\": 1707125494, \"metric\": null, \"status\": \"Completed\", \"run_type\": \"azureml.scriptrun\", \"training_percent\": \"100\", \"start_time\": \"2024-02-05T09:31:59.869958Z\", \"end_time\": \"2024-02-05T09:32:36.450214Z\", \"created_time\": \"2024-02-05T09:31:34.904887Z\", \"created_time_dt\": \"2024-02-05T09:31:34.904887Z\", \"duration\": \"0:01:01\", \"iteration\": \"36\", \"goal\": \"AUC_weighted_max\", \"run_name\": \"StandardScalerWrapper, XGBoostClassifier\", \"run_properties\": \"copy=True, with_mean=False, with_std=False\", \"primary_metric\": 0.98828437, \"best_metric\": 0.99710072}, {\"run_id\": \"AutoML_cd384120-893a-45a8-8048-8d6fc6280a44_37\", \"run_number\": 1707125526, \"metric\": null, \"status\": \"Completed\", \"run_type\": \"azureml.scriptrun\", \"training_percent\": \"100\", \"start_time\": \"2024-02-05T09:32:28.069176Z\", \"end_time\": \"2024-02-05T09:33:02.597678Z\", \"created_time\": \"2024-02-05T09:32:06.890606Z\", \"created_time_dt\": \"2024-02-05T09:32:06.890606Z\", \"duration\": \"0:00:55\", \"iteration\": \"37\", \"goal\": \"AUC_weighted_max\", \"run_name\": \"StandardScalerWrapper, SVM\", \"run_properties\": \"copy=True, with_mean=False, with_std=True\", \"primary_metric\": 0.99596181, \"best_metric\": 0.99710072}, {\"run_id\": \"AutoML_cd384120-893a-45a8-8048-8d6fc6280a44_38\", \"run_number\": 1707125529, \"metric\": null, \"status\": \"Completed\", \"run_type\": \"azureml.scriptrun\", \"training_percent\": \"100\", \"start_time\": \"2024-02-05T09:32:33.411686Z\", \"end_time\": \"2024-02-05T09:33:10.936587Z\", \"created_time\": \"2024-02-05T09:32:09.131107Z\", \"created_time_dt\": \"2024-02-05T09:32:09.131107Z\", \"duration\": \"0:01:01\", \"iteration\": \"38\", \"goal\": \"AUC_weighted_max\", \"run_name\": \"StandardScalerWrapper, XGBoostClassifier\", \"run_properties\": \"copy=True, with_mean=False, with_std=False\", \"primary_metric\": 0.9951132, \"best_metric\": 0.99710072}, {\"run_id\": \"AutoML_cd384120-893a-45a8-8048-8d6fc6280a44_39\", \"run_number\": 1707125546, \"metric\": null, \"status\": \"Completed\", \"run_type\": \"azureml.scriptrun\", \"training_percent\": \"100\", \"start_time\": \"2024-02-05T09:32:50.088465Z\", \"end_time\": \"2024-02-05T09:33:31.676342Z\", \"created_time\": \"2024-02-05T09:32:26.8357Z\", \"created_time_dt\": \"2024-02-05T09:32:26.8357Z\", \"duration\": \"0:01:04\", \"iteration\": \"39\", \"goal\": \"AUC_weighted_max\", \"run_name\": \"MinMaxScaler, RandomForest\", \"run_properties\": \"copy=True, feature_range=(0, 1\", \"primary_metric\": 0.98458112, \"best_metric\": 0.99710072}, {\"run_id\": \"AutoML_cd384120-893a-45a8-8048-8d6fc6280a44_40\", \"run_number\": 1707125558, \"metric\": null, \"status\": \"Completed\", \"run_type\": \"azureml.scriptrun\", \"training_percent\": \"100\", \"start_time\": \"2024-02-05T09:33:04.293711Z\", \"end_time\": \"2024-02-05T09:33:38.455356Z\", \"created_time\": \"2024-02-05T09:32:38.979307Z\", \"created_time_dt\": \"2024-02-05T09:32:38.979307Z\", \"duration\": \"0:00:59\", \"iteration\": \"40\", \"goal\": \"AUC_weighted_max\", \"run_name\": \"StandardScalerWrapper, SVM\", \"run_properties\": \"copy=True, with_mean=True, with_std=True\", \"primary_metric\": 0.98612252, \"best_metric\": 0.99710072}, {\"run_id\": \"AutoML_cd384120-893a-45a8-8048-8d6fc6280a44_41\", \"run_number\": 1707125584, \"metric\": null, \"status\": \"Completed\", \"run_type\": \"azureml.scriptrun\", \"training_percent\": \"100\", \"start_time\": \"2024-02-05T09:33:28.77438Z\", \"end_time\": \"2024-02-05T09:34:06.573449Z\", \"created_time\": \"2024-02-05T09:33:04.137649Z\", \"created_time_dt\": \"2024-02-05T09:33:04.137649Z\", \"duration\": \"0:01:02\", \"iteration\": \"41\", \"goal\": \"AUC_weighted_max\", \"run_name\": \"MinMaxScaler, ExtremeRandomTrees\", \"run_properties\": \"copy=True, feature_range=(0, 1\", \"primary_metric\": 0.98822887, \"best_metric\": 0.99710072}, {\"run_id\": \"AutoML_cd384120-893a-45a8-8048-8d6fc6280a44_42\", \"run_number\": 1707125592, \"metric\": null, \"status\": \"Completed\", \"run_type\": \"azureml.scriptrun\", \"training_percent\": \"100\", \"start_time\": \"2024-02-05T09:33:41.804922Z\", \"end_time\": \"2024-02-05T09:34:20.033942Z\", \"created_time\": \"2024-02-05T09:33:12.739799Z\", \"created_time_dt\": \"2024-02-05T09:33:12.739799Z\", \"duration\": \"0:01:07\", \"iteration\": \"42\", \"goal\": \"AUC_weighted_max\", \"run_name\": \"StandardScalerWrapper, LogisticRegression\", \"run_properties\": \"copy=True, with_mean=True, with_std=True\", \"primary_metric\": 0.99609968, \"best_metric\": 0.99710072}, {\"run_id\": \"AutoML_cd384120-893a-45a8-8048-8d6fc6280a44_43\", \"run_number\": 1707125613, \"metric\": null, \"status\": \"Completed\", \"run_type\": \"azureml.scriptrun\", \"training_percent\": \"100\", \"start_time\": \"2024-02-05T09:33:58.536079Z\", \"end_time\": \"2024-02-05T09:34:34.158965Z\", \"created_time\": \"2024-02-05T09:33:33.266468Z\", \"created_time_dt\": \"2024-02-05T09:33:33.266468Z\", \"duration\": \"0:01:00\", \"iteration\": \"43\", \"goal\": \"AUC_weighted_max\", \"run_name\": \"RobustScaler, GradientBoosting\", \"run_properties\": \"copy=True, quantile_range=[10, 90], with_centering=False,\\n             with_scaling=True\", \"primary_metric\": 0.99027208, \"best_metric\": 0.99710072}, {\"run_id\": \"AutoML_cd384120-893a-45a8-8048-8d6fc6280a44_44\", \"run_number\": 1707125619, \"metric\": null, \"status\": \"Completed\", \"run_type\": \"azureml.scriptrun\", \"training_percent\": \"100\", \"start_time\": \"2024-02-05T09:34:01.839134Z\", \"end_time\": \"2024-02-05T09:34:37.641055Z\", \"created_time\": \"2024-02-05T09:33:39.918795Z\", \"created_time_dt\": \"2024-02-05T09:33:39.918795Z\", \"duration\": \"0:00:57\", \"iteration\": \"44\", \"goal\": \"AUC_weighted_max\", \"run_name\": \"StandardScalerWrapper, GradientBoosting\", \"run_properties\": \"copy=True, with_mean=True, with_std=False\", \"primary_metric\": 0.9936342, \"best_metric\": 0.99710072}, {\"run_id\": \"AutoML_cd384120-893a-45a8-8048-8d6fc6280a44_45\", \"run_number\": 1707125649, \"metric\": null, \"status\": \"Canceled\", \"run_type\": \"azureml.scriptrun\", \"training_percent\": \"100\", \"start_time\": \"2024-02-05T09:34:33.129166Z\", \"end_time\": \"2024-02-05T09:34:44.10184Z\", \"created_time\": \"2024-02-05T09:34:09.023306Z\", \"created_time_dt\": \"2024-02-05T09:34:09.023306Z\", \"duration\": \"0:00:35\", \"iteration\": \"45\", \"goal\": null, \"run_name\": \"Canceled\", \"run_properties\": null}, {\"run_id\": \"AutoML_cd384120-893a-45a8-8048-8d6fc6280a44_46\", \"run_number\": 1707125661, \"metric\": null, \"status\": \"Canceled\", \"run_type\": \"azureml.scriptrun\", \"training_percent\": \"100\", \"start_time\": \"2024-02-05T09:34:38.212054Z\", \"end_time\": \"2024-02-05T09:34:42.277869Z\", \"created_time\": \"2024-02-05T09:34:21.750093Z\", \"created_time_dt\": \"2024-02-05T09:34:21.750093Z\", \"duration\": \"0:00:20\", \"iteration\": \"46\", \"goal\": null, \"run_name\": \"Canceled\", \"run_properties\": null}, {\"run_id\": \"AutoML_cd384120-893a-45a8-8048-8d6fc6280a44_47\", \"run_number\": 1707125675, \"metric\": null, \"status\": \"Canceled\", \"run_type\": \"azureml.scriptrun\", \"training_percent\": \"100\", \"start_time\": \"2024-02-05T09:34:38.261299Z\", \"end_time\": \"2024-02-05T09:34:38.495002Z\", \"created_time\": \"2024-02-05T09:34:35.682412Z\", \"created_time_dt\": \"2024-02-05T09:34:35.682412Z\", \"duration\": \"0:00:02\", \"iteration\": \"47\", \"goal\": null, \"run_name\": \"Canceled\", \"run_properties\": null}, {\"run_id\": \"AutoML_cd384120-893a-45a8-8048-8d6fc6280a44_48\", \"run_number\": 1707125684, \"metric\": null, \"status\": \"Completed\", \"run_type\": \"azureml.scriptrun\", \"training_percent\": \"100\", \"start_time\": \"2024-02-05T09:35:09.193126Z\", \"end_time\": \"2024-02-05T09:36:23.998708Z\", \"created_time\": \"2024-02-05T09:34:44.722087Z\", \"created_time_dt\": \"2024-02-05T09:34:44.722087Z\", \"duration\": \"0:01:39\", \"iteration\": \"48\", \"goal\": \"AUC_weighted_max\", \"run_name\": \"VotingEnsemble\", \"run_properties\": \"classification_labels=numpy.array([0, 1]\", \"primary_metric\": 0.99730313, \"best_metric\": 0.99730313}], \"children_metrics\": {\"categories\": [0], \"series\": {\"norm_macro_recall\": [{\"categories\": [\"0\", \"2\", \"6\", \"11\", \"16\", \"21\", \"22\", \"24\", \"25\", \"26\", \"27\", \"28\", \"29\", \"30\", \"31\", \"32\", \"33\", \"34\", \"35\", \"36\", \"37\", \"38\", \"39\", \"40\", \"41\", \"42\", \"43\", \"44\", \"48\"], \"mode\": \"markers\", \"name\": \"norm_macro_recall\", \"stepped\": false, \"type\": \"scatter\", \"data\": [0.920853763509127, 0.8910635214161738, 0.8407521123672236, 0.9171300801170725, 0.9067073878653614, 0.9047480408792128, 0.877910380365287, 0.9215753978969378, 0.9444290143452474, 0.9073926654891415, 0.9265220359523354, 0.877021055771295, 0.9222815087151701, 0.9294533678014517, 0.943907222189079, 0.944492590650085, 0.954123976977345, 0.9526070587212964, 0.0, 0.8857709632452566, 0.9549413793432879, 0.9305650106256447, 0.8597091158763511, 0.7990886399229888, 0.8797792429147255, 0.945983712646491, 0.8906057756168956, 0.9303508903139635, 0.9609279688513951]}, {\"categories\": [\"0\", \"2\", \"6\", \"11\", \"16\", \"21\", \"22\", \"24\", \"25\", \"26\", \"27\", \"28\", \"29\", \"30\", \"31\", \"32\", \"33\", \"34\", \"35\", \"36\", \"37\", \"38\", \"39\", \"40\", \"41\", \"42\", \"43\", \"44\", \"48\"], \"mode\": \"lines\", \"name\": \"norm_macro_recall_max\", \"stepped\": true, \"type\": \"scatter\", \"data\": [0.920853763509127, 0.920853763509127, 0.920853763509127, 0.920853763509127, 0.920853763509127, 0.920853763509127, 0.920853763509127, 0.9215753978969378, 0.9444290143452474, 0.9444290143452474, 0.9444290143452474, 0.9444290143452474, 0.9444290143452474, 0.9444290143452474, 0.9444290143452474, 0.944492590650085, 0.954123976977345, 0.954123976977345, 0.954123976977345, 0.954123976977345, 0.9549413793432879, 0.9549413793432879, 0.9549413793432879, 0.9549413793432879, 0.9549413793432879, 0.9549413793432879, 0.9549413793432879, 0.9549413793432879, 0.9609279688513951]}], \"balanced_accuracy\": [{\"categories\": [\"0\", \"2\", \"6\", \"11\", \"16\", \"21\", \"22\", \"24\", \"25\", \"26\", \"27\", \"28\", \"29\", \"30\", \"31\", \"32\", \"33\", \"34\", \"35\", \"36\", \"37\", \"38\", \"39\", \"40\", \"41\", \"42\", \"43\", \"44\", \"48\"], \"mode\": \"markers\", \"name\": \"balanced_accuracy\", \"stepped\": false, \"type\": \"scatter\", \"data\": [0.9604268817545634, 0.9455317607080869, 0.9203760561836116, 0.9585650400585364, 0.9533536939326807, 0.9523740204396063, 0.9389551901826435, 0.9607876989484689, 0.9722145071726237, 0.9536963327445708, 0.9632610179761677, 0.9385105278856475, 0.9611407543575851, 0.9647266839007258, 0.9719536110945395, 0.9722462953250425, 0.9770619884886725, 0.9763035293606481, 0.5, 0.9428854816226282, 0.977470689671644, 0.9652825053128223, 0.9298545579381756, 0.8995443199614945, 0.9398896214573627, 0.9729918563232456, 0.9453028878084477, 0.9651754451569818, 0.9804639844256975]}, {\"categories\": [\"0\", \"2\", \"6\", \"11\", \"16\", \"21\", \"22\", \"24\", \"25\", \"26\", \"27\", \"28\", \"29\", \"30\", \"31\", \"32\", \"33\", \"34\", \"35\", \"36\", \"37\", \"38\", \"39\", \"40\", \"41\", \"42\", \"43\", \"44\", \"48\"], \"mode\": \"lines\", \"name\": \"balanced_accuracy_max\", \"stepped\": true, \"type\": \"scatter\", \"data\": [0.9604268817545634, 0.9604268817545634, 0.9604268817545634, 0.9604268817545634, 0.9604268817545634, 0.9604268817545634, 0.9604268817545634, 0.9607876989484689, 0.9722145071726237, 0.9722145071726237, 0.9722145071726237, 0.9722145071726237, 0.9722145071726237, 0.9722145071726237, 0.9722145071726237, 0.9722462953250425, 0.9770619884886725, 0.9770619884886725, 0.9770619884886725, 0.9770619884886725, 0.977470689671644, 0.977470689671644, 0.977470689671644, 0.977470689671644, 0.977470689671644, 0.977470689671644, 0.977470689671644, 0.977470689671644, 0.9804639844256975]}], \"f1_score_weighted\": [{\"categories\": [\"0\", \"2\", \"6\", \"11\", \"16\", \"21\", \"22\", \"24\", \"25\", \"26\", \"27\", \"28\", \"29\", \"30\", \"31\", \"32\", \"33\", \"34\", \"35\", \"36\", \"37\", \"38\", \"39\", \"40\", \"41\", \"42\", \"43\", \"44\", \"48\"], \"mode\": \"markers\", \"name\": \"f1_score_weighted\", \"stepped\": false, \"type\": \"scatter\", \"data\": [0.9647419560789074, 0.9490417689200152, 0.9260374855073035, 0.9612760978479933, 0.9593549407981119, 0.9575951801418222, 0.9452273299132912, 0.9614294154714743, 0.9735359252359224, 0.9559585339213795, 0.9646408222281957, 0.9370692567416306, 0.9646859977702904, 0.968228538644688, 0.9769723678408265, 0.9768918300704128, 0.9788964373131129, 0.9788282343762168, 0.48404586304148695, 0.9471312754470074, 0.9788765360889311, 0.968240896700585, 0.9363034108209464, 0.9222721140272198, 0.9469859181480527, 0.9787151243794255, 0.9521343194347074, 0.9682194475433059, 0.9840050978006565]}, {\"categories\": [\"0\", \"2\", \"6\", \"11\", \"16\", \"21\", \"22\", \"24\", \"25\", \"26\", \"27\", \"28\", \"29\", \"30\", \"31\", \"32\", \"33\", \"34\", \"35\", \"36\", \"37\", \"38\", \"39\", \"40\", \"41\", \"42\", \"43\", \"44\", \"48\"], \"mode\": \"lines\", \"name\": \"f1_score_weighted_max\", \"stepped\": true, \"type\": \"scatter\", \"data\": [0.9647419560789074, 0.9647419560789074, 0.9647419560789074, 0.9647419560789074, 0.9647419560789074, 0.9647419560789074, 0.9647419560789074, 0.9647419560789074, 0.9735359252359224, 0.9735359252359224, 0.9735359252359224, 0.9735359252359224, 0.9735359252359224, 0.9735359252359224, 0.9769723678408265, 0.9769723678408265, 0.9788964373131129, 0.9788964373131129, 0.9788964373131129, 0.9788964373131129, 0.9788964373131129, 0.9788964373131129, 0.9788964373131129, 0.9788964373131129, 0.9788964373131129, 0.9788964373131129, 0.9788964373131129, 0.9788964373131129, 0.9840050978006565]}], \"AUC_weighted\": [{\"categories\": [\"0\", \"2\", \"6\", \"11\", \"16\", \"21\", \"22\", \"24\", \"25\", \"26\", \"27\", \"28\", \"29\", \"30\", \"31\", \"32\", \"33\", \"34\", \"35\", \"36\", \"37\", \"38\", \"39\", \"40\", \"41\", \"42\", \"43\", \"44\", \"48\"], \"mode\": \"markers\", \"name\": \"AUC_weighted\", \"stepped\": false, \"type\": \"scatter\", \"data\": [0.9931983676407905, 0.9862569626427135, 0.9801271173135481, 0.9927507801294124, 0.9906341427022701, 0.9881442346644569, 0.9876877333979129, 0.9915489258336727, 0.995203036089654, 0.9869344233999193, 0.9861723157259472, 0.9851583923370433, 0.993134673063313, 0.9950823453919202, 0.9971007152233439, 0.9962501225124807, 0.9955722837565582, 0.9968966606043453, 0.33109952710644064, 0.9882843716111582, 0.9959618081673934, 0.9951131989871737, 0.9845811184388819, 0.9861225248505535, 0.9882288736017909, 0.9960996814627002, 0.99027208122669, 0.9936341962054911, 0.9973031263121731]}, {\"categories\": [\"0\", \"2\", \"6\", \"11\", \"16\", \"21\", \"22\", \"24\", \"25\", \"26\", \"27\", \"28\", \"29\", \"30\", \"31\", \"32\", \"33\", \"34\", \"35\", \"36\", \"37\", \"38\", \"39\", \"40\", \"41\", \"42\", \"43\", \"44\", \"48\"], \"mode\": \"lines\", \"name\": \"AUC_weighted_max\", \"stepped\": true, \"type\": \"scatter\", \"data\": [0.9931983676407905, 0.9931983676407905, 0.9931983676407905, 0.9931983676407905, 0.9931983676407905, 0.9931983676407905, 0.9931983676407905, 0.9931983676407905, 0.995203036089654, 0.995203036089654, 0.995203036089654, 0.995203036089654, 0.995203036089654, 0.995203036089654, 0.9971007152233439, 0.9971007152233439, 0.9971007152233439, 0.9971007152233439, 0.9971007152233439, 0.9971007152233439, 0.9971007152233439, 0.9971007152233439, 0.9971007152233439, 0.9971007152233439, 0.9971007152233439, 0.9971007152233439, 0.9971007152233439, 0.9971007152233439, 0.9973031263121731]}], \"recall_score_micro\": [{\"categories\": [\"0\", \"2\", \"6\", \"11\", \"16\", \"21\", \"22\", \"24\", \"25\", \"26\", \"27\", \"28\", \"29\", \"30\", \"31\", \"32\", \"33\", \"34\", \"35\", \"36\", \"37\", \"38\", \"39\", \"40\", \"41\", \"42\", \"43\", \"44\", \"48\"], \"mode\": \"markers\", \"name\": \"recall_score_micro\", \"stepped\": false, \"type\": \"scatter\", \"data\": [0.964834653004192, 0.9490296537804689, 0.9261605340785592, 0.9613103555348548, 0.9595559695699425, 0.9577860580655179, 0.9454743052321067, 0.9613258810743673, 0.9735910572892408, 0.956016146561093, 0.9647880763856544, 0.9367179009470579, 0.9648191274646795, 0.9683278993945039, 0.9770998292190652, 0.9770843036795529, 0.9789007918025151, 0.9788852662630025, 0.6273560006210216, 0.947228691197019, 0.9788852662630025, 0.9683278993945039, 0.9366713243285204, 0.924406148113647, 0.9472442167365316, 0.9788697407234901, 0.9524763235522435, 0.9683278993945039, 0.9841173730787144]}, {\"categories\": [\"0\", \"2\", \"6\", \"11\", \"16\", \"21\", \"22\", \"24\", \"25\", \"26\", \"27\", \"28\", \"29\", \"30\", \"31\", \"32\", \"33\", \"34\", \"35\", \"36\", \"37\", \"38\", \"39\", \"40\", \"41\", \"42\", \"43\", \"44\", \"48\"], \"mode\": \"lines\", \"name\": \"recall_score_micro_max\", \"stepped\": true, \"type\": \"scatter\", \"data\": [0.964834653004192, 0.964834653004192, 0.964834653004192, 0.964834653004192, 0.964834653004192, 0.964834653004192, 0.964834653004192, 0.964834653004192, 0.9735910572892408, 0.9735910572892408, 0.9735910572892408, 0.9735910572892408, 0.9735910572892408, 0.9735910572892408, 0.9770998292190652, 0.9770998292190652, 0.9789007918025151, 0.9789007918025151, 0.9789007918025151, 0.9789007918025151, 0.9789007918025151, 0.9789007918025151, 0.9789007918025151, 0.9789007918025151, 0.9789007918025151, 0.9789007918025151, 0.9789007918025151, 0.9789007918025151, 0.9841173730787144]}], \"f1_score_macro\": [{\"categories\": [\"0\", \"2\", \"6\", \"11\", \"16\", \"21\", \"22\", \"24\", \"25\", \"26\", \"27\", \"28\", \"29\", \"30\", \"31\", \"32\", \"33\", \"34\", \"35\", \"36\", \"37\", \"38\", \"39\", \"40\", \"41\", \"42\", \"43\", \"44\", \"48\"], \"mode\": \"markers\", \"name\": \"f1_score_macro\", \"stepped\": false, \"type\": \"scatter\", \"data\": [0.9619148794143854, 0.9447500016037068, 0.9205083788996051, 0.958469730123244, 0.9559340459970136, 0.954188824746419, 0.9411038253501381, 0.9584408642919374, 0.9717997441661442, 0.9529800587679121, 0.9625354377517763, 0.9326649338947188, 0.961958258912504, 0.9657556323019112, 0.9754527827053707, 0.9754692208684295, 0.9772463057476486, 0.9772560366951912, 0.3853330691002781, 0.9433818017495839, 0.9773432004543929, 0.9658973949345299, 0.9312231705183824, 0.9150617090234713, 0.9426272353463817, 0.9770803825782689, 0.9484001438141, 0.9657838250618564, 0.9831077280912254]}, {\"categories\": [\"0\", \"2\", \"6\", \"11\", \"16\", \"21\", \"22\", \"24\", \"25\", \"26\", \"27\", \"28\", \"29\", \"30\", \"31\", \"32\", \"33\", \"34\", \"35\", \"36\", \"37\", \"38\", \"39\", \"40\", \"41\", \"42\", \"43\", \"44\", \"48\"], \"mode\": \"lines\", \"name\": \"f1_score_macro_max\", \"stepped\": true, \"type\": \"scatter\", \"data\": [0.9619148794143854, 0.9619148794143854, 0.9619148794143854, 0.9619148794143854, 0.9619148794143854, 0.9619148794143854, 0.9619148794143854, 0.9619148794143854, 0.9717997441661442, 0.9717997441661442, 0.9717997441661442, 0.9717997441661442, 0.9717997441661442, 0.9717997441661442, 0.9754527827053707, 0.9754692208684295, 0.9772463057476486, 0.9772560366951912, 0.9772560366951912, 0.9772560366951912, 0.9773432004543929, 0.9773432004543929, 0.9773432004543929, 0.9773432004543929, 0.9773432004543929, 0.9773432004543929, 0.9773432004543929, 0.9773432004543929, 0.9831077280912254]}], \"AUC_macro\": [{\"categories\": [\"0\", \"2\", \"6\", \"11\", \"16\", \"21\", \"22\", \"24\", \"25\", \"26\", \"27\", \"28\", \"29\", \"30\", \"31\", \"32\", \"33\", \"34\", \"35\", \"36\", \"37\", \"38\", \"39\", \"40\", \"41\", \"42\", \"43\", \"44\", \"48\"], \"mode\": \"markers\", \"name\": \"AUC_macro\", \"stepped\": false, \"type\": \"scatter\", \"data\": [0.9931983676407903, 0.9862569626427135, 0.9801271173135481, 0.9927507801294124, 0.9906341427022699, 0.9881442346644571, 0.987687733397913, 0.9915489258336729, 0.9952030360896542, 0.9869344233999193, 0.9860664438305358, 0.9851583923370433, 0.993134673063313, 0.9950823453919202, 0.9971007152233439, 0.9962501225124809, 0.9955722837565582, 0.9968966606043453, 0.33109952710644064, 0.9882843716111582, 0.9959618081673934, 0.9951131989871737, 0.9845811184388819, 0.9861225248505534, 0.9882288736017909, 0.9960996814627, 0.99027208122669, 0.9936341962054913, 0.9973031263121731]}, {\"categories\": [\"0\", \"2\", \"6\", \"11\", \"16\", \"21\", \"22\", \"24\", \"25\", \"26\", \"27\", \"28\", \"29\", \"30\", \"31\", \"32\", \"33\", \"34\", \"35\", \"36\", \"37\", \"38\", \"39\", \"40\", \"41\", \"42\", \"43\", \"44\", \"48\"], \"mode\": \"lines\", \"name\": \"AUC_macro_max\", \"stepped\": true, \"type\": \"scatter\", \"data\": [0.9931983676407903, 0.9931983676407903, 0.9931983676407903, 0.9931983676407903, 0.9931983676407903, 0.9931983676407903, 0.9931983676407903, 0.9931983676407903, 0.9952030360896542, 0.9952030360896542, 0.9952030360896542, 0.9952030360896542, 0.9952030360896542, 0.9952030360896542, 0.9971007152233439, 0.9971007152233439, 0.9971007152233439, 0.9971007152233439, 0.9971007152233439, 0.9971007152233439, 0.9971007152233439, 0.9971007152233439, 0.9971007152233439, 0.9971007152233439, 0.9971007152233439, 0.9971007152233439, 0.9971007152233439, 0.9971007152233439, 0.9973031263121731]}], \"recall_score_macro\": [{\"categories\": [\"0\", \"2\", \"6\", \"11\", \"16\", \"21\", \"22\", \"24\", \"25\", \"26\", \"27\", \"28\", \"29\", \"30\", \"31\", \"32\", \"33\", \"34\", \"35\", \"36\", \"37\", \"38\", \"39\", \"40\", \"41\", \"42\", \"43\", \"44\", \"48\"], \"mode\": \"markers\", \"name\": \"recall_score_macro\", \"stepped\": false, \"type\": \"scatter\", \"data\": [0.9604268817545634, 0.9455317607080869, 0.9203760561836116, 0.9585650400585364, 0.9533536939326807, 0.9523740204396063, 0.9389551901826435, 0.9607876989484689, 0.9722145071726237, 0.9536963327445708, 0.9632610179761677, 0.9385105278856475, 0.9611407543575851, 0.9647266839007258, 0.9719536110945395, 0.9722462953250425, 0.9770619884886725, 0.9763035293606481, 0.5, 0.9428854816226282, 0.977470689671644, 0.9652825053128223, 0.9298545579381756, 0.8995443199614945, 0.9398896214573627, 0.9729918563232456, 0.9453028878084477, 0.9651754451569818, 0.9804639844256975]}, {\"categories\": [\"0\", \"2\", \"6\", \"11\", \"16\", \"21\", \"22\", \"24\", \"25\", \"26\", \"27\", \"28\", \"29\", \"30\", \"31\", \"32\", \"33\", \"34\", \"35\", \"36\", \"37\", \"38\", \"39\", \"40\", \"41\", \"42\", \"43\", \"44\", \"48\"], \"mode\": \"lines\", \"name\": \"recall_score_macro_max\", \"stepped\": true, \"type\": \"scatter\", \"data\": [0.9604268817545634, 0.9604268817545634, 0.9604268817545634, 0.9604268817545634, 0.9604268817545634, 0.9604268817545634, 0.9604268817545634, 0.9607876989484689, 0.9722145071726237, 0.9722145071726237, 0.9722145071726237, 0.9722145071726237, 0.9722145071726237, 0.9722145071726237, 0.9722145071726237, 0.9722462953250425, 0.9770619884886725, 0.9770619884886725, 0.9770619884886725, 0.9770619884886725, 0.977470689671644, 0.977470689671644, 0.977470689671644, 0.977470689671644, 0.977470689671644, 0.977470689671644, 0.977470689671644, 0.977470689671644, 0.9804639844256975]}], \"matthews_correlation\": [{\"categories\": [\"0\", \"2\", \"6\", \"11\", \"16\", \"21\", \"22\", \"24\", \"25\", \"26\", \"27\", \"28\", \"29\", \"30\", \"31\", \"32\", \"33\", \"34\", \"35\", \"36\", \"37\", \"38\", \"39\", \"40\", \"41\", \"42\", \"43\", \"44\", \"48\"], \"mode\": \"markers\", \"name\": \"matthews_correlation\", \"stepped\": false, \"type\": \"scatter\", \"data\": [0.9242309383022034, 0.8902816908813536, 0.8425849888416586, 0.9176706663400098, 0.9129166725888421, 0.9098470389197916, 0.8840170274728878, 0.9178058559211799, 0.9442989155826383, 0.9074965303072051, 0.9266599820328849, 0.867918594058664, 0.9254574887048832, 0.9322417120495545, 0.9517453039524095, 0.9522563876190986, 0.9548980680114839, 0.9552601234771008, 0.0, 0.8884356933369698, 0.9555735843668053, 0.9331962740888147, 0.8653803860363691, 0.8427898029815865, 0.8862450904934759, 0.9552485645299644, 0.8987503738811535, 0.9331053779653153, 0.9669197728287953]}, {\"categories\": [\"0\", \"2\", \"6\", \"11\", \"16\", \"21\", \"22\", \"24\", \"25\", \"26\", \"27\", \"28\", \"29\", \"30\", \"31\", \"32\", \"33\", \"34\", \"35\", \"36\", \"37\", \"38\", \"39\", \"40\", \"41\", \"42\", \"43\", \"44\", \"48\"], \"mode\": \"lines\", \"name\": \"matthews_correlation_max\", \"stepped\": true, \"type\": \"scatter\", \"data\": [0.9242309383022034, 0.9242309383022034, 0.9242309383022034, 0.9242309383022034, 0.9242309383022034, 0.9242309383022034, 0.9242309383022034, 0.9242309383022034, 0.9442989155826383, 0.9442989155826383, 0.9442989155826383, 0.9442989155826383, 0.9442989155826383, 0.9442989155826383, 0.9517453039524095, 0.9522563876190986, 0.9548980680114839, 0.9552601234771008, 0.9552601234771008, 0.9552601234771008, 0.9555735843668053, 0.9555735843668053, 0.9555735843668053, 0.9555735843668053, 0.9555735843668053, 0.9555735843668053, 0.9555735843668053, 0.9555735843668053, 0.9669197728287953]}], \"precision_score_micro\": [{\"categories\": [\"0\", \"2\", \"6\", \"11\", \"16\", \"21\", \"22\", \"24\", \"25\", \"26\", \"27\", \"28\", \"29\", \"30\", \"31\", \"32\", \"33\", \"34\", \"35\", \"36\", \"37\", \"38\", \"39\", \"40\", \"41\", \"42\", \"43\", \"44\", \"48\"], \"mode\": \"markers\", \"name\": \"precision_score_micro\", \"stepped\": false, \"type\": \"scatter\", \"data\": [0.964834653004192, 0.9490296537804689, 0.9261605340785592, 0.9613103555348548, 0.9595559695699425, 0.9577860580655179, 0.9454743052321067, 0.9613258810743673, 0.9735910572892408, 0.956016146561093, 0.9647880763856544, 0.9367179009470579, 0.9648191274646795, 0.9683278993945039, 0.9770998292190652, 0.9770843036795529, 0.9789007918025151, 0.9788852662630025, 0.6273560006210216, 0.947228691197019, 0.9788852662630025, 0.9683278993945039, 0.9366713243285204, 0.924406148113647, 0.9472442167365316, 0.9788697407234901, 0.9524763235522435, 0.9683278993945039, 0.9841173730787144]}, {\"categories\": [\"0\", \"2\", \"6\", \"11\", \"16\", \"21\", \"22\", \"24\", \"25\", \"26\", \"27\", \"28\", \"29\", \"30\", \"31\", \"32\", \"33\", \"34\", \"35\", \"36\", \"37\", \"38\", \"39\", \"40\", \"41\", \"42\", \"43\", \"44\", \"48\"], \"mode\": \"lines\", \"name\": \"precision_score_micro_max\", \"stepped\": true, \"type\": \"scatter\", \"data\": [0.964834653004192, 0.964834653004192, 0.964834653004192, 0.964834653004192, 0.964834653004192, 0.964834653004192, 0.964834653004192, 0.964834653004192, 0.9735910572892408, 0.9735910572892408, 0.9735910572892408, 0.9735910572892408, 0.9735910572892408, 0.9735910572892408, 0.9770998292190652, 0.9770998292190652, 0.9789007918025151, 0.9789007918025151, 0.9789007918025151, 0.9789007918025151, 0.9789007918025151, 0.9789007918025151, 0.9789007918025151, 0.9789007918025151, 0.9789007918025151, 0.9789007918025151, 0.9789007918025151, 0.9789007918025151, 0.9841173730787144]}], \"average_precision_score_micro\": [{\"categories\": [\"0\", \"2\", \"6\", \"11\", \"16\", \"21\", \"22\", \"24\", \"25\", \"26\", \"27\", \"28\", \"29\", \"30\", \"31\", \"32\", \"33\", \"34\", \"35\", \"36\", \"37\", \"38\", \"39\", \"40\", \"41\", \"42\", \"43\", \"44\", \"48\"], \"mode\": \"markers\", \"name\": \"average_precision_score_micro\", \"stepped\": false, \"type\": \"scatter\", \"data\": [0.9933929810662493, 0.9851656881874377, 0.9803498072641373, 0.9935477113153146, 0.9911762487300264, 0.9866433081730301, 0.9851030529745739, 0.9919854594182318, 0.9951870544605057, 0.9871161564694131, 0.9849552010339245, 0.9856491995457546, 0.9929097976116695, 0.9951151022287602, 0.9971759257976309, 0.9967246722829071, 0.9960008782034222, 0.9971405716623346, 0.5263519121707412, 0.9882236196614047, 0.9961894451370539, 0.9953168810324164, 0.9850333207404127, 0.983942619699282, 0.9893270640493034, 0.9960322113147401, 0.990696588006361, 0.9927523990896046, 0.9968206232690082]}, {\"categories\": [\"0\", \"2\", \"6\", \"11\", \"16\", \"21\", \"22\", \"24\", \"25\", \"26\", \"27\", \"28\", \"29\", \"30\", \"31\", \"32\", \"33\", \"34\", \"35\", \"36\", \"37\", \"38\", \"39\", \"40\", \"41\", \"42\", \"43\", \"44\", \"48\"], \"mode\": \"lines\", \"name\": \"average_precision_score_micro_max\", \"stepped\": true, \"type\": \"scatter\", \"data\": [0.9933929810662493, 0.9933929810662493, 0.9933929810662493, 0.9935477113153146, 0.9935477113153146, 0.9935477113153146, 0.9935477113153146, 0.9935477113153146, 0.9951870544605057, 0.9951870544605057, 0.9951870544605057, 0.9951870544605057, 0.9951870544605057, 0.9951870544605057, 0.9971759257976309, 0.9971759257976309, 0.9971759257976309, 0.9971759257976309, 0.9971759257976309, 0.9971759257976309, 0.9971759257976309, 0.9971759257976309, 0.9971759257976309, 0.9971759257976309, 0.9971759257976309, 0.9971759257976309, 0.9971759257976309, 0.9971759257976309, 0.9971759257976309]}], \"precision_score_weighted\": [{\"categories\": [\"0\", \"2\", \"6\", \"11\", \"16\", \"21\", \"22\", \"24\", \"25\", \"26\", \"27\", \"28\", \"29\", \"30\", \"31\", \"32\", \"33\", \"34\", \"35\", \"36\", \"37\", \"38\", \"39\", \"40\", \"41\", \"42\", \"43\", \"44\", \"48\"], \"mode\": \"markers\", \"name\": \"precision_score_weighted\", \"stepped\": false, \"type\": \"scatter\", \"data\": [0.965030882825759, 0.949766413503897, 0.9273716359340132, 0.961937478948057, 0.9601409622451627, 0.9587936536174354, 0.946685832284353, 0.9623883622990477, 0.9741473210044653, 0.9573456205691512, 0.9660094322788252, 0.9398222792260746, 0.9660277281841416, 0.9688267345205827, 0.9776461274880364, 0.9779530037607673, 0.97927933623515, 0.9794825044198772, 0.3943182961215727, 0.9485834412771512, 0.9797063065910478, 0.969501841403237, 0.9387079013419282, 0.9320100202455647, 0.9476655753147354, 0.9795986926701371, 0.9536369765460344, 0.9695850100233698, 0.9845651386862236]}, {\"categories\": [\"0\", \"2\", \"6\", \"11\", \"16\", \"21\", \"22\", \"24\", \"25\", \"26\", \"27\", \"28\", \"29\", \"30\", \"31\", \"32\", \"33\", \"34\", \"35\", \"36\", \"37\", \"38\", \"39\", \"40\", \"41\", \"42\", \"43\", \"44\", \"48\"], \"mode\": \"lines\", \"name\": \"precision_score_weighted_max\", \"stepped\": true, \"type\": \"scatter\", \"data\": [0.965030882825759, 0.965030882825759, 0.965030882825759, 0.965030882825759, 0.965030882825759, 0.965030882825759, 0.965030882825759, 0.965030882825759, 0.9741473210044653, 0.9741473210044653, 0.9741473210044653, 0.9741473210044653, 0.9741473210044653, 0.9741473210044653, 0.9776461274880364, 0.9779530037607673, 0.97927933623515, 0.9794825044198772, 0.9794825044198772, 0.9794825044198772, 0.9797063065910478, 0.9797063065910478, 0.9797063065910478, 0.9797063065910478, 0.9797063065910478, 0.9797063065910478, 0.9797063065910478, 0.9797063065910478, 0.9845651386862236]}], \"recall_score_weighted\": [{\"categories\": [\"0\", \"2\", \"6\", \"11\", \"16\", \"21\", \"22\", \"24\", \"25\", \"26\", \"27\", \"28\", \"29\", \"30\", \"31\", \"32\", \"33\", \"34\", \"35\", \"36\", \"37\", \"38\", \"39\", \"40\", \"41\", \"42\", \"43\", \"44\", \"48\"], \"mode\": \"markers\", \"name\": \"recall_score_weighted\", \"stepped\": false, \"type\": \"scatter\", \"data\": [0.964834653004192, 0.9490296537804689, 0.9261605340785592, 0.9613103555348548, 0.9595559695699425, 0.9577860580655179, 0.9454743052321067, 0.9613258810743673, 0.9735910572892408, 0.956016146561093, 0.9647880763856544, 0.9367179009470579, 0.9648191274646795, 0.9683278993945039, 0.9770998292190652, 0.9770843036795529, 0.9789007918025151, 0.9788852662630025, 0.6273560006210216, 0.947228691197019, 0.9788852662630025, 0.9683278993945039, 0.9366713243285204, 0.924406148113647, 0.9472442167365316, 0.9788697407234901, 0.9524763235522435, 0.9683278993945039, 0.9841173730787144]}, {\"categories\": [\"0\", \"2\", \"6\", \"11\", \"16\", \"21\", \"22\", \"24\", \"25\", \"26\", \"27\", \"28\", \"29\", \"30\", \"31\", \"32\", \"33\", \"34\", \"35\", \"36\", \"37\", \"38\", \"39\", \"40\", \"41\", \"42\", \"43\", \"44\", \"48\"], \"mode\": \"lines\", \"name\": \"recall_score_weighted_max\", \"stepped\": true, \"type\": \"scatter\", \"data\": [0.964834653004192, 0.964834653004192, 0.964834653004192, 0.964834653004192, 0.964834653004192, 0.964834653004192, 0.964834653004192, 0.964834653004192, 0.9735910572892408, 0.9735910572892408, 0.9735910572892408, 0.9735910572892408, 0.9735910572892408, 0.9735910572892408, 0.9770998292190652, 0.9770998292190652, 0.9789007918025151, 0.9789007918025151, 0.9789007918025151, 0.9789007918025151, 0.9789007918025151, 0.9789007918025151, 0.9789007918025151, 0.9789007918025151, 0.9789007918025151, 0.9789007918025151, 0.9789007918025151, 0.9789007918025151, 0.9841173730787144]}], \"log_loss\": [{\"categories\": [\"0\", \"2\", \"6\", \"11\", \"16\", \"21\", \"22\", \"24\", \"25\", \"26\", \"27\", \"28\", \"29\", \"30\", \"31\", \"32\", \"33\", \"34\", \"35\", \"36\", \"37\", \"38\", \"39\", \"40\", \"41\", \"42\", \"43\", \"44\", \"48\"], \"mode\": \"markers\", \"name\": \"log_loss\", \"stepped\": false, \"type\": \"scatter\", \"data\": [0.13316503900441012, 0.20552450637003883, 0.18323564442983473, 0.10520621435535049, 0.13915005107428202, 0.2257507451640759, 0.24001041989253089, 0.1315052773845246, 0.08125458999211667, 0.18448709777462474, 0.3677414090918596, 0.1638217631807245, 0.10186763099820043, 0.09212786427405377, 0.07077351177534767, 0.08223682102557713, 0.0767956052035147, 0.07184012665902621, 0.6624179436156276, 0.6186097113272242, 0.07631147513740173, 0.08359292808283425, 0.16289317123986202, 0.17649554752663138, 0.16419129547283742, 0.09860065904498228, 0.12304569718286869, 0.08903624687427862, 0.12592303314845932]}, {\"categories\": [\"0\", \"2\", \"6\", \"11\", \"16\", \"21\", \"22\", \"24\", \"25\", \"26\", \"27\", \"28\", \"29\", \"30\", \"31\", \"32\", \"33\", \"34\", \"35\", \"36\", \"37\", \"38\", \"39\", \"40\", \"41\", \"42\", \"43\", \"44\", \"48\"], \"mode\": \"lines\", \"name\": \"log_loss_min\", \"stepped\": true, \"type\": \"scatter\", \"data\": [0.13316503900441012, 0.13316503900441012, 0.13316503900441012, 0.10520621435535049, 0.10520621435535049, 0.10520621435535049, 0.10520621435535049, 0.10520621435535049, 0.08125458999211667, 0.08125458999211667, 0.08125458999211667, 0.08125458999211667, 0.08125458999211667, 0.08125458999211667, 0.07077351177534767, 0.07077351177534767, 0.07077351177534767, 0.07077351177534767, 0.07077351177534767, 0.07077351177534767, 0.07077351177534767, 0.07077351177534767, 0.07077351177534767, 0.07077351177534767, 0.07077351177534767, 0.07077351177534767, 0.07077351177534767, 0.07077351177534767, 0.07077351177534767]}], \"weighted_accuracy\": [{\"categories\": [\"0\", \"2\", \"6\", \"11\", \"16\", \"21\", \"22\", \"24\", \"25\", \"26\", \"27\", \"28\", \"29\", \"30\", \"31\", \"32\", \"33\", \"34\", \"35\", \"36\", \"37\", \"38\", \"39\", \"40\", \"41\", \"42\", \"43\", \"44\", \"48\"], \"mode\": \"markers\", \"name\": \"weighted_accuracy\", \"stepped\": false, \"type\": \"scatter\", \"data\": [0.9686340594227827, 0.9520248471014368, 0.9311743428850902, 0.9638382389533732, 0.9649150759543502, 0.9625309725626507, 0.9511872891413043, 0.9618383884883436, 0.9749150378627238, 0.9581941347716117, 0.9663814375937863, 0.9352418986360362, 0.9680946579465702, 0.971520256619052, 0.9816553245673119, 0.9814094728214359, 0.9806004567487552, 0.9812600872138006, 0.7373853936974661, 0.9509989461917522, 0.9802902540835474, 0.9711332433183509, 0.9426284973721042, 0.9458983465175417, 0.9536374472184154, 0.9839966186040371, 0.9587239947941104, 0.9712039818321913, 0.987380663357517]}, {\"categories\": [\"0\", \"2\", \"6\", \"11\", \"16\", \"21\", \"22\", \"24\", \"25\", \"26\", \"27\", \"28\", \"29\", \"30\", \"31\", \"32\", \"33\", \"34\", \"35\", \"36\", \"37\", \"38\", \"39\", \"40\", \"41\", \"42\", \"43\", \"44\", \"48\"], \"mode\": \"lines\", \"name\": \"weighted_accuracy_max\", \"stepped\": true, \"type\": \"scatter\", \"data\": [0.9686340594227827, 0.9686340594227827, 0.9686340594227827, 0.9686340594227827, 0.9686340594227827, 0.9686340594227827, 0.9686340594227827, 0.9686340594227827, 0.9749150378627238, 0.9749150378627238, 0.9749150378627238, 0.9749150378627238, 0.9749150378627238, 0.9749150378627238, 0.9816553245673119, 0.9816553245673119, 0.9816553245673119, 0.9816553245673119, 0.9816553245673119, 0.9816553245673119, 0.9816553245673119, 0.9816553245673119, 0.9816553245673119, 0.9816553245673119, 0.9816553245673119, 0.9839966186040371, 0.9839966186040371, 0.9839966186040371, 0.987380663357517]}], \"f1_score_micro\": [{\"categories\": [\"0\", \"2\", \"6\", \"11\", \"16\", \"21\", \"22\", \"24\", \"25\", \"26\", \"27\", \"28\", \"29\", \"30\", \"31\", \"32\", \"33\", \"34\", \"35\", \"36\", \"37\", \"38\", \"39\", \"40\", \"41\", \"42\", \"43\", \"44\", \"48\"], \"mode\": \"markers\", \"name\": \"f1_score_micro\", \"stepped\": false, \"type\": \"scatter\", \"data\": [0.964834653004192, 0.9490296537804689, 0.9261605340785592, 0.9613103555348548, 0.9595559695699425, 0.9577860580655179, 0.9454743052321067, 0.9613258810743673, 0.9735910572892408, 0.956016146561093, 0.9647880763856544, 0.9367179009470579, 0.9648191274646795, 0.9683278993945039, 0.9770998292190652, 0.9770843036795529, 0.9789007918025151, 0.9788852662630025, 0.6273560006210216, 0.947228691197019, 0.9788852662630025, 0.9683278993945039, 0.9366713243285204, 0.924406148113647, 0.9472442167365316, 0.9788697407234901, 0.9524763235522435, 0.9683278993945039, 0.9841173730787144]}, {\"categories\": [\"0\", \"2\", \"6\", \"11\", \"16\", \"21\", \"22\", \"24\", \"25\", \"26\", \"27\", \"28\", \"29\", \"30\", \"31\", \"32\", \"33\", \"34\", \"35\", \"36\", \"37\", \"38\", \"39\", \"40\", \"41\", \"42\", \"43\", \"44\", \"48\"], \"mode\": \"lines\", \"name\": \"f1_score_micro_max\", \"stepped\": true, \"type\": \"scatter\", \"data\": [0.964834653004192, 0.964834653004192, 0.964834653004192, 0.964834653004192, 0.964834653004192, 0.964834653004192, 0.964834653004192, 0.964834653004192, 0.9735910572892408, 0.9735910572892408, 0.9735910572892408, 0.9735910572892408, 0.9735910572892408, 0.9735910572892408, 0.9770998292190652, 0.9770998292190652, 0.9789007918025151, 0.9789007918025151, 0.9789007918025151, 0.9789007918025151, 0.9789007918025151, 0.9789007918025151, 0.9789007918025151, 0.9789007918025151, 0.9789007918025151, 0.9789007918025151, 0.9789007918025151, 0.9789007918025151, 0.9841173730787144]}], \"AUC_micro\": [{\"categories\": [\"0\", \"2\", \"6\", \"11\", \"16\", \"21\", \"22\", \"24\", \"25\", \"26\", \"27\", \"28\", \"29\", \"30\", \"31\", \"32\", \"33\", \"34\", \"35\", \"36\", \"37\", \"38\", \"39\", \"40\", \"41\", \"42\", \"43\", \"44\", \"48\"], \"mode\": \"markers\", \"name\": \"AUC_micro\", \"stepped\": false, \"type\": \"scatter\", \"data\": [0.9933396267087584, 0.9877283963901397, 0.9804464302479644, 0.9934783700984425, 0.9910552319441119, 0.9890632348402845, 0.9852286194145992, 0.9917589696267562, 0.995155774961969, 0.9881344708412362, 0.9876778178655355, 0.9855657485145584, 0.9929062626449324, 0.9949398455848787, 0.9971003047956755, 0.9966383506954951, 0.9959101267229679, 0.997052495245379, 0.5486565081285154, 0.9883089517763629, 0.9961045454783211, 0.9952305330500314, 0.9852110413992452, 0.9834255344530185, 0.9891353932863094, 0.9959387167593221, 0.9908512715262592, 0.9934673924259808, 0.9967897819533066]}, {\"categories\": [\"0\", \"2\", \"6\", \"11\", \"16\", \"21\", \"22\", \"24\", \"25\", \"26\", \"27\", \"28\", \"29\", \"30\", \"31\", \"32\", \"33\", \"34\", \"35\", \"36\", \"37\", \"38\", \"39\", \"40\", \"41\", \"42\", \"43\", \"44\", \"48\"], \"mode\": \"lines\", \"name\": \"AUC_micro_max\", \"stepped\": true, \"type\": \"scatter\", \"data\": [0.9933396267087584, 0.9933396267087584, 0.9933396267087584, 0.9934783700984425, 0.9934783700984425, 0.9934783700984425, 0.9934783700984425, 0.9934783700984425, 0.995155774961969, 0.995155774961969, 0.995155774961969, 0.995155774961969, 0.995155774961969, 0.995155774961969, 0.9971003047956755, 0.9971003047956755, 0.9971003047956755, 0.9971003047956755, 0.9971003047956755, 0.9971003047956755, 0.9971003047956755, 0.9971003047956755, 0.9971003047956755, 0.9971003047956755, 0.9971003047956755, 0.9971003047956755, 0.9971003047956755, 0.9971003047956755, 0.9971003047956755]}], \"average_precision_score_macro\": [{\"categories\": [\"0\", \"2\", \"6\", \"11\", \"16\", \"21\", \"22\", \"24\", \"25\", \"26\", \"27\", \"28\", \"29\", \"30\", \"31\", \"32\", \"33\", \"34\", \"35\", \"36\", \"37\", \"38\", \"39\", \"40\", \"41\", \"42\", \"43\", \"44\", \"48\"], \"mode\": \"markers\", \"name\": \"average_precision_score_macro\", \"stepped\": false, \"type\": \"scatter\", \"data\": [0.9932713982636241, 0.984806670808241, 0.9784487111457635, 0.99269981432795, 0.9905361990646562, 0.9865498692898109, 0.987261816499308, 0.991496386191937, 0.995292556561162, 0.9864475889830133, 0.9838918539754058, 0.985058581969728, 0.9931712670704311, 0.9950292887830148, 0.9972572542110208, 0.9963791482938742, 0.9956847783372847, 0.9970247092253691, 0.43012681436299866, 0.9882467507783239, 0.9960243627196981, 0.9951610546287716, 0.9843248110009497, 0.9864399531882709, 0.9880466560458668, 0.9962247268316196, 0.9903010068898356, 0.993655612623283, 0.9975051253602784]}, {\"categories\": [\"0\", \"2\", \"6\", \"11\", \"16\", \"21\", \"22\", \"24\", \"25\", \"26\", \"27\", \"28\", \"29\", \"30\", \"31\", \"32\", \"33\", \"34\", \"35\", \"36\", \"37\", \"38\", \"39\", \"40\", \"41\", \"42\", \"43\", \"44\", \"48\"], \"mode\": \"lines\", \"name\": \"average_precision_score_macro_max\", \"stepped\": true, \"type\": \"scatter\", \"data\": [0.9932713982636241, 0.9932713982636241, 0.9932713982636241, 0.9932713982636241, 0.9932713982636241, 0.9932713982636241, 0.9932713982636241, 0.9932713982636241, 0.995292556561162, 0.995292556561162, 0.995292556561162, 0.995292556561162, 0.995292556561162, 0.995292556561162, 0.9972572542110208, 0.9972572542110208, 0.9972572542110208, 0.9972572542110208, 0.9972572542110208, 0.9972572542110208, 0.9972572542110208, 0.9972572542110208, 0.9972572542110208, 0.9972572542110208, 0.9972572542110208, 0.9972572542110208, 0.9972572542110208, 0.9972572542110208, 0.9975051253602784]}], \"precision_score_macro\": [{\"categories\": [\"0\", \"2\", \"6\", \"11\", \"16\", \"21\", \"22\", \"24\", \"25\", \"26\", \"27\", \"28\", \"29\", \"30\", \"31\", \"32\", \"33\", \"34\", \"35\", \"36\", \"37\", \"38\", \"39\", \"40\", \"41\", \"42\", \"43\", \"44\", \"48\"], \"mode\": \"markers\", \"name\": \"precision_score_macro\", \"stepped\": false, \"type\": \"scatter\", \"data\": [0.9638261065168049, 0.9448134818239791, 0.9223057408955349, 0.959145747343293, 0.9596328856306288, 0.9575651027008396, 0.9451714627507171, 0.9570681935132063, 0.9721221585090142, 0.9538798277573537, 0.9634911505358685, 0.9295256916883752, 0.9644049098023618, 0.9675532790218275, 0.9798392850446224, 0.9800934431422237, 0.9778568598024865, 0.9789992164055802, 0.3136780003105108, 0.9456658522059105, 0.9781557756571946, 0.9679921165696527, 0.9357134580970896, 0.9446123896838552, 0.9464169896423418, 0.9823227889097454, 0.9535746215108931, 0.9680157902397332, 0.9864959397882336]}, {\"categories\": [\"0\", \"2\", \"6\", \"11\", \"16\", \"21\", \"22\", \"24\", \"25\", \"26\", \"27\", \"28\", \"29\", \"30\", \"31\", \"32\", \"33\", \"34\", \"35\", \"36\", \"37\", \"38\", \"39\", \"40\", \"41\", \"42\", \"43\", \"44\", \"48\"], \"mode\": \"lines\", \"name\": \"precision_score_macro_max\", \"stepped\": true, \"type\": \"scatter\", \"data\": [0.9638261065168049, 0.9638261065168049, 0.9638261065168049, 0.9638261065168049, 0.9638261065168049, 0.9638261065168049, 0.9638261065168049, 0.9638261065168049, 0.9721221585090142, 0.9721221585090142, 0.9721221585090142, 0.9721221585090142, 0.9721221585090142, 0.9721221585090142, 0.9798392850446224, 0.9800934431422237, 0.9800934431422237, 0.9800934431422237, 0.9800934431422237, 0.9800934431422237, 0.9800934431422237, 0.9800934431422237, 0.9800934431422237, 0.9800934431422237, 0.9800934431422237, 0.9823227889097454, 0.9823227889097454, 0.9823227889097454, 0.9864959397882336]}], \"average_precision_score_weighted\": [{\"categories\": [\"0\", \"2\", \"6\", \"11\", \"16\", \"21\", \"22\", \"24\", \"25\", \"26\", \"27\", \"28\", \"29\", \"30\", \"31\", \"32\", \"33\", \"34\", \"35\", \"36\", \"37\", \"38\", \"39\", \"40\", \"41\", \"42\", \"43\", \"44\", \"48\"], \"mode\": \"markers\", \"name\": \"average_precision_score_weighted\", \"stepped\": false, \"type\": \"scatter\", \"data\": [0.9937242209301191, 0.9853184601280848, 0.9808430094883891, 0.9931772488495199, 0.9913651835468136, 0.9868409498136135, 0.9885289097836697, 0.9922718612663572, 0.9954907546917167, 0.9869292238153664, 0.9842349326506037, 0.9862186646332155, 0.9936579254304332, 0.9954635246671536, 0.9973613925426241, 0.9965518761696257, 0.9959624228208632, 0.9971713289513356, 0.45684767707205054, 0.989232561575693, 0.9962977616913788, 0.9954723263600073, 0.9855348819261964, 0.9876024138329182, 0.9892061498566932, 0.9964519613864564, 0.9909416211772257, 0.9938862626178769, 0.997564488719026]}, {\"categories\": [\"0\", \"2\", \"6\", \"11\", \"16\", \"21\", \"22\", \"24\", \"25\", \"26\", \"27\", \"28\", \"29\", \"30\", \"31\", \"32\", \"33\", \"34\", \"35\", \"36\", \"37\", \"38\", \"39\", \"40\", \"41\", \"42\", \"43\", \"44\", \"48\"], \"mode\": \"lines\", \"name\": \"average_precision_score_weighted_max\", \"stepped\": true, \"type\": \"scatter\", \"data\": [0.9937242209301191, 0.9937242209301191, 0.9937242209301191, 0.9937242209301191, 0.9937242209301191, 0.9937242209301191, 0.9937242209301191, 0.9937242209301191, 0.9954907546917167, 0.9954907546917167, 0.9954907546917167, 0.9954907546917167, 0.9954907546917167, 0.9954907546917167, 0.9973613925426241, 0.9973613925426241, 0.9973613925426241, 0.9973613925426241, 0.9973613925426241, 0.9973613925426241, 0.9973613925426241, 0.9973613925426241, 0.9973613925426241, 0.9973613925426241, 0.9973613925426241, 0.9973613925426241, 0.9973613925426241, 0.9973613925426241, 0.997564488719026]}], \"accuracy\": [{\"categories\": [\"0\", \"2\", \"6\", \"11\", \"16\", \"21\", \"22\", \"24\", \"25\", \"26\", \"27\", \"28\", \"29\", \"30\", \"31\", \"32\", \"33\", \"34\", \"35\", \"36\", \"37\", \"38\", \"39\", \"40\", \"41\", \"42\", \"43\", \"44\", \"48\"], \"mode\": \"markers\", \"name\": \"accuracy\", \"stepped\": false, \"type\": \"scatter\", \"data\": [0.964834653004192, 0.9490296537804689, 0.9261605340785592, 0.9613103555348548, 0.9595559695699425, 0.9577860580655179, 0.9454743052321067, 0.9613258810743673, 0.9735910572892408, 0.956016146561093, 0.9647880763856544, 0.9367179009470579, 0.9648191274646795, 0.9683278993945039, 0.9770998292190652, 0.9770843036795529, 0.9789007918025151, 0.9788852662630025, 0.6273560006210216, 0.947228691197019, 0.9788852662630025, 0.9683278993945039, 0.9366713243285204, 0.924406148113647, 0.9472442167365316, 0.9788697407234901, 0.9524763235522435, 0.9683278993945039, 0.9841173730787144]}, {\"categories\": [\"0\", \"2\", \"6\", \"11\", \"16\", \"21\", \"22\", \"24\", \"25\", \"26\", \"27\", \"28\", \"29\", \"30\", \"31\", \"32\", \"33\", \"34\", \"35\", \"36\", \"37\", \"38\", \"39\", \"40\", \"41\", \"42\", \"43\", \"44\", \"48\"], \"mode\": \"lines\", \"name\": \"accuracy_max\", \"stepped\": true, \"type\": \"scatter\", \"data\": [0.964834653004192, 0.964834653004192, 0.964834653004192, 0.964834653004192, 0.964834653004192, 0.964834653004192, 0.964834653004192, 0.964834653004192, 0.9735910572892408, 0.9735910572892408, 0.9735910572892408, 0.9735910572892408, 0.9735910572892408, 0.9735910572892408, 0.9770998292190652, 0.9770998292190652, 0.9789007918025151, 0.9789007918025151, 0.9789007918025151, 0.9789007918025151, 0.9789007918025151, 0.9789007918025151, 0.9789007918025151, 0.9789007918025151, 0.9789007918025151, 0.9789007918025151, 0.9789007918025151, 0.9789007918025151, 0.9841173730787144]}]}, \"metricName\": null, \"primaryMetricName\": \"AUC_weighted\", \"showLegend\": false}, \"run_metrics\": [{\"name\": \"experiment_status\", \"run_id\": \"AutoML_cd384120-893a-45a8-8048-8d6fc6280a44\", \"categories\": [0, 1, 2, 3, 4, 5, 6, 7, 8, 9, 10, 11, 12, 13], \"series\": [{\"data\": [\"DatasetEvaluation\", \"FeaturesGeneration\", \"DatasetFeaturization\", \"DatasetFeaturizationCompleted\", \"DatasetCrossValidationSplit\", \"ModelSelection\", \"BestRunExplainModel\", \"ModelExplanationDataSetSetup\", \"PickSurrogateModel\", \"EngineeredFeatureExplanations\", \"EngineeredFeatureExplanations\", \"RawFeaturesExplanations\", \"RawFeaturesExplanations\", \"BestRunExplainModel\"]}]}, {\"name\": \"experiment_status_description\", \"run_id\": \"AutoML_cd384120-893a-45a8-8048-8d6fc6280a44\", \"categories\": [0, 1, 2, 3, 4, 5, 6, 7, 8, 9, 10, 11, 12, 13], \"series\": [{\"data\": [\"Gathering dataset statistics.\", \"Generating features for the dataset.\", \"Beginning to fit featurizers and featurize the dataset.\", \"Completed fit featurizers and featurizing the dataset.\", \"Generating individually featurized CV splits.\", \"Beginning model selection.\", \"Best run model explanations started\", \"Model explanations data setup completed\", \"Choosing LightGBM as the surrogate model for explanations\", \"Computation of engineered features started\", \"Computation of engineered features completed\", \"Computation of raw features started\", \"Computation of raw features completed\", \"Best run model explanations completed\"]}]}, {\"name\": \"f1_score_macro\", \"run_id\": \"AutoML_cd384120-893a-45a8-8048-8d6fc6280a44\", \"categories\": [0], \"series\": [{\"data\": [0.9831077280912254]}]}, {\"name\": \"AUC_micro\", \"run_id\": \"AutoML_cd384120-893a-45a8-8048-8d6fc6280a44\", \"categories\": [0], \"series\": [{\"data\": [0.9967897819533066]}]}, {\"name\": \"precision_score_macro\", \"run_id\": \"AutoML_cd384120-893a-45a8-8048-8d6fc6280a44\", \"categories\": [0], \"series\": [{\"data\": [0.9864959397882336]}]}, {\"name\": \"recall_score_micro\", \"run_id\": \"AutoML_cd384120-893a-45a8-8048-8d6fc6280a44\", \"categories\": [0], \"series\": [{\"data\": [0.9841173730787144]}]}, {\"name\": \"recall_score_macro\", \"run_id\": \"AutoML_cd384120-893a-45a8-8048-8d6fc6280a44\", \"categories\": [0], \"series\": [{\"data\": [0.9804639844256975]}]}, {\"name\": \"f1_score_micro\", \"run_id\": \"AutoML_cd384120-893a-45a8-8048-8d6fc6280a44\", \"categories\": [0], \"series\": [{\"data\": [0.9841173730787144]}]}, {\"name\": \"accuracy\", \"run_id\": \"AutoML_cd384120-893a-45a8-8048-8d6fc6280a44\", \"categories\": [0], \"series\": [{\"data\": [0.9841173730787144]}]}, {\"name\": \"precision_score_micro\", \"run_id\": \"AutoML_cd384120-893a-45a8-8048-8d6fc6280a44\", \"categories\": [0], \"series\": [{\"data\": [0.9841173730787144]}]}, {\"name\": \"AUC_macro\", \"run_id\": \"AutoML_cd384120-893a-45a8-8048-8d6fc6280a44\", \"categories\": [0], \"series\": [{\"data\": [0.9973031263121731]}]}, {\"name\": \"norm_macro_recall\", \"run_id\": \"AutoML_cd384120-893a-45a8-8048-8d6fc6280a44\", \"categories\": [0], \"series\": [{\"data\": [0.9609279688513951]}]}, {\"name\": \"balanced_accuracy\", \"run_id\": \"AutoML_cd384120-893a-45a8-8048-8d6fc6280a44\", \"categories\": [0], \"series\": [{\"data\": [0.9804639844256975]}]}, {\"name\": \"precision_score_weighted\", \"run_id\": \"AutoML_cd384120-893a-45a8-8048-8d6fc6280a44\", \"categories\": [0], \"series\": [{\"data\": [0.9845651386862236]}]}, {\"name\": \"f1_score_weighted\", \"run_id\": \"AutoML_cd384120-893a-45a8-8048-8d6fc6280a44\", \"categories\": [0], \"series\": [{\"data\": [0.9840050978006565]}]}, {\"name\": \"average_precision_score_weighted\", \"run_id\": \"AutoML_cd384120-893a-45a8-8048-8d6fc6280a44\", \"categories\": [0], \"series\": [{\"data\": [0.997564488719026]}]}, {\"name\": \"average_precision_score_micro\", \"run_id\": \"AutoML_cd384120-893a-45a8-8048-8d6fc6280a44\", \"categories\": [0], \"series\": [{\"data\": [0.9968206232690082]}]}, {\"name\": \"recall_score_weighted\", \"run_id\": \"AutoML_cd384120-893a-45a8-8048-8d6fc6280a44\", \"categories\": [0], \"series\": [{\"data\": [0.9841173730787144]}]}, {\"name\": \"AUC_weighted\", \"run_id\": \"AutoML_cd384120-893a-45a8-8048-8d6fc6280a44\", \"categories\": [0], \"series\": [{\"data\": [0.9973031263121731]}]}, {\"name\": \"matthews_correlation\", \"run_id\": \"AutoML_cd384120-893a-45a8-8048-8d6fc6280a44\", \"categories\": [0], \"series\": [{\"data\": [0.9669197728287953]}]}, {\"name\": \"average_precision_score_macro\", \"run_id\": \"AutoML_cd384120-893a-45a8-8048-8d6fc6280a44\", \"categories\": [0], \"series\": [{\"data\": [0.9975051253602784]}]}, {\"name\": \"log_loss\", \"run_id\": \"AutoML_cd384120-893a-45a8-8048-8d6fc6280a44\", \"categories\": [0], \"series\": [{\"data\": [0.12592303314845932]}]}, {\"name\": \"weighted_accuracy\", \"run_id\": \"AutoML_cd384120-893a-45a8-8048-8d6fc6280a44\", \"categories\": [0], \"series\": [{\"data\": [0.987380663357517]}]}], \"run_logs\": \"\\nRun is completed.\", \"graph\": {}, \"widget_settings\": {\"childWidgetDisplay\": \"popup\", \"send_telemetry\": false, \"log_level\": \"INFO\", \"sdk_version\": \"1.51.0\"}, \"loading\": false}"
     },
     "metadata": {},
     "output_type": "display_data"
    }
   ],
   "source": [
    "RunDetails(remote_run).show()"
   ]
  },
  {
   "cell_type": "markdown",
   "metadata": {},
   "source": [
    "## Best Model\n",
    "\n",
    "TODO: In the cell below, get the best model from the automl experiments and display all the properties of the model.\n",
    "\n"
   ]
  },
  {
   "cell_type": "code",
   "execution_count": 10,
   "metadata": {
    "gather": {
     "logged": 1706993307164
    },
    "jupyter": {
     "outputs_hidden": false,
     "source_hidden": false
    },
    "nteract": {
     "transient": {
      "deleting": false
     }
    }
   },
   "outputs": [
    {
     "name": "stderr",
     "output_type": "stream",
     "text": [
      "WARNING:root:The version of the SDK does not match the version the model was trained on.\n",
      "WARNING:root:The consistency in the result may not be guaranteed.\n",
      "WARNING:root:Package:azureml-automl-core, training version:1.52.0.post1, current version:1.51.0.post1\n",
      "Package:azureml-automl-runtime, training version:1.52.0.post1, current version:1.51.0.post1\n",
      "Package:azureml-core, training version:1.52.0, current version:1.51.0\n",
      "Package:azureml-dataprep, training version:4.11.4, current version:4.10.8\n",
      "Package:azureml-dataprep-rslex, training version:2.18.4, current version:2.17.12\n",
      "Package:azureml-dataset-runtime, training version:1.52.0, current version:1.51.0\n",
      "Package:azureml-defaults, training version:1.52.0, current version:1.51.0\n",
      "Package:azureml-interpret, training version:1.52.0, current version:1.51.0\n",
      "Package:azureml-mlflow, training version:1.52.0, current version:1.51.0\n",
      "Package:azureml-pipeline-core, training version:1.52.0, current version:1.51.0\n",
      "Package:azureml-responsibleai, training version:1.52.0, current version:1.51.0\n",
      "Package:azureml-telemetry, training version:1.52.0, current version:1.51.0\n",
      "Package:azureml-train-automl-client, training version:1.52.0, current version:1.51.0.post1\n",
      "Package:azureml-train-automl-runtime, training version:1.52.0, current version:1.51.0.post2\n",
      "Package:azureml-train-core, training version:1.52.0, current version:1.51.0\n",
      "Package:azureml-train-restclients-hyperdrive, training version:1.52.0, current version:1.51.0\n",
      "Package:azureml-training-tabular, training version:1.52.0, current version:1.51.0.post1\n",
      "WARNING:root:Please ensure the version of your local conda dependencies match the version on which your model was trained in order to properly retrieve your model.\n"
     ]
    },
    {
     "data": {
      "text/plain": [
       "PipelineWithYTransformations(Pipeline={'memory': None,\n",
       "                                       'steps': [('datatransformer',\n",
       "                                                  DataTransformer(enable_dnn=False, enable_feature_sweeping=False, feature_sweeping_config={}, feature_sweeping_timeout=86400, featurization_config=None, force_text_dnn=False, is_cross_validation=True, is_onnx_compatible=True, observer=None, task='classification', working_dir='/mn...\n",
       "                                                  PreFittedSoftVotingClassifier(classification_labels=array([0, 1]), estimators=[('31', Pipeline(memory=None, steps=[('standardscalerwrapper', StandardScalerWrapper(copy=True, with_mean=False, with_std=True)), ('svcwrapper', SVCWrapper(C=51.79474679231202, break_ties=False, cache_size=200, class_weight='balanced', coef0=0.0, decision_function_shape='ovr', degree=3, gamma='scale', kernel='rbf', max_iter=-1, probability=True, random_state=None, shrinking=True, tol=0.001, verbose=False))], verbose=False)), ('34', Pipeline(memory=None, steps=[('robustscaler', RobustScaler(copy=True, quantile_range=[25, 75], with_centering=False, with_scaling=True)), ('svcwrapper', SVCWrapper(C=16.768329368110066, break_ties=False, cache_size=200, class_weight='balanced', coef0=0.0, decision_function_shape='ovr', degree=3, gamma='scale', kernel='rbf', max_iter=-1, probability=True, random_state=None, shrinking=True, tol=0.001, verbose=False))], verbose=False)), ('32', Pipeline(memory=None, steps=[('standardscalerwrapper', StandardScalerWrapper(copy=True, with_mean=False, with_std=True)), ('svcwrapper', SVCWrapper(C=339.3221771895323, break_ties=False, cache_size=200, class_weight='balanced', coef0=0.0, decision_function_shape='ovr', degree=3, gamma='scale', kernel='rbf', max_iter=-1, probability=True, random_state=None, shrinking=True, tol=0.001, verbose=False))], verbose=False)), ('42', Pipeline(memory=None, steps=[('standardscalerwrapper', StandardScalerWrapper(copy=True, with_mean=True, with_std=True)), ('logisticregression', LogisticRegression(C=0.040949150623804234, class_weight=None, dual=False, fit_intercept=True, intercept_scaling=1, l1_ratio=None, max_iter=100, multi_class='multinomial', n_jobs=1, penalty='l2', random_state=None, solver='saga', tol=0.0001, verbose=0, warm_start=False))], verbose=False)), ('37', Pipeline(memory=None, steps=[('standardscalerwrapper', StandardScalerWrapper(copy=True, with_mean=False, with_std=True)), ('svcwrapper', SVCWrapper(C=1.7575106248547894, break_ties=False, cache_size=200, class_weight='balanced', coef0=0.0, decision_function_shape='ovr', degree=3, gamma='scale', kernel='rbf', max_iter=-1, probability=True, random_state=None, shrinking=True, tol=0.001, verbose=False))], verbose=False)), ('10', Pipeline(memory=None, steps=[('standardscalerwrapper', StandardScalerWrapper(copy=True, with_mean=True, with_std=True)), ('logisticregression', LogisticRegression(C=2222.996482526191, class_weight=None, dual=False, fit_intercept=True, intercept_scaling=1, l1_ratio=None, max_iter=100, multi_class='multinomial', n_jobs=1, penalty='l2', random_state=None, solver='lbfgs', tol=0.0001, verbose=0, warm_start=False))], verbose=False)), ('11', Pipeline(memory=None, steps=[('standardscalerwrapper', StandardScalerWrapper(copy=True, with_mean=True, with_std=True)), ('svcwrapper', SVCWrapper(C=2222.996482526191, break_ties=False, cache_size=200, class_weight='balanced', coef0=0.0, decision_function_shape='ovr', degree=3, gamma='scale', kernel='rbf', max_iter=-1, probability=True, random_state=None, shrinking=True, tol=0.001, verbose=False))], verbose=False)), ('36', Pipeline(memory=None, steps=[('standardscalerwrapper', StandardScalerWrapper(copy=True, with_mean=False, with_std=False)), ('xgboostclassifier', XGBoostClassifier(booster='gbtree', colsample_bytree=1, eta=0.001, gamma=0, max_depth=5, max_leaves=0, n_estimators=100, n_jobs=1, objective='reg:logistic', problem_info=ProblemInfo(gpu_training_param_dict={'processing_unit_type': 'cpu'}), random_state=0, reg_alpha=0.3125, reg_lambda=0.10416666666666667, subsample=0.6, tree_method='auto'))], verbose=False))], flatten_transform=None, weights=[0.125, 0.125, 0.125, 0.125, 0.125, 0.125, 0.125, 0.125]))],\n",
       "                                       'verbose': False},\n",
       "                             y_transformer={},\n",
       "                             y_transformer_name='LabelEncoder')"
      ]
     },
     "execution_count": 10,
     "metadata": {},
     "output_type": "execute_result"
    }
   ],
   "source": [
    "automl_best_run, automl_best_model = remote_run.get_output()\n",
    "automl_best_run\n",
    "\n",
    "\n",
    "automl_best_model\n"
   ]
  },
  {
   "cell_type": "code",
   "execution_count": 11,
   "metadata": {
    "gather": {
     "logged": 1706993321795
    },
    "jupyter": {
     "outputs_hidden": false,
     "source_hidden": false
    },
    "nteract": {
     "transient": {
      "deleting": false
     }
    }
   },
   "outputs": [
    {
     "data": {
      "text/plain": [
       "0.9841173730787144"
      ]
     },
     "execution_count": 11,
     "metadata": {},
     "output_type": "execute_result"
    }
   ],
   "source": [
    "metrics = automl_best_run.get_metrics()\n",
    "metrics['accuracy']"
   ]
  },
  {
   "cell_type": "markdown",
   "metadata": {},
   "source": [
    "## Model Deployment\n",
    "\n",
    "Remember you have to deploy only one of the two models you trained but you still need to register both the models. Perform the steps in the rest of this notebook only if you wish to deploy this model.\n",
    "\n",
    "TODO: In the cell below, register the model, create an inference config and deploy the model as a web service."
   ]
  },
  {
   "cell_type": "code",
   "execution_count": 13,
   "metadata": {},
   "outputs": [],
   "source": [
    "# Save the best model\n",
    "import joblib\n",
    "from azureml.core.model import Model\n",
    "\n",
    "description = \"Best-fit AutoML model trained on Breast Cancer dataset\"\n",
    "\n",
    "os.makedirs('outputs', exist_ok=True)\n",
    "joblib.dump(automl_best_model, filename=\"outputs/automl-model.pkl\")\n",
    "automl_model = remote_run.register_model(model_name='automl-breastcancer', description=description)"
   ]
  },
  {
   "cell_type": "code",
   "execution_count": 15,
   "metadata": {
    "gather": {
     "logged": 1706993341363
    },
    "jupyter": {
     "outputs_hidden": false,
     "source_hidden": false
    },
    "nteract": {
     "transient": {
      "deleting": false
     }
    }
   },
   "outputs": [],
   "source": [
    "from azureml.core.webservice import AciWebservice\n",
    "\n",
    "aci_config = AciWebservice.deploy_configuration(\n",
    "    cpu_cores=1,\n",
    "    memory_gb=1,\n",
    "    description='Predict Diagnosis - Malignant(M) or Benign(B)',\n",
    "    auth_enabled=True\n",
    ")"
   ]
  },
  {
   "cell_type": "markdown",
   "metadata": {
    "collapsed": true,
    "gather": {
     "logged": 1598431657736
    },
    "jupyter": {
     "outputs_hidden": false,
     "source_hidden": false
    },
    "nteract": {
     "transient": {
      "deleting": false
     }
    }
   },
   "source": [
    "TODO: In the cell below, send a request to the web service you deployed to test it."
   ]
  },
  {
   "cell_type": "code",
   "execution_count": 16,
   "metadata": {
    "gather": {
     "logged": 1706994109703
    },
    "jupyter": {
     "outputs_hidden": false,
     "source_hidden": false
    },
    "nteract": {
     "transient": {
      "deleting": false
     }
    }
   },
   "outputs": [
    {
     "name": "stdout",
     "output_type": "stream",
     "text": [
      "Tips: You can try get_logs(): https://aka.ms/debugimage#dockerlog or local deployment: https://aka.ms/debugimage#debug-locally to debug if deployment takes longer than 10 minutes.\n",
      "Running\n",
      "2024-02-05 09:44:52+00:00 Creating Container Registry if not exists..\n",
      "2024-02-05 09:54:52+00:00 Registering the environment.\n",
      "2024-02-05 09:54:53+00:00 Generating deployment configuration.\n",
      "2024-02-05 09:54:53+00:00 Submitting deployment to compute..\n",
      "2024-02-05 09:54:59+00:00 Checking the status of deployment automl-breastcancer..\n",
      "2024-02-05 09:58:37+00:00 Checking the status of inference endpoint automl-breastcancer.\n",
      "Succeeded\n",
      "ACI service creation operation finished, operation \"Succeeded\"\n"
     ]
    }
   ],
   "source": [
    "\n",
    "from azureml.core.webservice import Webservice\n",
    "from azureml.core.model import InferenceConfig\n",
    "from azureml.core.environment import Environment\n",
    "from azureml.core import Workspace\n",
    "from azureml.core.model import Model\n",
    "from azureml.automl.core.shared import constants\n",
    "\n",
    "model = Model(ws, 'automl-breastcancer')\n",
    "\n",
    "\n",
    "myenv = automl_best_run.get_environment()\n",
    "entry_script = 'predict.py'\n",
    "inference_config = InferenceConfig(entry_script=entry_script, environment=myenv)\n",
    "\n",
    "service = Model.deploy(workspace=ws, \n",
    "                       name='automl-breastcancer', \n",
    "                       models=[model], \n",
    "                       inference_config=inference_config, \n",
    "                       deployment_config=aci_config)\n",
    "\n",
    "service.wait_for_deployment(show_output=True)\n",
    "\n"
   ]
  },
  {
   "cell_type": "markdown",
   "metadata": {
    "collapsed": true,
    "gather": {
     "logged": 1598432765711
    },
    "jupyter": {
     "outputs_hidden": false,
     "source_hidden": false
    },
    "nteract": {
     "transient": {
      "deleting": false
     }
    }
   },
   "source": [
    "TODO: In the cell below, print the logs of the web service and delete the service"
   ]
  },
  {
   "cell_type": "code",
   "execution_count": 17,
   "metadata": {
    "gather": {
     "logged": 1706994121016
    },
    "jupyter": {
     "outputs_hidden": false,
     "source_hidden": false
    },
    "nteract": {
     "transient": {
      "deleting": false
     }
    }
   },
   "outputs": [
    {
     "name": "stdout",
     "output_type": "stream",
     "text": [
      "2024-02-05T09:58:27,585199700+00:00 - rsyslog/run \n",
      "2024-02-05T09:58:27,596851800+00:00 - gunicorn/run \n",
      "2024-02-05T09:58:27,601885000+00:00 | gunicorn/run | \n",
      "2024-02-05T09:58:27,608139300+00:00 | gunicorn/run | ###############################################\n",
      "2024-02-05T09:58:27,615096700+00:00 | gunicorn/run | AzureML Container Runtime Information\n",
      "2024-02-05T09:58:27,618160600+00:00 - nginx/run \n",
      "2024-02-05T09:58:27,622123500+00:00 | gunicorn/run | ###############################################\n",
      "2024-02-05T09:58:27,631830200+00:00 | gunicorn/run | \n",
      "2024-02-05T09:58:27,650066600+00:00 | gunicorn/run | \n",
      "2024-02-05T09:58:27,680495400+00:00 | gunicorn/run | AzureML image information: openmpi4.1.0-ubuntu20.04, Materializaton Build:20230628.v2\n",
      "2024-02-05T09:58:27,682532100+00:00 | gunicorn/run | \n",
      "2024-02-05T09:58:27,688912600+00:00 | gunicorn/run | \n",
      "2024-02-05T09:58:27,690772000+00:00 | gunicorn/run | PATH environment variable: /azureml-envs/azureml-automl/bin:/opt/miniconda/bin:/usr/local/sbin:/usr/local/bin:/usr/sbin:/usr/bin:/sbin:/bin\n",
      "2024-02-05T09:58:27,692756200+00:00 | gunicorn/run | PYTHONPATH environment variable: \n",
      "2024-02-05T09:58:27,704034100+00:00 | gunicorn/run | \n",
      "2024-02-05T09:58:29,120036100+00:00 | gunicorn/run | CONDAPATH environment variable: /opt/miniconda\n",
      "\n",
      "# conda environments:\n",
      "#\n",
      "                         /azureml-envs/azureml-automl\n",
      "base                     /opt/miniconda\n",
      "\n",
      "2024-02-05T09:58:31,101974956+00:00 | gunicorn/run | \n",
      "2024-02-05T09:58:31,104848453+00:00 | gunicorn/run | Pip Dependencies (before dynamic installation)\n",
      "\n",
      "adal==1.2.7\n",
      "applicationinsights==0.11.10\n",
      "arch==5.3.1\n",
      "argcomplete==2.1.2\n",
      "argon2-cffi==21.3.0\n",
      "argon2-cffi-bindings==21.2.0\n",
      "asttokens==2.2.1\n",
      "attrs==23.1.0\n",
      "azure-common==1.1.28\n",
      "azure-core==1.27.1\n",
      "azure-graphrbac==0.61.1\n",
      "azure-identity==1.13.0\n",
      "azure-mgmt-authorization==3.0.0\n",
      "azure-mgmt-containerregistry==10.1.0\n",
      "azure-mgmt-core==1.4.0\n",
      "azure-mgmt-keyvault==10.2.2\n",
      "azure-mgmt-resource==22.0.0\n",
      "azure-mgmt-storage==21.0.0\n",
      "azure-storage-blob==12.13.0\n",
      "azure-storage-queue==12.6.0\n",
      "azureml-automl-core==1.52.0.post1\n",
      "azureml-automl-runtime==1.52.0.post1\n",
      "azureml-core==1.52.0\n",
      "azureml-dataprep==4.11.4\n",
      "azureml-dataprep-native==38.0.0\n",
      "azureml-dataprep-rslex==2.18.4\n",
      "azureml-dataset-runtime==1.52.0\n",
      "azureml-defaults==1.52.0\n",
      "azureml-inference-server-http==0.8.4\n",
      "azureml-interpret==1.52.0\n",
      "azureml-mlflow==1.52.0\n",
      "azureml-pipeline-core==1.52.0\n",
      "azureml-responsibleai==1.52.0\n",
      "azureml-telemetry==1.52.0\n",
      "azureml-train-automl-client==1.52.0\n",
      "azureml-train-automl-runtime==1.52.0\n",
      "azureml-train-core==1.52.0\n",
      "azureml-train-restclients-hyperdrive==1.52.0\n",
      "azureml-training-tabular==1.52.0\n",
      "backcall==0.2.0\n",
      "backports.tempfile==1.0\n",
      "backports.weakref==1.0.post1\n",
      "bcrypt==4.0.1\n",
      "beautifulsoup4==4.12.2\n",
      "bleach==6.0.0\n",
      "bokeh==2.4.3\n",
      "boto==2.49.0\n",
      "boto3==1.20.19\n",
      "botocore==1.23.19\n",
      "Brotli @ file:///home/conda/feedstock_root/build_artifacts/brotli-split_1687884021435/work\n",
      "cachetools==5.3.1\n",
      "certifi==2023.5.7\n",
      "cffi @ file:///home/conda/feedstock_root/build_artifacts/cffi_1671179356964/work\n",
      "charset-normalizer @ file:///home/conda/feedstock_root/build_artifacts/charset-normalizer_1678108872112/work\n",
      "click==8.1.4\n",
      "cloudpickle @ file:///home/conda/feedstock_root/build_artifacts/cloudpickle_1598400192773/work\n",
      "cmdstanpy==0.9.5\n",
      "contextlib2==21.6.0\n",
      "contourpy==1.1.0\n",
      "convertdate @ file:///home/conda/feedstock_root/build_artifacts/convertdate_1642883757836/work\n",
      "cryptography==41.0.0\n",
      "cycler==0.11.0\n",
      "Cython==0.29.17\n",
      "dask==2023.2.0\n",
      "databricks-cli==0.17.7\n",
      "dataclasses==0.6\n",
      "debugpy==1.6.7\n",
      "decorator==5.1.1\n",
      "defusedxml==0.7.1\n",
      "dice-ml==0.9\n",
      "dill==0.3.6\n",
      "distributed==2023.2.0\n",
      "distro==1.8.0\n",
      "docker==6.1.3\n",
      "dotnetcore2==3.1.23\n",
      "econml==0.14.1\n",
      "entrypoints==0.4\n",
      "ephem==4.1.4\n",
      "erroranalysis==0.4.4\n",
      "executing==1.2.0\n",
      "fairlearn==0.8.0\n",
      "fastjsonschema==2.17.1\n",
      "fbprophet==0.7.1\n",
      "fire==0.5.0\n",
      "Flask==2.2.5\n",
      "Flask-Cors==3.0.10\n",
      "flatbuffers==23.5.26\n",
      "fonttools==4.40.0\n",
      "fsspec==2023.6.0\n",
      "fusepy==3.0.1\n",
      "gensim==3.8.3\n",
      "gitdb==4.0.10\n",
      "GitPython==3.1.31\n",
      "google-api-core==2.11.1\n",
      "google-auth==2.21.0\n",
      "googleapis-common-protos==1.59.1\n",
      "gunicorn==20.1.0\n",
      "h5py==3.9.0\n",
      "holidays @ file:///home/conda/feedstock_root/build_artifacts/holidays_1595448845196/work\n",
      "humanfriendly==10.0\n",
      "idna @ file:///home/conda/feedstock_root/build_artifacts/idna_1663625384323/work\n",
      "importlib-metadata==6.8.0\n",
      "importlib-resources==5.13.0\n",
      "inference-schema==1.5.1\n",
      "interpret-community==0.29.0\n",
      "interpret-core==0.3.2\n",
      "ipykernel==6.8.0\n",
      "ipython==8.12.2\n",
      "ipython-genutils==0.2.0\n",
      "isodate==0.6.1\n",
      "itsdangerous==2.1.2\n",
      "jedi==0.18.2\n",
      "jeepney==0.8.0\n",
      "Jinja2==3.1.2\n",
      "jmespath==0.10.0\n",
      "joblib @ file:///home/conda/feedstock_root/build_artifacts/joblib_1663332044897/work\n",
      "jsonpickle==3.0.1\n",
      "jsonschema==4.18.0\n",
      "jsonschema-specifications==2023.6.1\n",
      "jupyter_client==7.4.9\n",
      "jupyter_core==5.3.1\n",
      "jupyterlab-pygments==0.2.2\n",
      "keras2onnx==1.6.0\n",
      "kiwisolver==1.4.4\n",
      "knack==0.10.1\n",
      "korean-lunar-calendar @ file:///home/conda/feedstock_root/build_artifacts/korean_lunar_calendar_1663341251025/work\n",
      "lightgbm==3.2.1\n",
      "llvmlite==0.38.1\n",
      "locket==1.0.0\n",
      "LunarCalendar==0.0.9\n",
      "MarkupSafe==2.1.2\n",
      "matplotlib==3.7.2\n",
      "matplotlib-inline==0.1.6\n",
      "mistune==3.0.1\n",
      "ml-wrappers==0.4.11\n",
      "mlflow-skinny==2.4.1\n",
      "mltable==1.4.1\n",
      "msal==1.22.0\n",
      "msal-extensions==1.0.0\n",
      "msgpack==1.0.5\n",
      "msrest==0.7.1\n",
      "msrestazure==0.6.4\n",
      "nbclient==0.8.0\n",
      "nbconvert==7.6.0\n",
      "nbformat==5.9.0\n",
      "ndg-httpsclient==0.5.1\n",
      "nest-asyncio==1.5.6\n",
      "networkx==2.5\n",
      "notebook==6.4.9\n",
      "numba==0.55.2\n",
      "numpy==1.22.3\n",
      "oauthlib==3.2.2\n",
      "onnx==1.13.1\n",
      "onnxconverter-common==1.6.0\n",
      "onnxmltools==1.4.1\n",
      "onnxruntime==1.11.1\n",
      "opencensus==0.11.2\n",
      "opencensus-context==0.1.3\n",
      "opencensus-ext-azure==1.1.9\n",
      "packaging==23.0\n",
      "pandas==1.1.5\n",
      "pandocfilters==1.5.0\n",
      "paramiko==3.2.0\n",
      "parso==0.8.3\n",
      "partd==1.4.0\n",
      "pathspec==0.11.1\n",
      "patsy==0.5.3\n",
      "pexpect==4.8.0\n",
      "pickleshare==0.7.5\n",
      "Pillow==10.0.0\n",
      "pkginfo==1.9.6\n",
      "pkgutil_resolve_name==1.3.10\n",
      "platformdirs @ file:///home/conda/feedstock_root/build_artifacts/platformdirs_1688739404342/work\n",
      "pmdarima==1.8.0\n",
      "pooch @ file:///home/conda/feedstock_root/build_artifacts/pooch_1679580333621/work\n",
      "portalocker==2.7.0\n",
      "prometheus-client==0.17.0\n",
      "prompt-toolkit==3.0.39\n",
      "property-cached==1.6.4\n",
      "protobuf==3.20.3\n",
      "psutil @ file:///home/conda/feedstock_root/build_artifacts/psutil_1681775007745/work\n",
      "ptyprocess==0.7.0\n",
      "pure-eval==0.2.2\n",
      "py-cpuinfo==5.0.0\n",
      "pyarrow==9.0.0\n",
      "pyasn1==0.5.0\n",
      "pyasn1-modules==0.3.0\n",
      "pycparser @ file:///home/conda/feedstock_root/build_artifacts/pycparser_1636257122734/work\n",
      "pydantic==1.10.11\n",
      "Pygments==2.15.1\n",
      "PyJWT==2.7.0\n",
      "PyMeeus @ file:///home/conda/feedstock_root/build_artifacts/pymeeus_1670868433998/work\n",
      "PyNaCl==1.5.0\n",
      "pyOpenSSL @ file:///home/conda/feedstock_root/build_artifacts/pyopenssl_1685514481738/work\n",
      "pyparsing==3.0.9\n",
      "PySocks @ file:///home/conda/feedstock_root/build_artifacts/pysocks_1661604839144/work\n",
      "pystan==2.19.1.1\n",
      "python-dateutil @ file:///home/conda/feedstock_root/build_artifacts/python-dateutil_1626286286081/work\n",
      "pytz @ file:///home/conda/feedstock_root/build_artifacts/pytz_1680088766131/work\n",
      "PyYAML==6.0\n",
      "pyzmq==25.1.0\n",
      "raiutils==0.4.0\n",
      "referencing==0.29.1\n",
      "requests @ file:///home/conda/feedstock_root/build_artifacts/requests_1684774241324/work\n",
      "requests-oauthlib==1.3.1\n",
      "responsibleai==0.28.0\n",
      "rpds-py==0.8.8\n",
      "rsa==4.9\n",
      "s3transfer==0.5.2\n",
      "scikit-learn==0.22.1\n",
      "scipy==1.5.3\n",
      "SecretStorage==3.3.3\n",
      "semver==2.13.0\n",
      "Send2Trash==1.8.2\n",
      "setuptools-git==1.2\n",
      "shap==0.41.0\n",
      "six @ file:///home/conda/feedstock_root/build_artifacts/six_1620240208055/work\n",
      "skl2onnx==1.4.9\n",
      "sklearn-pandas==1.7.0\n",
      "slicer==0.0.7\n",
      "smart-open==1.9.0\n",
      "smmap==5.0.0\n",
      "sortedcontainers==2.4.0\n",
      "soupsieve==2.4.1\n",
      "sparse==0.14.0\n",
      "sqlparse==0.4.4\n",
      "stack-data==0.6.2\n",
      "statsmodels==0.11.1\n",
      "tabulate==0.9.0\n",
      "tblib==2.0.0\n",
      "termcolor==2.3.0\n",
      "terminado==0.17.1\n",
      "tinycss2==1.2.1\n",
      "toolz==0.12.0\n",
      "tornado==6.3.2\n",
      "tqdm==4.65.0\n",
      "traitlets==5.9.0\n",
      "typing_extensions @ file:///home/conda/feedstock_root/build_artifacts/typing_extensions_1688315532570/work\n",
      "urllib3==1.26.16\n",
      "wcwidth==0.2.6\n",
      "webencodings==0.5.1\n",
      "websocket-client==1.6.1\n",
      "Werkzeug==2.3.6\n",
      "wrapt==1.12.1\n",
      "xgboost==1.3.3\n",
      "zict==3.0.0\n",
      "zipp==3.15.0\n",
      "\n",
      "2024-02-05T09:58:34,078811583+00:00 | gunicorn/run | \n",
      "2024-02-05T09:58:34,086641836+00:00 | gunicorn/run | ###############################################\n",
      "2024-02-05T09:58:34,093901585+00:00 | gunicorn/run | Checking if the Python package azureml-inference-server-http is installed\n",
      "2024-02-05T09:58:34,096367302+00:00 | gunicorn/run | ###############################################\n",
      "2024-02-05T09:58:34,098679517+00:00 | gunicorn/run | \n",
      "2024-02-05T09:58:39,132098565+00:00 | gunicorn/run | \n",
      "2024-02-05T09:58:39,139897508+00:00 | gunicorn/run | ###############################################\n",
      "2024-02-05T09:58:39,145075937+00:00 | gunicorn/run | AzureML Inference Server\n",
      "2024-02-05T09:58:39,154982592+00:00 | gunicorn/run | ###############################################\n",
      "2024-02-05T09:58:39,158068110+00:00 | gunicorn/run | \n",
      "2024-02-05T09:58:44,431827197+00:00 | gunicorn/run | Starting AzureML Inference Server HTTP.\n",
      "2024-02-05 09:58:45,017 I [68] azmlinfsrv - Loaded logging config from /azureml-envs/azureml-automl/lib/python3.8/site-packages/azureml_inference_server_http/logging.json\n",
      "2024-02-05 09:58:45,511 I [68] gunicorn.error - Starting gunicorn 20.1.0\n",
      "2024-02-05 09:58:45,512 I [68] gunicorn.error - Listening at: http://0.0.0.0:31311 (68)\n",
      "2024-02-05 09:58:45,512 I [68] gunicorn.error - Using worker: sync\n",
      "2024-02-05 09:58:45,520 I [160] gunicorn.error - Booting worker with pid: 160\n",
      "\n",
      "Azure ML Inferencing HTTP server v0.8.4\n",
      "\n",
      "\n",
      "Server Settings\n",
      "---------------\n",
      "Entry Script Name: /var/azureml-app/main.py\n",
      "Model Directory: /var/azureml-app/azureml-models/automl-breastcancer/2\n",
      "Config File: None\n",
      "Worker Count: 1\n",
      "Worker Timeout (seconds): 300\n",
      "Server Port: 31311\n",
      "Health Port: 31311\n",
      "Application Insights Enabled: false\n",
      "Application Insights Key: None\n",
      "Inferencing HTTP server version: azmlinfsrv/0.8.4\n",
      "CORS for the specified origins: None\n",
      "Create dedicated endpoint for health: None\n",
      "\n",
      "\n",
      "Server Routes\n",
      "---------------\n",
      "Liveness Probe: GET   127.0.0.1:31311/\n",
      "Score:          POST  127.0.0.1:31311/score\n",
      "\n",
      "/azureml-envs/azureml-automl/lib/python3.8/site-packages/azureml_inference_server_http/server/config.py:51: FutureWarning: aliases are no longer used by BaseSettings to define which environment variables to read. Instead use the \"env\" field setting. See https://pydantic-docs.helpmanual.io/usage/settings/#environment-variable-names\n",
      "  class AMLInferenceServerConfig(pydantic.BaseSettings):\n",
      "2024-02-05 09:58:46,717 I [160] azmlinfsrv - AML_FLASK_ONE_COMPATIBILITY is set. Patched Flask to ensure compatibility with Flask 1.\n",
      "Initializing logger\n",
      "2024-02-05 09:58:46,722 I [160] azmlinfsrv - Starting up app insights client\n",
      "2024-02-05 09:58:48,797 I [160] azmlinfsrv.user_script - Found driver script at /var/azureml-app/main.py and the score script at /var/azureml-app/predict.py\n",
      "2024-02-05 09:58:48,797 I [160] azmlinfsrv.user_script - run() is not decorated. Server will invoke it with the input in JSON string.\n",
      "2024-02-05 09:58:48,797 I [160] azmlinfsrv.user_script - Invoking user's init function\n",
      "/azureml-envs/azureml-automl/lib/python3.8/site-packages/sklearn/externals/joblib/__init__.py:15: FutureWarning: sklearn.externals.joblib is deprecated in 0.21 and will be removed in 0.23. Please import this functionality directly from joblib, which can be installed with: pip install joblib. If this warning is raised when loading pickled models, you may need to re-serialize those models with scikit-learn 0.21+.\n",
      "  warnings.warn(msg, category=FutureWarning)\n",
      "ERROR:fbprophet.plot:Importing plotly failed. Interactive plots will not work.\n",
      "2024-02-05 09:59:03,175 I [160] azmlinfsrv.user_script - Users's init has completed successfully\n",
      "2024-02-05 09:59:03,178 I [160] azmlinfsrv.swagger - Swaggers are prepared for the following versions: [2, 3, 3.1].\n",
      "2024-02-05 09:59:03,178 I [160] azmlinfsrv - Scoring timeout is set to 60000\n",
      "2024-02-05 09:59:03,186 W [160] azmlinfsrv - x-ms-request-id header has been deprecated and will be removed from future versions of the server. Please use x-ms-client-request-id.\n",
      "2024-02-05 09:59:03,674 I [160] gunicorn.access - 127.0.0.1 - - [05/Feb/2024:09:59:03 +0000] \"GET / HTTP/1.0\" 200 7 \"-\" \"Go-http-client/1.1\"\n",
      "2024-02-05 09:59:03,675 W [160] azmlinfsrv - x-ms-request-id header has been deprecated and will be removed from future versions of the server. Please use x-ms-client-request-id.\n",
      "2024-02-05 09:59:03,676 I [160] gunicorn.access - 127.0.0.1 - - [05/Feb/2024:09:59:03 +0000] \"GET / HTTP/1.0\" 200 7 \"-\" \"Go-http-client/1.1\"\n",
      "2024-02-05 09:59:03,677 W [160] azmlinfsrv - x-ms-request-id header has been deprecated and will be removed from future versions of the server. Please use x-ms-client-request-id.\n",
      "2024-02-05 09:59:03,683 I [160] gunicorn.access - 127.0.0.1 - - [05/Feb/2024:09:59:03 +0000] \"GET / HTTP/1.0\" 200 7 \"-\" \"Go-http-client/1.1\"\n",
      "2024-02-05 09:59:04,676 I [160] gunicorn.access - 127.0.0.1 - - [05/Feb/2024:09:59:04 +0000] \"GET / HTTP/1.0\" 200 7 \"-\" \"curl/7.58.0\"\n",
      "2024-02-05 09:59:15,133 W [160] azmlinfsrv - x-ms-request-id header has been deprecated and will be removed from future versions of the server. Please use x-ms-client-request-id.\n",
      "2024-02-05 09:59:15,134 I [160] gunicorn.access - 127.0.0.1 - - [05/Feb/2024:09:59:15 +0000] \"GET / HTTP/1.0\" 200 7 \"-\" \"Go-http-client/1.1\"\n",
      "2024-02-05 09:59:15,141 W [160] azmlinfsrv - x-ms-request-id header has been deprecated and will be removed from future versions of the server. Please use x-ms-client-request-id.\n",
      "2024-02-05 09:59:15,142 I [160] azmlinfsrv - GET /swagger.json 200 1.415ms 2216\n",
      "2024-02-05 09:59:15,143 I [160] gunicorn.access - 127.0.0.1 - - [05/Feb/2024:09:59:15 +0000] \"GET /swagger.json HTTP/1.0\" 200 2216 \"-\" \"Go-http-client/1.1\"\n",
      "2024-02-05 09:59:16,456 W [160] azmlinfsrv - x-ms-request-id header has been deprecated and will be removed from future versions of the server. Please use x-ms-client-request-id.\n",
      "2024-02-05 09:59:16,457 I [160] gunicorn.access - 127.0.0.1 - - [05/Feb/2024:09:59:16 +0000] \"GET / HTTP/1.0\" 200 7 \"-\" \"Go-http-client/1.1\"\n",
      "2024-02-05 09:59:16,463 W [160] azmlinfsrv - x-ms-request-id header has been deprecated and will be removed from future versions of the server. Please use x-ms-client-request-id.\n",
      "2024-02-05 09:59:16,464 I [160] azmlinfsrv - GET /swagger.json 200 0.603ms 2216\n",
      "2024-02-05 09:59:16,465 I [160] gunicorn.access - 127.0.0.1 - - [05/Feb/2024:09:59:16 +0000] \"GET /swagger.json HTTP/1.0\" 200 2216 \"-\" \"Go-http-client/1.1\"\n",
      "2024-02-05 10:06:58,018 W [160] azmlinfsrv - x-ms-request-id header has been deprecated and will be removed from future versions of the server. Please use x-ms-client-request-id.\n",
      "2024-02-05 10:06:58,026 I [160] gunicorn.access - 127.0.0.1 - - [05/Feb/2024:10:06:58 +0000] \"GET / HTTP/1.0\" 200 7 \"-\" \"Go-http-client/1.1\"\n",
      "2024-02-05 10:06:58,035 W [160] azmlinfsrv - x-ms-request-id header has been deprecated and will be removed from future versions of the server. Please use x-ms-client-request-id.\n",
      "2024-02-05 10:06:58,036 I [160] azmlinfsrv - GET /swagger.json 200 1.227ms 2216\n",
      "2024-02-05 10:06:58,037 I [160] gunicorn.access - 127.0.0.1 - - [05/Feb/2024:10:06:58 +0000] \"GET /swagger.json HTTP/1.0\" 200 2216 \"-\" \"Go-http-client/1.1\"\n",
      "\n"
     ]
    }
   ],
   "source": [
    "if service.enable_app_insights==False:\n",
    "    service.update(enable_app_insights=True)\n",
    "print(service.get_logs())"
   ]
  },
  {
   "cell_type": "code",
   "execution_count": 18,
   "metadata": {
    "gather": {
     "logged": 1706994130352
    },
    "jupyter": {
     "outputs_hidden": false,
     "source_hidden": false
    },
    "nteract": {
     "transient": {
      "deleting": false
     }
    }
   },
   "outputs": [
    {
     "name": "stdout",
     "output_type": "stream",
     "text": [
      "State: Healthy\n"
     ]
    }
   ],
   "source": [
    "print(\"State: \"+service.state)"
   ]
  },
  {
   "cell_type": "code",
   "execution_count": 23,
   "metadata": {
    "gather": {
     "logged": 1706994135706
    },
    "jupyter": {
     "outputs_hidden": false,
     "source_hidden": false
    },
    "nteract": {
     "transient": {
      "deleting": false
     }
    }
   },
   "outputs": [
    {
     "name": "stdout",
     "output_type": "stream",
     "text": [
      "The following are the results from the test (B=Benign, M=Malignangt):\n",
      "['B', 'M']\n"
     ]
    }
   ],
   "source": [
    "import requests\n",
    "import json\n",
    "\n",
    "scoring_uri = service.scoring_uri\n",
    "key = service.get_keys()[0]\n",
    "\n",
    "data = {\n",
    "    \"data\":[\n",
    "        {\n",
    "            \"id\": 0,\n",
    "            \"radius_mean\": 19.81,\n",
    "            \"texture_mean\": 22.6,\n",
    "            \"perimeter_mean\": 130,\n",
    "            \"area_mean\": 1200.9,\n",
    "            \"smoothness_mean\": 0.0986,\n",
    "            \"compactness_mean\": 0.1062,\n",
    "            \"concavity_mean\": 0.08015,\n",
    "            \"concave points_mean\": 0.03799,\n",
    "            \"symmetry_mean\": 0.189,\n",
    "            \"fractal_dimension_mean\": 0.064040,\n",
    "            \"radius_se\": 0.389,\n",
    "            \"texture_se\": 1.0437,\n",
    "            \"perimeter_se\": 2.499,\n",
    "            \"area_se\": 30.26,\n",
    "            \"smoothness_se\": 0.006989,\n",
    "            \"compactness_se\": 0.01902,\n",
    "            \"concavity_se\": 0.02722,\n",
    "            \"concave points_se\": 0.01029,\n",
    "            \"symmetry_se\": 0.01767,\n",
    "            \"fractal_dimension_se\": 0.003596,\n",
    "            \"radius_worst\": 14.85,\n",
    "            \"texture_worst\": 24.71,\n",
    "            \"perimeter_worst\": 96.01,\n",
    "            \"area_worst\": 677.8,\n",
    "            \"smoothness_worst\": 0.1415,\n",
    "            \"compactness_worst\": 0.2354,\n",
    "            \"concavity_worst\": 0.2680,\n",
    "            \"concave points_worst\": 0.1016,\n",
    "            \"symmetry_worst\": 0.3011,\n",
    "            \"fractal_dimension_worst\": 0.0880\n",
    "            \n",
    "        },\n",
    "        {\n",
    "            \"id\": 0,\n",
    "            \"radius_mean\": 18.88,\n",
    "            \"texture_mean\": 21.29,\n",
    "            \"perimeter_mean\": 123.55,\n",
    "            \"area_mean\": 1129,\n",
    "            \"smoothness_mean\": 0.09011,\n",
    "            \"compactness_mean\": 0.1031,\n",
    "            \"concavity_mean\": 0.109,\n",
    "            \"concave points_mean\": 0.07953,\n",
    "            \"symmetry_mean\": 0.1581,\n",
    "            \"fractal_dimension_mean\": 0.05459,\n",
    "            \"radius_se\": 0.7876,\n",
    "            \"texture_se\": 0.7969,\n",
    "            \"perimeter_se\": 5.479,\n",
    "            \"area_se\": 96.03,\n",
    "            \"smoothness_se\": 0.004433,\n",
    "            \"compactness_se\": 0.01651,\n",
    "            \"concavity_se\": 0.02259,\n",
    "            \"concave points_se\": 0.0136,\n",
    "            \"symmetry_se\": 0.01383,\n",
    "            \"fractal_dimension_se\": 0.001697,\n",
    "            \"radius_worst\": 24.84,\n",
    "            \"texture_worst\": 26.57,\n",
    "            \"perimeter_worst\": 165.7,\n",
    "            \"area_worst\": 1855,\n",
    "            \"smoothness_worst\": 0.1191,\n",
    "            \"compactness_worst\": 0.2322,\n",
    "            \"concavity_worst\": 0.2676,\n",
    "            \"concave points_worst\": 0.1779,\n",
    "            \"symmetry_worst\": 0.2553,\n",
    "            \"fractal_dimension_worst\": 0.06576            \n",
    "        }\n",
    "    ]\n",
    "}\n",
    "\n",
    "# Convert to JSON string\n",
    "input_data = json.dumps(data)\n",
    "with open(\"data.json\", \"w\") as _f:\n",
    "    _f.write(input_data)\n",
    "\n",
    "# Set the content type\n",
    "headers = {'Content-Type': 'application/json'}\n",
    "# If authentication is enabled, set the authorization header\n",
    "headers['Authorization'] = f'Bearer {key}'\n",
    "\n",
    "# Make the request and display the response\n",
    "resp = requests.post(scoring_uri, input_data, headers=headers)\n",
    "print(\"The following are the results from the test (B=Benign, M=Malignangt):\")\n",
    "print(resp.json())"
   ]
  },
  {
   "cell_type": "code",
   "execution_count": 24,
   "metadata": {
    "gather": {
     "logged": 1706994731596
    },
    "jupyter": {
     "outputs_hidden": false,
     "source_hidden": false
    },
    "nteract": {
     "transient": {
      "deleting": false
     }
    }
   },
   "outputs": [],
   "source": [
    "from azureml.automl.runtime.onnx_convert import OnnxConverter\n",
    "\n",
    "automl_best_run_onnx, automl_fitted_model_onnx = remote_run.get_output(return_onnx_model=True)\n",
    "\n",
    "OnnxConverter.save_onnx_model(automl_fitted_model_onnx, './outputs/best_automl_model.onnx')"
   ]
  },
  {
   "cell_type": "code",
   "execution_count": null,
   "metadata": {
    "jupyter": {
     "outputs_hidden": false,
     "source_hidden": false
    },
    "nteract": {
     "transient": {
      "deleting": false
     }
    }
   },
   "outputs": [],
   "source": [
    "service.delete()\n",
    "compute_target.delet()"
   ]
  },
  {
   "cell_type": "markdown",
   "metadata": {},
   "source": [
    "**Submission Checklist**\n",
    "- I have registered the model.\n",
    "- I have deployed the model with the best accuracy as a webservice.\n",
    "- I have tested the webservice by sending a request to the model endpoint.\n",
    "- I have deleted the webservice and shutdown all the computes that I have used.\n",
    "- I have taken a screenshot showing the model endpoint as active.\n",
    "- The project includes a file containing the environment details.\n"
   ]
  },
  {
   "cell_type": "markdown",
   "metadata": {},
   "source": []
  }
 ],
 "metadata": {
  "kernel_info": {
   "name": "python38-azureml"
  },
  "kernelspec": {
   "display_name": "Python 3.8 - AzureML",
   "language": "python",
   "name": "python38-azureml"
  },
  "language_info": {
   "codemirror_mode": {
    "name": "ipython",
    "version": 3
   },
   "file_extension": ".py",
   "mimetype": "text/x-python",
   "name": "python",
   "nbconvert_exporter": "python",
   "pygments_lexer": "ipython3",
   "version": "3.8.5"
  },
  "microsoft": {
   "host": {
    "AzureML": {
     "notebookHasBeenCompleted": true
    }
   },
   "ms_spell_check": {
    "ms_spell_check_language": "en"
   }
  },
  "nteract": {
   "version": "nteract-front-end@1.0.0"
  }
 },
 "nbformat": 4,
 "nbformat_minor": 2
}
